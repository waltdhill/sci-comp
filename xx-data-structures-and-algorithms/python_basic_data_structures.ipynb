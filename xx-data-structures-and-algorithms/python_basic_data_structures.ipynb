{
 "cells": [
  {
   "cell_type": "markdown",
   "id": "eab54818-6ad6-462b-a404-bf03297d60d2",
   "metadata": {},
   "source": [
    "* Data structures\n",
    "\t* [ ] List\n",
    "\t* [ ] Dictionaries\n",
    "\t* [ ] List comprehension\n",
    "\t* [ ] Linked lists\n",
    "\t* [ ] Classes\n",
    "\t\t* [ ] Class inheritance (SOLID / OOD)\n",
    "\t* [ ] Hash tables\n",
    "\t* Trees\n",
    "\t\t* [ ] Binary trees\n",
    "\t\t* [ ] Hash trees\n",
    "* Algorithms\n",
    "\t* [ ] Depth first search (DFS)\n",
    "\t* [ ] Breadth first search (BFS)\n",
    "\t* [ ] Stacks\n",
    "\t* [ ] Queues\n",
    "\t* Sorts\n",
    "\t\t* [ ] Bubble sort\n",
    "\t\t* [ ] Insertion sort\n",
    "\t\t* [ ] Quick sort\n",
    "\t\t* [ ] Merge sort\n",
    "\t\t* [ ] Heap sort\n",
    "\t\t* [ ] Topological sort\n",
    "* Bit manipulation\n",
    "\t* [ ] Wtf is this?\n",
    "* Recursion\n",
    "\t* [ ] Call stack\n",
    "\t* [ ] Call stack base case unravel\n",
    "\t* [ ] Infinite loop\n",
    "\t* [ ] Iterative vs recursive\n",
    "\t* [ ] Pile of boxes\n",
    "\t* [ ] Recursive and base case\n",
    "\t* Dynamic programming \n",
    "\t\t* [ ] Try solve a few ENGSCI Problems from Tony's section!!!\n",
    "\t\t* [ ] Ask Kart"
   ]
  },
  {
   "cell_type": "markdown",
   "id": "79ebda50-af4f-4587-ba8f-b937416cb090",
   "metadata": {},
   "source": [
    "# Basic Python Data Structures"
   ]
  },
  {
   "cell_type": "code",
   "execution_count": 1,
   "id": "17a886b9-088a-4f88-a05e-a4661cb355dc",
   "metadata": {},
   "outputs": [
    {
     "name": "stdout",
     "output_type": "stream",
     "text": [
      "'fruits' List: ['orange', 'apple', 'pear', 'banana', 'kiwi', 'apple', 'banana'] \n",
      "\n",
      "type(fruits): <class 'list'> \n",
      "\n"
     ]
    }
   ],
   "source": [
    "# initialise list\n",
    "fruits = ['orange', 'apple', 'pear', 'banana', 'kiwi', 'apple', 'banana']\n",
    "print(\"'fruits' List:\", fruits, '\\n')\n",
    "print('type(fruits):', type(fruits), '\\n')\n",
    "# print('dir(fruits):', *dir(fruits), sep='\\n')\n",
    "\n",
    "# object_methods = [method_name for method_name in dir(fruits)\n",
    "#                   if callable(getattr(fruits, method_name))]\n",
    "\n",
    "# print(type(fruits), '\\n\\n\\n', dir(fruits), '\\n\\n\\n', id(fruits), '\\n\\n\\n', callable(fruits), '\\n\\n\\n', getattr(fruits), '\\n\\n\\n', hasattr(fruits), '\\n\\n\\n', globals(), '\\n\\n\\n', locals(), '\\n\\n\\n')"
   ]
  },
  {
   "cell_type": "markdown",
   "id": "00965ea9-da4b-4082-aed2-b9561d564072",
   "metadata": {},
   "source": [
    "## 1. Python Lists"
   ]
  },
  {
   "cell_type": "code",
   "execution_count": 2,
   "id": "e603bbe3-a4c3-4440-92ae-97d0b724c801",
   "metadata": {},
   "outputs": [
    {
     "name": "stdout",
     "output_type": "stream",
     "text": [
      "'fruits' List: ['orange', 'apple', 'pear', 'banana', 'kiwi', 'apple', 'banana']\n",
      "type(fruits): <class 'list'> \n",
      "\n",
      "Count of apples: 2 \n",
      "Count of tangerines: 0 \n",
      "\n",
      "Index of 'banana': 3 \n",
      "Index of (next) 'banana' (starting at position 4): 6 \n",
      "\n",
      "'fruits', reverse: ['banana', 'apple', 'kiwi', 'banana', 'pear', 'apple', 'orange']\n",
      "'fruits', appende: ['banana', 'apple', 'kiwi', 'banana', 'pear', 'apple', 'orange', 'GRAPE']\n",
      "'fruits', insert:  ['banana', 'apple', 'kiwi', 'banana', 'CHERRY', 'pear', 'apple', 'orange', 'GRAPE']\n",
      "'fruits', extend:  ['banana', 'apple', 'kiwi', 'banana', 'CHERRY', 'pear', 'apple', 'orange', 'GRAPE', 'GUAVA', 'MELON']\n",
      "'fruits', remove:  ['banana', 'kiwi', 'banana', 'CHERRY', 'pear', 'apple', 'orange', 'GRAPE', 'GUAVA', 'MELON'] \n",
      "\n",
      "'fruits', sorted (alphanum, asc): ['CHERRY', 'GRAPE', 'GUAVA', 'MELON', 'apple', 'banana', 'banana', 'kiwi', 'orange', 'pear']\n",
      "'fruits', sorted (alphanum, desc): ['pear', 'orange', 'kiwi', 'banana', 'banana', 'apple', 'MELON', 'GUAVA', 'GRAPE', 'CHERRY'] \n",
      "\n",
      "fruits.pop() with no args --> Returns last item: CHERRY \n",
      "resulting 'fruits' List: ['pear', 'orange', 'kiwi', 'banana', 'banana', 'apple', 'MELON', 'GUAVA', 'GRAPE'] \n",
      "\n",
      "\bfruits.pop(3) --> Returns item @ idx 3: banana \n",
      "resulting 'fruits' List: ['pear', 'orange', 'kiwi', 'banana', 'apple', 'MELON', 'GUAVA', 'GRAPE'] \n",
      "\n",
      "'copycat' List: ['pear', 'orange', 'kiwi', 'banana', 'apple', 'MELON', 'GUAVA', 'GRAPE'] \n",
      "\n",
      "'fruits' cleared 'List': []\n"
     ]
    }
   ],
   "source": [
    "# initialise list\n",
    "fruits = ['orange', 'apple', 'pear', 'banana', 'kiwi', 'apple', 'banana']\n",
    "print(\"'fruits' List:\", fruits)\n",
    "print('type(fruits):', type(fruits), '\\n')\n",
    "\n",
    "# count method\n",
    "print(\n",
    "    'Count of apples:', fruits.count('apple'), '\\n'\n",
    "    'Count of tangerines:', fruits.count('tangerine'), '\\n')\n",
    "\n",
    "# index method\n",
    "print(\n",
    "    \"Index of 'banana':\", fruits.index('banana'), '\\n'\n",
    "    \"Index of (next) 'banana' (starting at position 4):\", fruits.index('banana', 4), '\\n')\n",
    "\n",
    "# reverse method (works in place)\n",
    "fruits.reverse()\n",
    "print(\"'fruits', reverse:\", fruits)\n",
    "\n",
    "# append method (insert at end of list) (Returns: None; works in place)\n",
    "fruits.append('GRAPE')\n",
    "print(\"'fruits', appende:\", fruits)\n",
    "\n",
    "# insert method (insert at arbitrary index in list) (Returns: None; works in place)\n",
    "fruits.insert(4, 'CHERRY')\n",
    "print(\"'fruits', insert: \", fruits)\n",
    "\n",
    "# extend method - append iterable (insert at end of list) (Returns: None; works in place)\n",
    "# NB: try .append() with the 'new_fruits' list\n",
    "new_fruits = ['GUAVA', 'MELON']\n",
    "fruits.extend(new_fruits)\n",
    "print(\"'fruits', extend: \", fruits)\n",
    "\n",
    "# remove method (Returns: None; works in place)\n",
    "fruits.remove('apple')\n",
    "print(\"'fruits', remove: \", fruits, '\\n')\n",
    "\n",
    "# sort method (Returns: None; works in place); list.sort(*, key=None, reverse=False) - reverse for desc.\n",
    "fruits.sort()\n",
    "print(\"'fruits', sorted (alphanum, asc):\", fruits)\n",
    "fruits.sort(reverse=True)\n",
    "print(\"'fruits', sorted (alphanum, desc):\", fruits, '\\n')\n",
    "\n",
    "# pop method; list.pop([i]) - works in place\n",
    "print('fruits.pop() with no args --> Returns last item:', fruits.pop(), '\\n',\n",
    "      \"\\bresulting 'fruits' List:\", fruits, '\\n')\n",
    "print('\\bfruits.pop(3) --> Returns item @ idx 3:', fruits.pop(3), '\\n',\n",
    "      \"\\bresulting 'fruits' List:\", fruits, '\\n')\n",
    "\n",
    "# copy method\n",
    "copycat = fruits.copy()\n",
    "print(\"'copycat' List:\", copycat,'\\n')\n",
    "\n",
    "fruits.clear()\n",
    "print(\"'fruits' cleared 'List':\", fruits)"
   ]
  },
  {
   "cell_type": "markdown",
   "id": "13529265-be18-4e78-b522-a700d08276f4",
   "metadata": {},
   "source": [
    "#### Some notes from docs:\n",
    "\n",
    "* Methods that only modify the list have **no return value** printed – they return the default `None`.\n",
    "    * This is a design principle for all mutable data structures in Python.\n",
    "    * These include `insert`, `append`, `extend`, `reverse`, `remove`, `sort` \n",
    "* Not all data can be sorted or compared.\n",
    "    * E.g. [None, 'hello', 10] doesn’t sort because integers can’t be compared to strings and None can’t be compared to other types.\n",
    "    * Some types don’t have a defined ordering relation. `3+4j < 5+7j` isn’t a valid comparison."
   ]
  },
  {
   "cell_type": "markdown",
   "id": "2953ea18-7747-40e6-9185-6da21bef1807",
   "metadata": {},
   "source": [
    "### 1.1. Using Lists as Stacks (LIFO)"
   ]
  },
  {
   "cell_type": "code",
   "execution_count": 3,
   "id": "ce783869-10b9-46e0-86ae-f5130a3bf631",
   "metadata": {},
   "outputs": [
    {
     "name": "stdout",
     "output_type": "stream",
     "text": [
      "init stack:      [3, 4, 5]\n",
      "\n",
      "stack (appends): [3, 4, 5, 6, 7]\n",
      "\n",
      "pop 1 Returns: 7 ---> remaining stack: [3, 4, 5, 6]\n",
      "pop 2 Returns: 6 ---> remaining stack: [3, 4, 5]\n",
      "pop 3 Returns: 5 ---> remaining stack: [3, 4]\n"
     ]
    }
   ],
   "source": [
    "# initialise stack\n",
    "stack = [3, 4, 5]\n",
    "print('init stack:     ', stack)\n",
    "\n",
    "# add an item TO THE TOP of the stack\n",
    "stack.append(6)\n",
    "stack.append(7)\n",
    "print('\\nstack (appends):', stack)\n",
    "\n",
    "# retrieve item FROM THE TOP of the stack\n",
    "print('\\npop 1 Returns:', stack.pop(), '---> remaining stack:', stack)\n",
    "print('pop 2 Returns:', stack.pop(), '---> remaining stack:', stack)\n",
    "print('pop 3 Returns:', stack.pop(), '---> remaining stack:', stack)\n"
   ]
  },
  {
   "cell_type": "markdown",
   "id": "ff39e79d-466c-4ab0-8465-49b712080138",
   "metadata": {},
   "source": [
    "### 1.2. Using Lists as Queues (FIFO)"
   ]
  },
  {
   "cell_type": "code",
   "execution_count": 4,
   "id": "f9aa507c-233f-42c5-9560-84f92bd29942",
   "metadata": {},
   "outputs": [
    {
     "name": "stdout",
     "output_type": "stream",
     "text": [
      "init queue:      ['Eric', 'John', 'Michael']\n",
      "\n",
      "queue (appends): ['Eric', 'John', 'Michael', 'Terry', 'Graham']\n",
      "\n",
      "popleft 1  Returns:  Eric    ---> remaining queue: ['John', 'Michael', 'Terry', 'Graham']\n",
      "popleft 2  Returns:  John    ---> remaining queue: ['Michael', 'Terry', 'Graham']\n",
      "popleft 3  Returns:  Michael ---> remaining queue: ['Terry', 'Graham']\n",
      "pop    (1) Returns:  Graham  ---> remaining queue: ['Terry']\n"
     ]
    }
   ],
   "source": [
    "from collections import deque\n",
    "\n",
    "# initialise queue\n",
    "queue = deque(['Eric', 'John', 'Michael'])\n",
    "print('init queue:     ', str(queue)[6:-1])\n",
    "\n",
    "# add items TO THE END of the queue\n",
    "queue.append('Terry') # Terry arrives\n",
    "queue.append('Graham') # Graham arrives\n",
    "print('\\nqueue (appends):', str(queue)[6:-1])\n",
    "\n",
    "# retrieve item FROM THE BEGINNING of the queue\n",
    "print('\\npopleft 1  Returns: ', queue.popleft(), '   ---> remaining queue:', str(queue)[6:-1]) \n",
    "print('popleft 2  Returns: ', queue.popleft(), '   ---> remaining queue:', str(queue)[6:-1])\n",
    "print('popleft 3  Returns: ', queue.popleft(), '---> remaining queue:', str(queue)[6:-1])\n",
    "print('pop    (1) Returns: ', queue.pop(), ' ---> remaining queue:', str(queue)[6:-1])"
   ]
  },
  {
   "cell_type": "markdown",
   "id": "940ab122-32ac-4bcd-a5fe-ec9a7f5d4ae8",
   "metadata": {},
   "source": [
    "### Some notes from docs\n",
    "\n",
    "* Lists are very efficient for LIFO (stacks), but **not** efficient for FIFO (queues)\n",
    "    * Only `append`s and `pop`s from the **ends of lists** are fast\n",
    "    * `insert`s or `pop`s anywhere else, **especially the beginning** are slow, as all elements have their indices shifted by 1"
   ]
  },
  {
   "cell_type": "markdown",
   "id": "300ff02b-06d5-4635-88c6-318705551852",
   "metadata": {},
   "source": [
    "### 1.3. List Comprehensions\n",
    "\n",
    "Concisely create lists: \n",
    "* **Syntax**: Brackets `[]` containing an expression followed by a `for` clause, then zero or more `for` or `if` clauses.\n",
    "* **Result**: **New list** resulting from evaluating the expression in the context of the `for` and `if` clauses which follow it\n",
    "* *Note: the order of `for` and `if` statements in a listcomp and a set of nested for loops is the same!*\n",
    "\n",
    "<mark>**Two very common use cases**</mark>: \n",
    "* When a new list's elements are the result of some operations applied to every member of another sequence or iterable\n",
    "* To create a subsequence of elements of another sequence or iterable that satisfy some condition"
   ]
  },
  {
   "cell_type": "markdown",
   "id": "a4085204-43da-4567-98b5-f451aff75a05",
   "metadata": {},
   "source": [
    "#### 1.3.1. Example 1: Create a list of squares"
   ]
  },
  {
   "cell_type": "code",
   "execution_count": 5,
   "id": "1a1e0883-4be3-40a8-9502-205ecd4217eb",
   "metadata": {},
   "outputs": [
    {
     "name": "stdout",
     "output_type": "stream",
     "text": [
      "[0, 1, 4, 9, 16, 25, 36, 49, 64, 81]\n"
     ]
    }
   ],
   "source": [
    "# for loops are inefficient and messy. these overwrite `x` which still exists after the loop terminates.\n",
    "squares = []\n",
    "for x in range(10):\n",
    "    squares.append(x**2)\n",
    "print(squares)"
   ]
  },
  {
   "cell_type": "code",
   "execution_count": 6,
   "id": "a854533e-56d3-441b-9c59-9682d8ae2831",
   "metadata": {},
   "outputs": [
    {
     "name": "stdout",
     "output_type": "stream",
     "text": [
      "[0, 1, 4, 9, 16, 25, 36, 49, 64, 81]\n"
     ]
    }
   ],
   "source": [
    "# with a listcomp\n",
    "squares = list(map(lambda x: x**2, range(10)))\n",
    "print(squares)"
   ]
  },
  {
   "cell_type": "code",
   "execution_count": 7,
   "id": "b7aa520e-6cd4-429b-9533-a90930cfbcfa",
   "metadata": {},
   "outputs": [
    {
     "name": "stdout",
     "output_type": "stream",
     "text": [
      "[[0, 1, 4, 9, 16, 25, 36, 49, 64, 81]]\n"
     ]
    }
   ],
   "source": [
    "# a more concise and readable listcomp\n",
    "squares = [[x**2 for x in range(10)]]\n",
    "print(squares)"
   ]
  },
  {
   "cell_type": "markdown",
   "id": "7510a56e-8ff2-4911-aee6-e39b557aa32f",
   "metadata": {},
   "source": [
    "#### 1.3.2. Example 2: *Combine* elements of two lists if they are *not equal*"
   ]
  },
  {
   "cell_type": "code",
   "execution_count": 8,
   "id": "99a8f5d9-6497-455c-8860-56967e68d5f7",
   "metadata": {},
   "outputs": [],
   "source": [
    "# initialise lists\n",
    "list_1 = [1, 2, 3]\n",
    "list_2 = [3, 1, 4]"
   ]
  },
  {
   "cell_type": "code",
   "execution_count": 9,
   "id": "2951fbc9-2cc3-42b7-aed7-56b662ba2ea1",
   "metadata": {},
   "outputs": [
    {
     "name": "stdout",
     "output_type": "stream",
     "text": [
      "[(1, 3), (1, 4), (2, 3), (2, 1), (2, 4), (3, 1), (3, 4)]\n"
     ]
    }
   ],
   "source": [
    "# with inefficient for loops\n",
    "# NB: (x, y) is parenthesised because it is a tuple\n",
    "combs = []\n",
    "for x in [1, 2, 3]:\n",
    "    for y in [3, 1, 4]:\n",
    "        if x != y:\n",
    "            combs.append((x, y))\n",
    "print(combs)"
   ]
  },
  {
   "cell_type": "code",
   "execution_count": 10,
   "id": "bf8eff94-8d77-4cbe-8d9d-8730af9b6581",
   "metadata": {},
   "outputs": [
    {
     "name": "stdout",
     "output_type": "stream",
     "text": [
      "[(1, 3), (1, 4), (2, 3), (2, 1), (2, 4), (3, 1), (3, 4)]\n"
     ]
    }
   ],
   "source": [
    "# using a listcomp\n",
    "combs = [(x, y) for x in list_1 for y in list_2 if x != y]\n",
    "print(combs)"
   ]
  },
  {
   "cell_type": "markdown",
   "id": "f7236d03-6f00-4915-a7e5-e08c8b14ce9a",
   "metadata": {},
   "source": [
    "#### 1.3.3. Example 3: Playing with numbers"
   ]
  },
  {
   "cell_type": "code",
   "execution_count": 11,
   "id": "de5c8a49-3613-4182-8056-e5973426a6b1",
   "metadata": {},
   "outputs": [
    {
     "name": "stdout",
     "output_type": "stream",
     "text": [
      "vec (initial):  [-4, -2, 0, 2, 4]\n",
      "vec (doubled):  [-8, -4, 0, 4, 8]\n",
      "vec (+ve only): [0, 2, 4]\n",
      "vec (abs. val): [4, 2, 0, 2, 4]\n"
     ]
    }
   ],
   "source": [
    "# initialise a vector\n",
    "vec = [-4, -2, 0, 2, 4]\n",
    "print('vec (initial): ', vec)\n",
    "\n",
    "# create new list with values doubled\n",
    "vec_doubled = [x*2 for x in vec]\n",
    "print('vec (doubled): ', vec_doubled)\n",
    "\n",
    "# filter the list to exclude negative numbers\n",
    "vec_filtered = [x for x in vec if x >= 0]\n",
    "print('vec (+ve only):', vec_filtered)\n",
    "\n",
    "# apply abs() to all elements\n",
    "vec_abs = [abs(x) for x in vec]\n",
    "print('vec (abs. val):', vec_abs)"
   ]
  },
  {
   "cell_type": "markdown",
   "id": "29b0894c-7104-4593-b5a0-13db934ab11a",
   "metadata": {},
   "source": [
    "#### 1.3.4. Example 4: Playing with strings"
   ]
  },
  {
   "cell_type": "code",
   "execution_count": 12,
   "id": "f55748fe-6846-41a3-b477-986fb8a94e73",
   "metadata": {},
   "outputs": [
    {
     "name": "stdout",
     "output_type": "stream",
     "text": [
      "freshfruit (initialised): ['  banana', '  loganberry ', 'passion fruit  ']\n",
      "freshfruit (stripped):    ['banana', 'loganberry', 'passion fruit']\n"
     ]
    }
   ],
   "source": [
    "# init freshfruit\n",
    "freshfruit = ['  banana', '  loganberry ', 'passion fruit  ']\n",
    "print('freshfruit (initialised):', freshfruit)\n",
    "\n",
    "# call a method (.strip(), removes end whitespace) on each element\n",
    "freshfruit_stripped = [fruit.strip() for fruit in freshfruit]\n",
    "print('freshfruit (stripped):   ', freshfruit_stripped)"
   ]
  },
  {
   "cell_type": "markdown",
   "id": "af64152f-2e0c-4439-89dc-16ea348efee0",
   "metadata": {},
   "source": [
    "#### 1.3.5. Example 5: MISC stuff!\n",
    "NB: <mark>Flattening a 2D list of lists (matrix) into 1D is quite useful!</mark>"
   ]
  },
  {
   "cell_type": "code",
   "execution_count": 13,
   "id": "f011810a-d1ac-4f99-b290-53b558f3f19d",
   "metadata": {},
   "outputs": [
    {
     "name": "stdout",
     "output_type": "stream",
     "text": [
      "integers and their squares: [(0, 0), (1, 1), (2, 4), (3, 9), (4, 16), (5, 25)]\n",
      "\n",
      "vec:        [[1, 2, 3], [4, 5, 6], [7, 8, 9]]\n",
      "vec (flat): [1, 2, 3, 4, 5, 6, 7, 8, 9]\n",
      "\n",
      "more and more pi: ['3.1', '3.14', '3.142', '3.1416', '3.14159']\n"
     ]
    }
   ],
   "source": [
    "# create a list of 2-tuples like (number, square)\n",
    "square_tuples = [(x, x**2) for x in range(6)] # don't forget, tuples must be parenthesised\n",
    "print('integers and their squares:' ,square_tuples)\n",
    "\n",
    "# flatten a list using a listcomp (hint: uses 2 `for`s)\n",
    "vec = [[1, 2, 3], [4, 5, 6], [7, 8, 9]]\n",
    "vec_flat = [num for elem in vec for num in elem]\n",
    "print('\\nvec:       ', vec)\n",
    "print('vec (flat):', vec_flat)\n",
    "\n",
    "# list increasing digits of pi\n",
    "from math import pi\n",
    "print('\\nmore and more pi:', [str(round(pi, i)) for i in range(1, 6)])"
   ]
  },
  {
   "cell_type": "markdown",
   "id": "c964d019-4d35-4adc-a4a7-2bf7fe61353e",
   "metadata": {},
   "source": [
    "### 1.4. Nested List Comprehensions\n",
    "\n",
    "Using matrices as the inspiring example"
   ]
  },
  {
   "cell_type": "code",
   "execution_count": 14,
   "id": "1344ea2a-2e9c-4c69-8c6c-89c9e1d6279d",
   "metadata": {},
   "outputs": [
    {
     "name": "stdout",
     "output_type": "stream",
     "text": [
      "[1, 2, 3, 4]\n",
      "[5, 6, 7, 8]\n",
      "[9, 10, 11, 12]\n"
     ]
    }
   ],
   "source": [
    "# initialise matrix\n",
    "matrix = [\n",
    "    [1, 2, 3, 4],\n",
    "    [5, 6, 7, 8],\n",
    "    [9, 10, 11, 12]\n",
    "]\n",
    "print(*matrix, sep='\\n')"
   ]
  },
  {
   "cell_type": "markdown",
   "id": "15f5703c-4f6a-4d61-9d24-9ea720338708",
   "metadata": {},
   "source": [
    "#### 1.4.1. Transpose rows and columns"
   ]
  },
  {
   "cell_type": "code",
   "execution_count": 15,
   "id": "2d1bb8e8-fe81-43e1-9ef9-035576b683f2",
   "metadata": {},
   "outputs": [
    {
     "name": "stdout",
     "output_type": "stream",
     "text": [
      "[1, 5, 9]\n",
      "[2, 6, 10]\n",
      "[3, 7, 11]\n",
      "[4, 8, 12]\n"
     ]
    }
   ],
   "source": [
    "# inefficient nested for loops\n",
    "transposed = []\n",
    "for i in range(4):\n",
    "    \n",
    "    # the following 3 lines implement the nested listcomp\n",
    "    transposed_row = []\n",
    "    for row in matrix:\n",
    "        transposed_row.append(row[i])\n",
    "    transposed.append(transposed_row)\n",
    "\n",
    "print(*transposed, sep='\\n')"
   ]
  },
  {
   "cell_type": "code",
   "execution_count": 16,
   "id": "e41f3468-e217-41cf-aec5-d43fbbb59fef",
   "metadata": {},
   "outputs": [
    {
     "name": "stdout",
     "output_type": "stream",
     "text": [
      "[1, 5, 9]\n",
      "[2, 6, 10]\n",
      "[3, 7, 11]\n",
      "[4, 8, 12]\n"
     ]
    }
   ],
   "source": [
    "# slightly less efficient, hybrid of for loop and listcomp\n",
    "transposed = []\n",
    "for i in range(4):\n",
    "    transposed.append([row[i] for row in matrix])\n",
    "\n",
    "print(*transposed, sep='\\n')"
   ]
  },
  {
   "cell_type": "code",
   "execution_count": 17,
   "id": "e519bde4-38f0-41de-84d8-85292a26851c",
   "metadata": {},
   "outputs": [
    {
     "name": "stdout",
     "output_type": "stream",
     "text": [
      "[1, 5, 9]\n",
      "[2, 6, 10]\n",
      "[3, 7, 11]\n",
      "[4, 8, 12]\n"
     ]
    }
   ],
   "source": [
    "# as a nested listcomp\n",
    "transposed = [[row[i] for row in matrix] for i in range(4)]\n",
    "\n",
    "print(*transposed, sep='\\n')"
   ]
  },
  {
   "cell_type": "markdown",
   "id": "ee3e5e78-8553-485b-8f75-844f1c03aef1",
   "metadata": {},
   "source": [
    "#### 1.4.2. IRL you'd use a Python built-in like `zip()`\n",
    "NB: https://docs.python.org/3/tutorial/controlflow.html#tut-unpacking-arguments for the `*` we keep seeing"
   ]
  },
  {
   "cell_type": "code",
   "execution_count": 18,
   "id": "74922d76-d823-4a23-b78b-ba0ed5fff7c9",
   "metadata": {},
   "outputs": [
    {
     "name": "stdout",
     "output_type": "stream",
     "text": [
      "(1, 5, 9)\n",
      "(2, 6, 10)\n",
      "(3, 7, 11)\n",
      "(4, 8, 12)\n"
     ]
    }
   ],
   "source": [
    "transposed = list(zip(*matrix))\n",
    "print(*transposed, sep='\\n')"
   ]
  },
  {
   "cell_type": "markdown",
   "id": "d87a395e-8408-4031-9d4e-766fb554fb47",
   "metadata": {},
   "source": [
    "## 2. The `del` statement\n",
    "\n",
    "* Recall, `.remove()` removes items from a list given its value (e.g. \"banana\")\n",
    "* `del` removes an item based on the its index in the list (also in-place)"
   ]
  },
  {
   "cell_type": "code",
   "execution_count": 19,
   "id": "a3ee873f-ea85-4e74-bc9f-8c40430681ac",
   "metadata": {},
   "outputs": [
    {
     "name": "stdout",
     "output_type": "stream",
     "text": [
      "[-1, 1, 66.25, 333, 333, 1234.5]\n",
      "[1, 66.25, 333, 333, 1234.5]\n",
      "[1, 66.25, 1234.5]\n"
     ]
    }
   ],
   "source": [
    "a = [-1, 1, 66.25, 333, 333, 1234.5]\n",
    "print(a)\n",
    "del a[0]\n",
    "print(a)\n",
    "del a[2:4]\n",
    "print(a)"
   ]
  },
  {
   "cell_type": "markdown",
   "id": "d370a88d-0d50-4cdd-b7c0-80334e1bc5aa",
   "metadata": {},
   "source": [
    "* Additionally, use `del` to delete entire variables!"
   ]
  },
  {
   "cell_type": "code",
   "execution_count": 20,
   "id": "f7941270-2a79-4b54-9e1b-152392a5d57d",
   "metadata": {},
   "outputs": [],
   "source": [
    "del a\n",
    "# print(a) # will throw error"
   ]
  },
  {
   "cell_type": "markdown",
   "id": "e96f233f-93e9-4deb-b662-d52d010b9978",
   "metadata": {},
   "source": [
    "## 3. Tuples and Sequences\n",
    "\n",
    "* Lists, strings, ranges are examples of *Sequence* data types. That's why they all have such common operations (e.g. slicing, indexing)\n",
    "* A **tuple** (a lot like a `.csv`) is another example of a *Sequence* data type.\n",
    "    * The values (separated by commas) can by of any Type (they can even be other tuples, lists, etc)\n",
    "    * Initialising tuples:\n",
    "        * You initialise tuples **without brackets** `[]`.\n",
    "        * Strictly speaking `()` aren't needed for input but it's often necessary due to surrounding code\n",
    "        * Special cases:\n",
    "            * empty tuple `empty = ()` and\n",
    "            * 1 item tuple `one_item_tuple = 'hello',` (trailing comma)\n",
    "    * Tuples are immutable, but can contain mutable objects\n",
    "\n",
    "### 3.1. Sequence (tuple and other) operations include:\n",
    "\n",
    "|Operation|Result|\n",
    "|---|---|\n",
    "|`x in s`|`True` if an item of *s* is equal to *x*, else `False`|\n",
    "|`x not in s`|`False` if an item of *s* is equal to *x*, else `True`|\n",
    "|`s + t`|the concatenation of *s* and *t*|\n",
    "|`s * n` or `n * s`|equivalent to adding *s* to itself *n* times|\n",
    "|`s[i]`|*i*th item of *s*, origin 0|\n",
    "|`s[i:j]`|slice of *s* from *i* to *j*|\n",
    "|`s[i:j:k]`|slice of *s* from *i* to *j* with step *k*|\n",
    "|`len(s)`|length of *s*|\n",
    "|`min(s)`|smallest item of *s*|\n",
    "|`max(s)`|largest item of *s*|\n",
    "|`s.index(x[, i[, j]])`|index of the first occurrence of *x* in *s* (at or after index *i* and before index *j*)|\n",
    "|`s.count(x)`|total number of occurrences of *x* in *s*|\n",
    "\n",
    "### 3.2. Tuple use cases (from docs):\n",
    "Though tuples may seem similar to lists, they are often used in different situations and for different purposes:\n",
    "* Tuples are immutable, and usually contain a heterogeneous sequence of elements that are accessed via:\n",
    "    * unpacking (see later in this section)\n",
    "    * or indexing\n",
    "    * (or even by attribute in the case of namedtuples).\n",
    "* Lists are mutable, and their elements are usually homogeneous (but that's not neseccary) and are accessed by iterating over the list."
   ]
  },
  {
   "cell_type": "code",
   "execution_count": 21,
   "id": "357d993c-c295-4168-81f0-62cc2843dd2a",
   "metadata": {},
   "outputs": [
    {
     "name": "stdout",
     "output_type": "stream",
     "text": [
      "t_tup: (12345, 54321, 'hello!')\n",
      "<class 'tuple'> \n",
      "\n",
      "0th index: 12345 \n",
      "\n",
      "u_tup: ((12345, 54321, 'hello!'), (1, 2, 3, 4, 5), ['1', 2, 3333, 'hello']) \n",
      "\n",
      "u_tup: ((12345, 54321, 'hello!'), (1, 2, 3, 4, 5), ['changed', 2, 3333, 'hello']) \n",
      "\n"
     ]
    }
   ],
   "source": [
    "# initialise tuple (aka tuple packing)\n",
    "t_tup = 12345, 54321, 'hello!'\n",
    "print('t_tup:', t_tup)\n",
    "print(type(t_tup), '\\n')\n",
    "\n",
    "# indexing a tuple\n",
    "print('0th index:', t_tup[0], '\\n')\n",
    "\n",
    "# nesting tuples\n",
    "u_tup = t_tup, (1, 2, 3, 4, 5), ['1',2,3333,'hello']\n",
    "print('u_tup:', u_tup, '\\n')\n",
    "\n",
    "# tuples are immutable\n",
    "# u_tup[0] = 88888 # throws error\n",
    "\n",
    "# but tuples can contain mutable objects\n",
    "u_tup[2][0] = 'changed'\n",
    "print('u_tup:', u_tup, '\\n')"
   ]
  },
  {
   "cell_type": "code",
   "execution_count": 22,
   "id": "1eaf3f96-3a58-4237-b38e-a27ba2a06792",
   "metadata": {},
   "outputs": [
    {
     "name": "stdout",
     "output_type": "stream",
     "text": [
      "special case tuple lengths: 0 1\n",
      "special case tuples       : () ('hello',) \n",
      "\n"
     ]
    }
   ],
   "source": [
    "# init special case tuples\n",
    "empty_tuple = ()\n",
    "tuple_with_one_item = 'hello',    # <--- note trailing comma\n",
    "print('special case tuple lengths:', len(empty_tuple), len(tuple_with_one_item))\n",
    "print('special case tuples       :', empty_tuple, tuple_with_one_item, '\\n')"
   ]
  },
  {
   "cell_type": "code",
   "execution_count": 23,
   "id": "33a57f37-1101-4862-b01d-3457eca2a29a",
   "metadata": {},
   "outputs": [
    {
     "name": "stdout",
     "output_type": "stream",
     "text": [
      "packed tuple (t)        : (12345, 54321, 'hello!')\n",
      "unpacked tuple (x, y, z): 12345 54321 hello!\n"
     ]
    }
   ],
   "source": [
    "# tuple packing and unpacking\n",
    "t = 12345, 54321, 'hello!'\n",
    "print('packed tuple (t)        :', t)\n",
    "\n",
    "# tuple unpacking\n",
    "x, y, z = t\n",
    "print('unpacked tuple (x, y, z):', x, y, z)"
   ]
  },
  {
   "attachments": {
    "d71a64fe-6027-4968-8870-1109fccfa037.png": {
     "image/png": "[encoded data removed]"
    }
   },
   "cell_type": "markdown",
   "id": "3fa0e04e-4f87-45ca-967c-5702d9776dd1",
   "metadata": {},
   "source": [
    "## 4. Sets\n",
    "\n",
    "\n",
    "* **UNORDERED** collection with **NO DUPLICATE** elements\n",
    "* Common use cases\n",
    "    * Membership testing\n",
    "    * Eleminating duplicate entries\n",
    "\n",
    "### 4.1. Set mathematical operations:\n",
    "\n",
    "* Union, $A\\cup B$:\n",
    "    * All the elements from both sets *(i.e. Venn: everything)*\n",
    "* Intersection, $A\\cap B$:\n",
    "    * Elements two sets have in common *(i.e. Venn: overlap)*\n",
    "* Difference, $A\\setminus B$:\n",
    "    * Elements present on one set, but not on the other *(i.e. Venn: remove a whole circle (incl. overlap))*\n",
    "* Symmetric difference $A \\triangle B$:\n",
    "    * Elements from both sets, that are not present on the other *(i.e. Venn: remove overlap)*\n",
    "\n",
    "<div>\n",
    "<img src=\"attachment:d71a64fe-6027-4968-8870-1109fccfa037.png\", width=\"300\">\n",
    "</div>\n",
    "\n",
    "* Initialise with `{'elem1','elem2'}`\n",
    "    * Empty sets are initialised with `set()`\n",
    "    * Note, empty dictionaries are initialised with `{}`"
   ]
  },
  {
   "cell_type": "code",
   "execution_count": 24,
   "id": "b7decd29-061f-4dda-8815-e1fda4afb085",
   "metadata": {},
   "outputs": [
    {
     "name": "stdout",
     "output_type": "stream",
     "text": [
      "{'orange', 'banana', 'apple', 'pear'} \n",
      "\n",
      "True\n",
      "False \n",
      "\n",
      "{'b', 'd', 'c', 'r', 'a'} {'m', 'z', 'l', 'c', 'a'} {'jiggerypokery'} \n",
      "\n",
      "unique letters in a            : {'b', 'd', 'c', 'r', 'a'}\n",
      "unique letters in b            : {'m', 'z', 'l', 'c', 'a'}\n",
      "letters in a but not b         : difference           : {'b', 'r', 'd'}\n",
      "letters in a or b or both      : union                : {'b', 'm', 'z', 'd', 'l', 'c', 'r', 'a'}\n",
      "letters in both a and b        : intersection         : {'c', 'a'}\n",
      "letters in a or b but not both : symmetric difference : {'z', 'b', 'd', 'l', 'm', 'r'}\n"
     ]
    }
   ],
   "source": [
    "# initialise set\n",
    "basket_set = {'apple', 'orange', 'apple', 'pear', 'orange', 'banana'}\n",
    "\n",
    "# note, no duplicates!\n",
    "print(basket_set, '\\n')\n",
    "\n",
    "# test membership (fast)\n",
    "print('orange' in basket_set)\n",
    "print('crabgrass' in basket_set, '\\n')\n",
    "\n",
    "# set operations on unique letters from two words\n",
    "a = set('abracadabra')\n",
    "b = set('alacazam')\n",
    "c = {'jiggerypokery'}\n",
    "print(a, b, c, '\\n')\n",
    "\n",
    "print('unique letters in a            :', a)\n",
    "print('unique letters in b            :', b)\n",
    "print('letters in a but not b         : difference           :', a - b)\n",
    "print('letters in a or b or both      : union                :', a | b)\n",
    "print('letters in both a and b        : intersection         :', a & b)\n",
    "print('letters in a or b but not both : symmetric difference :', a ^ b)"
   ]
  },
  {
   "cell_type": "markdown",
   "id": "06a324ec-722c-4309-a3e1-d421f3239d6f",
   "metadata": {},
   "source": [
    "### 4.2. Set comprehensions (like listcomps)"
   ]
  },
  {
   "cell_type": "code",
   "execution_count": 25,
   "id": "9243a983-1e30-494c-8a64-da730b57ac87",
   "metadata": {},
   "outputs": [
    {
     "data": {
      "text/plain": [
       "{'d', 'r'}"
      ]
     },
     "execution_count": 25,
     "metadata": {},
     "output_type": "execute_result"
    }
   ],
   "source": [
    "a = {x for x in 'abracadabra' if x not in 'abc'}\n",
    "a"
   ]
  },
  {
   "cell_type": "markdown",
   "id": "e1598d90-eb6b-4d13-a321-cc8edef4a184",
   "metadata": {},
   "source": [
    "## 5. Dictionaries\n",
    "\n",
    "* A `dict` is a set of `key:value` pairs\n",
    "    * <mark>Dictionaries are **indexed by (unique) `key`s**</mark>\n",
    "        * <mark>**`key`s can be any immutable Type**</mark>: strings and numbers are fine as `key`s\n",
    "        * <mark>**Tuples are fine as `key`s**</mark> (as long as the tuple contains immutables like strings, numbers or other tuples\n",
    "        * <mark>**Lists are not valid `key`s**</mark> (mutable by `append()`, `extend()`, and index/slice assignments)\n",
    "    * Place comma-separated list of `key:value` pairs in `{}` to ppulate the `dict`\n",
    "    * `{}` is an empty dictionary (note `set()` is an empty set)\n",
    "* Main use cases:\n",
    "    * Storing a `value` with some `key`\n",
    "    * Extracting the `value` given the `key`\n",
    "\n",
    "### 5.1. Some useful dictionary operations:\n",
    "* Delete `key:value` pairs with `del`\n",
    "* Assignment of an existing `key` overwrites its `value`\n",
    "* `list(d)` on a dictionary Returns a list of all the `key`s used in it (in insertion order)\n",
    "    * `sorted(d)` does the same, but sorted instead\n",
    "* `in` checks if a single `key` is in the dictionary."
   ]
  },
  {
   "cell_type": "code",
   "execution_count": 26,
   "id": "2bd17724-c2ac-4dc8-b0c0-99dc7a12a66c",
   "metadata": {},
   "outputs": [
    {
     "name": "stdout",
     "output_type": "stream",
     "text": [
      "{'jack': 4098, 'sape': 4139}\n",
      "{'jack': 4098, 'sape': 4139, 'guido': 4127}\n",
      "{'jack': 4098, 'guido': 4127, 'irv': 4127, 'leon': 9129, 'elon': 9127} \n",
      "\n",
      "--- common dictionary operations:\n",
      "list(tel_dict): Returns List of keys in insertion order       : ['jack', 'guido', 'irv', 'leon', 'elon']\n",
      "sorted(tel_dict): Returns List of keys in alphanum sort order : ['elon', 'guido', 'irv', 'jack', 'leon']\n",
      "'guido' in tel_dict: True\n",
      "'jack' not in tel_dict: False \n",
      "\n",
      "--- dictionary inspect methods:\n",
      ".items()       :  dict_items([('jack', 4098), ('guido', 4127), ('irv', 4127), ('leon', 9129), ('elon', 9127)])\n",
      ".keys()        :  dict_keys(['jack', 'guido', 'irv', 'leon', 'elon'])\n",
      ".values()      :  dict_values([4098, 4127, 4127, 9129, 9127])\n",
      ".get('jack')   :  4098 \n",
      "\n",
      "--- dictionary modification (in-place) methods:\n",
      "\n",
      " {'jack': 4098, 'guido': 4127, 'irv': 4127, 'leon': 9129, 'elon': 9127}\n",
      "example 1: .popitem(): \n",
      "--> Remove LAST inserted `key:value` pair (LIFO)\n",
      "--> Return `key:value` pair ('elon', 9127) \n",
      "--> Remaining dict: {'jack': 4098, 'guido': 4127, 'irv': 4127, 'leon': 9129} \n",
      "\n",
      "example 2: .pop('irv') \n",
      "--> Remove SPECIFIED `key:value` pair, \n",
      "--> Return `value` only:  4127 \n",
      "--> Remaining dict: {'jack': 4098, 'irv': 4127, 'leon': 9129}\n"
     ]
    }
   ],
   "source": [
    "tel_dict = {'jack': 4098, 'sape': 4139}\n",
    "print(tel_dict)\n",
    "\n",
    "tel_dict['guido'] = 4127\n",
    "print(tel_dict)\n",
    "\n",
    "del tel_dict['sape']\n",
    "tel_dict['irv'] = 4127\n",
    "tel_dict['leon'] = 9129\n",
    "tel_dict['elon'] = 9127\n",
    "print(tel_dict, '\\n')\n",
    "\n",
    "print('--- common dictionary operations:')\n",
    "print('list(tel_dict): Returns List of keys in insertion order       :', list(tel_dict))\n",
    "print('sorted(tel_dict): Returns List of keys in alphanum sort order :', sorted(tel_dict))\n",
    "print(\"'guido' in tel_dict:\", 'guido' in tel_dict)\n",
    "print(\"'jack' not in tel_dict:\", 'jack' not in tel_dict, '\\n')\n",
    "\n",
    "print('--- dictionary inspect methods:')\n",
    "print('.items()       : ', tel_dict.items())\n",
    "print('.keys()        : ', tel_dict.keys())\n",
    "print('.values()      : ', tel_dict.values())\n",
    "print(\".get('jack')   : \", tel_dict.get('jack'), '\\n')\n",
    "\n",
    "print('--- dictionary modification (in-place) methods:\\n\\n', tel_dict)\n",
    "print(\"example 1: .popitem(): \\n--> Remove LAST inserted `key:value` pair (LIFO)\\n--> Return `key:value` pair\", tel_dict.popitem(), '\\n--> Remaining dict:', tel_dict, '\\n')\n",
    "print(\"example 2: .pop('irv') \\n--> Remove SPECIFIED `key:value` pair, \\n--> Return `value` only: \", tel_dict.pop('guido'), '\\n--> Remaining dict:', tel_dict)\n",
    "\n",
    "# print(*dir(tel_dict), sep='\\n')"
   ]
  },
  {
   "cell_type": "markdown",
   "id": "cacfa8d6-4fbb-49e1-bbc4-4b1e5f722c9e",
   "metadata": {},
   "source": [
    "### 5.2. `dict()` constructor\n",
    "\n",
    "Builds `dict`s from sequences of `key:value` pairs"
   ]
  },
  {
   "cell_type": "code",
   "execution_count": 27,
   "id": "128f066a-1d42-44b0-a319-a91cc8719781",
   "metadata": {},
   "outputs": [
    {
     "name": "stdout",
     "output_type": "stream",
     "text": [
      "{'sape': 4139, 'guido': 4127, 'jack': 4098}\n"
     ]
    }
   ],
   "source": [
    "tel_list = [('sape', 4139), ('guido', 4127), ('jack', 4098)]\n",
    "tel_dict = dict(tel_list)\n",
    "\n",
    "print(tel_dict)"
   ]
  },
  {
   "cell_type": "markdown",
   "id": "59b14f9c-385d-4c33-98a5-f030d8dfed19",
   "metadata": {},
   "source": [
    "### 5.3. Dictionary Comprehensions (like listcomps)\n",
    "\n",
    "To create `dict`s from arbitrary `key:value` expressions"
   ]
  },
  {
   "cell_type": "code",
   "execution_count": 28,
   "id": "426bdf8e-44a7-4dee-94c0-7104b2cb033e",
   "metadata": {},
   "outputs": [
    {
     "name": "stdout",
     "output_type": "stream",
     "text": [
      "{2: 4, 4: 16, 6: 36}\n"
     ]
    }
   ],
   "source": [
    "a_dict = {x: x**2 for x in (2, 4, 6)}\n",
    "print(a_dict)"
   ]
  },
  {
   "cell_type": "markdown",
   "id": "0a6de202-79f6-4be6-ab99-113d18b0b7d6",
   "metadata": {},
   "source": [
    "### 5.4. Final bit of `dict` ease-of-use syntax\n",
    "\n",
    "If keys are simple strings (good practice), it may be easier to specify `key:value` pairs as keyword arguments"
   ]
  },
  {
   "cell_type": "code",
   "execution_count": 29,
   "id": "e0ae7e8c-419f-449c-9e06-724d5556c298",
   "metadata": {},
   "outputs": [
    {
     "name": "stdout",
     "output_type": "stream",
     "text": [
      "{'sape': 4139, 'guido': 4127, 'jack': 4098}\n"
     ]
    }
   ],
   "source": [
    "a_dict = dict(sape=4139, guido=4127, jack=4098)\n",
    "print(a_dict)"
   ]
  },
  {
   "cell_type": "markdown",
   "id": "b2e0a360-0457-41c5-b20d-7c388db8bd57",
   "metadata": {},
   "source": [
    "## 6. Useful Looping Techniques"
   ]
  },
  {
   "cell_type": "markdown",
   "id": "fe1becb2-e52b-47e1-8aa5-8aa1154c0aaf",
   "metadata": {},
   "source": [
    "### 6.1. Looping over dictionaries"
   ]
  },
  {
   "cell_type": "code",
   "execution_count": 30,
   "id": "e62a76f1-65b5-41db-8e7d-c98202d54436",
   "metadata": {},
   "outputs": [
    {
     "name": "stdout",
     "output_type": "stream",
     "text": [
      "gallahad the pure\n",
      "robin the brave\n",
      "lancelot the friend\n"
     ]
    }
   ],
   "source": [
    "# initialise dictionaries\n",
    "knights_dict = {'gallahad': 'the pure', 'robin': 'the brave', 'lancelot': 'the friend'}\n",
    "\n",
    "# retrieve key and corresp. value together using .items()\n",
    "for k, v in  knights_dict.items():\n",
    "    print(k, v)"
   ]
  },
  {
   "cell_type": "markdown",
   "id": "7a0aa86c-5969-4882-912d-0a1bb81ca709",
   "metadata": {},
   "source": [
    "### 6.2. Looping over a sequence (e.g. lists or tuples)"
   ]
  },
  {
   "cell_type": "code",
   "execution_count": 31,
   "id": "a7a9fa8a-43ff-4e61-b4dd-d995f8806d96",
   "metadata": {},
   "outputs": [
    {
     "name": "stdout",
     "output_type": "stream",
     "text": [
      "0 avalon\n",
      "1 catan\n",
      "2 chess\n",
      "3 checkers\n",
      "FYI, this is the iterable (enumerate) object:  <enumerate object at 0x10a55a430> \n",
      "\n",
      "\n"
     ]
    }
   ],
   "source": [
    "# looping over a list\n",
    "games_list = ['avalon', 'catan', 'chess', 'checkers']\n",
    "for i, v in enumerate(games_list):\n",
    "    print(i, v)\n",
    "\n",
    "print('FYI, this is the iterable (enumerate) object: ', enumerate(games_list), '\\n\\n')"
   ]
  },
  {
   "cell_type": "code",
   "execution_count": 32,
   "id": "f7cf4bdb-b05c-488c-85f0-690055c715ad",
   "metadata": {},
   "outputs": [
    {
     "name": "stdout",
     "output_type": "stream",
     "text": [
      "0 the number 3\n",
      "1 3\n",
      "2 ['tic', 'tac', 'toe']\n",
      "3 333\n",
      "4 [[1, 2], [3, 4]]\n"
     ]
    }
   ],
   "source": [
    "# looping over a tuple\n",
    "favourite_concepts_tuple = ('the number 3', 3 , ['tic', 'tac', 'toe'], 333, [[1, 2], [3, 4]])\n",
    "for i, v in enumerate(favourite_concepts_tuple):\n",
    "    print(i, v)"
   ]
  },
  {
   "cell_type": "markdown",
   "id": "0e79d92c-52d6-49ba-bb00-460f725e78ea",
   "metadata": {},
   "source": [
    "### 6.3. Looping over two or more sequences at the same time"
   ]
  },
  {
   "cell_type": "code",
   "execution_count": 33,
   "id": "38e0804e-d45b-4638-b3f1-da2f03e64c4f",
   "metadata": {},
   "outputs": [
    {
     "name": "stdout",
     "output_type": "stream",
     "text": [
      "What is your name? \n",
      " It is lancelot.\n",
      "\n",
      "What is your quest? \n",
      " It is the holy grail.\n",
      "\n",
      "What is your favorite color? \n",
      " It is blue.\n",
      "\n",
      "FYI, this is the iterable (zip) object:  <zip object at 0x10a55fe00> \n",
      "\n",
      "\n"
     ]
    }
   ],
   "source": [
    "# looping over two or more lists at a time\n",
    "questions_list = ['name', 'quest', 'favorite color'] # note what happens if we make them unequal length\n",
    "answers_list = ['lancelot', 'the holy grail', 'blue']\n",
    "\n",
    "for q, a in zip(questions_list, answers_list):\n",
    "    print('What is your {0}? \\n It is {1}.\\n'.format(q, a))\n",
    "\n",
    "print('FYI, this is the iterable (zip) object: ', zip(questions_list, answers_list), '\\n\\n')"
   ]
  },
  {
   "cell_type": "code",
   "execution_count": 34,
   "id": "185f62db-5583-470e-9e9e-fde3f9bba4cf",
   "metadata": {},
   "outputs": [
    {
     "name": "stdout",
     "output_type": "stream",
     "text": [
      "I like the number 3.\n",
      " However, I do not like the number 4.\n",
      "\n",
      "I like 3.\n",
      " However, I do not like slang.\n",
      "\n",
      "I like ['tic', 'tac', 'toe'].\n",
      " However, I do not like 4.\n",
      "\n",
      "I like 333.\n",
      " However, I do not like 44.\n",
      "\n"
     ]
    }
   ],
   "source": [
    "# looping over two or more tuples at a time\n",
    "favourite_concepts_tuple = ('the number 3', 3 , ['tic', 'tac', 'toe'], 333, [[1, 2], [3, 4]])\n",
    "least_favourite_concepts_tuple = ('the number 4', 'slang', 4, 44) # unequal length ('least' is shorter by 1)\n",
    "for f, l in zip(favourite_concepts_tuple, least_favourite_concepts_tuple):\n",
    "    print('I like {0}.\\n However, I do not like {1}.\\n'.format(f, l))"
   ]
  },
  {
   "cell_type": "markdown",
   "id": "31d17e1f-7652-4e3e-b24c-2a4903dacaa9",
   "metadata": {},
   "source": [
    "### 6.4. Looping over a sequence (or dictionary) in reverse"
   ]
  },
  {
   "cell_type": "code",
   "execution_count": 35,
   "id": "2fdfff00-fcb8-4ff4-aaee-ea669c847c08",
   "metadata": {},
   "outputs": [
    {
     "name": "stdout",
     "output_type": "stream",
     "text": [
      "9\n",
      "7\n",
      "5\n",
      "3\n",
      "1\n"
     ]
    }
   ],
   "source": [
    "# loop over a reversed range\n",
    "for i in reversed(range(1, 10, 2)):\n",
    "    print(i)"
   ]
  },
  {
   "cell_type": "code",
   "execution_count": 36,
   "id": "4a8b0c28-1c9c-47bf-ba40-9952c34d6c9e",
   "metadata": {},
   "outputs": [
    {
     "name": "stdout",
     "output_type": "stream",
     "text": [
      "last word\n",
      "world\n",
      "quotidian\n",
      "hi\n"
     ]
    }
   ],
   "source": [
    "# loop over a reversed list\n",
    "words_list = ['hi', 'quotidian', 'world', 'last word']\n",
    "for w in reversed(words_list):\n",
    "    print(w)"
   ]
  },
  {
   "cell_type": "code",
   "execution_count": 37,
   "id": "18682e7f-4f08-4a63-ba5d-30eea7c126a0",
   "metadata": {},
   "outputs": [
    {
     "name": "stdout",
     "output_type": "stream",
     "text": [
      "[1, [3]]\n",
      "ok\n",
      "12\n",
      "hi\n"
     ]
    }
   ],
   "source": [
    "# loop over a reversed tuple\n",
    "concepts_tuple = ('hi', 12, 'ok', [1, [3]])\n",
    "for c in reversed(concepts_tuple):\n",
    "    print(c)"
   ]
  },
  {
   "cell_type": "code",
   "execution_count": 38,
   "id": "76d58969-7991-44b9-bbb3-c7f2a0bcf66f",
   "metadata": {},
   "outputs": [
    {
     "name": "stdout",
     "output_type": "stream",
     "text": [
      "person3\n",
      "person1\n",
      "person2\n"
     ]
    }
   ],
   "source": [
    "# loop over a reversed dict\n",
    "people_dict = {'person2':'noel', 'person1':'elisa', 'person3':'kart'}\n",
    "for p in reversed(people_dict):\n",
    "    print(p)"
   ]
  },
  {
   "cell_type": "markdown",
   "id": "5ae0636c-7471-4a08-b817-09fbba1928e6",
   "metadata": {},
   "source": [
    "### 6.5. Looping over a sequence (or dictionary) in sorted order"
   ]
  },
  {
   "cell_type": "code",
   "execution_count": 39,
   "id": "8f7f5f17-9aa6-49cd-8475-eff06fd54e88",
   "metadata": {},
   "outputs": [
    {
     "name": "stdout",
     "output_type": "stream",
     "text": [
      "\n",
      "ascending alphanumeric sort:\n",
      "apple\n",
      "apple\n",
      "banana\n",
      "orange\n",
      "orange\n",
      "pear\n",
      "\n",
      "descending alphanumeric sort:\n",
      "pear\n",
      "orange\n",
      "orange\n",
      "banana\n",
      "apple\n",
      "apple\n"
     ]
    }
   ],
   "source": [
    "basket = ['apple', 'orange', 'apple', 'pear', 'orange', 'banana']\n",
    "\n",
    "# NB: like the reverse() example, the following code works for tuples and dictionaries as well\n",
    "print('\\nascending alphanumeric sort:')\n",
    "for f in sorted(basket):\n",
    "    print(f)\n",
    "\n",
    "print('\\ndescending alphanumeric sort:')\n",
    "for f in sorted(basket, reverse=True):\n",
    "    print(f)"
   ]
  },
  {
   "cell_type": "markdown",
   "id": "918310d1-d347-43bd-83fb-9bee7eb610b3",
   "metadata": {},
   "source": [
    "### 6.6. Looping over a set\n",
    "\n",
    "* Recall, using `set()` on a sequence eliminates duplicate elements.\n",
    "* Using `sorted()` in combination with `set()` over a sequence is an idiomatic way to loop over **nique elements of the sequence in sorted order**"
   ]
  },
  {
   "cell_type": "code",
   "execution_count": 40,
   "id": "90ee77ef-4729-4d6c-a155-57a29cea6273",
   "metadata": {},
   "outputs": [
    {
     "name": "stdout",
     "output_type": "stream",
     "text": [
      "apple\n",
      "banana\n",
      "orange\n",
      "pear\n"
     ]
    }
   ],
   "source": [
    "basket = ['apple', 'orange', 'apple', 'pear', 'orange', 'banana']\n",
    "for f in sorted(set(basket)):\n",
    "    print(f)"
   ]
  },
  {
   "cell_type": "markdown",
   "id": "08f583b0-411d-4196-ad0a-0a50dc5b1283",
   "metadata": {},
   "source": [
    "### 6.7. Warning: List objects have global scope!\n",
    "\n",
    "* Modifying a list (i.e. calling a `.method()` on a list) inside a for loop will modify the list variable permanently.\n",
    "* Always create a new list instead"
   ]
  },
  {
   "cell_type": "code",
   "execution_count": 41,
   "id": "5d6bb301-29f9-4c8c-b707-2bfe7477f62f",
   "metadata": {},
   "outputs": [
    {
     "name": "stdout",
     "output_type": "stream",
     "text": [
      "[56.2, 51.7, 55.3, 52.5, 47.8]\n"
     ]
    }
   ],
   "source": [
    "import math\n",
    "\n",
    "raw_data = [56.2, float('NaN'), 51.7, 55.3, 52.5, float('NaN'), 47.8]\n",
    "filtered_data = [] # initialise a list where we'll filter out the NaNs\n",
    "\n",
    "for value in raw_data:\n",
    "    if not math.isnan(value):\n",
    "        filtered_data.append(value)\n",
    "\n",
    "print(filtered_data)"
   ]
  },
  {
   "cell_type": "markdown",
   "id": "654922f3-fd84-4eb3-97d3-bbc112df97c3",
   "metadata": {},
   "source": [
    "## 7. Additional reading\n",
    "\n",
    "Go to this [python docs link](https://docs.python.org/3/tutorial/datastructures.html#more-on-conditions) for more information on the following topics:\n",
    "* **More on Conditions**: descriptions and priorities various conditional operators like:\n",
    "    * Comparison operators\n",
    "        * `in`, `not in` : membership test\n",
    "        * `is`, `is not` : equality test (all objects)\n",
    "        * chaining of operators `a < b == c` : this is actually tests 2 comparisons in one! `a < b` and `b == c`\n",
    "    * Boolean operators (in descending order of priority)\n",
    "        * `not`, `and`, `or` : so `A and not B or C` means `(A and (not B) or C)`\n",
    "        * `and` and `or` are short-circuit operators: Eval arguments from L-to-R. Stop as soon as outcome is determined.\n",
    "* Comparing sequences and other types. boring lol"
   ]
  }
 ],
 "metadata": {
  "kernelspec": {
   "display_name": "Python 3 (ipykernel)",
   "language": "python",
   "name": "python3"
  },
  "language_info": {
   "codemirror_mode": {
    "name": "ipython",
    "version": 3
   },
   "file_extension": ".py",
   "mimetype": "text/x-python",
   "name": "python",
   "nbconvert_exporter": "python",
   "pygments_lexer": "ipython3",
   "version": "3.11.7"
  }
 },
 "nbformat": 4,
 "nbformat_minor": 5
}
