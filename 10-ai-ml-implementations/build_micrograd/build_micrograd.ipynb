{
 "cells": [
  {
   "cell_type": "code",
   "execution_count": 1,
   "id": "6b0977d6-5813-483d-aabb-c3476e04d7c6",
   "metadata": {
    "tags": []
   },
   "outputs": [],
   "source": [
    "import math\n",
    "import numpy as np\n",
    "import matplotlib.pyplot as plt\n",
    "%matplotlib inline"
   ]
  },
  {
   "cell_type": "markdown",
   "id": "5f1567de-ff53-4c24-929e-340232112393",
   "metadata": {},
   "source": [
    "## What is backpropagation?\n",
    "\n",
    "Micrograd is an autograd engine which implements backpropagation. \n",
    "\n",
    "* Backpropagation is an algorithm which allows one to efficiently evaluate the gradient of a **loss function** with respect to the weights of a neural network\n",
    "* This lets us iteratively tune the weights to minimise the loss function, and hence improve the performance of the NN"
   ]
  },
  {
   "cell_type": "markdown",
   "id": "9eb1e38d-ed9f-462d-9f2a-330fff3bd83a",
   "metadata": {},
   "source": [
    "## What is a derivative?\n",
    "What information does it contain?"
   ]
  },
  {
   "cell_type": "markdown",
   "id": "350d6ea9-51ba-44f1-93f8-51bb03e72da2",
   "metadata": {},
   "source": [
    "### 1. Define (and call) a single-value scalar function `f(x)`"
   ]
  },
  {
   "cell_type": "code",
   "execution_count": 2,
   "id": "cdad0eb9-7441-43bb-bf55-a30b871168e0",
   "metadata": {
    "tags": []
   },
   "outputs": [
    {
     "data": {
      "text/plain": [
       "20.0"
      ]
     },
     "execution_count": 2,
     "metadata": {},
     "output_type": "execute_result"
    }
   ],
   "source": [
    "def f(x):\n",
    "    return 3*x**2 - 4*x + 5\n",
    "\n",
    "# call function\n",
    "f(3.0)"
   ]
  },
  {
   "cell_type": "code",
   "execution_count": 3,
   "id": "d7d9d1f3-89c2-4a3c-9ca8-8f9326d24966",
   "metadata": {
    "tags": []
   },
   "outputs": [
    {
     "data": {
      "text/plain": [
       "[<matplotlib.lines.Line2D at 0x10de88610>]"
      ]
     },
     "execution_count": 3,
     "metadata": {},
     "output_type": "execute_result"
    },
    {
     "data": {
      "image/png": "[encoded data removed]",
      "text/plain": [
       "<Figure size 640x480 with 1 Axes>"
      ]
     },
     "metadata": {},
     "output_type": "display_data"
    }
   ],
   "source": [
    "# plot function to understand its shape\n",
    "xs = np.arange(-5, 5, 0.25) # array of x values\n",
    "ys = f(xs)                  # corresp. array of y values\n",
    "plt.plot(xs, ys)"
   ]
  },
  {
   "cell_type": "markdown",
   "id": "1c22f6db-e42b-4c1f-9c2a-88c354bd4634",
   "metadata": {},
   "source": [
    "### 2. Take the derivative (i.e. `df(x)/dx` at any input point `x`)\n",
    "\n",
    "* Recall, in Calculus class, you'd use the various **analytical** rules (e.g. product rule etc) on the function $3x^2 -4x + 5$ defined above to find the **analytical** expression for the derivative of $f(x)$.\n",
    "* In NNs, no one does this. The expression would have tens of thousands of terms.\n",
    "\n",
    "#### Instead, by definition a derivative is:\n",
    "$$L = \\lim_{h \\to 0} \\frac{f(x+h)-f(x)}{h}$$\n",
    "\n",
    "Which tells us the sensitivity (aka slope of the response) of the function, to when you nudge $x$ by an infinitesimal amount $h$"
   ]
  },
  {
   "cell_type": "code",
   "execution_count": 4,
   "id": "4d35936a-3d5a-4927-b549-044826f82117",
   "metadata": {
    "tags": []
   },
   "outputs": [
    {
     "data": {
      "text/plain": [
       "14.00000009255109"
      ]
     },
     "execution_count": 4,
     "metadata": {},
     "output_type": "execute_result"
    }
   ],
   "source": [
    "h = 0.00000001\n",
    "x = 3.0\n",
    "(f(x + h) - f(x))/h # recall: rise/run; that's why we \"normalise\" by dividing by h"
   ]
  },
  {
   "cell_type": "markdown",
   "id": "c1e3ce07-2a4d-4e37-a2d3-5115914db6b4",
   "metadata": {},
   "source": [
    "Note, we can confirm analytically for this function; $\\frac{d}{dx}(3x^2-4x+5) = 6x-4 \\implies 6(3)-4=14$"
   ]
  },
  {
   "cell_type": "markdown",
   "id": "183fe635-01cd-4677-9133-bc013ee72e72",
   "metadata": {},
   "source": [
    "### 3. Derivative of `d` wrt multiple inputs `a`, `b`, and `c`"
   ]
  },
  {
   "cell_type": "code",
   "execution_count": 5,
   "id": "afb0a1f4-ab0c-47d2-aae3-392c6bc6797a",
   "metadata": {
    "tags": []
   },
   "outputs": [
    {
     "name": "stdout",
     "output_type": "stream",
     "text": [
      "4.0\n"
     ]
    }
   ],
   "source": [
    "# let's get more complex\n",
    "a = 2.0\n",
    "b = -3.0\n",
    "c = 10.0   \n",
    "d = a*b + c\n",
    "print(d)"
   ]
  },
  {
   "cell_type": "code",
   "execution_count": 6,
   "id": "bf1c7661-0dc8-46e5-bb31-314fde30dad4",
   "metadata": {
    "tags": []
   },
   "outputs": [
    {
     "name": "stdout",
     "output_type": "stream",
     "text": [
      "d1 4.0\n",
      "\n",
      "d2_a 3.999699999999999\n",
      "slope (d wrt a): -3.000000000010772\n",
      "\n",
      "d2_b 4.0002\n",
      "slope (d wrt b): 2.0000000000042206\n",
      "\n",
      "d2_c 4.0001\n",
      "slope (d wrt c): 0.9999999999976694\n",
      "\n",
      "Ensure the above makes sense.\n",
      "Think about the analytical solutions: of d(d)/da = -b, d(d)/db = a, and d(d)/dc = 1\n"
     ]
    }
   ],
   "source": [
    "h = 0.0001\n",
    "\n",
    "# inputs (point coordinates (a,b,c) at which we're evaluating derivative of d)\n",
    "a = 2.0\n",
    "b = -3.0\n",
    "c = 10.0\n",
    "\n",
    "d1 = a*b + c\n",
    "\n",
    "# let's nudge each of our variables one at a time\n",
    "a += h # first nudge a\n",
    "d2_a = a*b + c\n",
    "\n",
    "b += h # next nudge b\n",
    "a -= h # (un-nudge a)\n",
    "d2_b = a*b + c\n",
    "\n",
    "c += h # finally nudge c\n",
    "b -= h # (un-nudge b)\n",
    "d2_c = a*b + c\n",
    "\n",
    "print('d1', d1)\n",
    "print('\\nd2_a', d2_a)\n",
    "print('slope (d wrt a):', (d2_a - d1)/h)\n",
    "print('\\nd2_b', d2_b)\n",
    "print('slope (d wrt b):', (d2_b - d1)/h)\n",
    "print('\\nd2_c', d2_c)\n",
    "print('slope (d wrt c):', (d2_c - d1)/h)\n",
    "print('\\nEnsure the above makes sense.')\n",
    "print('Think about the analytical solutions: of d(d)/da = -b, d(d)/db = a, and d(d)/dc = 1')"
   ]
  },
  {
   "cell_type": "markdown",
   "id": "a875f3d3-545d-448a-8c9d-6cee882396dc",
   "metadata": {},
   "source": [
    "### 4. Neural Networks (and the `Value` object - the data structures to maintain NNs)\n",
    "\n",
    "Let's incrementally build a the data structures to maintain the massive mathematical expressions that are NNs."
   ]
  },
  {
   "cell_type": "markdown",
   "id": "d1aff17c-feef-4d29-b3d2-1a11eebad540",
   "metadata": {},
   "source": [
    "#### 4.1. Create, initialise, and define basic operations of `Value` object"
   ]
  },
  {
   "cell_type": "code",
   "execution_count": 7,
   "id": "8259017b-e126-4693-b569-15ea8d07d350",
   "metadata": {},
   "outputs": [
    {
     "ename": "TypeError",
     "evalue": "unsupported operand type(s) for +: 'Value' and 'Value'",
     "output_type": "error",
     "traceback": [
      "\u001b[0;31m---------------------------------------------------------------------------\u001b[0m",
      "\u001b[0;31mTypeError\u001b[0m                                 Traceback (most recent call last)",
      "Cell \u001b[0;32mIn[7], line 14\u001b[0m\n\u001b[1;32m     12\u001b[0m a \u001b[38;5;241m=\u001b[39m Value(\u001b[38;5;241m2.0\u001b[39m)\n\u001b[1;32m     13\u001b[0m b \u001b[38;5;241m=\u001b[39m Value(\u001b[38;5;241m-\u001b[39m\u001b[38;5;241m3.0\u001b[39m)\n\u001b[0;32m---> 14\u001b[0m a \u001b[38;5;241m+\u001b[39m b\n",
      "\u001b[0;31mTypeError\u001b[0m: unsupported operand type(s) for +: 'Value' and 'Value'"
     ]
    }
   ],
   "source": [
    "class Value:\n",
    "\n",
    "    # NB: __init__ is auto-called when you create a new instance of a class. they initialise the attributes of the class.\n",
    "    def __init__(self, data):\n",
    "        self.data = data\n",
    "\n",
    "    # NB: __repr__ is a Py built-in function: provides a string representation of an obj. for debugging, logging, etc\n",
    "    # Try comment it out for the next Jupyter cell and see the outputs\n",
    "    def __repr__(self):\n",
    "        return f\"Value(data={self.data})\" \n",
    "\n",
    "a = Value(2.0)\n",
    "b = Value(-3.0)\n",
    "a + b # Throws error; Python doesn't know how to add two Value objects"
   ]
  },
  {
   "cell_type": "code",
   "execution_count": 10,
   "id": "b986f203-a94f-4f4a-8ba2-aeaf10a704eb",
   "metadata": {},
   "outputs": [
    {
     "name": "stdout",
     "output_type": "stream",
     "text": [
      "Value(data=-1.0)\n"
     ]
    },
    {
     "data": {
      "text/plain": [
       "Value(data=-1.0)"
      ]
     },
     "execution_count": 10,
     "metadata": {},
     "output_type": "execute_result"
    }
   ],
   "source": [
    "class Value:\n",
    "\n",
    "    def __init__(self, data, _children=(), _op='', label=''):\n",
    "        self.data = data\n",
    "\n",
    "    # NB: comment the __repr__ out to see its usefulness !\n",
    "    def __repr__(self):\n",
    "        return f\"Value(data={self.data})\" \n",
    "\n",
    "    # special __ double underscore methods define the basic operators for non-built-in obj,\n",
    "    # (i.e. define what it means to ADD 2 Value objects! Python doesn't know by default)\n",
    "    def __add__(self, other):\n",
    "        # Here, the \"+\" operator is regular floating point addition (not a \"Value\" obj addition); \n",
    "        # because the .data are just numbers\n",
    "        out = Value(self.data + other.data)\n",
    "        return out\n",
    "\n",
    "    def __mul__(self, other):\n",
    "        out = Value(self.data * other.data)\n",
    "        return out\n",
    "\n",
    "a = Value(2.0)\n",
    "b = Value(-3.0)\n",
    "c = Value(10.0)\n",
    "print(a + b) # Now Python will note a and b are Value objects, so will internally call a.__add__(b) [self.__add__(other)]\n",
    "a.__add__(b)"
   ]
  },
  {
   "cell_type": "code",
   "execution_count": 11,
   "id": "f8d5955d-a4fe-4e08-ab5d-2e3c12f6030c",
   "metadata": {},
   "outputs": [
    {
     "name": "stdout",
     "output_type": "stream",
     "text": [
      "Value(data=4.0)\n"
     ]
    },
    {
     "data": {
      "text/plain": [
       "Value(data=4.0)"
      ]
     },
     "execution_count": 11,
     "metadata": {},
     "output_type": "execute_result"
    }
   ],
   "source": [
    "# check that multiplication works:\n",
    "print(a*b + c)\n",
    "\n",
    "# for learning, here's the python internal call (manual call)\n",
    "a.__mul__(b).__add__(c)"
   ]
  },
  {
   "cell_type": "markdown",
   "id": "0f9c0c1e-98fc-4ea5-aaa5-bdfa4af14f9c",
   "metadata": {},
   "source": [
    "#### 4.2. Create pointers to track the graph (which values produce which others)"
   ]
  },
  {
   "cell_type": "code",
   "execution_count": 20,
   "id": "91d4bf1f-ebd0-4818-807a-84bb74b61774",
   "metadata": {},
   "outputs": [
    {
     "name": "stdout",
     "output_type": "stream",
     "text": [
      "d: Value(data=4.0)\n",
      "d._prev: {Value(data=-6.0), Value(data=10.0)} <- Note; these are the Values from (a*b) and (c); the \"children\" of d!\n"
     ]
    }
   ],
   "source": [
    "class Value:\n",
    "\n",
    "    # new var _children (empty tuple by default)\n",
    "    def __init__(self, data, _children=()):\n",
    "        self.data = data\n",
    "        self._prev = set(_children) # _prev is the set of _children (efficiency?); by default _prev is an empty set\n",
    "\n",
    "    def __repr__(self):\n",
    "        return f\"Value(data={self.data})\" \n",
    "\n",
    "    def __add__(self, other):\n",
    "        # when we are creating a Value (through + or *), e.g. \"d\" below, feed in the children of that Value: (self, other)\n",
    "        out = Value(self.data + other.data, (self, other))\n",
    "        return out\n",
    "\n",
    "    def __mul__(self, other):\n",
    "        out = Value(self.data * other.data, (self, other))\n",
    "        return out\n",
    "\n",
    "a = Value(2.0)\n",
    "b = Value(-3.0)\n",
    "c = Value(10.0)\n",
    "d = a*b + c\n",
    "print('d:', d)\n",
    "print('d._prev:', d._prev, '<- Note; these are the Values from (a*b) and (c); the \"children\" of d!')"
   ]
  },
  {
   "cell_type": "code",
   "execution_count": 27,
   "id": "87b3d9ed-aad6-45db-bf0e-ac4e99e85ddc",
   "metadata": {},
   "outputs": [
    {
     "name": "stdout",
     "output_type": "stream",
     "text": [
      "d: Value(data=4.0)\n",
      "d._prev: {Value(data=10.0), Value(data=-6.0)}\n",
      "d._op: +\n"
     ]
    }
   ],
   "source": [
    "class Value:\n",
    "\n",
    "    # new var _op (empty string for leafs)\n",
    "    def __init__(self, data, _children=(), _op=''):\n",
    "        self.data = data\n",
    "        self._prev = set(_children)\n",
    "        self._op = _op # maintain the operation which created the Value (for values like \"d\" being created from \"+\", or \"*\")\n",
    "\n",
    "    def __repr__(self):\n",
    "        return f\"Value(data={self.data})\" \n",
    "\n",
    "    def __add__(self, other):\n",
    "        out = Value(self.data + other.data, (self, other), '+') # string '+' showing an addition operation created 'd'!\n",
    "        return out\n",
    "\n",
    "    def __mul__(self, other):\n",
    "        out = Value(self.data * other.data, (self, other), '*')\n",
    "        return out\n",
    "\n",
    "a = Value(2.0)\n",
    "b = Value(-3.0)\n",
    "c = Value(10.0)\n",
    "d = a*b + c\n",
    "print('d:', d)\n",
    "print('d._prev:', d._prev)\n",
    "print('d._op:', d._op)"
   ]
  },
  {
   "cell_type": "markdown",
   "id": "9b7d6d17-8342-4e62-85b0-f9642bc6f9ef",
   "metadata": {},
   "source": [
    "#### 4.3. Visualise the mathematical expression (aka graph our NN)\n",
    "\n",
    "Now that we have the full mathematical expression of this basic NN, let's visualise it as a graph with nodes and edges."
   ]
  },
  {
   "cell_type": "code",
   "execution_count": 43,
   "id": "9d602316-488d-4d2b-9a45-147725e57713",
   "metadata": {},
   "outputs": [
    {
     "data": {
      "image/svg+xml": [
       "<?xml version=\"1.0\" encoding=\"UTF-8\" standalone=\"no\"?>\n",
       "<!DOCTYPE svg PUBLIC \"-//W3C//DTD SVG 1.1//EN\"\n",
       " \"http://www.w3.org/Graphics/SVG/1.1/DTD/svg11.dtd\">\n",
       "<!-- Generated by graphviz version 9.0.0 (0)\n",
       " -->\n",
       "<!-- Pages: 1 -->\n",
       "<svg width=\"511pt\" height=\"128pt\"\n",
       " viewBox=\"0.00 0.00 510.50 128.00\" xmlns=\"http://www.w3.org/2000/svg\" xmlns:xlink=\"http://www.w3.org/1999/xlink\">\n",
       "<g id=\"graph0\" class=\"graph\" transform=\"scale(1 1) rotate(0) translate(4 124)\">\n",
       "<polygon fill=\"white\" stroke=\"none\" points=\"-4,4 -4,-124 506.5,-124 506.5,4 -4,4\"/>\n",
       "<!-- 5086459920 -->\n",
       "<g id=\"node1\" class=\"node\">\n",
       "<title>5086459920</title>\n",
       "<polygon fill=\"none\" stroke=\"black\" points=\"2.25,-83.5 2.25,-119.5 82,-119.5 82,-83.5 2.25,-83.5\"/>\n",
       "<text text-anchor=\"middle\" x=\"42.12\" y=\"-96.7\" font-family=\"Times,serif\" font-size=\"14.00\">data 2.0000</text>\n",
       "</g>\n",
       "<!-- 5085866640* -->\n",
       "<g id=\"node3\" class=\"node\">\n",
       "<title>5085866640*</title>\n",
       "<ellipse fill=\"none\" stroke=\"black\" cx=\"147.25\" cy=\"-73.5\" rx=\"27\" ry=\"18\"/>\n",
       "<text text-anchor=\"middle\" x=\"147.25\" y=\"-68.45\" font-family=\"Times,serif\" font-size=\"14.00\">*</text>\n",
       "</g>\n",
       "<!-- 5086459920&#45;&gt;5085866640* -->\n",
       "<g id=\"edge6\" class=\"edge\">\n",
       "<title>5086459920&#45;&gt;5085866640*</title>\n",
       "<path fill=\"none\" stroke=\"black\" d=\"M82.41,-90.83C91.69,-88.31 101.54,-85.64 110.65,-83.17\"/>\n",
       "<polygon fill=\"black\" stroke=\"black\" points=\"111.51,-86.56 120.24,-80.56 109.67,-79.8 111.51,-86.56\"/>\n",
       "</g>\n",
       "<!-- 5085866640 -->\n",
       "<g id=\"node2\" class=\"node\">\n",
       "<title>5085866640</title>\n",
       "<polygon fill=\"none\" stroke=\"black\" points=\"211.38,-55.5 211.38,-91.5 295.62,-91.5 295.62,-55.5 211.38,-55.5\"/>\n",
       "<text text-anchor=\"middle\" x=\"253.5\" y=\"-68.7\" font-family=\"Times,serif\" font-size=\"14.00\">data &#45;6.0000</text>\n",
       "</g>\n",
       "<!-- 5081661904+ -->\n",
       "<g id=\"node6\" class=\"node\">\n",
       "<title>5081661904+</title>\n",
       "<ellipse fill=\"none\" stroke=\"black\" cx=\"359.75\" cy=\"-45.5\" rx=\"27\" ry=\"18\"/>\n",
       "<text text-anchor=\"middle\" x=\"359.75\" y=\"-40.45\" font-family=\"Times,serif\" font-size=\"14.00\">+</text>\n",
       "</g>\n",
       "<!-- 5085866640&#45;&gt;5081661904+ -->\n",
       "<g id=\"edge3\" class=\"edge\">\n",
       "<title>5085866640&#45;&gt;5081661904+</title>\n",
       "<path fill=\"none\" stroke=\"black\" d=\"M296,-62.35C305,-59.94 314.45,-57.4 323.19,-55.05\"/>\n",
       "<polygon fill=\"black\" stroke=\"black\" points=\"323.99,-58.46 332.74,-52.49 322.17,-51.7 323.99,-58.46\"/>\n",
       "</g>\n",
       "<!-- 5085866640*&#45;&gt;5085866640 -->\n",
       "<g id=\"edge1\" class=\"edge\">\n",
       "<title>5085866640*&#45;&gt;5085866640</title>\n",
       "<path fill=\"none\" stroke=\"black\" d=\"M174.56,-73.5C182.27,-73.5 191,-73.5 199.75,-73.5\"/>\n",
       "<polygon fill=\"black\" stroke=\"black\" points=\"199.67,-77 209.67,-73.5 199.67,-70 199.67,-77\"/>\n",
       "</g>\n",
       "<!-- 5086800592 -->\n",
       "<g id=\"node4\" class=\"node\">\n",
       "<title>5086800592</title>\n",
       "<polygon fill=\"none\" stroke=\"black\" points=\"210.25,-0.5 210.25,-36.5 296.75,-36.5 296.75,-0.5 210.25,-0.5\"/>\n",
       "<text text-anchor=\"middle\" x=\"253.5\" y=\"-13.7\" font-family=\"Times,serif\" font-size=\"14.00\">data 10.0000</text>\n",
       "</g>\n",
       "<!-- 5086800592&#45;&gt;5081661904+ -->\n",
       "<g id=\"edge4\" class=\"edge\">\n",
       "<title>5086800592&#45;&gt;5081661904+</title>\n",
       "<path fill=\"none\" stroke=\"black\" d=\"M297.2,-29.56C305.86,-31.8 314.88,-34.14 323.26,-36.31\"/>\n",
       "<polygon fill=\"black\" stroke=\"black\" points=\"322.17,-39.64 332.73,-38.76 323.92,-32.86 322.17,-39.64\"/>\n",
       "</g>\n",
       "<!-- 5081661904 -->\n",
       "<g id=\"node5\" class=\"node\">\n",
       "<title>5081661904</title>\n",
       "<polygon fill=\"none\" stroke=\"black\" points=\"422.75,-27.5 422.75,-63.5 502.5,-63.5 502.5,-27.5 422.75,-27.5\"/>\n",
       "<text text-anchor=\"middle\" x=\"462.62\" y=\"-40.7\" font-family=\"Times,serif\" font-size=\"14.00\">data 4.0000</text>\n",
       "</g>\n",
       "<!-- 5081661904+&#45;&gt;5081661904 -->\n",
       "<g id=\"edge2\" class=\"edge\">\n",
       "<title>5081661904+&#45;&gt;5081661904</title>\n",
       "<path fill=\"none\" stroke=\"black\" d=\"M386.99,-45.5C394.46,-45.5 402.85,-45.5 411.24,-45.5\"/>\n",
       "<polygon fill=\"black\" stroke=\"black\" points=\"411.08,-49 421.08,-45.5 411.08,-42 411.08,-49\"/>\n",
       "</g>\n",
       "<!-- 5084352464 -->\n",
       "<g id=\"node7\" class=\"node\">\n",
       "<title>5084352464</title>\n",
       "<polygon fill=\"none\" stroke=\"black\" points=\"0,-28.5 0,-64.5 84.25,-64.5 84.25,-28.5 0,-28.5\"/>\n",
       "<text text-anchor=\"middle\" x=\"42.12\" y=\"-41.7\" font-family=\"Times,serif\" font-size=\"14.00\">data &#45;3.0000</text>\n",
       "</g>\n",
       "<!-- 5084352464&#45;&gt;5085866640* -->\n",
       "<g id=\"edge5\" class=\"edge\">\n",
       "<title>5084352464&#45;&gt;5085866640*</title>\n",
       "<path fill=\"none\" stroke=\"black\" d=\"M84.48,-57.33C93.11,-59.59 102.13,-61.95 110.54,-64.15\"/>\n",
       "<polygon fill=\"black\" stroke=\"black\" points=\"109.49,-67.49 120.05,-66.64 111.26,-60.72 109.49,-67.49\"/>\n",
       "</g>\n",
       "</g>\n",
       "</svg>\n"
      ],
      "text/plain": [
       "<graphviz.graphs.Digraph at 0x12f23f0d0>"
      ]
     },
     "execution_count": 43,
     "metadata": {},
     "output_type": "execute_result"
    }
   ],
   "source": [
    "from graphviz import Digraph\n",
    "\n",
    "def trace(root):\n",
    "    # recursively builds a set of all nodes and edges in a graph\n",
    "    nodes, edges = set(), set()\n",
    "\n",
    "    def build(v):\n",
    "        if v not in nodes: \n",
    "            nodes.add(v)\n",
    "            for child in v._prev:\n",
    "                edges.add((child, v))\n",
    "                build(child)\n",
    "    build(root)\n",
    "    return nodes, edges\n",
    "    \n",
    "def draw_dot(root):\n",
    "    dot = Digraph(format='svg', graph_attr={'rankdir': 'LR'}) # LR = left to right\n",
    "    \n",
    "    nodes, edges = trace(root)\n",
    "    for n in nodes:\n",
    "        uid = str(id(n))\n",
    "        \n",
    "        # for any value in the graph, create a rectangular ('record') node for it\n",
    "        dot.node(name = uid, label = \"{ data %.4f }\" % (n.data), shape='record')\n",
    "        \n",
    "        if n._op:\n",
    "            # if this value is a result of some operation, create an op node for it\n",
    "            dot.node(name = uid + n._op, label = n._op)\n",
    "            \n",
    "            # and connect this node to it\n",
    "            dot.edge(uid + n._op, uid)\n",
    "        \n",
    "    for n1, n2 in edges:\n",
    "        # connect n_i to the op node of n2\n",
    "        dot.edge(str(id(n1)), str(id(n2)) + n2._op)\n",
    "    \n",
    "    return dot\n",
    "\n",
    "# NB: The op nodes are not real objects (rectangles)\n",
    "# they're simply to visualise which operation (+ or *) was used to create the actual objects (rectangles are real nodes!)\n",
    "draw_dot(d)"
   ]
  },
  {
   "cell_type": "markdown",
   "id": "648552b1-cc86-4ce1-93ef-7b6fb39512c4",
   "metadata": {},
   "source": []
  },
  {
   "cell_type": "markdown",
   "id": "3c398f7e-2fcc-4424-ab1d-0412c29f7275",
   "metadata": {},
   "source": [
    "#### 4.4. Add labels to understand what variables are where in the visualised graph"
   ]
  },
  {
   "cell_type": "code",
   "execution_count": 44,
   "id": "841e2313-444b-48d8-9fd7-0805633226e3",
   "metadata": {},
   "outputs": [
    {
     "data": {
      "text/plain": [
       "Value(data=4.0)"
      ]
     },
     "execution_count": 44,
     "metadata": {},
     "output_type": "execute_result"
    }
   ],
   "source": [
    "class Value:\n",
    "\n",
    "    # new var _op (empty string for leafs)\n",
    "    def __init__(self, data, _children=(), _op='', label=''):\n",
    "        self.data = data\n",
    "        self._prev = set(_children)\n",
    "        self._op = _op\n",
    "        self.label = label\n",
    "\n",
    "    def __repr__(self):\n",
    "        return f\"Value(data={self.data})\" \n",
    "\n",
    "    def __add__(self, other):\n",
    "        out = Value(self.data + other.data, (self, other), '+')\n",
    "        return out\n",
    "\n",
    "    def __mul__(self, other):\n",
    "        out = Value(self.data * other.data, (self, other), '*')\n",
    "        return out\n",
    "\n",
    "a = Value(2.0, label='a')\n",
    "b = Value(-3.0, label='b')\n",
    "c = Value(10.0, label='c')\n",
    "e = a*b; e.label = 'e'\n",
    "d = e + c; d.label = 'd'\n",
    "d"
   ]
  },
  {
   "cell_type": "markdown",
   "id": "8de4015e-59fb-4a0c-8417-4979bce7d667",
   "metadata": {},
   "source": [
    "##### 4.4.1. Update graphviz"
   ]
  },
  {
   "cell_type": "code",
   "execution_count": 45,
   "id": "a5e02683-3611-495f-af0c-251ba44db871",
   "metadata": {},
   "outputs": [
    {
     "data": {
      "image/svg+xml": [
       "<?xml version=\"1.0\" encoding=\"UTF-8\" standalone=\"no\"?>\n",
       "<!DOCTYPE svg PUBLIC \"-//W3C//DTD SVG 1.1//EN\"\n",
       " \"http://www.w3.org/Graphics/SVG/1.1/DTD/svg11.dtd\">\n",
       "<!-- Generated by graphviz version 9.0.0 (0)\n",
       " -->\n",
       "<!-- Pages: 1 -->\n",
       "<svg width=\"578pt\" height=\"127pt\"\n",
       " viewBox=\"0.00 0.00 578.00 127.00\" xmlns=\"http://www.w3.org/2000/svg\" xmlns:xlink=\"http://www.w3.org/1999/xlink\">\n",
       "<g id=\"graph0\" class=\"graph\" transform=\"scale(1 1) rotate(0) translate(4 123)\">\n",
       "<polygon fill=\"white\" stroke=\"none\" points=\"-4,4 -4,-123 574,-123 574,4 -4,4\"/>\n",
       "<!-- 5084907600 -->\n",
       "<g id=\"node1\" class=\"node\">\n",
       "<title>5084907600</title>\n",
       "<polygon fill=\"none\" stroke=\"black\" points=\"467.5,-54.5 467.5,-90.5 570,-90.5 570,-54.5 467.5,-54.5\"/>\n",
       "<text text-anchor=\"middle\" x=\"478.88\" y=\"-67.7\" font-family=\"Times,serif\" font-size=\"14.00\">d</text>\n",
       "<polyline fill=\"none\" stroke=\"black\" points=\"490.25,-55 490.25,-90.5\"/>\n",
       "<text text-anchor=\"middle\" x=\"530.12\" y=\"-67.7\" font-family=\"Times,serif\" font-size=\"14.00\">data 4.0000</text>\n",
       "</g>\n",
       "<!-- 5084907600+ -->\n",
       "<g id=\"node2\" class=\"node\">\n",
       "<title>5084907600+</title>\n",
       "<ellipse fill=\"none\" stroke=\"black\" cx=\"404.5\" cy=\"-72.5\" rx=\"27\" ry=\"18\"/>\n",
       "<text text-anchor=\"middle\" x=\"404.5\" y=\"-67.45\" font-family=\"Times,serif\" font-size=\"14.00\">+</text>\n",
       "</g>\n",
       "<!-- 5084907600+&#45;&gt;5084907600 -->\n",
       "<g id=\"edge1\" class=\"edge\">\n",
       "<title>5084907600+&#45;&gt;5084907600</title>\n",
       "<path fill=\"none\" stroke=\"black\" d=\"M431.82,-72.5C439.21,-72.5 447.57,-72.5 456.1,-72.5\"/>\n",
       "<polygon fill=\"black\" stroke=\"black\" points=\"455.83,-76 465.83,-72.5 455.83,-69 455.83,-76\"/>\n",
       "</g>\n",
       "<!-- 5081462864 -->\n",
       "<g id=\"node3\" class=\"node\">\n",
       "<title>5081462864</title>\n",
       "<polygon fill=\"none\" stroke=\"black\" points=\"233,-82.5 233,-118.5 341.5,-118.5 341.5,-82.5 233,-82.5\"/>\n",
       "<text text-anchor=\"middle\" x=\"244\" y=\"-95.7\" font-family=\"Times,serif\" font-size=\"14.00\">c</text>\n",
       "<polyline fill=\"none\" stroke=\"black\" points=\"255,-83 255,-118.5\"/>\n",
       "<text text-anchor=\"middle\" x=\"298.25\" y=\"-95.7\" font-family=\"Times,serif\" font-size=\"14.00\">data 10.0000</text>\n",
       "</g>\n",
       "<!-- 5081462864&#45;&gt;5084907600+ -->\n",
       "<g id=\"edge4\" class=\"edge\">\n",
       "<title>5081462864&#45;&gt;5084907600+</title>\n",
       "<path fill=\"none\" stroke=\"black\" d=\"M341.83,-87.48C350.54,-85.37 359.37,-83.22 367.53,-81.24\"/>\n",
       "<polygon fill=\"black\" stroke=\"black\" points=\"368.16,-84.69 377.05,-78.93 366.51,-77.89 368.16,-84.69\"/>\n",
       "</g>\n",
       "<!-- 5086521040 -->\n",
       "<g id=\"node4\" class=\"node\">\n",
       "<title>5086521040</title>\n",
       "<polygon fill=\"none\" stroke=\"black\" points=\"234.12,-27.5 234.12,-63.5 340.38,-63.5 340.38,-27.5 234.12,-27.5\"/>\n",
       "<text text-anchor=\"middle\" x=\"245.12\" y=\"-40.7\" font-family=\"Times,serif\" font-size=\"14.00\">e</text>\n",
       "<polyline fill=\"none\" stroke=\"black\" points=\"256.12,-28 256.12,-63.5\"/>\n",
       "<text text-anchor=\"middle\" x=\"298.25\" y=\"-40.7\" font-family=\"Times,serif\" font-size=\"14.00\">data &#45;6.0000</text>\n",
       "</g>\n",
       "<!-- 5086521040&#45;&gt;5084907600+ -->\n",
       "<g id=\"edge5\" class=\"edge\">\n",
       "<title>5086521040&#45;&gt;5084907600+</title>\n",
       "<path fill=\"none\" stroke=\"black\" d=\"M340.82,-57.81C349.88,-59.94 359.11,-62.1 367.6,-64.09\"/>\n",
       "<polygon fill=\"black\" stroke=\"black\" points=\"366.63,-67.46 377.16,-66.33 368.22,-60.64 366.63,-67.46\"/>\n",
       "</g>\n",
       "<!-- 5086521040* -->\n",
       "<g id=\"node5\" class=\"node\">\n",
       "<title>5086521040*</title>\n",
       "<ellipse fill=\"none\" stroke=\"black\" cx=\"170\" cy=\"-45.5\" rx=\"27\" ry=\"18\"/>\n",
       "<text text-anchor=\"middle\" x=\"170\" y=\"-40.45\" font-family=\"Times,serif\" font-size=\"14.00\">*</text>\n",
       "</g>\n",
       "<!-- 5086521040*&#45;&gt;5086521040 -->\n",
       "<g id=\"edge2\" class=\"edge\">\n",
       "<title>5086521040*&#45;&gt;5086521040</title>\n",
       "<path fill=\"none\" stroke=\"black\" d=\"M197.44,-45.5C205.1,-45.5 213.82,-45.5 222.73,-45.5\"/>\n",
       "<polygon fill=\"black\" stroke=\"black\" points=\"222.53,-49 232.53,-45.5 222.53,-42 222.53,-49\"/>\n",
       "</g>\n",
       "<!-- 5081455312 -->\n",
       "<g id=\"node6\" class=\"node\">\n",
       "<title>5081455312</title>\n",
       "<polygon fill=\"none\" stroke=\"black\" points=\"0,-55.5 0,-91.5 107,-91.5 107,-55.5 0,-55.5\"/>\n",
       "<text text-anchor=\"middle\" x=\"11.38\" y=\"-68.7\" font-family=\"Times,serif\" font-size=\"14.00\">b</text>\n",
       "<polyline fill=\"none\" stroke=\"black\" points=\"22.75,-56 22.75,-91.5\"/>\n",
       "<text text-anchor=\"middle\" x=\"64.88\" y=\"-68.7\" font-family=\"Times,serif\" font-size=\"14.00\">data &#45;3.0000</text>\n",
       "</g>\n",
       "<!-- 5081455312&#45;&gt;5086521040* -->\n",
       "<g id=\"edge3\" class=\"edge\">\n",
       "<title>5081455312&#45;&gt;5086521040*</title>\n",
       "<path fill=\"none\" stroke=\"black\" d=\"M107.39,-60.57C116.15,-58.42 125.05,-56.25 133.26,-54.24\"/>\n",
       "<polygon fill=\"black\" stroke=\"black\" points=\"133.97,-57.67 142.85,-51.89 132.3,-50.87 133.97,-57.67\"/>\n",
       "</g>\n",
       "<!-- 4551938896 -->\n",
       "<g id=\"node7\" class=\"node\">\n",
       "<title>4551938896</title>\n",
       "<polygon fill=\"none\" stroke=\"black\" points=\"2.62,-0.5 2.62,-36.5 104.38,-36.5 104.38,-0.5 2.62,-0.5\"/>\n",
       "<text text-anchor=\"middle\" x=\"13.62\" y=\"-13.7\" font-family=\"Times,serif\" font-size=\"14.00\">a</text>\n",
       "<polyline fill=\"none\" stroke=\"black\" points=\"24.62,-1 24.62,-36.5\"/>\n",
       "<text text-anchor=\"middle\" x=\"64.5\" y=\"-13.7\" font-family=\"Times,serif\" font-size=\"14.00\">data 2.0000</text>\n",
       "</g>\n",
       "<!-- 4551938896&#45;&gt;5086521040* -->\n",
       "<g id=\"edge6\" class=\"edge\">\n",
       "<title>4551938896&#45;&gt;5086521040*</title>\n",
       "<path fill=\"none\" stroke=\"black\" d=\"M104.72,-30.34C114.16,-32.57 123.86,-34.86 132.78,-36.96\"/>\n",
       "<polygon fill=\"black\" stroke=\"black\" points=\"131.94,-40.36 142.48,-39.25 133.55,-33.54 131.94,-40.36\"/>\n",
       "</g>\n",
       "</g>\n",
       "</svg>\n"
      ],
      "text/plain": [
       "<graphviz.graphs.Digraph at 0x12f2eab50>"
      ]
     },
     "execution_count": 45,
     "metadata": {},
     "output_type": "execute_result"
    }
   ],
   "source": [
    "# Redefine graphviz to add this info:\n",
    "from graphviz import Digraph\n",
    "\n",
    "def trace(root):\n",
    "    # recursively builds a set of all nodes and edges in a graph\n",
    "    nodes, edges = set(), set()\n",
    "\n",
    "    def build(v):\n",
    "        if v not in nodes: \n",
    "            nodes.add(v)\n",
    "            for child in v._prev:\n",
    "                edges.add((child, v))\n",
    "                build(child)\n",
    "    build(root)\n",
    "    return nodes, edges\n",
    "    \n",
    "def draw_dot(root):\n",
    "    dot = Digraph(format='svg', graph_attr={'rankdir': 'LR'}) # LR = left to right\n",
    "    \n",
    "    nodes, edges = trace(root)\n",
    "    for n in nodes:\n",
    "        uid = str(id(n))\n",
    "        \n",
    "        # for any value in the graph, create a rectangular ('record') node for it\n",
    "        dot.node(name = uid, label = \"{ %s | data %.4f }\" % (n.label, n.data), shape='record')\n",
    "        \n",
    "        if n._op:\n",
    "            # if this value is a result of some operation, create an op node for it\n",
    "            dot.node(name = uid + n._op, label = n._op)\n",
    "            \n",
    "            # and connect this node to it\n",
    "            dot.edge(uid + n._op, uid)\n",
    "        \n",
    "    for n1, n2 in edges:\n",
    "        # connect n_i to the op node of n2\n",
    "        dot.edge(str(id(n1)), str(id(n2)) + n2._op)\n",
    "    \n",
    "    return dot\n",
    "\n",
    "# NB: The op nodes are not real objects (rectangles)\n",
    "# they're simply to visualise which operation (+ or *) was used to create the actual objects (rectangles are real nodes!)\n",
    "draw_dot(d)"
   ]
  },
  {
   "cell_type": "markdown",
   "id": "2038146f-7e6b-4b6e-898f-11099c094942",
   "metadata": {},
   "source": [
    "##### 4.4.2. Add one more value object (go 1 layer deeper); draw "
   ]
  },
  {
   "cell_type": "code",
   "execution_count": 48,
   "id": "b8946323-8948-4103-b997-d7990f9e8da2",
   "metadata": {},
   "outputs": [
    {
     "data": {
      "image/svg+xml": [
       "<?xml version=\"1.0\" encoding=\"UTF-8\" standalone=\"no\"?>\n",
       "<!DOCTYPE svg PUBLIC \"-//W3C//DTD SVG 1.1//EN\"\n",
       " \"http://www.w3.org/Graphics/SVG/1.1/DTD/svg11.dtd\">\n",
       "<!-- Generated by graphviz version 9.0.0 (0)\n",
       " -->\n",
       "<!-- Pages: 1 -->\n",
       "<svg width=\"815pt\" height=\"154pt\"\n",
       " viewBox=\"0.00 0.00 814.75 154.00\" xmlns=\"http://www.w3.org/2000/svg\" xmlns:xlink=\"http://www.w3.org/1999/xlink\">\n",
       "<g id=\"graph0\" class=\"graph\" transform=\"scale(1 1) rotate(0) translate(4 150)\">\n",
       "<polygon fill=\"white\" stroke=\"none\" points=\"-4,4 -4,-150 810.75,-150 810.75,4 -4,4\"/>\n",
       "<!-- 5086657040 -->\n",
       "<g id=\"node1\" class=\"node\">\n",
       "<title>5086657040</title>\n",
       "<polygon fill=\"none\" stroke=\"black\" points=\"467.5,-109.5 467.5,-145.5 572.25,-145.5 572.25,-109.5 467.5,-109.5\"/>\n",
       "<text text-anchor=\"middle\" x=\"477.75\" y=\"-122.7\" font-family=\"Times,serif\" font-size=\"14.00\">f</text>\n",
       "<polyline fill=\"none\" stroke=\"black\" points=\"488,-110 488,-145.5\"/>\n",
       "<text text-anchor=\"middle\" x=\"530.12\" y=\"-122.7\" font-family=\"Times,serif\" font-size=\"14.00\">data &#45;2.0000</text>\n",
       "</g>\n",
       "<!-- 5081380304* -->\n",
       "<g id=\"node10\" class=\"node\">\n",
       "<title>5081380304*</title>\n",
       "<ellipse fill=\"none\" stroke=\"black\" cx=\"635.25\" cy=\"-99.5\" rx=\"27\" ry=\"18\"/>\n",
       "<text text-anchor=\"middle\" x=\"635.25\" y=\"-94.45\" font-family=\"Times,serif\" font-size=\"14.00\">*</text>\n",
       "</g>\n",
       "<!-- 5086657040&#45;&gt;5081380304* -->\n",
       "<g id=\"edge8\" class=\"edge\">\n",
       "<title>5086657040&#45;&gt;5081380304*</title>\n",
       "<path fill=\"none\" stroke=\"black\" d=\"M572.59,-114.73C581.32,-112.57 590.21,-110.38 598.42,-108.35\"/>\n",
       "<polygon fill=\"black\" stroke=\"black\" points=\"599.16,-111.77 608.02,-105.98 597.48,-104.98 599.16,-111.77\"/>\n",
       "</g>\n",
       "<!-- 5084907600 -->\n",
       "<g id=\"node2\" class=\"node\">\n",
       "<title>5084907600</title>\n",
       "<polygon fill=\"none\" stroke=\"black\" points=\"468.62,-54.5 468.62,-90.5 571.12,-90.5 571.12,-54.5 468.62,-54.5\"/>\n",
       "<text text-anchor=\"middle\" x=\"480\" y=\"-67.7\" font-family=\"Times,serif\" font-size=\"14.00\">d</text>\n",
       "<polyline fill=\"none\" stroke=\"black\" points=\"491.38,-55 491.38,-90.5\"/>\n",
       "<text text-anchor=\"middle\" x=\"531.25\" y=\"-67.7\" font-family=\"Times,serif\" font-size=\"14.00\">data 4.0000</text>\n",
       "</g>\n",
       "<!-- 5084907600&#45;&gt;5081380304* -->\n",
       "<g id=\"edge4\" class=\"edge\">\n",
       "<title>5084907600&#45;&gt;5081380304*</title>\n",
       "<path fill=\"none\" stroke=\"black\" d=\"M571.59,-84.58C580.59,-86.72 589.79,-88.91 598.28,-90.93\"/>\n",
       "<polygon fill=\"black\" stroke=\"black\" points=\"597.3,-94.3 607.84,-93.21 598.93,-87.49 597.3,-94.3\"/>\n",
       "</g>\n",
       "<!-- 5084907600+ -->\n",
       "<g id=\"node3\" class=\"node\">\n",
       "<title>5084907600+</title>\n",
       "<ellipse fill=\"none\" stroke=\"black\" cx=\"404.5\" cy=\"-72.5\" rx=\"27\" ry=\"18\"/>\n",
       "<text text-anchor=\"middle\" x=\"404.5\" y=\"-67.45\" font-family=\"Times,serif\" font-size=\"14.00\">+</text>\n",
       "</g>\n",
       "<!-- 5084907600+&#45;&gt;5084907600 -->\n",
       "<g id=\"edge1\" class=\"edge\">\n",
       "<title>5084907600+&#45;&gt;5084907600</title>\n",
       "<path fill=\"none\" stroke=\"black\" d=\"M431.8,-72.5C439.43,-72.5 448.11,-72.5 456.96,-72.5\"/>\n",
       "<polygon fill=\"black\" stroke=\"black\" points=\"456.68,-76 466.68,-72.5 456.68,-69 456.68,-76\"/>\n",
       "</g>\n",
       "<!-- 5081462864 -->\n",
       "<g id=\"node4\" class=\"node\">\n",
       "<title>5081462864</title>\n",
       "<polygon fill=\"none\" stroke=\"black\" points=\"233,-82.5 233,-118.5 341.5,-118.5 341.5,-82.5 233,-82.5\"/>\n",
       "<text text-anchor=\"middle\" x=\"244\" y=\"-95.7\" font-family=\"Times,serif\" font-size=\"14.00\">c</text>\n",
       "<polyline fill=\"none\" stroke=\"black\" points=\"255,-83 255,-118.5\"/>\n",
       "<text text-anchor=\"middle\" x=\"298.25\" y=\"-95.7\" font-family=\"Times,serif\" font-size=\"14.00\">data 10.0000</text>\n",
       "</g>\n",
       "<!-- 5081462864&#45;&gt;5084907600+ -->\n",
       "<g id=\"edge6\" class=\"edge\">\n",
       "<title>5081462864&#45;&gt;5084907600+</title>\n",
       "<path fill=\"none\" stroke=\"black\" d=\"M341.83,-87.48C350.54,-85.37 359.37,-83.22 367.53,-81.24\"/>\n",
       "<polygon fill=\"black\" stroke=\"black\" points=\"368.16,-84.69 377.05,-78.93 366.51,-77.89 368.16,-84.69\"/>\n",
       "</g>\n",
       "<!-- 5086521040 -->\n",
       "<g id=\"node5\" class=\"node\">\n",
       "<title>5086521040</title>\n",
       "<polygon fill=\"none\" stroke=\"black\" points=\"234.12,-27.5 234.12,-63.5 340.38,-63.5 340.38,-27.5 234.12,-27.5\"/>\n",
       "<text text-anchor=\"middle\" x=\"245.12\" y=\"-40.7\" font-family=\"Times,serif\" font-size=\"14.00\">e</text>\n",
       "<polyline fill=\"none\" stroke=\"black\" points=\"256.12,-28 256.12,-63.5\"/>\n",
       "<text text-anchor=\"middle\" x=\"298.25\" y=\"-40.7\" font-family=\"Times,serif\" font-size=\"14.00\">data &#45;6.0000</text>\n",
       "</g>\n",
       "<!-- 5086521040&#45;&gt;5084907600+ -->\n",
       "<g id=\"edge9\" class=\"edge\">\n",
       "<title>5086521040&#45;&gt;5084907600+</title>\n",
       "<path fill=\"none\" stroke=\"black\" d=\"M340.82,-57.81C349.88,-59.94 359.11,-62.1 367.6,-64.09\"/>\n",
       "<polygon fill=\"black\" stroke=\"black\" points=\"366.63,-67.46 377.16,-66.33 368.22,-60.64 366.63,-67.46\"/>\n",
       "</g>\n",
       "<!-- 5086521040* -->\n",
       "<g id=\"node6\" class=\"node\">\n",
       "<title>5086521040*</title>\n",
       "<ellipse fill=\"none\" stroke=\"black\" cx=\"170\" cy=\"-45.5\" rx=\"27\" ry=\"18\"/>\n",
       "<text text-anchor=\"middle\" x=\"170\" y=\"-40.45\" font-family=\"Times,serif\" font-size=\"14.00\">*</text>\n",
       "</g>\n",
       "<!-- 5086521040*&#45;&gt;5086521040 -->\n",
       "<g id=\"edge2\" class=\"edge\">\n",
       "<title>5086521040*&#45;&gt;5086521040</title>\n",
       "<path fill=\"none\" stroke=\"black\" d=\"M197.44,-45.5C205.1,-45.5 213.82,-45.5 222.73,-45.5\"/>\n",
       "<polygon fill=\"black\" stroke=\"black\" points=\"222.53,-49 232.53,-45.5 222.53,-42 222.53,-49\"/>\n",
       "</g>\n",
       "<!-- 5081455312 -->\n",
       "<g id=\"node7\" class=\"node\">\n",
       "<title>5081455312</title>\n",
       "<polygon fill=\"none\" stroke=\"black\" points=\"0,-55.5 0,-91.5 107,-91.5 107,-55.5 0,-55.5\"/>\n",
       "<text text-anchor=\"middle\" x=\"11.38\" y=\"-68.7\" font-family=\"Times,serif\" font-size=\"14.00\">b</text>\n",
       "<polyline fill=\"none\" stroke=\"black\" points=\"22.75,-56 22.75,-91.5\"/>\n",
       "<text text-anchor=\"middle\" x=\"64.88\" y=\"-68.7\" font-family=\"Times,serif\" font-size=\"14.00\">data &#45;3.0000</text>\n",
       "</g>\n",
       "<!-- 5081455312&#45;&gt;5086521040* -->\n",
       "<g id=\"edge5\" class=\"edge\">\n",
       "<title>5081455312&#45;&gt;5086521040*</title>\n",
       "<path fill=\"none\" stroke=\"black\" d=\"M107.39,-60.57C116.15,-58.42 125.05,-56.25 133.26,-54.24\"/>\n",
       "<polygon fill=\"black\" stroke=\"black\" points=\"133.97,-57.67 142.85,-51.89 132.3,-50.87 133.97,-57.67\"/>\n",
       "</g>\n",
       "<!-- 4551938896 -->\n",
       "<g id=\"node8\" class=\"node\">\n",
       "<title>4551938896</title>\n",
       "<polygon fill=\"none\" stroke=\"black\" points=\"2.62,-0.5 2.62,-36.5 104.38,-36.5 104.38,-0.5 2.62,-0.5\"/>\n",
       "<text text-anchor=\"middle\" x=\"13.62\" y=\"-13.7\" font-family=\"Times,serif\" font-size=\"14.00\">a</text>\n",
       "<polyline fill=\"none\" stroke=\"black\" points=\"24.62,-1 24.62,-36.5\"/>\n",
       "<text text-anchor=\"middle\" x=\"64.5\" y=\"-13.7\" font-family=\"Times,serif\" font-size=\"14.00\">data 2.0000</text>\n",
       "</g>\n",
       "<!-- 4551938896&#45;&gt;5086521040* -->\n",
       "<g id=\"edge7\" class=\"edge\">\n",
       "<title>4551938896&#45;&gt;5086521040*</title>\n",
       "<path fill=\"none\" stroke=\"black\" d=\"M104.72,-30.34C114.16,-32.57 123.86,-34.86 132.78,-36.96\"/>\n",
       "<polygon fill=\"black\" stroke=\"black\" points=\"131.94,-40.36 142.48,-39.25 133.55,-33.54 131.94,-40.36\"/>\n",
       "</g>\n",
       "<!-- 5081380304 -->\n",
       "<g id=\"node9\" class=\"node\">\n",
       "<title>5081380304</title>\n",
       "<polygon fill=\"none\" stroke=\"black\" points=\"698.25,-81.5 698.25,-117.5 806.75,-117.5 806.75,-81.5 698.25,-81.5\"/>\n",
       "<text text-anchor=\"middle\" x=\"710.38\" y=\"-94.7\" font-family=\"Times,serif\" font-size=\"14.00\">L</text>\n",
       "<polyline fill=\"none\" stroke=\"black\" points=\"722.5,-82 722.5,-117.5\"/>\n",
       "<text text-anchor=\"middle\" x=\"764.62\" y=\"-94.7\" font-family=\"Times,serif\" font-size=\"14.00\">data &#45;8.0000</text>\n",
       "</g>\n",
       "<!-- 5081380304*&#45;&gt;5081380304 -->\n",
       "<g id=\"edge3\" class=\"edge\">\n",
       "<title>5081380304*&#45;&gt;5081380304</title>\n",
       "<path fill=\"none\" stroke=\"black\" d=\"M662.69,-99.5C669.91,-99.5 678.06,-99.5 686.43,-99.5\"/>\n",
       "<polygon fill=\"black\" stroke=\"black\" points=\"686.39,-103 696.39,-99.5 686.39,-96 686.39,-103\"/>\n",
       "</g>\n",
       "</g>\n",
       "</svg>\n"
      ],
      "text/plain": [
       "<graphviz.graphs.Digraph at 0x12f1ce490>"
      ]
     },
     "execution_count": 48,
     "metadata": {},
     "output_type": "execute_result"
    }
   ],
   "source": [
    "f = Value(-2.0, label='f')\n",
    "L = d * f; L.label = 'L' # the output of our graph\n",
    "\n",
    "draw_dot(L)"
   ]
  },
  {
   "cell_type": "markdown",
   "id": "56c4bde6-46f5-4345-a7a2-e4ca8d4d8d29",
   "metadata": {},
   "source": [
    "## Takeaways:\n",
    "- That's the forward pass! Its output was `L=-8`\n",
    "- Next, let's do backpropagation:\n",
    "    - We'll work **backwards** from `L` node; and calculate the gradient at each of the intermediate values (nodes `a` to `f`)\n",
    "    - Specifically, compute the derivative of each prior node (`a` to `f`) with respect to the output node `L`\n",
    "\n",
    "\n",
    "### What's happening?\n",
    "\n",
    "- In essence, `L` is the \"loss function\" and the prior nodes `a` to `f` represent the \"weights\" of a NN\n",
    "    - Note: \"weights\" are different to the \"data\" held at each prior node.\n",
    "- We're interested in how the weights impact the loss function\n",
    "    - Hence, the **derivative of the loss function wrt the weights**"
   ]
  },
  {
   "cell_type": "code",
   "execution_count": null,
   "id": "2ac05699-5daf-4f94-b645-b199fa08dd80",
   "metadata": {},
   "outputs": [],
   "source": []
  },
  {
   "cell_type": "markdown",
   "id": "15fc2837-4b00-49cc-9e42-76d2d3ddd607",
   "metadata": {},
   "source": [
    "### 4.X Final `Value` object"
   ]
  },
  {
   "cell_type": "code",
   "execution_count": null,
   "id": "afdd6eb3-6b38-4941-95bd-8b88f57d44ec",
   "metadata": {
    "tags": []
   },
   "outputs": [],
   "source": [
    "class Value:\n",
    "    \"\"\"docstring from GH Copilot\n",
    "    A class that represents a single value and its gradient.\n",
    "\n",
    "    This class is used to perform automatic differentiation. It keeps track of a value (`data`), its gradient (`grad`), \n",
    "    and the function (`_backward`) used to compute the gradient. The class also supports basic arithmetic operations \n",
    "    like addition (`__add__`) and multiplication (`__mul__`), as well as the hyperbolic tangent function (`tanh`).\n",
    "                    \n",
    "    Attributes:\n",
    "        data:       The actual value.\n",
    "        grad:       The gradient of the value.\n",
    "        _backward:  A function that computes the gradient.\n",
    "        _prev:      A set of `Value` objects that are the parents of this object in the computation graph.\n",
    "        _op:        A string representing the operation that produced this `Value` object.\n",
    "        label:      An optional label for the `Value` object.\n",
    "\n",
    "    Methods:\n",
    "        tanh:       Applies the hyperbolic tangent function to the value.\n",
    "        backward:   Performs backpropagation to compute the gradients of all values in the computation graph.\n",
    "    \"\"\"\n",
    "\n",
    "    # NB: __init__ is auto-called when you create a new instance of a class. they initialise the attributes of the class.\n",
    "    def __init__(self, data, _children=(), _op='', label=''):\n",
    "        self.data = data\n",
    "        self.grad = 0.0\n",
    "        self._backward = lambda: None\n",
    "        self._prev = set(_children)\n",
    "        self._op = _op\n",
    "        self.label = label\n",
    "\n",
    "    # NB: __repr__ is a Py built-in function: provides a string representation of an obj. for debugging, logging, etc\n",
    "    def __repr__(self):\n",
    "        return f\"Value(data={self.data})\" \n",
    "  \n",
    "    def __add__(self, other):\n",
    "        out = Value(self.data + other.data, (self, other), '+')\n",
    "        \n",
    "        def _backward():\n",
    "            self.grad += 1.0 * out.grad\n",
    "            other.grad += 1.0 * out.grad\n",
    "        out._backward = _backward\n",
    "        \n",
    "        return out\n",
    "\n",
    "    def __mul__(self, other):\n",
    "        out = Value(self.data * other.data, (self, other), '*')\n",
    "        \n",
    "        def _backward():\n",
    "            self.grad += other.data * out.grad\n",
    "            other.grad += self.data * out.grad\n",
    "        out._backward = _backward\n",
    "        \n",
    "        return out\n",
    "  \n",
    "    def tanh(self):\n",
    "        x = self.data\n",
    "        t = (math.exp(2*x) - 1)/(math.exp(2*x) + 1)\n",
    "        out = Value(t, (self, ), 'tanh')\n",
    "    \n",
    "        def _backward():\n",
    "            self.grad += (1 - t**2) * out.grad\n",
    "        out._backward = _backward\n",
    "    \n",
    "        return out\n",
    "  \n",
    "    def backward(self):\n",
    "    \n",
    "        topo = []\n",
    "        visited = set()\n",
    "        def build_topo(v):\n",
    "            if v not in visited:\n",
    "                visited.add(v)\n",
    "                for child in v._prev:\n",
    "                    build_topo(child)\n",
    "                topo.append(v)\n",
    "        build_topo(self)\n",
    "        \n",
    "        self.grad = 1.0\n",
    "        for node in reversed(topo):\n",
    "            node._backward()\n",
    "\n",
    "a = Value(2.0, label='a')\n",
    "b = Value(-3.0, label='b')\n",
    "c = Value(10.0, label='c')\n",
    "e = a*b; e.label = 'e'\n",
    "d = e + c; d.label = 'd'\n",
    "f = Value(-2.0, label='f')\n",
    "L = d * f; L.label = 'L'\n",
    "L"
   ]
  },
  {
   "cell_type": "code",
   "execution_count": null,
   "id": "3a220421-538d-425e-a60c-8736c6b6b54f",
   "metadata": {},
   "outputs": [],
   "source": []
  },
  {
   "cell_type": "code",
   "execution_count": null,
   "id": "6b0a44b1-e861-4075-bbaa-78eb29b9c44f",
   "metadata": {},
   "outputs": [],
   "source": []
  },
  {
   "cell_type": "code",
   "execution_count": null,
   "id": "0d073f5a-f558-4b6d-8755-25c8314a85a0",
   "metadata": {},
   "outputs": [],
   "source": []
  },
  {
   "cell_type": "code",
   "execution_count": null,
   "id": "a8ad8a64-2233-4c98-9fe6-bfbd635c77c9",
   "metadata": {},
   "outputs": [],
   "source": []
  },
  {
   "cell_type": "code",
   "execution_count": null,
   "id": "89a90ee5-4383-4b9a-81cd-38168494bc3d",
   "metadata": {},
   "outputs": [],
   "source": []
  },
  {
   "cell_type": "code",
   "execution_count": null,
   "id": "5e86937a-16a4-4211-92a1-c1d75131877e",
   "metadata": {},
   "outputs": [],
   "source": []
  },
  {
   "cell_type": "code",
   "execution_count": null,
   "id": "dde7001b-9d35-4dca-b426-b3f8445116f6",
   "metadata": {},
   "outputs": [],
   "source": []
  },
  {
   "cell_type": "code",
   "execution_count": null,
   "id": "5445b0be-a53f-4771-9cbf-dcef3b7d6b0a",
   "metadata": {},
   "outputs": [],
   "source": []
  },
  {
   "cell_type": "code",
   "execution_count": null,
   "id": "9fd57c6a-2f91-4c86-b418-6181e330595f",
   "metadata": {},
   "outputs": [],
   "source": []
  }
 ],
 "metadata": {
  "kernelspec": {
   "display_name": "Python 3 (ipykernel)",
   "language": "python",
   "name": "python3"
  },
  "language_info": {
   "codemirror_mode": {
    "name": "ipython",
    "version": 3
   },
   "file_extension": ".py",
   "mimetype": "text/x-python",
   "name": "python",
   "nbconvert_exporter": "python",
   "pygments_lexer": "ipython3",
   "version": "3.11.5"
  }
 },
 "nbformat": 4,
 "nbformat_minor": 5
}
