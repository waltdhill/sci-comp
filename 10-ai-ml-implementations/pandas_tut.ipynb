{
 "cells": [
  {
   "cell_type": "markdown",
   "id": "ef64d90e",
   "metadata": {},
   "source": [
    "# Pandas tricks"
   ]
  },
  {
   "cell_type": "markdown",
   "id": "b40845f1",
   "metadata": {},
   "source": [
    "## Imports and loads"
   ]
  },
  {
   "cell_type": "code",
   "execution_count": 1,
   "id": "ff12e77d",
   "metadata": {},
   "outputs": [
    {
     "name": "stderr",
     "output_type": "stream",
     "text": [
      "/var/folders/q8/ngs87hxs20bgtqz6tx31wks40000gn/T/ipykernel_72718/2578782927.py:8: FutureWarning: The default value of regex will change from True to False in a future version. In addition, single character regular expressions will *not* be treated as literal strings when regex=True.\n",
      "  orders['item_price'] = orders.item_price.str.replace('$', '').astype('float')\n"
     ]
    }
   ],
   "source": [
    "import pandas as pd\n",
    "import numpy as np\n",
    "import sys\n",
    "\n",
    "drinks = pd.read_csv('http://bit.ly/drinksbycountry')\n",
    "movies = pd.read_csv('http://bit.ly/imdbratings')\n",
    "orders = pd.read_csv('http://bit.ly/chiporders', sep='\\t')\n",
    "orders['item_price'] = orders.item_price.str.replace('$', '').astype('float')\n",
    "stocks = pd.read_csv('http://bit.ly/smallstocks', parse_dates=['Date'])\n",
    "titanic = pd.read_csv('http://bit.ly/kaggletrain')\n",
    "ufo = pd.read_csv('http://bit.ly/uforeports', parse_dates=['Time'])"
   ]
  },
  {
   "cell_type": "code",
   "execution_count": 2,
   "id": "e62057f8",
   "metadata": {},
   "outputs": [
    {
     "data": {
      "text/html": [
       "<div>\n",
       "<style scoped>\n",
       "    .dataframe tbody tr th:only-of-type {\n",
       "        vertical-align: middle;\n",
       "    }\n",
       "\n",
       "    .dataframe tbody tr th {\n",
       "        vertical-align: top;\n",
       "    }\n",
       "\n",
       "    .dataframe thead th {\n",
       "        text-align: right;\n",
       "    }\n",
       "</style>\n",
       "<table border=\"1\" class=\"dataframe\">\n",
       "  <thead>\n",
       "    <tr style=\"text-align: right;\">\n",
       "      <th></th>\n",
       "      <th>country</th>\n",
       "      <th>beer_servings</th>\n",
       "      <th>spirit_servings</th>\n",
       "      <th>wine_servings</th>\n",
       "      <th>total_litres_of_pure_alcohol</th>\n",
       "      <th>continent</th>\n",
       "    </tr>\n",
       "  </thead>\n",
       "  <tbody>\n",
       "    <tr>\n",
       "      <th>0</th>\n",
       "      <td>Afghanistan</td>\n",
       "      <td>0</td>\n",
       "      <td>0</td>\n",
       "      <td>0</td>\n",
       "      <td>0.0</td>\n",
       "      <td>Asia</td>\n",
       "    </tr>\n",
       "    <tr>\n",
       "      <th>1</th>\n",
       "      <td>Albania</td>\n",
       "      <td>89</td>\n",
       "      <td>132</td>\n",
       "      <td>54</td>\n",
       "      <td>4.9</td>\n",
       "      <td>Europe</td>\n",
       "    </tr>\n",
       "    <tr>\n",
       "      <th>2</th>\n",
       "      <td>Algeria</td>\n",
       "      <td>25</td>\n",
       "      <td>0</td>\n",
       "      <td>14</td>\n",
       "      <td>0.7</td>\n",
       "      <td>Africa</td>\n",
       "    </tr>\n",
       "    <tr>\n",
       "      <th>3</th>\n",
       "      <td>Andorra</td>\n",
       "      <td>245</td>\n",
       "      <td>138</td>\n",
       "      <td>312</td>\n",
       "      <td>12.4</td>\n",
       "      <td>Europe</td>\n",
       "    </tr>\n",
       "    <tr>\n",
       "      <th>4</th>\n",
       "      <td>Angola</td>\n",
       "      <td>217</td>\n",
       "      <td>57</td>\n",
       "      <td>45</td>\n",
       "      <td>5.9</td>\n",
       "      <td>Africa</td>\n",
       "    </tr>\n",
       "    <tr>\n",
       "      <th>...</th>\n",
       "      <td>...</td>\n",
       "      <td>...</td>\n",
       "      <td>...</td>\n",
       "      <td>...</td>\n",
       "      <td>...</td>\n",
       "      <td>...</td>\n",
       "    </tr>\n",
       "    <tr>\n",
       "      <th>188</th>\n",
       "      <td>Venezuela</td>\n",
       "      <td>333</td>\n",
       "      <td>100</td>\n",
       "      <td>3</td>\n",
       "      <td>7.7</td>\n",
       "      <td>South America</td>\n",
       "    </tr>\n",
       "    <tr>\n",
       "      <th>189</th>\n",
       "      <td>Vietnam</td>\n",
       "      <td>111</td>\n",
       "      <td>2</td>\n",
       "      <td>1</td>\n",
       "      <td>2.0</td>\n",
       "      <td>Asia</td>\n",
       "    </tr>\n",
       "    <tr>\n",
       "      <th>190</th>\n",
       "      <td>Yemen</td>\n",
       "      <td>6</td>\n",
       "      <td>0</td>\n",
       "      <td>0</td>\n",
       "      <td>0.1</td>\n",
       "      <td>Asia</td>\n",
       "    </tr>\n",
       "    <tr>\n",
       "      <th>191</th>\n",
       "      <td>Zambia</td>\n",
       "      <td>32</td>\n",
       "      <td>19</td>\n",
       "      <td>4</td>\n",
       "      <td>2.5</td>\n",
       "      <td>Africa</td>\n",
       "    </tr>\n",
       "    <tr>\n",
       "      <th>192</th>\n",
       "      <td>Zimbabwe</td>\n",
       "      <td>64</td>\n",
       "      <td>18</td>\n",
       "      <td>4</td>\n",
       "      <td>4.7</td>\n",
       "      <td>Africa</td>\n",
       "    </tr>\n",
       "  </tbody>\n",
       "</table>\n",
       "<p>193 rows × 6 columns</p>\n",
       "</div>"
      ],
      "text/plain": [
       "         country  beer_servings  spirit_servings  wine_servings  \\\n",
       "0    Afghanistan              0                0              0   \n",
       "1        Albania             89              132             54   \n",
       "2        Algeria             25                0             14   \n",
       "3        Andorra            245              138            312   \n",
       "4         Angola            217               57             45   \n",
       "..           ...            ...              ...            ...   \n",
       "188    Venezuela            333              100              3   \n",
       "189      Vietnam            111                2              1   \n",
       "190        Yemen              6                0              0   \n",
       "191       Zambia             32               19              4   \n",
       "192     Zimbabwe             64               18              4   \n",
       "\n",
       "     total_litres_of_pure_alcohol      continent  \n",
       "0                             0.0           Asia  \n",
       "1                             4.9         Europe  \n",
       "2                             0.7         Africa  \n",
       "3                            12.4         Europe  \n",
       "4                             5.9         Africa  \n",
       "..                            ...            ...  \n",
       "188                           7.7  South America  \n",
       "189                           2.0           Asia  \n",
       "190                           0.1           Asia  \n",
       "191                           2.5         Africa  \n",
       "192                           4.7         Africa  \n",
       "\n",
       "[193 rows x 6 columns]"
      ]
     },
     "execution_count": 2,
     "metadata": {},
     "output_type": "execute_result"
    }
   ],
   "source": [
    "drinks"
   ]
  },
  {
   "cell_type": "markdown",
   "id": "1141f404",
   "metadata": {},
   "source": [
    "## 1. Show installed versions"
   ]
  },
  {
   "cell_type": "code",
   "execution_count": 3,
   "id": "f82a7771",
   "metadata": {},
   "outputs": [
    {
     "data": {
      "text/plain": [
       "'1.5.3'"
      ]
     },
     "execution_count": 3,
     "metadata": {},
     "output_type": "execute_result"
    }
   ],
   "source": [
    "pd.__version__"
   ]
  },
  {
   "cell_type": "code",
   "execution_count": 4,
   "id": "b5b2556e",
   "metadata": {},
   "outputs": [
    {
     "name": "stderr",
     "output_type": "stream",
     "text": [
      "/Users/waltdhill/anaconda3/lib/python3.11/site-packages/_distutils_hack/__init__.py:33: UserWarning: Setuptools is replacing distutils.\n",
      "  warnings.warn(\"Setuptools is replacing distutils.\")\n"
     ]
    },
    {
     "name": "stdout",
     "output_type": "stream",
     "text": [
      "\n",
      "INSTALLED VERSIONS\n",
      "------------------\n",
      "commit           : 2e218d10984e9919f0296931d92ea851c6a6faf5\n",
      "python           : 3.11.4.final.0\n",
      "python-bits      : 64\n",
      "OS               : Darwin\n",
      "OS-release       : 22.6.0\n",
      "Version          : Darwin Kernel Version 22.6.0: Wed Jul  5 22:22:05 PDT 2023; root:xnu-8796.141.3~6/RELEASE_ARM64_T6000\n",
      "machine          : arm64\n",
      "processor        : arm\n",
      "byteorder        : little\n",
      "LC_ALL           : None\n",
      "LANG             : en_US.UTF-8\n",
      "LOCALE           : en_US.UTF-8\n",
      "\n",
      "pandas           : 1.5.3\n",
      "numpy            : 1.24.3\n",
      "pytz             : 2022.7\n",
      "dateutil         : 2.8.2\n",
      "setuptools       : 68.0.0\n",
      "pip              : 23.2.1\n",
      "Cython           : None\n",
      "pytest           : 7.4.0\n",
      "hypothesis       : None\n",
      "sphinx           : 5.0.2\n",
      "blosc            : None\n",
      "feather          : None\n",
      "xlsxwriter       : None\n",
      "lxml.etree       : 4.9.2\n",
      "html5lib         : None\n",
      "pymysql          : None\n",
      "psycopg2         : None\n",
      "jinja2           : 3.1.2\n",
      "IPython          : 8.12.0\n",
      "pandas_datareader: None\n",
      "bs4              : 4.12.2\n",
      "bottleneck       : 1.3.5\n",
      "brotli           : \n",
      "fastparquet      : None\n",
      "fsspec           : 2023.4.0\n",
      "gcsfs            : None\n",
      "matplotlib       : 3.7.1\n",
      "numba            : 0.57.0\n",
      "numexpr          : 2.8.4\n",
      "odfpy            : None\n",
      "openpyxl         : 3.0.10\n",
      "pandas_gbq       : None\n",
      "pyarrow          : 11.0.0\n",
      "pyreadstat       : None\n",
      "pyxlsb           : None\n",
      "s3fs             : 2023.4.0\n",
      "scipy            : 1.10.1\n",
      "snappy           : \n",
      "sqlalchemy       : 1.4.39\n",
      "tables           : 3.8.0\n",
      "tabulate         : 0.8.10\n",
      "xarray           : 2023.6.0\n",
      "xlrd             : None\n",
      "xlwt             : None\n",
      "zstandard        : 0.19.0\n",
      "tzdata           : None\n"
     ]
    }
   ],
   "source": [
    "pd.show_versions()"
   ]
  },
  {
   "cell_type": "markdown",
   "id": "cc23aef9",
   "metadata": {},
   "source": [
    "## 2. Create example DataFrame"
   ]
  },
  {
   "cell_type": "code",
   "execution_count": 5,
   "id": "5b8081a8",
   "metadata": {},
   "outputs": [
    {
     "data": {
      "text/html": [
       "<div>\n",
       "<style scoped>\n",
       "    .dataframe tbody tr th:only-of-type {\n",
       "        vertical-align: middle;\n",
       "    }\n",
       "\n",
       "    .dataframe tbody tr th {\n",
       "        vertical-align: top;\n",
       "    }\n",
       "\n",
       "    .dataframe thead th {\n",
       "        text-align: right;\n",
       "    }\n",
       "</style>\n",
       "<table border=\"1\" class=\"dataframe\">\n",
       "  <thead>\n",
       "    <tr style=\"text-align: right;\">\n",
       "      <th></th>\n",
       "      <th>col one</th>\n",
       "      <th>col two</th>\n",
       "    </tr>\n",
       "  </thead>\n",
       "  <tbody>\n",
       "    <tr>\n",
       "      <th>0</th>\n",
       "      <td>100</td>\n",
       "      <td>300</td>\n",
       "    </tr>\n",
       "    <tr>\n",
       "      <th>1</th>\n",
       "      <td>200</td>\n",
       "      <td>400</td>\n",
       "    </tr>\n",
       "  </tbody>\n",
       "</table>\n",
       "</div>"
      ],
      "text/plain": [
       "   col one  col two\n",
       "0      100      300\n",
       "1      200      400"
      ]
     },
     "execution_count": 5,
     "metadata": {},
     "output_type": "execute_result"
    }
   ],
   "source": [
    "# pass dict to df constructor (keys: col names, vals: col values)\n",
    "df = pd.DataFrame({'col one':[100, 200], 'col two':[300,400]})\n",
    "df"
   ]
  },
  {
   "cell_type": "code",
   "execution_count": 6,
   "id": "b07f78ab",
   "metadata": {},
   "outputs": [
    {
     "data": {
      "text/html": [
       "<div>\n",
       "<style scoped>\n",
       "    .dataframe tbody tr th:only-of-type {\n",
       "        vertical-align: middle;\n",
       "    }\n",
       "\n",
       "    .dataframe tbody tr th {\n",
       "        vertical-align: top;\n",
       "    }\n",
       "\n",
       "    .dataframe thead th {\n",
       "        text-align: right;\n",
       "    }\n",
       "</style>\n",
       "<table border=\"1\" class=\"dataframe\">\n",
       "  <thead>\n",
       "    <tr style=\"text-align: right;\">\n",
       "      <th></th>\n",
       "      <th>0</th>\n",
       "      <th>1</th>\n",
       "      <th>2</th>\n",
       "      <th>3</th>\n",
       "      <th>4</th>\n",
       "      <th>5</th>\n",
       "      <th>6</th>\n",
       "      <th>7</th>\n",
       "    </tr>\n",
       "  </thead>\n",
       "  <tbody>\n",
       "    <tr>\n",
       "      <th>0</th>\n",
       "      <td>0.958061</td>\n",
       "      <td>0.009644</td>\n",
       "      <td>0.299252</td>\n",
       "      <td>0.910880</td>\n",
       "      <td>0.811590</td>\n",
       "      <td>0.237765</td>\n",
       "      <td>0.876224</td>\n",
       "      <td>0.830121</td>\n",
       "    </tr>\n",
       "    <tr>\n",
       "      <th>1</th>\n",
       "      <td>0.423970</td>\n",
       "      <td>0.452116</td>\n",
       "      <td>0.985319</td>\n",
       "      <td>0.834499</td>\n",
       "      <td>0.696304</td>\n",
       "      <td>0.546614</td>\n",
       "      <td>0.107490</td>\n",
       "      <td>0.319395</td>\n",
       "    </tr>\n",
       "    <tr>\n",
       "      <th>2</th>\n",
       "      <td>0.816652</td>\n",
       "      <td>0.774675</td>\n",
       "      <td>0.376044</td>\n",
       "      <td>0.961606</td>\n",
       "      <td>0.277969</td>\n",
       "      <td>0.286934</td>\n",
       "      <td>0.627846</td>\n",
       "      <td>0.945031</td>\n",
       "    </tr>\n",
       "    <tr>\n",
       "      <th>3</th>\n",
       "      <td>0.689089</td>\n",
       "      <td>0.910921</td>\n",
       "      <td>0.449506</td>\n",
       "      <td>0.542686</td>\n",
       "      <td>0.287365</td>\n",
       "      <td>0.457639</td>\n",
       "      <td>0.859405</td>\n",
       "      <td>0.702474</td>\n",
       "    </tr>\n",
       "  </tbody>\n",
       "</table>\n",
       "</div>"
      ],
      "text/plain": [
       "          0         1         2         3         4         5         6  \\\n",
       "0  0.958061  0.009644  0.299252  0.910880  0.811590  0.237765  0.876224   \n",
       "1  0.423970  0.452116  0.985319  0.834499  0.696304  0.546614  0.107490   \n",
       "2  0.816652  0.774675  0.376044  0.961606  0.277969  0.286934  0.627846   \n",
       "3  0.689089  0.910921  0.449506  0.542686  0.287365  0.457639  0.859405   \n",
       "\n",
       "          7  \n",
       "0  0.830121  \n",
       "1  0.319395  \n",
       "2  0.945031  \n",
       "3  0.702474  "
      ]
     },
     "execution_count": 6,
     "metadata": {},
     "output_type": "execute_result"
    }
   ],
   "source": [
    "# df with random data: 4 rows, 8 cols\n",
    "pd.DataFrame(np.random.rand(4,8))"
   ]
  },
  {
   "cell_type": "code",
   "execution_count": 7,
   "id": "8f368aa8",
   "metadata": {},
   "outputs": [
    {
     "data": {
      "text/html": [
       "<div>\n",
       "<style scoped>\n",
       "    .dataframe tbody tr th:only-of-type {\n",
       "        vertical-align: middle;\n",
       "    }\n",
       "\n",
       "    .dataframe tbody tr th {\n",
       "        vertical-align: top;\n",
       "    }\n",
       "\n",
       "    .dataframe thead th {\n",
       "        text-align: right;\n",
       "    }\n",
       "</style>\n",
       "<table border=\"1\" class=\"dataframe\">\n",
       "  <thead>\n",
       "    <tr style=\"text-align: right;\">\n",
       "      <th></th>\n",
       "      <th>a</th>\n",
       "      <th>b</th>\n",
       "      <th>c</th>\n",
       "      <th>d</th>\n",
       "      <th>e</th>\n",
       "      <th>f</th>\n",
       "      <th>g</th>\n",
       "      <th>h</th>\n",
       "    </tr>\n",
       "  </thead>\n",
       "  <tbody>\n",
       "    <tr>\n",
       "      <th>0</th>\n",
       "      <td>0.072120</td>\n",
       "      <td>0.548323</td>\n",
       "      <td>0.378999</td>\n",
       "      <td>0.262035</td>\n",
       "      <td>0.845129</td>\n",
       "      <td>0.568944</td>\n",
       "      <td>0.672540</td>\n",
       "      <td>0.573422</td>\n",
       "    </tr>\n",
       "    <tr>\n",
       "      <th>1</th>\n",
       "      <td>0.338757</td>\n",
       "      <td>0.875614</td>\n",
       "      <td>0.874313</td>\n",
       "      <td>0.956775</td>\n",
       "      <td>0.141946</td>\n",
       "      <td>0.352549</td>\n",
       "      <td>0.907067</td>\n",
       "      <td>0.380009</td>\n",
       "    </tr>\n",
       "    <tr>\n",
       "      <th>2</th>\n",
       "      <td>0.585934</td>\n",
       "      <td>0.307951</td>\n",
       "      <td>0.506194</td>\n",
       "      <td>0.025954</td>\n",
       "      <td>0.228574</td>\n",
       "      <td>0.552369</td>\n",
       "      <td>0.560069</td>\n",
       "      <td>0.603971</td>\n",
       "    </tr>\n",
       "    <tr>\n",
       "      <th>3</th>\n",
       "      <td>0.554587</td>\n",
       "      <td>0.754093</td>\n",
       "      <td>0.184804</td>\n",
       "      <td>0.969621</td>\n",
       "      <td>0.912512</td>\n",
       "      <td>0.991443</td>\n",
       "      <td>0.556100</td>\n",
       "      <td>0.127457</td>\n",
       "    </tr>\n",
       "  </tbody>\n",
       "</table>\n",
       "</div>"
      ],
      "text/plain": [
       "          a         b         c         d         e         f         g  \\\n",
       "0  0.072120  0.548323  0.378999  0.262035  0.845129  0.568944  0.672540   \n",
       "1  0.338757  0.875614  0.874313  0.956775  0.141946  0.352549  0.907067   \n",
       "2  0.585934  0.307951  0.506194  0.025954  0.228574  0.552369  0.560069   \n",
       "3  0.554587  0.754093  0.184804  0.969621  0.912512  0.991443  0.556100   \n",
       "\n",
       "          h  \n",
       "0  0.573422  \n",
       "1  0.380009  \n",
       "2  0.603971  \n",
       "3  0.127457  "
      ]
     },
     "execution_count": 7,
     "metadata": {},
     "output_type": "execute_result"
    }
   ],
   "source": [
    "# pass string with 8 chars, those can become col names\n",
    "pd.DataFrame(np.random.rand(4,8), columns=list('abcdefgh'))"
   ]
  },
  {
   "cell_type": "markdown",
   "id": "49201931",
   "metadata": {},
   "source": [
    "## 3. Rename columns"
   ]
  },
  {
   "cell_type": "markdown",
   "id": "78f5f436",
   "metadata": {},
   "source": [
    "### 3.1 Remove whitespace in column names"
   ]
  },
  {
   "cell_type": "code",
   "execution_count": 8,
   "id": "01c1c414",
   "metadata": {},
   "outputs": [
    {
     "data": {
      "text/html": [
       "<div>\n",
       "<style scoped>\n",
       "    .dataframe tbody tr th:only-of-type {\n",
       "        vertical-align: middle;\n",
       "    }\n",
       "\n",
       "    .dataframe tbody tr th {\n",
       "        vertical-align: top;\n",
       "    }\n",
       "\n",
       "    .dataframe thead th {\n",
       "        text-align: right;\n",
       "    }\n",
       "</style>\n",
       "<table border=\"1\" class=\"dataframe\">\n",
       "  <thead>\n",
       "    <tr style=\"text-align: right;\">\n",
       "      <th></th>\n",
       "      <th>col one</th>\n",
       "      <th>col two</th>\n",
       "    </tr>\n",
       "  </thead>\n",
       "  <tbody>\n",
       "    <tr>\n",
       "      <th>0</th>\n",
       "      <td>100</td>\n",
       "      <td>300</td>\n",
       "    </tr>\n",
       "    <tr>\n",
       "      <th>1</th>\n",
       "      <td>200</td>\n",
       "      <td>400</td>\n",
       "    </tr>\n",
       "  </tbody>\n",
       "</table>\n",
       "</div>"
      ],
      "text/plain": [
       "   col one  col two\n",
       "0      100      300\n",
       "1      200      400"
      ]
     },
     "execution_count": 8,
     "metadata": {},
     "output_type": "execute_result"
    }
   ],
   "source": [
    "df = pd.DataFrame({'col one':[100, 200], 'col two':[300,400]}) # reset df\n",
    "df"
   ]
  },
  {
   "cell_type": "markdown",
   "id": "4a50e769",
   "metadata": {},
   "source": [
    "#### Three subtly different methods\n",
    "\n",
    "These three methods have identical results (remove the whitespace), but each is suited to a subtly different case:\n",
    "\n",
    "1.  Pass a dictionary of column names. Good for renaming **any number of columns**.\n",
    "2.  Overwrite `.columns` attribute. Good for **renaming all columns**\n",
    "3.  **Replace a specific character** in all column names using the `.str.replace(<from>, <to>)` method"
   ]
  },
  {
   "cell_type": "code",
   "execution_count": 9,
   "id": "149df35a",
   "metadata": {},
   "outputs": [
    {
     "name": "stdout",
     "output_type": "stream",
     "text": [
      "opt 3:\n"
     ]
    },
    {
     "data": {
      "text/html": [
       "<div>\n",
       "<style scoped>\n",
       "    .dataframe tbody tr th:only-of-type {\n",
       "        vertical-align: middle;\n",
       "    }\n",
       "\n",
       "    .dataframe tbody tr th {\n",
       "        vertical-align: top;\n",
       "    }\n",
       "\n",
       "    .dataframe thead th {\n",
       "        text-align: right;\n",
       "    }\n",
       "</style>\n",
       "<table border=\"1\" class=\"dataframe\">\n",
       "  <thead>\n",
       "    <tr style=\"text-align: right;\">\n",
       "      <th></th>\n",
       "      <th>col_one</th>\n",
       "      <th>col_two</th>\n",
       "    </tr>\n",
       "  </thead>\n",
       "  <tbody>\n",
       "    <tr>\n",
       "      <th>0</th>\n",
       "      <td>100</td>\n",
       "      <td>300</td>\n",
       "    </tr>\n",
       "    <tr>\n",
       "      <th>1</th>\n",
       "      <td>200</td>\n",
       "      <td>400</td>\n",
       "    </tr>\n",
       "  </tbody>\n",
       "</table>\n",
       "</div>"
      ],
      "text/plain": [
       "   col_one  col_two\n",
       "0      100      300\n",
       "1      200      400"
      ]
     },
     "execution_count": 9,
     "metadata": {},
     "output_type": "execute_result"
    }
   ],
   "source": [
    "option = 3 # user \n",
    "\n",
    "df = pd.DataFrame({'col one':[100, 200], 'col two':[300,400]}) # reset df\n",
    "\n",
    "if option == 1:\n",
    "    # pass dict to rename: (keys: old col names, vals: new col names). specify axis.\n",
    "    # can RENAME ANY NUMBER of columns\n",
    "    print('opt 1:')\n",
    "    df = df.rename({'col one':'col_one', 'col two':'col_two'}, axis='columns')\n",
    "\n",
    "elif option == 2:\n",
    "    print('opt 2:')\n",
    "    # to RENAME ALL COLUMNS at once (overwrite .columns attribute)\n",
    "    df.columns = ['col_one', 'col_two']\n",
    "\n",
    "elif option == 3:\n",
    "    print('opt 3:')\n",
    "    # to REPLACE CHARACTER in column names (space -> underscore)\n",
    "    df.columns = df.columns.str.replace(' ', '_')\n",
    "\n",
    "df"
   ]
  },
  {
   "cell_type": "markdown",
   "id": "8e3dc3ca",
   "metadata": {},
   "source": [
    "### 3.2. Add prefix or suffix to all column names"
   ]
  },
  {
   "cell_type": "code",
   "execution_count": 10,
   "id": "b018b138",
   "metadata": {},
   "outputs": [
    {
     "data": {
      "text/html": [
       "<div>\n",
       "<style scoped>\n",
       "    .dataframe tbody tr th:only-of-type {\n",
       "        vertical-align: middle;\n",
       "    }\n",
       "\n",
       "    .dataframe tbody tr th {\n",
       "        vertical-align: top;\n",
       "    }\n",
       "\n",
       "    .dataframe thead th {\n",
       "        text-align: right;\n",
       "    }\n",
       "</style>\n",
       "<table border=\"1\" class=\"dataframe\">\n",
       "  <thead>\n",
       "    <tr style=\"text-align: right;\">\n",
       "      <th></th>\n",
       "      <th>X_col_one_Y</th>\n",
       "      <th>X_col_two_Y</th>\n",
       "    </tr>\n",
       "  </thead>\n",
       "  <tbody>\n",
       "    <tr>\n",
       "      <th>0</th>\n",
       "      <td>100</td>\n",
       "      <td>300</td>\n",
       "    </tr>\n",
       "    <tr>\n",
       "      <th>1</th>\n",
       "      <td>200</td>\n",
       "      <td>400</td>\n",
       "    </tr>\n",
       "  </tbody>\n",
       "</table>\n",
       "</div>"
      ],
      "text/plain": [
       "   X_col_one_Y  X_col_two_Y\n",
       "0          100          300\n",
       "1          200          400"
      ]
     },
     "execution_count": 10,
     "metadata": {},
     "output_type": "execute_result"
    }
   ],
   "source": [
    "# prefixes and suffixes can obviously be added individually\n",
    "df.add_prefix('X_').add_suffix('_Y')\n",
    "# df.add_suffix('_Y')"
   ]
  },
  {
   "cell_type": "markdown",
   "id": "367cc2d6",
   "metadata": {},
   "source": [
    "## 4. Reverse..."
   ]
  },
  {
   "cell_type": "markdown",
   "id": "ea9c1307",
   "metadata": {},
   "source": [
    "### 4.1 Reverse row order"
   ]
  },
  {
   "cell_type": "code",
   "execution_count": 11,
   "id": "208c5cb9",
   "metadata": {},
   "outputs": [
    {
     "data": {
      "text/html": [
       "<div>\n",
       "<style scoped>\n",
       "    .dataframe tbody tr th:only-of-type {\n",
       "        vertical-align: middle;\n",
       "    }\n",
       "\n",
       "    .dataframe tbody tr th {\n",
       "        vertical-align: top;\n",
       "    }\n",
       "\n",
       "    .dataframe thead th {\n",
       "        text-align: right;\n",
       "    }\n",
       "</style>\n",
       "<table border=\"1\" class=\"dataframe\">\n",
       "  <thead>\n",
       "    <tr style=\"text-align: right;\">\n",
       "      <th></th>\n",
       "      <th>country</th>\n",
       "      <th>beer_servings</th>\n",
       "      <th>spirit_servings</th>\n",
       "      <th>wine_servings</th>\n",
       "      <th>total_litres_of_pure_alcohol</th>\n",
       "      <th>continent</th>\n",
       "    </tr>\n",
       "  </thead>\n",
       "  <tbody>\n",
       "    <tr>\n",
       "      <th>0</th>\n",
       "      <td>Afghanistan</td>\n",
       "      <td>0</td>\n",
       "      <td>0</td>\n",
       "      <td>0</td>\n",
       "      <td>0.0</td>\n",
       "      <td>Asia</td>\n",
       "    </tr>\n",
       "    <tr>\n",
       "      <th>1</th>\n",
       "      <td>Albania</td>\n",
       "      <td>89</td>\n",
       "      <td>132</td>\n",
       "      <td>54</td>\n",
       "      <td>4.9</td>\n",
       "      <td>Europe</td>\n",
       "    </tr>\n",
       "    <tr>\n",
       "      <th>2</th>\n",
       "      <td>Algeria</td>\n",
       "      <td>25</td>\n",
       "      <td>0</td>\n",
       "      <td>14</td>\n",
       "      <td>0.7</td>\n",
       "      <td>Africa</td>\n",
       "    </tr>\n",
       "    <tr>\n",
       "      <th>3</th>\n",
       "      <td>Andorra</td>\n",
       "      <td>245</td>\n",
       "      <td>138</td>\n",
       "      <td>312</td>\n",
       "      <td>12.4</td>\n",
       "      <td>Europe</td>\n",
       "    </tr>\n",
       "    <tr>\n",
       "      <th>4</th>\n",
       "      <td>Angola</td>\n",
       "      <td>217</td>\n",
       "      <td>57</td>\n",
       "      <td>45</td>\n",
       "      <td>5.9</td>\n",
       "      <td>Africa</td>\n",
       "    </tr>\n",
       "  </tbody>\n",
       "</table>\n",
       "</div>"
      ],
      "text/plain": [
       "       country  beer_servings  spirit_servings  wine_servings  \\\n",
       "0  Afghanistan              0                0              0   \n",
       "1      Albania             89              132             54   \n",
       "2      Algeria             25                0             14   \n",
       "3      Andorra            245              138            312   \n",
       "4       Angola            217               57             45   \n",
       "\n",
       "   total_litres_of_pure_alcohol continent  \n",
       "0                           0.0      Asia  \n",
       "1                           4.9    Europe  \n",
       "2                           0.7    Africa  \n",
       "3                          12.4    Europe  \n",
       "4                           5.9    Africa  "
      ]
     },
     "execution_count": 11,
     "metadata": {},
     "output_type": "execute_result"
    }
   ],
   "source": [
    "# average alcohol consumption by country\n",
    "drinks.head()"
   ]
  },
  {
   "cell_type": "code",
   "execution_count": 12,
   "id": "a028c9e1",
   "metadata": {},
   "outputs": [
    {
     "name": "stdout",
     "output_type": "stream",
     "text": [
      "opt 1\n"
     ]
    },
    {
     "data": {
      "text/html": [
       "<div>\n",
       "<style scoped>\n",
       "    .dataframe tbody tr th:only-of-type {\n",
       "        vertical-align: middle;\n",
       "    }\n",
       "\n",
       "    .dataframe tbody tr th {\n",
       "        vertical-align: top;\n",
       "    }\n",
       "\n",
       "    .dataframe thead th {\n",
       "        text-align: right;\n",
       "    }\n",
       "</style>\n",
       "<table border=\"1\" class=\"dataframe\">\n",
       "  <thead>\n",
       "    <tr style=\"text-align: right;\">\n",
       "      <th></th>\n",
       "      <th>country</th>\n",
       "      <th>beer_servings</th>\n",
       "      <th>spirit_servings</th>\n",
       "      <th>wine_servings</th>\n",
       "      <th>total_litres_of_pure_alcohol</th>\n",
       "      <th>continent</th>\n",
       "    </tr>\n",
       "  </thead>\n",
       "  <tbody>\n",
       "    <tr>\n",
       "      <th>192</th>\n",
       "      <td>Zimbabwe</td>\n",
       "      <td>64</td>\n",
       "      <td>18</td>\n",
       "      <td>4</td>\n",
       "      <td>4.7</td>\n",
       "      <td>Africa</td>\n",
       "    </tr>\n",
       "    <tr>\n",
       "      <th>191</th>\n",
       "      <td>Zambia</td>\n",
       "      <td>32</td>\n",
       "      <td>19</td>\n",
       "      <td>4</td>\n",
       "      <td>2.5</td>\n",
       "      <td>Africa</td>\n",
       "    </tr>\n",
       "    <tr>\n",
       "      <th>190</th>\n",
       "      <td>Yemen</td>\n",
       "      <td>6</td>\n",
       "      <td>0</td>\n",
       "      <td>0</td>\n",
       "      <td>0.1</td>\n",
       "      <td>Asia</td>\n",
       "    </tr>\n",
       "    <tr>\n",
       "      <th>189</th>\n",
       "      <td>Vietnam</td>\n",
       "      <td>111</td>\n",
       "      <td>2</td>\n",
       "      <td>1</td>\n",
       "      <td>2.0</td>\n",
       "      <td>Asia</td>\n",
       "    </tr>\n",
       "    <tr>\n",
       "      <th>188</th>\n",
       "      <td>Venezuela</td>\n",
       "      <td>333</td>\n",
       "      <td>100</td>\n",
       "      <td>3</td>\n",
       "      <td>7.7</td>\n",
       "      <td>South America</td>\n",
       "    </tr>\n",
       "  </tbody>\n",
       "</table>\n",
       "</div>"
      ],
      "text/plain": [
       "       country  beer_servings  spirit_servings  wine_servings  \\\n",
       "192   Zimbabwe             64               18              4   \n",
       "191     Zambia             32               19              4   \n",
       "190      Yemen              6                0              0   \n",
       "189    Vietnam            111                2              1   \n",
       "188  Venezuela            333              100              3   \n",
       "\n",
       "     total_litres_of_pure_alcohol      continent  \n",
       "192                           4.7         Africa  \n",
       "191                           2.5         Africa  \n",
       "190                           0.1           Asia  \n",
       "189                           2.0           Asia  \n",
       "188                           7.7  South America  "
      ]
     },
     "execution_count": 12,
     "metadata": {},
     "output_type": "execute_result"
    }
   ],
   "source": [
    "option = 1 # user\n",
    "\n",
    "if option == 1:\n",
    "    # Reverse order without resetting index \n",
    "    print('opt 1')\n",
    "    df_temp = drinks.loc[::-1]\n",
    "    \n",
    "elif option == 2:\n",
    "    # Reset the index col\n",
    "    # drop=False would save the original index as a new column (instead of dropping)\n",
    "    print('opt 2:')\n",
    "    df_temp = drinks.loc[::-1].reset_index(drop=True)\n",
    "\n",
    "df_temp.head()"
   ]
  },
  {
   "cell_type": "markdown",
   "id": "13760a58",
   "metadata": {},
   "source": [
    "#### Notes\n",
    "-   The slicing notation to reverse a dataframe's rows in `.loc` above is identical to reversing rows of a python list\n",
    "-   With `.loc`, \"all columns\" are selected by default and don't need to be indexed in the slice\n",
    "    -   i.e. `drinks.loc[::-1,:]` would work, but the `,:` is redundant!"
   ]
  },
  {
   "cell_type": "markdown",
   "id": "a84e67fc",
   "metadata": {},
   "source": [
    "### 4.2 Reverse column order\n",
    "**Note, however,** the `:'` is required in `.loc` and cannot be omitted\n",
    "\n",
    "-   i.e. while \"all columns\" are selected implicitly (by default) in `.loc`,\n",
    "-   **\"all rows\" must be explicitly selected in the index**"
   ]
  },
  {
   "cell_type": "code",
   "execution_count": 13,
   "id": "a50e569b",
   "metadata": {},
   "outputs": [
    {
     "data": {
      "text/html": [
       "<div>\n",
       "<style scoped>\n",
       "    .dataframe tbody tr th:only-of-type {\n",
       "        vertical-align: middle;\n",
       "    }\n",
       "\n",
       "    .dataframe tbody tr th {\n",
       "        vertical-align: top;\n",
       "    }\n",
       "\n",
       "    .dataframe thead th {\n",
       "        text-align: right;\n",
       "    }\n",
       "</style>\n",
       "<table border=\"1\" class=\"dataframe\">\n",
       "  <thead>\n",
       "    <tr style=\"text-align: right;\">\n",
       "      <th></th>\n",
       "      <th>continent</th>\n",
       "      <th>total_litres_of_pure_alcohol</th>\n",
       "      <th>wine_servings</th>\n",
       "      <th>spirit_servings</th>\n",
       "      <th>beer_servings</th>\n",
       "      <th>country</th>\n",
       "    </tr>\n",
       "  </thead>\n",
       "  <tbody>\n",
       "    <tr>\n",
       "      <th>0</th>\n",
       "      <td>Asia</td>\n",
       "      <td>0.0</td>\n",
       "      <td>0</td>\n",
       "      <td>0</td>\n",
       "      <td>0</td>\n",
       "      <td>Afghanistan</td>\n",
       "    </tr>\n",
       "    <tr>\n",
       "      <th>1</th>\n",
       "      <td>Europe</td>\n",
       "      <td>4.9</td>\n",
       "      <td>54</td>\n",
       "      <td>132</td>\n",
       "      <td>89</td>\n",
       "      <td>Albania</td>\n",
       "    </tr>\n",
       "    <tr>\n",
       "      <th>2</th>\n",
       "      <td>Africa</td>\n",
       "      <td>0.7</td>\n",
       "      <td>14</td>\n",
       "      <td>0</td>\n",
       "      <td>25</td>\n",
       "      <td>Algeria</td>\n",
       "    </tr>\n",
       "    <tr>\n",
       "      <th>3</th>\n",
       "      <td>Europe</td>\n",
       "      <td>12.4</td>\n",
       "      <td>312</td>\n",
       "      <td>138</td>\n",
       "      <td>245</td>\n",
       "      <td>Andorra</td>\n",
       "    </tr>\n",
       "    <tr>\n",
       "      <th>4</th>\n",
       "      <td>Africa</td>\n",
       "      <td>5.9</td>\n",
       "      <td>45</td>\n",
       "      <td>57</td>\n",
       "      <td>217</td>\n",
       "      <td>Angola</td>\n",
       "    </tr>\n",
       "  </tbody>\n",
       "</table>\n",
       "</div>"
      ],
      "text/plain": [
       "  continent  total_litres_of_pure_alcohol  wine_servings  spirit_servings  \\\n",
       "0      Asia                           0.0              0                0   \n",
       "1    Europe                           4.9             54              132   \n",
       "2    Africa                           0.7             14                0   \n",
       "3    Europe                          12.4            312              138   \n",
       "4    Africa                           5.9             45               57   \n",
       "\n",
       "   beer_servings      country  \n",
       "0              0  Afghanistan  \n",
       "1             89      Albania  \n",
       "2             25      Algeria  \n",
       "3            245      Andorra  \n",
       "4            217       Angola  "
      ]
     },
     "execution_count": 13,
     "metadata": {},
     "output_type": "execute_result"
    }
   ],
   "source": [
    "drinks.loc[:, ::-1].head()"
   ]
  },
  {
   "cell_type": "markdown",
   "id": "52f98e97",
   "metadata": {},
   "source": [
    "## 5. Select columns by data type..."
   ]
  },
  {
   "cell_type": "code",
   "execution_count": 14,
   "id": "7f9891ee",
   "metadata": {},
   "outputs": [
    {
     "data": {
      "text/plain": [
       "country                          object\n",
       "beer_servings                     int64\n",
       "spirit_servings                   int64\n",
       "wine_servings                     int64\n",
       "total_litres_of_pure_alcohol    float64\n",
       "continent                        object\n",
       "dtype: object"
      ]
     },
     "execution_count": 14,
     "metadata": {},
     "output_type": "execute_result"
    }
   ],
   "source": [
    "drinks.dtypes # view all data types in the df"
   ]
  },
  {
   "cell_type": "markdown",
   "id": "cd9495c8",
   "metadata": {},
   "source": [
    "##### Using `.select_dtypes` to select columns by data type\n",
    "\n",
    "1.  `include='number'` includes columns with both int and float types\n",
    "2.  `include='object'` selects objects (e.g. string cols)\n",
    "3.  list of data types desired\n",
    "4.  `exclude='number'` excludes the type you don't want"
   ]
  },
  {
   "cell_type": "code",
   "execution_count": 15,
   "id": "47ecb3c3",
   "metadata": {},
   "outputs": [
    {
     "name": "stdout",
     "output_type": "stream",
     "text": [
      "opt 1\n"
     ]
    },
    {
     "data": {
      "text/html": [
       "<div>\n",
       "<style scoped>\n",
       "    .dataframe tbody tr th:only-of-type {\n",
       "        vertical-align: middle;\n",
       "    }\n",
       "\n",
       "    .dataframe tbody tr th {\n",
       "        vertical-align: top;\n",
       "    }\n",
       "\n",
       "    .dataframe thead th {\n",
       "        text-align: right;\n",
       "    }\n",
       "</style>\n",
       "<table border=\"1\" class=\"dataframe\">\n",
       "  <thead>\n",
       "    <tr style=\"text-align: right;\">\n",
       "      <th></th>\n",
       "      <th>beer_servings</th>\n",
       "      <th>spirit_servings</th>\n",
       "      <th>wine_servings</th>\n",
       "      <th>total_litres_of_pure_alcohol</th>\n",
       "    </tr>\n",
       "  </thead>\n",
       "  <tbody>\n",
       "    <tr>\n",
       "      <th>0</th>\n",
       "      <td>0</td>\n",
       "      <td>0</td>\n",
       "      <td>0</td>\n",
       "      <td>0.0</td>\n",
       "    </tr>\n",
       "    <tr>\n",
       "      <th>1</th>\n",
       "      <td>89</td>\n",
       "      <td>132</td>\n",
       "      <td>54</td>\n",
       "      <td>4.9</td>\n",
       "    </tr>\n",
       "    <tr>\n",
       "      <th>2</th>\n",
       "      <td>25</td>\n",
       "      <td>0</td>\n",
       "      <td>14</td>\n",
       "      <td>0.7</td>\n",
       "    </tr>\n",
       "    <tr>\n",
       "      <th>3</th>\n",
       "      <td>245</td>\n",
       "      <td>138</td>\n",
       "      <td>312</td>\n",
       "      <td>12.4</td>\n",
       "    </tr>\n",
       "    <tr>\n",
       "      <th>4</th>\n",
       "      <td>217</td>\n",
       "      <td>57</td>\n",
       "      <td>45</td>\n",
       "      <td>5.9</td>\n",
       "    </tr>\n",
       "  </tbody>\n",
       "</table>\n",
       "</div>"
      ],
      "text/plain": [
       "   beer_servings  spirit_servings  wine_servings  total_litres_of_pure_alcohol\n",
       "0              0                0              0                           0.0\n",
       "1             89              132             54                           4.9\n",
       "2             25                0             14                           0.7\n",
       "3            245              138            312                          12.4\n",
       "4            217               57             45                           5.9"
      ]
     },
     "execution_count": 15,
     "metadata": {},
     "output_type": "execute_result"
    }
   ],
   "source": [
    "option = 1 # user\n",
    "\n",
    "if option == 1:\n",
    "    # only numeric data (int and float)\n",
    "    print('opt 1')\n",
    "    df_temp = drinks.select_dtypes(include='number')\n",
    "    \n",
    "elif option == 2:\n",
    "    print('opt 2')\n",
    "    # only string data (e.g. strings)\n",
    "    df_temp = drinks.select_dtypes(include='object')\n",
    "    \n",
    "elif option == 3:\n",
    "    # list of desired data types to include\n",
    "    print('opt 3')\n",
    "    df_temp = drinks.select_dtypes(include=['number', 'object', 'category', 'datetime'])\n",
    "\n",
    "elif option == 4:\n",
    "    # list of desired data types to exclude\n",
    "    print('opt 4')\n",
    "    df_temp = drinks.select_dtypes(exclude='number')\n",
    "\n",
    "df_temp.head()"
   ]
  },
  {
   "cell_type": "markdown",
   "id": "fbe9f773",
   "metadata": {},
   "source": [
    "## 6. Convert strings to numbers using `.astype()`"
   ]
  },
  {
   "cell_type": "code",
   "execution_count": 16,
   "id": "1355ae63",
   "metadata": {},
   "outputs": [
    {
     "data": {
      "text/plain": [
       "col_one      object\n",
       "col_two      object\n",
       "col_three    object\n",
       "dtype: object"
      ]
     },
     "execution_count": 16,
     "metadata": {},
     "output_type": "execute_result"
    }
   ],
   "source": [
    "df = pd.DataFrame({'col_one':['1.1', '2.2', '3.3'],\n",
    "                   'col_two':['4.4', '5.5', '6.6'],\n",
    "                   'col_three':['7.7', '8.8', '-']})\n",
    "df.dtypes # all 'objects' since the numbers are stored as strings"
   ]
  },
  {
   "cell_type": "markdown",
   "id": "15cf8a89",
   "metadata": {},
   "source": [
    "##### Change dtypes with `.astype()` or `to_numeric` - the latter can also deal with _type_ errors\n",
    "\n",
    "###### Notes about `.astype()`:\n",
    "-   It is applied on the **entire dataframe** here\n",
    "-   Changes are **not made in place**"
   ]
  },
  {
   "cell_type": "code",
   "execution_count": 17,
   "id": "84571eb3",
   "metadata": {},
   "outputs": [
    {
     "data": {
      "text/plain": [
       "col_one      float64\n",
       "col_two      float64\n",
       "col_three     object\n",
       "dtype: object"
      ]
     },
     "execution_count": 17,
     "metadata": {},
     "output_type": "execute_result"
    }
   ],
   "source": [
    "# change data types for COMPLETE columns by passing a dict col_name:var_type\n",
    "df.astype({'col_one':'float', 'col_two':'float'}).dtypes"
   ]
  },
  {
   "cell_type": "markdown",
   "id": "169b059e",
   "metadata": {},
   "source": [
    "###### Note `to_numeric()` **also does not update values in place** just like `.astype()`"
   ]
  },
  {
   "cell_type": "code",
   "execution_count": 18,
   "id": "0eb9105c",
   "metadata": {},
   "outputs": [
    {
     "data": {
      "text/plain": [
       "0    7.7\n",
       "1    8.8\n",
       "2    0.0\n",
       "Name: col_three, dtype: float64"
      ]
     },
     "execution_count": 18,
     "metadata": {},
     "output_type": "execute_result"
    }
   ],
   "source": [
    "# third col contains a '-'. pd cannot deal with this. use to_numeric() to handle it\n",
    "# OUTPUT: SERIES\n",
    "pd.to_numeric(df.col_three, errors='coerce') # changes \"errors\" to NaNs\n",
    "pd.to_numeric(df.col_three, errors='coerce').fillna(0) # makes NaNs to 0s"
   ]
  },
  {
   "cell_type": "markdown",
   "id": "07105b06",
   "metadata": {},
   "source": [
    "#### Use `.apply()` to apply the `to_numeric()`\n",
    "-   All dtypes converted to float\n",
    "-   All errors managed (replaced with 0s)"
   ]
  },
  {
   "cell_type": "code",
   "execution_count": 20,
   "id": "79c32587",
   "metadata": {},
   "outputs": [
    {
     "data": {
      "text/plain": [
       "col_one      float64\n",
       "col_two      float64\n",
       "col_three    float64\n",
       "dtype: object"
      ]
     },
     "execution_count": 20,
     "metadata": {},
     "output_type": "execute_result"
    }
   ],
   "source": [
    "df_clean = df.apply(pd.to_numeric, errors='coerce').fillna(0)\n",
    "df_clean.dtypes"
   ]
  },
  {
   "cell_type": "markdown",
   "id": "d13c0b04",
   "metadata": {},
   "source": [
    "# `df.apply(<fn>, <params>)` basically applies the function `fn` with parameters `params` to the entire dataframe `df` <mark style=\"background: #FFF3A3A6;\">Noel very important</mark> \n",
    "\n"
   ]
  },
  {
   "cell_type": "markdown",
   "id": "17b756d5",
   "metadata": {},
   "source": [
    "## 7. Reduce DataFrame size"
   ]
  },
  {
   "cell_type": "code",
   "execution_count": 22,
   "id": "8a221bae",
   "metadata": {},
   "outputs": [
    {
     "name": "stdout",
     "output_type": "stream",
     "text": [
      "<class 'pandas.core.frame.DataFrame'>\n",
      "RangeIndex: 193 entries, 0 to 192\n",
      "Data columns (total 6 columns):\n",
      " #   Column                        Non-Null Count  Dtype  \n",
      "---  ------                        --------------  -----  \n",
      " 0   country                       193 non-null    object \n",
      " 1   beer_servings                 193 non-null    int64  \n",
      " 2   spirit_servings               193 non-null    int64  \n",
      " 3   wine_servings                 193 non-null    int64  \n",
      " 4   total_litres_of_pure_alcohol  193 non-null    float64\n",
      " 5   continent                     193 non-null    object \n",
      "dtypes: float64(1), int64(3), object(2)\n",
      "memory usage: 30.5 KB\n"
     ]
    }
   ],
   "source": [
    "drinks.info(memory_usage='deep') # see usage on memory"
   ]
  },
  {
   "cell_type": "markdown",
   "id": "e8d2f5ba",
   "metadata": {},
   "source": [
    "### 7.1 Only read in desired cols (`usecols` parameter)"
   ]
  },
  {
   "cell_type": "code",
   "execution_count": 23,
   "id": "a3a69fa0",
   "metadata": {},
   "outputs": [
    {
     "name": "stdout",
     "output_type": "stream",
     "text": [
      "<class 'pandas.core.frame.DataFrame'>\n",
      "RangeIndex: 193 entries, 0 to 192\n",
      "Data columns (total 2 columns):\n",
      " #   Column         Non-Null Count  Dtype \n",
      "---  ------         --------------  ----- \n",
      " 0   beer_servings  193 non-null    int64 \n",
      " 1   continent      193 non-null    object\n",
      "dtypes: int64(1), object(1)\n",
      "memory usage: 13.7 KB\n"
     ]
    }
   ],
   "source": [
    "cols = ['beer_servings', 'continent']\n",
    "small_drinks = pd.read_csv('http://bit.ly/drinksbycountry', usecols=cols)\n",
    "small_drinks.info(memory_usage='deep')"
   ]
  },
  {
   "cell_type": "markdown",
   "id": "bdad3289",
   "metadata": {},
   "source": [
    "### 7.2 Convert categorical levels to the \"category\" data type (`dtype` parameter)"
   ]
  },
  {
   "cell_type": "markdown",
   "id": "b4e9cbd4",
   "metadata": {},
   "source": [
    "Be sensible. If there's a small number of categorical levels, instead of leaving them as \"object\" dtype, use a dict to convert them to \"category\" dtype"
   ]
  },
  {
   "cell_type": "code",
   "execution_count": 24,
   "id": "6d258be3",
   "metadata": {},
   "outputs": [
    {
     "name": "stdout",
     "output_type": "stream",
     "text": [
      "<class 'pandas.core.frame.DataFrame'>\n",
      "RangeIndex: 193 entries, 0 to 192\n",
      "Data columns (total 2 columns):\n",
      " #   Column         Non-Null Count  Dtype   \n",
      "---  ------         --------------  -----   \n",
      " 0   beer_servings  193 non-null    int64   \n",
      " 1   continent      193 non-null    category\n",
      "dtypes: category(1), int64(1)\n",
      "memory usage: 2.4 KB\n"
     ]
    }
   ],
   "source": [
    "dtypes = {'continent':'category'} # dict to convert the datatype\n",
    "smaller_drinks = pd.read_csv('http://bit.ly/drinksbycountry', usecols=cols, dtype=dtypes)\n",
    "smaller_drinks.info(memory_usage='deep')"
   ]
  },
  {
   "cell_type": "markdown",
   "id": "ec7251af",
   "metadata": {},
   "source": [
    "### 8. Build a DataFrame from multiple files:"
   ]
  },
  {
   "cell_type": "markdown",
   "id": "b7281741",
   "metadata": {},
   "source": [
    "**Note:** We don't have the necessary files"
   ]
  },
  {
   "cell_type": "markdown",
   "id": "b08b59e0",
   "metadata": {},
   "source": [
    "### 8.1 Row-wise build:"
   ]
  },
  {
   "cell_type": "markdown",
   "id": "66cab93f",
   "metadata": {},
   "source": [
    "In this example, there are 3 `.csv` files, each with 1 day of stock data (i.e. each file has the **same columns**)"
   ]
  },
  {
   "cell_type": "code",
   "execution_count": 25,
   "id": "324e3744",
   "metadata": {},
   "outputs": [],
   "source": [
    "### I don't have these files\n",
    "# pd.read_csv('data/stocks1.csv')\n",
    "# pd.read_csv('data/stocks2.csv')\n",
    "# pd.read_csv('data/stocks3.csv')"
   ]
  },
  {
   "cell_type": "markdown",
   "id": "9571eddf",
   "metadata": {},
   "source": [
    "Do the following:"
   ]
  },
  {
   "cell_type": "code",
   "execution_count": null,
   "id": "bb6d3dfb",
   "metadata": {},
   "outputs": [],
   "source": [
    "from glob import glob\n",
    "\n",
    "# get file names of all CSV files in the data/ directory starting with the word stocks\n",
    "stock_files = sorted(glob('data/stocks*.csv'))\n",
    "\n",
    "# concatenate these iteratively (generator (in-line) function). \n",
    "# Ignore index to delete original file indices\n",
    "# Note, the axis by default is row!\n",
    "pd.concat((pd.read_csv(file) for file in stock_files), ignore_index=True)"
   ]
  },
  {
   "cell_type": "markdown",
   "id": "c65ba10d",
   "metadata": {},
   "source": [
    "### 8.2 Column-wise build:"
   ]
  },
  {
   "cell_type": "markdown",
   "id": "17239391",
   "metadata": {},
   "source": [
    "Here, each file contains information about the same rows, but **different columns** from the data"
   ]
  },
  {
   "cell_type": "code",
   "execution_count": null,
   "id": "0bc2e4a3",
   "metadata": {},
   "outputs": [],
   "source": [
    "from glob import glob\n",
    "\n",
    "# get file names\n",
    "drink_files = sorted(glob('data/drinks*.csv'))\n",
    "\n",
    "# concatenate iteratively again, this time specifying the axis\n",
    "pd.concat((pd.read_csv(file) for file in drink_files), axis='columns').head()"
   ]
  },
  {
   "cell_type": "markdown",
   "id": "d23388dd",
   "metadata": {},
   "source": [
    "### 8.3 Create a DataFrame from the clipboard"
   ]
  },
  {
   "cell_type": "markdown",
   "id": "3e0f817a",
   "metadata": {},
   "source": [
    "Again, don't have this enabled, but pandas is **smart** it can figure out dtypes and even the index column"
   ]
  },
  {
   "cell_type": "code",
   "execution_count": null,
   "id": "038e940e",
   "metadata": {},
   "outputs": [],
   "source": [
    "df = pd.read_clipboard()\n",
    "df.dtypes\n",
    "df.index"
   ]
  },
  {
   "cell_type": "markdown",
   "id": "121c4713",
   "metadata": {},
   "source": [
    "## 9. Split the DataFrame into two random subsets using the `.sample()` and `.drop()` methods"
   ]
  },
  {
   "cell_type": "markdown",
   "id": "32fa0ea3",
   "metadata": {},
   "source": [
    "Randomly assign 75% of the observations to one dataframe, the other 25% to a second dataframe using the `.sample()` method Note, you can use `.drop()` to drop rows that are in movies_1, and assign the remaining rows to movies_2"
   ]
  },
  {
   "cell_type": "code",
   "execution_count": 27,
   "id": "77ea1f6e",
   "metadata": {},
   "outputs": [],
   "source": [
    "# put a random 75% of rows into movies_1\n",
    "movies_1 = movies.sample(frac=0.75, random_state=1234)\n",
    "\n",
    "# put the other 25% into movies_2 (use .drop() to drop rows that are in movies_1, and assign the remaining rows to movies_2)\n",
    "movies_2 = movies.drop(movies_1.index)"
   ]
  },
  {
   "cell_type": "markdown",
   "id": "1b864892",
   "metadata": {},
   "source": [
    "CHECK all observations are accounted for"
   ]
  },
  {
   "cell_type": "code",
   "execution_count": 28,
   "id": "90044de9",
   "metadata": {},
   "outputs": [
    {
     "name": "stdout",
     "output_type": "stream",
     "text": [
      "True\n",
      "Int64Index([  0,   2,   5,   6,   7,   8,   9,  11,  13,  16,\n",
      "            ...\n",
      "            966, 967, 969, 971, 972, 974, 975, 976, 977, 978],\n",
      "           dtype='int64', length=734)\n",
      "Int64Index([  1,   3,   4,  10,  12,  14,  15,  18,  26,  30,\n",
      "            ...\n",
      "            931, 934, 937, 941, 950, 954, 960, 968, 970, 973],\n",
      "           dtype='int64', length=245)\n"
     ]
    }
   ],
   "source": [
    "print(len(movies) == len(movies_1) + len(movies_2))\n",
    "print(movies_1.index.sort_values()) # looking at the index numbers...\n",
    "print(movies_2.index.sort_values()) # ... we see ALL are accounted for!"
   ]
  },
  {
   "cell_type": "markdown",
   "id": "ec0a51f2",
   "metadata": {},
   "source": [
    "Note, indices must be unique for this to work"
   ]
  },
  {
   "cell_type": "markdown",
   "id": "f6bde6ee",
   "metadata": {},
   "source": [
    "## 10. Filtering DataFrames (i.e. creating masks)"
   ]
  },
  {
   "cell_type": "markdown",
   "id": "050a253e",
   "metadata": {},
   "source": [
    "Use the movies DataFrame for this example"
   ]
  },
  {
   "cell_type": "markdown",
   "id": "8343a920",
   "metadata": {},
   "source": [
    "### 10.1 By multiple categories"
   ]
  },
  {
   "cell_type": "code",
   "execution_count": 29,
   "id": "4c6e90c6",
   "metadata": {},
   "outputs": [
    {
     "data": {
      "text/html": [
       "<div>\n",
       "<style scoped>\n",
       "    .dataframe tbody tr th:only-of-type {\n",
       "        vertical-align: middle;\n",
       "    }\n",
       "\n",
       "    .dataframe tbody tr th {\n",
       "        vertical-align: top;\n",
       "    }\n",
       "\n",
       "    .dataframe thead th {\n",
       "        text-align: right;\n",
       "    }\n",
       "</style>\n",
       "<table border=\"1\" class=\"dataframe\">\n",
       "  <thead>\n",
       "    <tr style=\"text-align: right;\">\n",
       "      <th></th>\n",
       "      <th>star_rating</th>\n",
       "      <th>title</th>\n",
       "      <th>content_rating</th>\n",
       "      <th>genre</th>\n",
       "      <th>duration</th>\n",
       "      <th>actors_list</th>\n",
       "    </tr>\n",
       "  </thead>\n",
       "  <tbody>\n",
       "    <tr>\n",
       "      <th>0</th>\n",
       "      <td>9.3</td>\n",
       "      <td>The Shawshank Redemption</td>\n",
       "      <td>R</td>\n",
       "      <td>Crime</td>\n",
       "      <td>142</td>\n",
       "      <td>[u'Tim Robbins', u'Morgan Freeman', u'Bob Gunt...</td>\n",
       "    </tr>\n",
       "    <tr>\n",
       "      <th>1</th>\n",
       "      <td>9.2</td>\n",
       "      <td>The Godfather</td>\n",
       "      <td>R</td>\n",
       "      <td>Crime</td>\n",
       "      <td>175</td>\n",
       "      <td>[u'Marlon Brando', u'Al Pacino', u'James Caan']</td>\n",
       "    </tr>\n",
       "    <tr>\n",
       "      <th>2</th>\n",
       "      <td>9.1</td>\n",
       "      <td>The Godfather: Part II</td>\n",
       "      <td>R</td>\n",
       "      <td>Crime</td>\n",
       "      <td>200</td>\n",
       "      <td>[u'Al Pacino', u'Robert De Niro', u'Robert Duv...</td>\n",
       "    </tr>\n",
       "    <tr>\n",
       "      <th>3</th>\n",
       "      <td>9.0</td>\n",
       "      <td>The Dark Knight</td>\n",
       "      <td>PG-13</td>\n",
       "      <td>Action</td>\n",
       "      <td>152</td>\n",
       "      <td>[u'Christian Bale', u'Heath Ledger', u'Aaron E...</td>\n",
       "    </tr>\n",
       "    <tr>\n",
       "      <th>4</th>\n",
       "      <td>8.9</td>\n",
       "      <td>Pulp Fiction</td>\n",
       "      <td>R</td>\n",
       "      <td>Crime</td>\n",
       "      <td>154</td>\n",
       "      <td>[u'John Travolta', u'Uma Thurman', u'Samuel L....</td>\n",
       "    </tr>\n",
       "  </tbody>\n",
       "</table>\n",
       "</div>"
      ],
      "text/plain": [
       "   star_rating                     title content_rating   genre  duration  \\\n",
       "0          9.3  The Shawshank Redemption              R   Crime       142   \n",
       "1          9.2             The Godfather              R   Crime       175   \n",
       "2          9.1    The Godfather: Part II              R   Crime       200   \n",
       "3          9.0           The Dark Knight          PG-13  Action       152   \n",
       "4          8.9              Pulp Fiction              R   Crime       154   \n",
       "\n",
       "                                         actors_list  \n",
       "0  [u'Tim Robbins', u'Morgan Freeman', u'Bob Gunt...  \n",
       "1    [u'Marlon Brando', u'Al Pacino', u'James Caan']  \n",
       "2  [u'Al Pacino', u'Robert De Niro', u'Robert Duv...  \n",
       "3  [u'Christian Bale', u'Heath Ledger', u'Aaron E...  \n",
       "4  [u'John Travolta', u'Uma Thurman', u'Samuel L....  "
      ]
     },
     "execution_count": 29,
     "metadata": {},
     "output_type": "execute_result"
    }
   ],
   "source": [
    "# inspect the dataframe\n",
    "movies.head()"
   ]
  },
  {
   "cell_type": "code",
   "execution_count": 30,
   "id": "18462eea",
   "metadata": {},
   "outputs": [
    {
     "data": {
      "text/plain": [
       "array(['Crime', 'Action', 'Drama', 'Western', 'Adventure', 'Biography',\n",
       "       'Comedy', 'Animation', 'Mystery', 'Horror', 'Film-Noir', 'Sci-Fi',\n",
       "       'History', 'Thriller', 'Family', 'Fantasy'], dtype=object)"
      ]
     },
     "execution_count": 30,
     "metadata": {},
     "output_type": "execute_result"
    }
   ],
   "source": [
    "# Inspect the genre variable's unique values:\n",
    "# NOTE, these are identical statements\n",
    "movies['genre'].unique()\n",
    "movies.genre.unique()"
   ]
  },
  {
   "cell_type": "markdown",
   "id": "d2c55f9c",
   "metadata": {},
   "source": [
    "# **Create a mask to filter data (by multiple categories) using the `.isin([\"A\", \"B\"])` method**"
   ]
  },
  {
   "cell_type": "code",
   "execution_count": 31,
   "id": "e8107ac3",
   "metadata": {},
   "outputs": [
    {
     "data": {
      "text/html": [
       "<div>\n",
       "<style scoped>\n",
       "    .dataframe tbody tr th:only-of-type {\n",
       "        vertical-align: middle;\n",
       "    }\n",
       "\n",
       "    .dataframe tbody tr th {\n",
       "        vertical-align: top;\n",
       "    }\n",
       "\n",
       "    .dataframe thead th {\n",
       "        text-align: right;\n",
       "    }\n",
       "</style>\n",
       "<table border=\"1\" class=\"dataframe\">\n",
       "  <thead>\n",
       "    <tr style=\"text-align: right;\">\n",
       "      <th></th>\n",
       "      <th>star_rating</th>\n",
       "      <th>title</th>\n",
       "      <th>content_rating</th>\n",
       "      <th>genre</th>\n",
       "      <th>duration</th>\n",
       "      <th>actors_list</th>\n",
       "    </tr>\n",
       "  </thead>\n",
       "  <tbody>\n",
       "    <tr>\n",
       "      <th>3</th>\n",
       "      <td>9.0</td>\n",
       "      <td>The Dark Knight</td>\n",
       "      <td>PG-13</td>\n",
       "      <td>Action</td>\n",
       "      <td>152</td>\n",
       "      <td>[u'Christian Bale', u'Heath Ledger', u'Aaron E...</td>\n",
       "    </tr>\n",
       "    <tr>\n",
       "      <th>5</th>\n",
       "      <td>8.9</td>\n",
       "      <td>12 Angry Men</td>\n",
       "      <td>NOT RATED</td>\n",
       "      <td>Drama</td>\n",
       "      <td>96</td>\n",
       "      <td>[u'Henry Fonda', u'Lee J. Cobb', u'Martin Bals...</td>\n",
       "    </tr>\n",
       "    <tr>\n",
       "      <th>6</th>\n",
       "      <td>8.9</td>\n",
       "      <td>The Good, the Bad and the Ugly</td>\n",
       "      <td>NOT RATED</td>\n",
       "      <td>Western</td>\n",
       "      <td>161</td>\n",
       "      <td>[u'Clint Eastwood', u'Eli Wallach', u'Lee Van ...</td>\n",
       "    </tr>\n",
       "    <tr>\n",
       "      <th>9</th>\n",
       "      <td>8.9</td>\n",
       "      <td>Fight Club</td>\n",
       "      <td>R</td>\n",
       "      <td>Drama</td>\n",
       "      <td>139</td>\n",
       "      <td>[u'Brad Pitt', u'Edward Norton', u'Helena Bonh...</td>\n",
       "    </tr>\n",
       "    <tr>\n",
       "      <th>11</th>\n",
       "      <td>8.8</td>\n",
       "      <td>Inception</td>\n",
       "      <td>PG-13</td>\n",
       "      <td>Action</td>\n",
       "      <td>148</td>\n",
       "      <td>[u'Leonardo DiCaprio', u'Joseph Gordon-Levitt'...</td>\n",
       "    </tr>\n",
       "  </tbody>\n",
       "</table>\n",
       "</div>"
      ],
      "text/plain": [
       "    star_rating                           title content_rating    genre  \\\n",
       "3           9.0                 The Dark Knight          PG-13   Action   \n",
       "5           8.9                    12 Angry Men      NOT RATED    Drama   \n",
       "6           8.9  The Good, the Bad and the Ugly      NOT RATED  Western   \n",
       "9           8.9                      Fight Club              R    Drama   \n",
       "11          8.8                       Inception          PG-13   Action   \n",
       "\n",
       "    duration                                        actors_list  \n",
       "3        152  [u'Christian Bale', u'Heath Ledger', u'Aaron E...  \n",
       "5         96  [u'Henry Fonda', u'Lee J. Cobb', u'Martin Bals...  \n",
       "6        161  [u'Clint Eastwood', u'Eli Wallach', u'Lee Van ...  \n",
       "9        139  [u'Brad Pitt', u'Edward Norton', u'Helena Bonh...  \n",
       "11       148  [u'Leonardo DiCaprio', u'Joseph Gordon-Levitt'...  "
      ]
     },
     "execution_count": 31,
     "metadata": {},
     "output_type": "execute_result"
    }
   ],
   "source": [
    "# Noel important\n",
    "# create (initialise) the mask\n",
    "favourite_genres_mask = movies.genre.isin([\"Action\", \"Drama\", \"Western\"])\n",
    "\n",
    "# apply mask filter the data\n",
    "movies[favourite_genres_mask].head()"
   ]
  },
  {
   "cell_type": "code",
   "execution_count": 32,
   "id": "fb9ae30d",
   "metadata": {},
   "outputs": [
    {
     "data": {
      "text/html": [
       "<div>\n",
       "<style scoped>\n",
       "    .dataframe tbody tr th:only-of-type {\n",
       "        vertical-align: middle;\n",
       "    }\n",
       "\n",
       "    .dataframe tbody tr th {\n",
       "        vertical-align: top;\n",
       "    }\n",
       "\n",
       "    .dataframe thead th {\n",
       "        text-align: right;\n",
       "    }\n",
       "</style>\n",
       "<table border=\"1\" class=\"dataframe\">\n",
       "  <thead>\n",
       "    <tr style=\"text-align: right;\">\n",
       "      <th></th>\n",
       "      <th>star_rating</th>\n",
       "      <th>title</th>\n",
       "      <th>content_rating</th>\n",
       "      <th>genre</th>\n",
       "      <th>duration</th>\n",
       "      <th>actors_list</th>\n",
       "    </tr>\n",
       "  </thead>\n",
       "  <tbody>\n",
       "    <tr>\n",
       "      <th>0</th>\n",
       "      <td>9.3</td>\n",
       "      <td>The Shawshank Redemption</td>\n",
       "      <td>R</td>\n",
       "      <td>Crime</td>\n",
       "      <td>142</td>\n",
       "      <td>[u'Tim Robbins', u'Morgan Freeman', u'Bob Gunt...</td>\n",
       "    </tr>\n",
       "    <tr>\n",
       "      <th>1</th>\n",
       "      <td>9.2</td>\n",
       "      <td>The Godfather</td>\n",
       "      <td>R</td>\n",
       "      <td>Crime</td>\n",
       "      <td>175</td>\n",
       "      <td>[u'Marlon Brando', u'Al Pacino', u'James Caan']</td>\n",
       "    </tr>\n",
       "    <tr>\n",
       "      <th>2</th>\n",
       "      <td>9.1</td>\n",
       "      <td>The Godfather: Part II</td>\n",
       "      <td>R</td>\n",
       "      <td>Crime</td>\n",
       "      <td>200</td>\n",
       "      <td>[u'Al Pacino', u'Robert De Niro', u'Robert Duv...</td>\n",
       "    </tr>\n",
       "    <tr>\n",
       "      <th>4</th>\n",
       "      <td>8.9</td>\n",
       "      <td>Pulp Fiction</td>\n",
       "      <td>R</td>\n",
       "      <td>Crime</td>\n",
       "      <td>154</td>\n",
       "      <td>[u'John Travolta', u'Uma Thurman', u'Samuel L....</td>\n",
       "    </tr>\n",
       "    <tr>\n",
       "      <th>7</th>\n",
       "      <td>8.9</td>\n",
       "      <td>The Lord of the Rings: The Return of the King</td>\n",
       "      <td>PG-13</td>\n",
       "      <td>Adventure</td>\n",
       "      <td>201</td>\n",
       "      <td>[u'Elijah Wood', u'Viggo Mortensen', u'Ian McK...</td>\n",
       "    </tr>\n",
       "  </tbody>\n",
       "</table>\n",
       "</div>"
      ],
      "text/plain": [
       "   star_rating                                          title content_rating  \\\n",
       "0          9.3                       The Shawshank Redemption              R   \n",
       "1          9.2                                  The Godfather              R   \n",
       "2          9.1                         The Godfather: Part II              R   \n",
       "4          8.9                                   Pulp Fiction              R   \n",
       "7          8.9  The Lord of the Rings: The Return of the King          PG-13   \n",
       "\n",
       "       genre  duration                                        actors_list  \n",
       "0      Crime       142  [u'Tim Robbins', u'Morgan Freeman', u'Bob Gunt...  \n",
       "1      Crime       175    [u'Marlon Brando', u'Al Pacino', u'James Caan']  \n",
       "2      Crime       200  [u'Al Pacino', u'Robert De Niro', u'Robert Duv...  \n",
       "4      Crime       154  [u'John Travolta', u'Uma Thurman', u'Samuel L....  \n",
       "7  Adventure       201  [u'Elijah Wood', u'Viggo Mortensen', u'Ian McK...  "
      ]
     },
     "execution_count": 32,
     "metadata": {},
     "output_type": "execute_result"
    }
   ],
   "source": [
    "# apply the reverse filter (exclude my favourite movies)\n",
    "movies[~favourite_genres_mask].head()"
   ]
  },
  {
   "cell_type": "markdown",
   "id": "9fdbccff",
   "metadata": {},
   "source": [
    "### 10.2 By largest categories (use the `.value_counts()` and `.nlargest()` functions)"
   ]
  },
  {
   "cell_type": "markdown",
   "id": "41a5347b",
   "metadata": {},
   "source": [
    "In this example, we are only interested in the **3 largest genres**"
   ]
  },
  {
   "cell_type": "code",
   "execution_count": 33,
   "id": "6eee1e89",
   "metadata": {},
   "outputs": [
    {
     "name": "stdout",
     "output_type": "stream",
     "text": [
      "Drama        278\n",
      "Comedy       156\n",
      "Action       136\n",
      "Crime        124\n",
      "Biography     77\n",
      "Adventure     75\n",
      "Animation     62\n",
      "Horror        29\n",
      "Mystery       16\n",
      "Western        9\n",
      "Sci-Fi         5\n",
      "Thriller       5\n",
      "Film-Noir      3\n",
      "Family         2\n",
      "History        1\n",
      "Fantasy        1\n",
      "Name: genre, dtype: int64\n",
      "\n",
      "3 largest genres:\n",
      "Drama     278\n",
      "Comedy    156\n",
      "Action    136\n",
      "Name: genre, dtype: int64\n"
     ]
    }
   ],
   "source": [
    "# select the 3 largest categories \n",
    "counts = movies.genre.value_counts()\n",
    "print(counts)\n",
    "print('\\n3 largest genres:')\n",
    "print(counts.nlargest(3))"
   ]
  },
  {
   "cell_type": "markdown",
   "id": "52d20cab",
   "metadata": {},
   "source": [
    "#### In reality, our mask only needs the index of this new series (i.e. list with names of the 3 largest genres)"
   ]
  },
  {
   "cell_type": "code",
   "execution_count": 34,
   "id": "84c1d0e8",
   "metadata": {},
   "outputs": [
    {
     "name": "stdout",
     "output_type": "stream",
     "text": [
      "Index(['Drama', 'Comedy', 'Action'], dtype='object')\n"
     ]
    },
    {
     "data": {
      "text/html": [
       "<div>\n",
       "<style scoped>\n",
       "    .dataframe tbody tr th:only-of-type {\n",
       "        vertical-align: middle;\n",
       "    }\n",
       "\n",
       "    .dataframe tbody tr th {\n",
       "        vertical-align: top;\n",
       "    }\n",
       "\n",
       "    .dataframe thead th {\n",
       "        text-align: right;\n",
       "    }\n",
       "</style>\n",
       "<table border=\"1\" class=\"dataframe\">\n",
       "  <thead>\n",
       "    <tr style=\"text-align: right;\">\n",
       "      <th></th>\n",
       "      <th>star_rating</th>\n",
       "      <th>title</th>\n",
       "      <th>content_rating</th>\n",
       "      <th>genre</th>\n",
       "      <th>duration</th>\n",
       "      <th>actors_list</th>\n",
       "    </tr>\n",
       "  </thead>\n",
       "  <tbody>\n",
       "    <tr>\n",
       "      <th>3</th>\n",
       "      <td>9.0</td>\n",
       "      <td>The Dark Knight</td>\n",
       "      <td>PG-13</td>\n",
       "      <td>Action</td>\n",
       "      <td>152</td>\n",
       "      <td>[u'Christian Bale', u'Heath Ledger', u'Aaron E...</td>\n",
       "    </tr>\n",
       "    <tr>\n",
       "      <th>5</th>\n",
       "      <td>8.9</td>\n",
       "      <td>12 Angry Men</td>\n",
       "      <td>NOT RATED</td>\n",
       "      <td>Drama</td>\n",
       "      <td>96</td>\n",
       "      <td>[u'Henry Fonda', u'Lee J. Cobb', u'Martin Bals...</td>\n",
       "    </tr>\n",
       "    <tr>\n",
       "      <th>9</th>\n",
       "      <td>8.9</td>\n",
       "      <td>Fight Club</td>\n",
       "      <td>R</td>\n",
       "      <td>Drama</td>\n",
       "      <td>139</td>\n",
       "      <td>[u'Brad Pitt', u'Edward Norton', u'Helena Bonh...</td>\n",
       "    </tr>\n",
       "    <tr>\n",
       "      <th>11</th>\n",
       "      <td>8.8</td>\n",
       "      <td>Inception</td>\n",
       "      <td>PG-13</td>\n",
       "      <td>Action</td>\n",
       "      <td>148</td>\n",
       "      <td>[u'Leonardo DiCaprio', u'Joseph Gordon-Levitt'...</td>\n",
       "    </tr>\n",
       "    <tr>\n",
       "      <th>12</th>\n",
       "      <td>8.8</td>\n",
       "      <td>Star Wars: Episode V - The Empire Strikes Back</td>\n",
       "      <td>PG</td>\n",
       "      <td>Action</td>\n",
       "      <td>124</td>\n",
       "      <td>[u'Mark Hamill', u'Harrison Ford', u'Carrie Fi...</td>\n",
       "    </tr>\n",
       "  </tbody>\n",
       "</table>\n",
       "</div>"
      ],
      "text/plain": [
       "    star_rating                                           title  \\\n",
       "3           9.0                                 The Dark Knight   \n",
       "5           8.9                                    12 Angry Men   \n",
       "9           8.9                                      Fight Club   \n",
       "11          8.8                                       Inception   \n",
       "12          8.8  Star Wars: Episode V - The Empire Strikes Back   \n",
       "\n",
       "   content_rating   genre  duration  \\\n",
       "3           PG-13  Action       152   \n",
       "5       NOT RATED   Drama        96   \n",
       "9               R   Drama       139   \n",
       "11          PG-13  Action       148   \n",
       "12             PG  Action       124   \n",
       "\n",
       "                                          actors_list  \n",
       "3   [u'Christian Bale', u'Heath Ledger', u'Aaron E...  \n",
       "5   [u'Henry Fonda', u'Lee J. Cobb', u'Martin Bals...  \n",
       "9   [u'Brad Pitt', u'Edward Norton', u'Helena Bonh...  \n",
       "11  [u'Leonardo DiCaprio', u'Joseph Gordon-Levitt'...  \n",
       "12  [u'Mark Hamill', u'Harrison Ford', u'Carrie Fi...  "
      ]
     },
     "execution_count": 34,
     "metadata": {},
     "output_type": "execute_result"
    }
   ],
   "source": [
    "print(counts.nlargest(3).index)\n",
    "\n",
    "# create mask (Noel important)\n",
    "largest_three_genres_mask = movies.genre.isin(counts.nlargest(3).index)\n",
    "\n",
    "# apply mask to filter the data\n",
    "movies[largest_three_genres_mask].head()"
   ]
  },
  {
   "cell_type": "markdown",
   "id": "9eb07c51",
   "metadata": {},
   "source": [
    "## 11. Handle missing values"
   ]
  },
  {
   "cell_type": "markdown",
   "id": "6e028ee4",
   "metadata": {},
   "source": [
    "### 11.1 To find how many missing values in each column"
   ]
  },
  {
   "cell_type": "markdown",
   "id": "ad4ac76e",
   "metadata": {},
   "source": [
    "### 11.2 Drop columns with missing values"
   ]
  },
  {
   "cell_type": "markdown",
   "id": "9b026399",
   "metadata": {},
   "source": [
    "### 11.3 Drop columns with >10% missing values"
   ]
  },
  {
   "cell_type": "markdown",
   "id": "6702cb21",
   "metadata": {},
   "source": [
    "### 11.4 Drop rows with missing values"
   ]
  },
  {
   "cell_type": "markdown",
   "id": "edfa75a7",
   "metadata": {},
   "source": [
    "## 12. Split a string into multiple columns"
   ]
  },
  {
   "cell_type": "markdown",
   "id": "7cd65381",
   "metadata": {},
   "source": [
    "### 12.1 We can split columns (e.g. first, middle, last name) using the `.str.split()` method"
   ]
  },
  {
   "cell_type": "markdown",
   "id": "1fa5dceb",
   "metadata": {},
   "source": [
    "## 13. Expand a Series of lists into a DataFrame (Noel important section)"
   ]
  },
  {
   "cell_type": "markdown",
   "id": "428eb237",
   "metadata": {},
   "source": [
    "## 14. Aggregations - Noel very important!"
   ]
  },
  {
   "cell_type": "markdown",
   "id": "3e9224f3",
   "metadata": {},
   "source": [
    "### 14.1 Aggregation by multiple functions (use `.groupby()` function)"
   ]
  },
  {
   "cell_type": "markdown",
   "id": "deee4bb4",
   "metadata": {},
   "source": [
    "#### 14.1.1 The total price for every order `.groupby()` on `order_id` _(also see the `.transform()` method in 14.2)_"
   ]
  },
  {
   "cell_type": "markdown",
   "id": "77ba84ba",
   "metadata": {},
   "source": [
    "#### 14.1.2 `.groupby()` is extremely powerful. You can pass several aggregation methods (use `.agg([])` )other than just using `.sum()` <- Noel very important"
   ]
  },
  {
   "cell_type": "markdown",
   "id": "e420a0c9",
   "metadata": {},
   "source": [
    "### 14.2 Combine the output of an aggregation with a DataFrame"
   ]
  },
  {
   "cell_type": "markdown",
   "id": "7eed0b21",
   "metadata": {},
   "source": [
    "## 15. Select a slice of rows and columns"
   ]
  },
  {
   "cell_type": "markdown",
   "id": "5e9d0945",
   "metadata": {},
   "source": [
    "## 16. Reshape a multi-indexed Series using `.unstack()` <- Noel important"
   ]
  },
  {
   "cell_type": "markdown",
   "id": "43279aa8",
   "metadata": {},
   "source": [
    "## 17. Create a pivot table <- Noel very important section"
   ]
  },
  {
   "cell_type": "markdown",
   "id": "4b51e20f",
   "metadata": {},
   "source": [
    "## 18. Convert continuous data into categorical data (bins) using `pd.cut()` <- Noel very important"
   ]
  },
  {
   "cell_type": "markdown",
   "id": "e2730054",
   "metadata": {},
   "source": [
    "## 19. Change display options"
   ]
  },
  {
   "cell_type": "markdown",
   "id": "06680080",
   "metadata": {},
   "source": [
    "## 20. Style a DataFrame"
   ]
  },
  {
   "cell_type": "markdown",
   "id": "8f850391",
   "metadata": {},
   "source": []
  },
  {
   "cell_type": "markdown",
   "id": "50637cad",
   "metadata": {},
   "source": []
  },
  {
   "cell_type": "markdown",
   "id": "315c5bd8",
   "metadata": {},
   "source": []
  },
  {
   "cell_type": "markdown",
   "id": "d6ab8270",
   "metadata": {},
   "source": []
  },
  {
   "cell_type": "markdown",
   "id": "22b5bd0d",
   "metadata": {},
   "source": []
  },
  {
   "cell_type": "markdown",
   "id": "2eb57fe9",
   "metadata": {},
   "source": []
  },
  {
   "cell_type": "markdown",
   "id": "4ef4a85d",
   "metadata": {},
   "source": []
  },
  {
   "cell_type": "markdown",
   "id": "c6054654",
   "metadata": {},
   "source": []
  },
  {
   "cell_type": "markdown",
   "id": "5d927371",
   "metadata": {},
   "source": []
  },
  {
   "cell_type": "markdown",
   "id": "2ee846d1",
   "metadata": {},
   "source": []
  },
  {
   "cell_type": "markdown",
   "id": "5f39bb5d",
   "metadata": {},
   "source": []
  },
  {
   "cell_type": "markdown",
   "id": "77eaccc4",
   "metadata": {},
   "source": []
  },
  {
   "cell_type": "markdown",
   "id": "bfb224d6",
   "metadata": {},
   "source": []
  },
  {
   "cell_type": "markdown",
   "id": "080bd449",
   "metadata": {},
   "source": []
  },
  {
   "cell_type": "markdown",
   "id": "c007e9ce",
   "metadata": {},
   "source": []
  }
 ],
 "metadata": {
  "kernelspec": {
   "display_name": "Python 3 (ipykernel)",
   "language": "python",
   "name": "python3"
  },
  "language_info": {
   "codemirror_mode": {
    "name": "ipython",
    "version": 3
   },
   "file_extension": ".py",
   "mimetype": "text/x-python",
   "name": "python",
   "nbconvert_exporter": "python",
   "pygments_lexer": "ipython3",
   "version": "3.11.4"
  }
 },
 "nbformat": 4,
 "nbformat_minor": 5
}
