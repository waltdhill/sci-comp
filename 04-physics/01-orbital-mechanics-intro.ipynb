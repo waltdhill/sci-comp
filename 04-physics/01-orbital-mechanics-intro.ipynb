{
 "cells": [
  {
   "cell_type": "markdown",
   "metadata": {},
   "source": [
    "# Orbital mechanics intro"
   ]
  },
  {
   "cell_type": "markdown",
   "metadata": {
    "vscode": {
     "languageId": "plaintext"
    }
   },
   "source": [
    "## Topics:\n",
    "\n",
    "- Kepler's laws\n",
    "    - First law: The orbit of a planet is an ellipse with the Sun at one of the two foci.\n",
    "    - Second law: A line segment joining a planet and the Sun sweeps out equal areas during equal intervals of time.\n",
    "    - Third law: The square of the orbital period of a planet is directly proportional to the cube of the semi-major axis of its orbit.\n",
    "- Newton's laws\n",
    "    - Gravitation\n",
    "    - Motion\n",
    "    - Energy conservation\n",
    "    - Angular momentum\n",
    "- Important equations:\n",
    "    - Mechanical energy = Kinetic energy + Potential energy\n",
    "    - Kinetic energy = 1/2 * m * v^2\n",
    "    - Potential energy = - G * m1 * m2 / r\n",
    "        - G = 6.67430 * 10^-11 m^3 kg^-1 s^-2\n",
    "    - Centripetal force = m * v^2 / r\n",
    "        - Circular velocity = sqrt(G * m / r)\n",
    "- Geometry\n",
    "    - Elipse\n",
    "- Orbits\n",
    "    - Circular\n",
    "    - Elliptical\n",
    "- Hohmann transfer\n",
    "    - Transfer orbit\n",
    "    - Transfer time\n",
    "    - Transfer delta-v \n",
    "- Lagrange points\n",
    "- "
   ]
  },
  {
   "cell_type": "markdown",
   "metadata": {},
   "source": [
    "## 1. Newton's Law of Universal Gravitation\n",
    "\n",
    "### 1.1. Gravitational force\n",
    "The gravitational force $F_g$ attracts two objects (acting as point masses) to each other and is directed along the line connecting the centres of the objects masses. $F_g$ is proportional to the product of the two masses and inversely proportional to the square of the distance between their centers. \n",
    "\n",
    "It is given by the equation:\n",
    "\n",
    "$$F_g = G\\frac{m_1 m_2}{r^2}$$\n",
    "\n",
    "where:\n",
    "- $F_g$ is the gravitational force between the two objects (Newtons, $\\text{N}$);\n",
    "- $G$ is the Newtonian constant of gravitation ($6.674×10^{−11} \\: \\text{m}^3\\text{kg}^{−1}\\text{s}^{−2}$);\n",
    "- $m_1$ is the first (conventionally larger) mass (kilograms, $\\text{kg}$);\n",
    "- $m_2$ is the second (conventionally smaller) mass (kilograms, $\\text{kg}$);\n",
    "- $r$ is the distance between the centers of the masses (meters, $\\text{m}$).\n",
    "\n",
    "<img src=\"images/point-mass-attraction.png\" alt=\"Point masses\" width=\"300px\">"
   ]
  },
  {
   "cell_type": "markdown",
   "metadata": {},
   "source": [
    "### 1.2. Gravitational force as a vector\n",
    "\n",
    "Writing it as a vector equation captures the direction (as well as the magnitude) of the gravitational force:\n",
    "\n",
    "$$\\textbf{F}_{21} = -G\\frac{m_1 m_2}{|\\textbf{r}_{21}|^2} \\hat{\\textbf{r}_{21}} = -G\\frac{m_1 m_2}{|\\textbf{r}_{21}|^3}\\textbf{r}_{21}$$\n",
    "\n",
    "- $\\textbf{F}_{21}$ is the force vector, applied on mass 2 (conventionally, smaller) exerted by mass 1 (conventionally, larger),\n",
    "- $G$ is the gravitational constant,\n",
    "- $m_1$ and $m_2$ are respectively the masses of bodies 1 and 2,\n",
    "- $\\textbf{r}_{21} = \\textbf{r}_{2} - \\textbf{r}_{1}$ is the displacement vector between bodies 1 and 2, and \n",
    "- $\\displaystyle {\\hat {\\mathbf {r} }}_{21}\\ {\\stackrel {\\mathrm {def} }{=}}\\ {\\frac {\\mathbf {r_{2}-r_{1}} }{|\\mathbf {r_{2}-r_{1}} |}}$ is the unit vector from body 1 to body 2\n",
    "\n",
    "#### Notes on direction conventions:\n",
    "\n",
    "- $\\textbf{F}_{21}$ is an attractive force. It is directed in the <mark>**opposite direction of the displacement vector**</mark> $\\textbf{r}_{21}$.\n",
    "- The displacement vector $\\textbf{r}_{21}$ is defined as positive (from the centre of mass 1 to the centre of mass 2). \n",
    "- Therefore the <mark>**force vector**</mark> $\\textbf{F}_{21}$ <mark>is **negative**</mark>."
   ]
  },
  {
   "cell_type": "markdown",
   "metadata": {},
   "source": [
    "## 2. Gravitational potential energy (GPE) $U_g$ is **not** $mgh$\n",
    "\n",
    "The gravitational potential energy $U_g$ is the energy stored in an object due to its position in a gravitational field. \n",
    "\n",
    "It is defined as the **work done by the gravitational force** in: \n",
    "- moving an object (e.g. a satellite, point mass $m_2$) \n",
    "- from a **reference point** (e.g. infinity, $\\infty$) \n",
    "- to a final **given point** in space (e.g. Earth's surface at radius $r$ away from its point mass $m_1$)."
   ]
  },
  {
   "cell_type": "markdown",
   "metadata": {},
   "source": [
    "### 2.1. Gravitational potential energy, using scalars (Newtonian mechanics)\n",
    "\n",
    "- $U_g = mgh$, where the acceleration due to gravity, $g=9.81 \\: \\text{ms}^{-1}$, is only valid for small heights $h$ near the reference point set at the Earth's surface. \n",
    "- When the height $h$ is large (relative to earth's radius), the gravitational acceleration (and hence the gravitational force $F_g$) is not constant. \n",
    "- Thus, the potential energy $U_g$ is not equal to $mgh$.\n",
    "\n",
    "Recall that the magnitude of gravitational force between to objects is given by: $$F_g = G \\frac{m_1 m_2}{r^2}$$\n",
    "\n",
    "- For example, $m_1$ and $m_2$ are the masses of Earth and a satellite, respectively, \n",
    "- and $r$ is the distance between their centers.\n",
    "\n",
    "Hence to bring a point mass $m_2$ (e.g. a satellite) from a reference distance infinity ($\\text{ref}=\\infty$) to a given distance $R$ (e.g. Earth's surface) away from the point mass $m_1$ (e.g. Earth), the work done by the gravitational force is found by integrating Force wrt. distance:\n",
    "\n",
    "$$\n",
    "\\begin{align*}\n",
    "\n",
    "W_g &= F r \\\\\n",
    "d(W_g) &= F dr \\\\\n",
    "W_g &= \\int_{\\infty}^{R} F_g dr \\\\\n",
    "&= \\int_{\\infty}^{R} G \\frac{m_1 m_2}{r^2} dr \\\\\n",
    "&= G m_1 m_2 \\int_{\\infty}^{R} \\frac{1}{r^2} dr \\\\\n",
    "&= G m_1 m_2 \\left[ \\frac{-1}{r} \\right]_{\\infty}^{R} \\\\\n",
    "&= G m_1 m_2 \\left[ \\frac{-1}{R} - \\frac{-1}{\\infty} \\right] \n",
    "\\end{align*}\n",
    "$$\n",
    "\n",
    "Hence the total work done on $m_2$ is the gravitational potential energy, $U_g$:\n",
    "\n",
    "$$ W_g = U_g = -G\\frac{m_1 m_2}{R} $$\n",
    "\n",
    "#### A few notes:\n",
    "\n",
    "- Note that the **negative** sign of $U_g$ indicates that the work done is **against** the gravitational force $F_g$.\n",
    "    - In other words, the **negative** sign indicates the object (e.g. satellite) is bound to the point mass $m_1$ (e.g. Earth) by the gravitational force $F_g$.\n",
    "    - To <mark>**escape**</mark> the gravitational pull of the point mass $m_1$ (e.g. Earth), the object (e.g. satellite) must be <mark>given kinetic energy</mark>, $E_k$, <mark>greater than the magnitude of the potential energy</mark>, $U_g$.\n",
    "\n",
    "#### Example:\n",
    "Given:\n",
    "- Satellite of mass $m_2 = m_{\\text{satellite}} = 4 \\times 10^5 \\: \\text{kg}$, and \n",
    "- Earth with masss $m_1 = m_{\\text{earth}} = 5.972 \\times 10^{24} \\: \\text{kg}$, \n",
    "\n",
    "The potential energy of the satellite at various distances $R$ from the Earth's center is:\n",
    "- At earth's surface, $R = R_{\\text{earth}} = 6.371 \\times 10^6 \\: \\text{m}$: $$U_{g} = -G\\frac{m_1 m_2}{R_{\\text{earth}}}$$\n",
    "    - Supplying the satellite with kinetic energy $E_k = -U_g = 1xx$ will allow it to escape Earth's gravitational pull.\n",
    "- At geostationary orbit, $R = R_{\\text{geo}} = 4.216 \\times 10^7 \\: \\text{m}$: $$U_{g} = -G\\frac{m_1 m_2}{R_{\\text{geo}}}$$\n",
    "    - Supplying the satellite with kinetic energy $E_k = -U_g = 1xx$ will allow it to escape Earth's gravitational pull."
   ]
  },
  {
   "cell_type": "code",
   "execution_count": 11,
   "metadata": {},
   "outputs": [
    {
     "name": "stdout",
     "output_type": "stream",
     "text": [
      "U_g at earth's surface: -2.502e+13 \n",
      "U_g in geostationary orbit: -3.782e+12\n"
     ]
    }
   ],
   "source": [
    "m_earth = 5.972e24  # mass of earth, in kg\n",
    "m_satellite = 4e5  # mass of ISS, in kg\n",
    "\n",
    "r_earth = 6.371e6  # radius of earth, in meters\n",
    "r_geo = 4.216e7  # radius of geostationary orbit, in meters\n",
    "\n",
    "G = 6.674e-11  # gravitational constant, in m^3/kg/s^2\n",
    "\n",
    "Ug_earth = -G * m_earth * m_satellite / r_earth\n",
    "Ug_geo = -G * m_earth * m_satellite / r_geo\n",
    "\n",
    "# print the results to 3 significant figures in scientific notation\n",
    "print(f\"U_g at earth's surface: {Ug_earth:.3e}\", f\"\\nU_g in geostationary orbit: {Ug_geo:.3e}\")\n"
   ]
  },
  {
   "cell_type": "markdown",
   "metadata": {},
   "source": [
    "#### 2.1.1. Change in gravitational potential energy, $\\Delta U_g$\n",
    "\n",
    "The change in gravitational potential energy $\\Delta U_g$ when moving a point mass $m_2$ between two points in space, $R_1$ (reference point) and $R_2$ (destination), is the difference in potential energy at the two points, relative to the point mass $m_1$ (e.g. Earth).\n",
    "\n",
    "$$\n",
    "\\begin{align*}\n",
    "\\Delta U_g &= \\int_{R_1}^{R_2} G \\frac{m_1 m_2}{r^2} dr \\\\\n",
    "&= G m_1 m_2 \\left[\\frac{-1}{r}\\right]_{R_1}^{R_2} \\\\\n",
    "&= G m_1 m_2 \\left[\\frac{-1}{R_2} - \\frac{-1}{R_1}\\right] \\\\\n",
    "\\Delta U_g &= \\frac{G m_1 m_2}{R_1} - \\frac{G m_1 m_2}{R_2} \\\\\n",
    "\\end{align*}\n",
    "$$\n",
    "\n",
    "For example:\n",
    "- When moving a satellite from a <mark>lower orbit to a higher orbit</mark> (i.e. $R_1 < R_2$),\n",
    "    - The satellite's gravitational potential energy <mark>**increases**</mark> (i.e. $\\Delta U_g > 0$). \n",
    "- When moving a satellite from a <mark>higher orbit to a lower orbit</mark> (i.e. $R_1 > R_2$), \n",
    "    - The satellite's gravitational potential energy <mark>**decreases**</mark> (i.e. $\\Delta U_g < 0$). \n"
   ]
  },
  {
   "cell_type": "markdown",
   "metadata": {},
   "source": [
    "#### 2.1.2. Gravitational potential energy, $U_g$, near the surface of the earth\n",
    "#TODO Need image of graph here showing constant local slope of U_g\n",
    "\n",
    "Note, if a much smaller mass (e.g. satellite with mass $m_2$) is moved to a height $h$, close to the surface of a much larger object (e.g. Earth with mass $m_1$, and radius $R$), the gravitational field is nearly constant (locally). \n",
    "\n",
    "Hence, the reference point is Earth's surface (at radius $R$), and the destination point is at $R + h$ away from the center of the Earth. $\\Delta U_g$ (previously derived) can be simplified as follows:\n",
    "\n",
    "$$\n",
    "\\begin{align*}\n",
    "\\Delta U_g &= \\frac{G m_1 m_2}{R} - \\frac{G m_1 m_2}{R + h} \\\\\n",
    "&= \\frac{G m_1 m_2}{R} \\left[ 1 - \\frac{1}{1 + \\frac{h}{R}} \\right]\\\\\n",
    "&= \\frac{G m_1 m_2}{R} \\left[ 1 - \\left(1 + \\frac{h}{R}\\right)^{-1} \\right]\\\\\n",
    "\\end{align*}\n",
    "$$\n",
    "\n",
    "Note, for small $x$ and $\\alpha$, Binomial expansion approximates $(1+x)^{\\alpha} \\approx 1 + \\alpha x$. Hence, for small heights $h$ relative to the radius $R$ of the larger object: $\\left(1 + \\frac{h}{R}\\right)^{-1} \\approx 1 + (-1)\\cdot\\frac{h}{R} = 1 - \\frac{h}{R}$\n",
    "\n",
    "Therefore, the change in gravitational potential energy $\\Delta U_g$ is approximately:\n",
    "\n",
    "$$\n",
    "\\begin{align*}\\\n",
    "\\Delta U_g &\\approx \\frac{G m_1 m_2}{R} \\left[ 1 - \\left(1 - \\frac{h}{R}\\right) \\right] \\\\\n",
    "&\\approx \\frac{G m_1 m_2 h}{R^2} \\\\\n",
    "&\\approx m_2 \\frac{G m_1}{R^2} h \\\\\n",
    "\\end{align*}\n",
    "$$\n",
    "\n",
    "Earth's gravitational field strength can be set as $g = \\frac{G m_1}{R^2} \\approx 9.81 \\text{ms}^{-2}$. The small object's mass $m_2$ can be set as $m_2 = m$. Hence, near the earth's surface:\n",
    "\n",
    "$$\\Delta U_g \\approx m g h$$\n"
   ]
  },
  {
   "cell_type": "markdown",
   "metadata": {},
   "source": [
    "### 2.2. Gravitational potential energy, using vectors\n",
    "\n",
    "In general, work done $W$ is given by the dot product of the force, $\\textbf{F}$, and the displacement, $\\textbf{r}$, vectors. \n",
    "\n",
    "In general, potential energy is a scalar quantity, and is defined as:\n",
    "\n",
    "$$ U = - W = - \\int_{\\text{ref}}^{r} \\textbf{F} \\cdot d\\textbf{r}$$\n",
    "\n",
    "And the gravitational force $\\textbf{F}_g$ is given by:\n",
    "\n",
    "$$ \\textbf{F}_g = -G\\frac{m_1 m_2}{|\\textbf{r}|^2} \\hat{\\textbf{r}} $$ \n",
    "\n",
    "where $\\hat{\\textbf{r}}$ is the unit vector in the direction of $\\textbf{r}$ (i.e. <mark>outward, radially</mark>).\n",
    "\n",
    "Hence to bring a point mass $m_2$ (e.g. a satellite) from a reference distance infinity ($\\text{ref}=\\infty$) to a given distance $r$ (e.g. Earth's surface) away from the point mass $m_1$ (e.g. Earth), the work done by the gravitational force is:\n",
    "\n",
    "$$ \n",
    "\\begin{align*}\n",
    "U_g(r) &= -\\int_{\\infty}^r \\textbf{F}_g \\cdot d\\textbf{r} \\\\\n",
    "&= -\\int_{\\infty}^r -G\\frac{m_1 m_2}{|\\textbf{r}|^2} \\cdot d\\textbf{r} \\\\\n",
    "&= Gm_1 m_2 \\int_{\\infty}^r \\frac{1}{|\\textbf{r}|^2} \\cdot d\\textbf{r} \\\\\n",
    "&= Gm_1 m_2 \\left[\\frac{-1}{|\\textbf{r}|}  \\right]_{\\infty}^r\\\\\n",
    "&= Gm_1 m_2\\left[\\frac{-1}{|\\textbf{r}|} - \\frac{-1}{|\\infty|}\\right] \\\\\n",
    "\\end{align*}\n",
    "$$\n",
    "\n",
    "Hence gravitational potential energy (scalar quantity, defined in terms of vectors) simplifies to:\n",
    "$$ U_g(r) = \\frac{-Gm_1 m_2}{|\\textbf{r}|} $$"
   ]
  },
  {
   "cell_type": "markdown",
   "metadata": {},
   "source": [
    "## Kepler's third law\n",
    "\n",
    "## Orbital mechanics:\n",
    "\n",
    "### Period and velocity of a satellite in circular orbit\n",
    "\n",
    "### Period and velocity of a satellite in elliptical orbit\n",
    "\n",
    "### Excape velocity\n",
    "\n",
    "### Hohmann transfer\n",
    "\n",
    "### Energy required to change orbits"
   ]
  },
  {
   "cell_type": "markdown",
   "metadata": {},
   "source": []
  },
  {
   "cell_type": "code",
   "execution_count": null,
   "metadata": {},
   "outputs": [],
   "source": []
  },
  {
   "cell_type": "markdown",
   "metadata": {},
   "source": []
  }
 ],
 "metadata": {
  "kernelspec": {
   "display_name": ".venv",
   "language": "python",
   "name": "python3"
  },
  "language_info": {
   "codemirror_mode": {
    "name": "ipython",
    "version": 3
   },
   "file_extension": ".py",
   "mimetype": "text/x-python",
   "name": "python",
   "nbconvert_exporter": "python",
   "pygments_lexer": "ipython3",
   "version": "3.13.0"
  }
 },
 "nbformat": 4,
 "nbformat_minor": 2
}
