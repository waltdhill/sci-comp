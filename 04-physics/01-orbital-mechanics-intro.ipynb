{
 "cells": [
  {
   "cell_type": "markdown",
   "metadata": {},
   "source": [
    "# Orbital mechanics intro"
   ]
  },
  {
   "cell_type": "markdown",
   "metadata": {
    "vscode": {
     "languageId": "plaintext"
    }
   },
   "source": [
    "## Topics:\n",
    "\n",
    "- Kepler's laws\n",
    "    - First law: The orbit of a planet is an ellipse with the Sun at one of the two foci.\n",
    "    - Second law: A line segment joining a planet and the Sun sweeps out equal areas during equal intervals of time.\n",
    "    - Third law: The square of the orbital period of a planet is directly proportional to the cube of the semi-major axis of its orbit.\n",
    "- Newton's laws\n",
    "    - Gravitation\n",
    "    - Motion\n",
    "    - Energy conservation\n",
    "    - Angular momentum\n",
    "- Important equations:\n",
    "    - Mechanical energy = Kinetic energy + Potential energy\n",
    "    - Kinetic energy = 1/2 * m * v^2\n",
    "    - Potential energy = - G * m1 * m2 / r\n",
    "        - G = 6.67430 * 10^-11 m^3 kg^-1 s^-2\n",
    "    - Centripetal force = m * v^2 / r\n",
    "        - Circular velocity = sqrt(G * m / r)\n",
    "- Geometry\n",
    "    - Elipse\n",
    "- Orbits\n",
    "    - Circular\n",
    "    - Elliptical\n",
    "- Hohmann transfer\n",
    "    - Transfer orbit\n",
    "    - Transfer time\n",
    "    - Transfer delta-v \n",
    "- Lagrange points\n",
    "- "
   ]
  },
  {
   "cell_type": "markdown",
   "metadata": {},
   "source": [
    "## 1. Newton's Law of Universal Gravitation\n",
    "\n",
    "### 1.1. Gravitational force\n",
    "The gravitational force $F_g$ attracts two objects (acting as point masses) to each other and is directed along the line connecting the centres of the objects masses. $F_g$ is proportional to the product of the two masses and inversely proportional to the square of the distance between their centers. \n",
    "\n",
    "It is given by the equation:\n",
    "\n",
    "$$F_g = G\\frac{m_1 m_2}{r^2}$$\n",
    "\n",
    "where:\n",
    "- $F_g$ is the gravitational force between the two objects (Newtons, $\\text{N}$);\n",
    "- $G$ is the Newtonian constant of gravitation ($6.674×10^{−11} \\: \\text{m}^3\\text{kg}^{−1}\\text{s}^{−2}$);\n",
    "- $m_1$ is the first (conventionally larger) mass (kilograms, $\\text{kg}$);\n",
    "- $m_2$ is the second (conventionally smaller) mass (kilograms, $\\text{kg}$);\n",
    "- $r$ is the distance between the centers of the masses (meters, $\\text{m}$).\n",
    "\n",
    "<img src=\"images/point-mass-attraction.png\" alt=\"Point masses\" width=\"300px\">"
   ]
  },
  {
   "cell_type": "markdown",
   "metadata": {},
   "source": [
    "### 1.2. Gravitational force as a vector\n",
    "\n",
    "Writing it as a vector equation captures the direction (as well as the magnitude) of the gravitational force:\n",
    "\n",
    "$$\\textbf{F}_{21} = -G\\frac{m_1 m_2}{|\\textbf{r}_{21}|^2} \\hat{\\textbf{r}_{21}} = -G\\frac{m_1 m_2}{|\\textbf{r}_{21}|^3}\\textbf{r}_{21}$$\n",
    "\n",
    "- $\\textbf{F}_{21}$ is the force vector, applied on mass 2 (conventionally, smaller) exerted by mass 1 (conventionally, larger),\n",
    "- $G$ is the gravitational constant,\n",
    "- $m_1$ and $m_2$ are respectively the masses of bodies 1 and 2,\n",
    "- $\\textbf{r}_{21} = \\textbf{r}_{2} - \\textbf{r}_{1}$ is the displacement vector between bodies 1 and 2, and \n",
    "- $\\displaystyle {\\hat {\\mathbf {r} }}_{21}\\ {\\stackrel {\\mathrm {def} }{=}}\\ {\\frac {\\mathbf {r_{2}-r_{1}} }{|\\mathbf {r_{2}-r_{1}} |}}$ is the unit vector from body 1 to body 2\n",
    "\n",
    "#### Notes on direction conventions:\n",
    "\n",
    "- $\\textbf{F}_{21}$ is an attractive force. It is directed in the <mark>**opposite direction of the displacement vector**</mark> $\\textbf{r}_{21}$.\n",
    "- The displacement vector $\\textbf{r}_{21}$ is defined as positive (from the centre of mass 1 to the centre of mass 2). \n",
    "- Therefore the <mark>**force vector**</mark> $\\textbf{F}_{21}$ <mark>is **negative**</mark>."
   ]
  },
  {
   "cell_type": "markdown",
   "metadata": {},
   "source": [
    "## 2. Orbital mechanics:\n",
    "\n",
    "### 2.1. Velocity of a satellite in circular orbit\n",
    "\n",
    "#TODO: Image of the cannonball analogy\n",
    "\n",
    "A satellite is said to be in a stable circular orbit around a planet **at a given altitude above the planet's surface**, $h$, when the <mark>**gravitational force**</mark>, $F_g$, between the satellite and the planet is <mark>balanced by the **centripetal force**</mark>, $F_c$, required to keep the satellite in orbit. \n",
    "- At this point, the satellite is said to be in **free-fall** around the planet, with a **constant** orbital velocity, $v_{\\text{orbit}}$.\n",
    "- It also has a **constant** orbital period, $T_{\\text{orbit}}$\n",
    "- The orbital radius, $R_{\\text{orbit}}$, is the distance between the center of the planet and the satellite. (i.e. $R_{\\text{orbit}} = R_{\\text{planet}} + h$)\n",
    "\n",
    "Setting the gravitational force equal to the centripetal force, we have:\n",
    "\n",
    "$$\n",
    "\\begin{align*}\n",
    "F_c &= F_g \\\\\n",
    "\\frac{m_{\\text{satellite}} v_{\\text{orbit}}^2}{R_{\\text{orbit}}} &= G \\frac{m_{\\text{planet}} m_{\\text{satellite}}}{R_{\\text{orbit}}^2} \\\\\n",
    "v_{\\text{orbit}}^2 &= G \\frac{m_{\\text{planet}}}{R_{\\text{orbit}}} \\\\\n",
    "v_{\\text{orbit}} &= \\sqrt{G \\frac{m_{\\text{planet}}}{R_{\\text{orbit}}} } \\\\\n",
    "\\end{align*}\n",
    "$$\n",
    "\n",
    "\n",
    "<mark>Visual:</mark> The orbital velocity for a given altitude is when the Earth's surface curves away from the satellite at the same rate as the satellite arc falling towards the Earth's surface. The satellite is in constant free-fall around the Earth, but never reaches the Earth's surface."
   ]
  },
  {
   "cell_type": "code",
   "execution_count": 1,
   "metadata": {},
   "outputs": [
    {
     "name": "stdout",
     "output_type": "stream",
     "text": [
      "Orbital velocity at 200 km: 7.788e+03 m/s\n"
     ]
    }
   ],
   "source": [
    "G = 6.674e-11  # gravitational constant, in m^3/kg/s^2\n",
    "m_earth = 5.972e24  # mass of earth, in kg\n",
    "r_earth = 6.371e6  # radius of earth, in meters\n",
    "h_orbit = 200e3  # altitude of orbit, in meters\n",
    "\n",
    "# Calculate the orbital velocity of a satellite at 200 km above the Earth's surface\n",
    "r_orbit = r_earth + h_orbit\n",
    "v_orbit = (G * m_earth / r_orbit) ** 0.5\n",
    "\n",
    "print(f\"Orbital velocity at 200 km: {v_orbit:.3e} m/s\")\n"
   ]
  },
  {
   "cell_type": "markdown",
   "metadata": {},
   "source": [
    "### 2.2. Period of a satellite in circular orbit\n",
    "\n",
    "Recall the circumference of a circle is $C = 2\\pi r$. The time taken for a satellite to travel this distance (complete one full orbit around the Earth) is: \n",
    "\n",
    "$$ T_{\\text{orbit}} = \\frac{C}{v_{\\text{orbit}}} = \\frac{2\\pi R_{\\text{orbit}}}{v_{\\text{orbit}}} $$\n",
    "\n"
   ]
  },
  {
   "cell_type": "code",
   "execution_count": 5,
   "metadata": {},
   "outputs": [
    {
     "name": "stdout",
     "output_type": "stream",
     "text": [
      "Orbital period at 200 km: 1 hours 28 minutes\n"
     ]
    }
   ],
   "source": [
    "import numpy as np\n",
    "\n",
    "# Calculate the orbital period of the satellite at 200 km above the Earth's surface in hours\n",
    "\n",
    "T = 2 * np.pi * r_orbit / v_orbit\n",
    "print(f\"Orbital period at 200 km: {int(T // 3600)} hours {int((T % 3600) // 60)} minutes\")\n"
   ]
  },
  {
   "cell_type": "markdown",
   "metadata": {},
   "source": [
    "### #TODO 2.3. Period and velocity of a satellite in elliptical orbit\n"
   ]
  },
  {
   "cell_type": "markdown",
   "metadata": {},
   "source": [
    "## 3. Kepler's third law\n",
    "\n",
    "- \"The **square of a planet's orbital period**, $T$ is proportional to the **cube of the length of the semi-major axis** of its orbit, $a$.\"\n",
    "    - i.e. $T^2 \\propto a^3$\n",
    "- The orbital period $T$ is the time taken for a planet to complete one full orbit around the Sun.\n",
    "- For a circular orbit, the semi-major axis, $a$, is the radius of the orbit, $r$.\n",
    "    - i.e. $T^2 \\propto r^3$ (for circular orbits)"
   ]
  },
  {
   "cell_type": "markdown",
   "metadata": {},
   "source": [
    "### 3.1. Kepler's third law for circular orbits, using Newton's laws\n",
    "\n",
    "1. The gravitational force between the Sun and a planet is given by Newton's law of universal gravitation:\n",
    "\n",
    "$$ F_g = G \\frac{m_{\\text{sun}} m_{\\text{planet}}}{r^2} $$\n",
    "\n",
    "2. The centripetal force required to keep the planet in orbit is given by: $$ F_c = \\frac{m_{\\text{planet}} v_{\\text{orbit}}^2}{r} $$\n",
    "   - where $v$ is the orbital velocity of the planet.\n",
    "\n",
    "3. Gravity provides the centripetal force required to keep the planet in orbit. Setting these equal, we have:\n",
    "\n",
    "$$ \n",
    "\\begin{align*}\n",
    "F_g &= F_c \\\\\n",
    "\\frac{Gm_{\\text{sun}} m_{\\text{planet}}}{r^2} &= \\frac{m_{\\text{planet}} v_{\\text{orbit}}^2}{r} \\\\\n",
    "\\frac{Gm_{\\text{sun}}}{r} &= v_{\\text{orbit}}^2 \\\\\n",
    "\\end{align*}\n",
    "$$\n",
    "\n",
    "4. But note, the orbital velocity $v_{\\text{orbit}}$ is given by: $$ v_{\\text{orbit}} = \\frac{2\\pi r}{T} $$\n",
    "   - where $r$ is the radius of the planet's orbit, and $T$ is the orbital period.\n",
    "\n",
    "5. Substituting the orbital velocity into the equation, and solving for $T^2$, we see that $T^2 \\propto r^3$: \n",
    "\n",
    "$$ \n",
    "\\begin{align*}\n",
    "\\frac{Gm_{\\text{sun}}}{r} &= \\left( \\frac{2\\pi r}{T} \\right)^2 \\\\\n",
    "\\frac{Gm_{\\text{sun}}}{r} &= \\frac{4\\pi^2 r^2}{T^2} \\\\\n",
    "T^2 &= \\left( \\frac{4\\pi^2}{Gm_{\\text{sun}}} \\right) r^3 \\\\\n",
    "\\end{align*}\n",
    "$$\n",
    "\n",
    "#### Implication #TODO python example\n",
    "\n",
    "- For any object in a circular orbit around another object (e.g. a planet around the Sun), the $\\left( \\frac{4\\pi^2}{Gm_{\\text{sun}}} \\right)$ term is a constant.\n",
    "- If we set $r = 1AU$ (the average distance between the Earth and the Sun), then\n",
    "- $T_{\\text{earth}}^2 = \\left( \\frac{4\\pi^2}{Gm_{\\text{sun}}} \\right) (1AU)^3$..."
   ]
  },
  {
   "cell_type": "markdown",
   "metadata": {},
   "source": [
    "### 3.2. Kepler's third law for elliptical orbits #TODO"
   ]
  },
  {
   "cell_type": "markdown",
   "metadata": {},
   "source": [
    "## 4. Gravitational potential energy, $U_g$, (is **not** $mgh$)\n",
    "\n",
    "The gravitational potential energy $U_g$ is the energy stored in an object due to its position in a gravitational field. \n",
    "\n",
    "It is defined as the **work done by the gravitational force** in: \n",
    "- moving an object (e.g. a satellite, point mass $m_2$) \n",
    "- from a **reference point** (e.g. infinity, $\\infty$) \n",
    "- to a final **given point** in space (e.g. Earth's surface at radius $r$ away from its point mass $m_1$)."
   ]
  },
  {
   "cell_type": "markdown",
   "metadata": {},
   "source": [
    "### 4.1. Deriving gravitational potential energy, using scalars (Newtonian mechanics)\n",
    "\n",
    "- $U_g = mgh$, where the acceleration due to gravity, $g=9.81 \\: \\text{ms}^{-1}$, is only valid for small heights $h$ near the reference point set at the Earth's surface. \n",
    "- When the height $h$ is large (relative to earth's radius), the gravitational acceleration (and hence the gravitational force $F_g$) is not constant. \n",
    "- Thus, the potential energy $U_g$ is not equal to $mgh$.\n",
    "\n",
    "Recall that the magnitude of gravitational force between to objects is given by: $$F_g = G \\frac{m_1 m_2}{r^2}$$\n",
    "\n",
    "- For example, $m_1$ and $m_2$ are the masses of Earth and a satellite, respectively, \n",
    "- and $r$ is the distance between their centers.\n",
    "\n",
    "Hence to bring a point mass $m_2$ (e.g. a satellite) from a reference distance infinity ($\\text{ref}=\\infty$) to a given distance $R$ (e.g. Earth's surface) away from the point mass $m_1$ (e.g. Earth), the work done by the gravitational force is found by integrating Force wrt. distance:\n",
    "\n",
    "$$\n",
    "\\begin{align*}\n",
    "\n",
    "W_g &= F r \\\\\n",
    "d(W_g) &= F dr \\\\\n",
    "W_g &= \\int_{\\infty}^{R} F_g dr \\\\\n",
    "&= \\int_{\\infty}^{R} G \\frac{m_1 m_2}{r^2} dr \\\\\n",
    "&= G m_1 m_2 \\int_{\\infty}^{R} \\frac{1}{r^2} dr \\\\\n",
    "&= G m_1 m_2 \\left[ \\frac{-1}{r} \\right]_{\\infty}^{R} \\\\\n",
    "&= G m_1 m_2 \\left[ \\frac{-1}{R} - \\frac{-1}{\\infty} \\right] \n",
    "\\end{align*}\n",
    "$$\n",
    "\n",
    "Hence the total work done on $m_2$ is the gravitational potential energy, $U_g$:\n",
    "\n",
    "$$ W_g = U_g = -G\\frac{m_1 m_2}{R} $$\n",
    "\n",
    "- Note that the **negative** sign of $U_g$ indicates that the work done is **against** the gravitational force $F_g$.\n",
    "    - In other words, the **negative** sign indicates the object (e.g. satellite) is bound to the point mass $m_1$ (e.g. Earth) by the gravitational force $F_g$.\n",
    "    - See [Escape Velocity](#43-escape-velocity) for more details."
   ]
  },
  {
   "cell_type": "markdown",
   "metadata": {},
   "source": [
    "#### 4.1.1. Deriving gravitational potential energy, using vectors\n",
    "\n",
    "This is a more general derivation of gravitational potential energy, using vectors to denote direction. In general, work done $W$ is given by the dot product of the force, $\\textbf{F}$, and the displacement, $\\textbf{r}$, vectors. \n",
    "\n",
    "In general, potential energy is a scalar quantity, and is defined as:\n",
    "\n",
    "$$ U = - W = - \\int_{\\text{ref}}^{r} \\textbf{F} \\cdot d\\textbf{r}$$\n",
    "\n",
    "And the gravitational force $\\textbf{F}_g$ is given by:\n",
    "\n",
    "$$ \\textbf{F}_g = -G\\frac{m_1 m_2}{|\\textbf{r}|^2} \\hat{\\textbf{r}} $$ \n",
    "\n",
    "where $\\hat{\\textbf{r}}$ is the unit vector in the direction of $\\textbf{r}$ (i.e. <mark>outward, radially</mark>).\n",
    "\n",
    "Hence to bring a point mass $m_2$ (e.g. a satellite) from a reference distance infinity ($\\text{ref}=\\infty$) to a given distance $r$ (e.g. Earth's surface) away from the point mass $m_1$ (e.g. Earth), the work done by the gravitational force is:\n",
    "\n",
    "$$ \n",
    "\\begin{align*}\n",
    "U_g(r) &= -\\int_{\\infty}^r \\textbf{F}_g \\cdot d\\textbf{r} \\\\\n",
    "&= -\\int_{\\infty}^r -G\\frac{m_1 m_2}{|\\textbf{r}|^2} \\cdot d\\textbf{r} \\\\\n",
    "&= Gm_1 m_2 \\int_{\\infty}^r \\frac{1}{|\\textbf{r}|^2} \\cdot d\\textbf{r} \\\\\n",
    "&= Gm_1 m_2 \\left[\\frac{-1}{|\\textbf{r}|}  \\right]_{\\infty}^r\\\\\n",
    "&= Gm_1 m_2\\left[\\frac{-1}{|\\textbf{r}|} - \\frac{-1}{|\\infty|}\\right] \\\\\n",
    "\\end{align*}\n",
    "$$\n",
    "\n",
    "Hence gravitational potential energy (scalar quantity, defined in terms of vectors) simplifies to:\n",
    "$$ U_g(r) = \\frac{-Gm_1 m_2}{|\\textbf{r}|} $$"
   ]
  },
  {
   "cell_type": "markdown",
   "metadata": {},
   "source": [
    "### 4.2. Change in gravitational potential energy, $\\Delta U_g$\n",
    "\n",
    "The change in gravitational potential energy $\\Delta U_g$ when moving a point mass $m_2$ between two points in space, $R_1$ (reference point) and $R_2$ (destination), is the difference in potential energy at the two points, relative to the point mass $m_1$ (e.g. Earth).\n",
    "\n",
    "$$\n",
    "\\begin{align*}\n",
    "\\Delta U_g &= \\int_{R_1}^{R_2} G \\frac{m_1 m_2}{r^2} dr \\\\\n",
    "&= G m_1 m_2 \\left[\\frac{-1}{r}\\right]_{R_1}^{R_2} \\\\\n",
    "&= G m_1 m_2 \\left[\\frac{-1}{R_2} - \\frac{-1}{R_1}\\right] \\\\\n",
    "\\Delta U_g &= \\frac{G m_1 m_2}{R_1} - \\frac{G m_1 m_2}{R_2} \\\\\n",
    "\\end{align*}\n",
    "$$\n",
    "\n",
    "For example:\n",
    "- When moving a satellite from a <mark>lower orbit to a higher orbit</mark> (i.e. $R_1 < R_2$),\n",
    "    - The satellite's gravitational potential energy <mark>**increases**</mark> (i.e. $\\Delta U_g > 0$). \n",
    "- When moving a satellite from a <mark>higher orbit to a lower orbit</mark> (i.e. $R_1 > R_2$), \n",
    "    - The satellite's gravitational potential energy <mark>**decreases**</mark> (i.e. $\\Delta U_g < 0$). \n"
   ]
  },
  {
   "cell_type": "markdown",
   "metadata": {},
   "source": [
    "#### 4.2.1. Gravitational potential energy simplifies to $U_g = m g h$, near the surface of the earth\n",
    "#TODO Need image of graph here showing constant local slope of U_g\n",
    "\n",
    "Note, if a much smaller mass (e.g. satellite with mass $m_2$) is moved to a height $h$, close to the surface of a much larger object (e.g. Earth with mass $m_1$, and radius $R$), the gravitational field is nearly constant (locally). \n",
    "\n",
    "Hence, the reference point is Earth's surface (at radius $R$), and the destination point is at $R + h$ away from the center of the Earth. $\\Delta U_g$ (previously derived) can be simplified as follows:\n",
    "\n",
    "$$\n",
    "\\begin{align*}\n",
    "\\Delta U_g &= \\frac{G m_1 m_2}{R} - \\frac{G m_1 m_2}{R + h} \\\\\n",
    "&= \\frac{G m_1 m_2}{R} \\left[ 1 - \\frac{1}{1 + \\frac{h}{R}} \\right]\\\\\n",
    "&= \\frac{G m_1 m_2}{R} \\left[ 1 - \\left(1 + \\frac{h}{R}\\right)^{-1} \\right]\\\\\n",
    "\\end{align*}\n",
    "$$\n",
    "\n",
    "Note, for small $x$ and $\\alpha$, Binomial expansion approximates $(1+x)^{\\alpha} \\approx 1 + \\alpha x$. Hence, for small heights $h$ relative to the radius $R$ of the larger object: $\\left(1 + \\frac{h}{R}\\right)^{-1} \\approx 1 + (-1)\\cdot\\frac{h}{R} = 1 - \\frac{h}{R}$\n",
    "\n",
    "Therefore, the change in gravitational potential energy $\\Delta U_g$ is approximately:\n",
    "\n",
    "$$\n",
    "\\begin{align*}\\\n",
    "\\Delta U_g &\\approx \\frac{G m_1 m_2}{R} \\left[ 1 - \\left(1 - \\frac{h}{R}\\right) \\right] \\\\\n",
    "&\\approx \\frac{G m_1 m_2 h}{R^2} \\\\\n",
    "&\\approx m_2 \\frac{G m_1}{R^2} h \\\\\n",
    "\\end{align*}\n",
    "$$\n",
    "\n",
    "Earth's gravitational field strength can be set as $g = \\frac{G m_1}{R^2} \\approx 9.81 \\text{ms}^{-2}$. The small object's mass $m_2$ can be set as $m_2 = m$. Hence, near the earth's surface:\n",
    "\n",
    "$$\\Delta U_g \\approx m g h$$\n",
    "\n",
    "Setting $U_g=0$ as a reference point at the Earth's surface (instead of infinity), the gravitational potential energy $U_g$ is:\n",
    "\n",
    "$$U_g = m g h$$"
   ]
  },
  {
   "cell_type": "markdown",
   "metadata": {},
   "source": [
    "### 4.3. Escape velocity\n",
    "\n",
    "- To <mark>**escape**</mark> the gravitational pull of the point mass $m_{\\text{earth}}$ (e.g. Earth), the object with $m_{\\text{satellite}}$ (e.g. satellite) must be <mark>given kinetic energy</mark>, $E_k$, <mark>greater than the magnitude of the potential energy</mark>, $U_g$.\n",
    "    - The minimum kinetic energy required to escape the gravitational pull of the point mass $m_{\\text{earth}}$ (e.g. Earth) is called the <mark>**escape velocity**</mark>, $v_{\\text{esc}}$.\n",
    "\n",
    "#### The work-energy principle\n",
    "\n",
    "The work-energy principle states that sum of the initial **mechanical energy** and the work done by non-conservative forces is equal to the final mechanical energy:\n",
    "\n",
    "$$ \n",
    "\\underbrace{\n",
    "(E_k)_\\text{initial} + (U_g)_\\text{initial} \n",
    "}_{\\text{Initial mechanical energy}}\n",
    "+ \n",
    "W_{\\text{non-conservative}} \n",
    "= \n",
    "\\underbrace{\n",
    "(E_k)_\\text{final} + (U_g)_\\text{final} \n",
    "}_{\\text{Final mechanical energy}}\n",
    "$$\n",
    "\n",
    "- $(E_k)_\\text{initial} = \\frac{1}{2} m_{\\text{satellite}} v_{\\text{esc}}^2$ is the initial kinetic energy of the satellite at the Earth's surface,\n",
    "- $(U_g)_\\text{initial} = -G\\frac{m_{\\text{earth}} m_{\\text{satellite}}}{R_{\\text{earth}}}$ is the initial potential energy of the satellite at the Earth's surface (i.e. $R$ away from the point mass $m_1$),\n",
    "- $W_{nc}$ is the work done by non-conservative forces (e.g. air resistance, friction, etc.).\n",
    "    - For simplicity, we assume $W_{nc} = 0$ (i.e. no non-conservative forces are acting on the object),\n",
    "- $(E_k)_\\text{final} = 0$ is the final kinetic energy of the object (e.g. satellite) at infinity,\n",
    "    - This is akin to a ball thrown upwards, coming to a stop at the highest point of its trajectory. \n",
    "    - Here the highest point in the satellite's trajectory is at infinity.\n",
    "- $(U_g)_\\text{final} = G\\frac{m_{\\text{earth}} m_{\\text{satellite}}}{\\infty} = 0$ is the final potential energy of the object (e.g. satellite) at infinity.\n",
    "\n",
    "Substituting into the work-energy principle:\n",
    "\n",
    "$$ \n",
    "\\begin{align*}\n",
    "(E_k)_\\text{initial} + (U_g)_\\text{initial} + W_{\\text{non-conservative}} &= (E_k)_\\text{final} + (U_g)_\\text{final} \\\\\n",
    "\\frac{1}{2} m_{\\text{satellite}} v_{\\text{esc}}^2 - G\\frac{m_{\\text{earth}} m_{\\text{satellite}}}{R_{\\text{earth}}} &= 0 \\\\\n",
    "\\frac{1}{2} m_{\\text{satellite}} v_{\\text{esc}}^2 &= G\\frac{m_{\\text{earth}} m_{\\text{satellite}}}{R_{\\text{earth}}} \\\\\n",
    "v_{\\text{esc}} &= \\sqrt{2 G\\frac{m_{\\text{earth}}}{R_{\\text{earth}}}}\n",
    "\\end{align*}\n",
    "$$\n",
    "\n",
    "Recall that orbital velocity for a stable circular orbit is $v_{\\text{orbit}} = \\sqrt{G \\frac{m_{\\text{planet}}}{R_{\\text{orbit}}}}$. Hence, the escape velocity can be rewritten as $v_{\\text{esc}} = \\sqrt{2}\\cdot v_{\\text{orbit}}$"
   ]
  },
  {
   "cell_type": "markdown",
   "metadata": {},
   "source": [
    "#### 4.3.1. Escape velocity examples\n",
    "Given $m_{\\text{satellite}} = 4 \\times 10^5 \\: \\text{kg}$, and $m_{\\text{earth}} = 5.972 \\times 10^{24} \\: \\text{kg}$:\n",
    "1. Calculate the potential energy of the satellite at:\n",
    "   1. Earth's surface, $R_{\\text{earth}} = 6.371 \\times 10^6 \\: \\text{m}$\n",
    "   2. Geostationary orbit, $R_{\\text{geo}} = 4.216 \\times 10^7 \\: \\text{m}$\n",
    "2. Calculate the escape velocity of the satellite from:\n",
    "   1. Earth's surface\n",
    "   2. Geostationary orbit"
   ]
  },
  {
   "cell_type": "code",
   "execution_count": 16,
   "metadata": {},
   "outputs": [
    {
     "name": "stdout",
     "output_type": "stream",
     "text": [
      "U_g at earth's surface: -2.502e+13 \n",
      "U_g in geostationary orbit: -3.782e+12\n",
      "-25024095432428.19\n",
      "-3781511195445.9204\n",
      "\n",
      "Note: gravitational potential energy, U_g, is negative because the ISS is bound to the Earth by gravity.\n",
      "Note: gravitational potential energy of the ISS is greater in geostationary orbit than at the Earth's surface.\n",
      "\n",
      "Orbital velocity in geostationary orbit: 3.075e+03 m/s\n",
      "\n",
      "Escape velocity at earth's surface: 1.119e+04 m/s\n",
      "Escape velocity in geostationary orbit: 4.348e+03 m/s\n",
      "11185.72649237147\n",
      "4348.281956960657\n"
     ]
    }
   ],
   "source": [
    "# Given details:\n",
    "m_satellite = 4e5  # mass of ISS, in kg\n",
    "m_earth = 5.972e24  # mass of earth, in kg\n",
    "\n",
    "r_earth = 6.371e6  # radius of earth, in meters\n",
    "r_geo = 4.216e7  # radius of geostationary orbit, in meters\n",
    "\n",
    "G = 6.674e-11  # gravitational constant, in m^3/kg/s^2\n",
    "\n",
    "# Calculate the gravitational potential energy of the ISS at earth's surface and in geostationary orbit:\n",
    "Ug_ISS_at_earth_surface = -G * m_earth * m_satellite / r_earth\n",
    "Ug_ISS_in_geostat_orbit = -G * m_earth * m_satellite / r_geo\n",
    "\n",
    "v_orbit = (G * m_earth / r_geo) ** 0.5\n",
    "v_escape_surface = (2 * G * m_earth / r_earth) ** 0.5\n",
    "v_escape_geo = (2 * G * m_earth / r_geo) ** 0.5\n",
    "\n",
    "\n",
    "# print the results to 3 significant figures in scientific notation\n",
    "print(\n",
    "    f\"U_g at earth's surface: {Ug_ISS_at_earth_surface:.3e}\",\n",
    "    f\"\\nU_g in geostationary orbit: {Ug_ISS_in_geostat_orbit:.3e}\",\n",
    ")\n",
    "\n",
    "print(Ug_ISS_at_earth_surface)\n",
    "print(Ug_ISS_in_geostat_orbit)\n",
    "\n",
    "print(\"\\nNote: gravitational potential energy, U_g, is negative because the ISS is bound to the Earth by gravity.\")\n",
    "print(\"Note: gravitational potential energy of the ISS is greater in geostationary orbit than at the Earth's surface.\")\n",
    "\n",
    "print(f\"\\nOrbital velocity in geostationary orbit: {v_orbit:.3e} m/s\")\n",
    "\n",
    "print(f\"\\nEscape velocity at earth's surface: {v_escape_surface:.3e} m/s\")\n",
    "print(f\"Escape velocity in geostationary orbit: {v_escape_geo:.3e} m/s\")\n",
    "print(v_escape_surface)\n",
    "print(v_escape_geo)\n"
   ]
  },
  {
   "cell_type": "markdown",
   "metadata": {},
   "source": [
    "### Energy required to change orbits"
   ]
  },
  {
   "cell_type": "markdown",
   "metadata": {},
   "source": [
    "### Hohmann transfer"
   ]
  },
  {
   "cell_type": "code",
   "execution_count": null,
   "metadata": {},
   "outputs": [],
   "source": []
  },
  {
   "cell_type": "markdown",
   "metadata": {},
   "source": []
  }
 ],
 "metadata": {
  "kernelspec": {
   "display_name": ".venv",
   "language": "python",
   "name": "python3"
  },
  "language_info": {
   "codemirror_mode": {
    "name": "ipython",
    "version": 3
   },
   "file_extension": ".py",
   "mimetype": "text/x-python",
   "name": "python",
   "nbconvert_exporter": "python",
   "pygments_lexer": "ipython3",
   "version": "3.13.0"
  }
 },
 "nbformat": 4,
 "nbformat_minor": 2
}
