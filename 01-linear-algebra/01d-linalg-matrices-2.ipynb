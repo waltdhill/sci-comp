{
 "cells": [
  {
   "cell_type": "markdown",
   "id": "b5c9d0a4",
   "metadata": {},
   "source": [
    "# Linear Algebra - Matrices (Pt 2)\n"
   ]
  },
  {
   "cell_type": "markdown",
   "id": "85cd7d98",
   "metadata": {},
   "source": [
    "## 1. Square matrices\n",
    "\n",
    "A square matrices $\\textbf{M}$ will have dimensions $n \\times n$. (Thus, $\\mathbf{M} \\in \\mathbb{R}^{n \\times n}$)\n",
    "\n",
    "### 1.1. Determinant, $\\text{det}(\\textbf{M})$\n",
    "- The **Determinant**, $det(\\textbf{M})$, is an important property of square matrices.\n",
    "- <mark>**Geometric intuition of a determinant**</mark> (From 3B1B):\n",
    "    - Its absolute value tells you how much an area increases/decreases after the transformation by matrix $\\textbf{M}$\n",
    "    - A **negative sign** tells you whether the vector space was \"flipped\" (i.e. if the basis vectors swapped sides)\n",
    "    - <mark>**If the determinant is 0**</mark>, it means space has dropped **into fewer dimensions**\n",
    "        - i.e. **at least 1 dimension is LOST*, so initial the area, volume, etc of the vector space is now 0\n",
    "        - e.g. if a 2D matrix $\\textbf{M}$ transforms areas into a 1D line (or a point), areas get squished to 0; hence $\\text{det}(\\textbf{M})=0$\n",
    "- To prove understanding, explain: $\\text{det}(\\textbf{M}_1 \\textbf{M}_2) = \\text{det}(\\textbf{M}_1) \\text{det}(\\textbf{M}_2)$"
   ]
  },
  {
   "cell_type": "markdown",
   "id": "7d88f0cf-f401-476c-a667-64515ed2ffa5",
   "metadata": {},
   "source": [
    "#### Formulae for calculating the determinant of a matrix $\\textbf{M}$:\n",
    "\n",
    "- For a $2 \\times 2$ matrix; $det(\\textbf{M})$ is:\n",
    "\n",
    "$$\n",
    "\\begin{split}\n",
    "|\\textbf{M}| = \\begin{bmatrix}\n",
    "a & b \\\\\n",
    "c & d\\\\\n",
    "\\end{bmatrix} = ad - bc\\end{split}\n",
    "$$\n",
    "\n",
    "\n",
    "- For a $3 \\times 3$ matrix; $det(\\textbf{M})$ is:\n",
    "\n",
    "$$\n",
    "\\begin{split}\n",
    "% \\begin{eqnarray*}\n",
    "\\begin{align*}\n",
    "|\\textbf{M}| = \\begin{bmatrix}\n",
    "a & b & c \\\\\n",
    "d & e & f \\\\\n",
    "g & h & i \\\\\n",
    "\\end{bmatrix} & = a\\begin{bmatrix}\n",
    "\\Box &\\Box  &\\Box  \\\\\n",
    "\\Box & e & f \\\\\n",
    "\\Box & h & i \\\\\n",
    "\\end{bmatrix} - b\\begin{bmatrix}\n",
    "\\Box &\\Box  &\\Box  \\\\\n",
    "d & \\Box & f \\\\\n",
    "g & \\Box & i \\\\\n",
    "\\end{bmatrix} + c\\begin{bmatrix}\n",
    "\\Box &\\Box  &\\Box  \\\\\n",
    "d & e & \\Box \\\\\n",
    "g & h & \\Box \\\\\n",
    "\\end{bmatrix} \\\\\n",
    "&&\\\\\n",
    "& = a\\begin{bmatrix}\n",
    "e & f \\\\\n",
    "h & i \\\\\n",
    "\\end{bmatrix} - b\\begin{bmatrix}\n",
    "d & f \\\\\n",
    "g & i \\\\\n",
    "\\end{bmatrix} + c\\begin{bmatrix}\n",
    "d & e \\\\\n",
    "g & h \\\\\n",
    "\\end{bmatrix} \\\\ \n",
    "&&\\\\\n",
    "& = aei + bfg + cdh - ceg - bdi - afh\n",
    "% \\end{eqnarray*}\n",
    "\\end{align*}\n",
    "\\end{split}\n",
    "$$\n",
    "\n",
    "- For higher dimension matrices, a similar approach can be used."
   ]
  },
  {
   "cell_type": "markdown",
   "id": "b3ab918b-c509-45f1-b813-e8dd1f070548",
   "metadata": {},
   "source": [
    "### 1.2. Identity matrix\n",
    "\n",
    "- A square matrix, $\\textbf{I}$, with **ones on the diagonal** and **zeros everywhere else**\n",
    "- Multiplying a matrix with $\\textbf{I}$ (of compatible dimensionality) will produce the same matrix (like how $n \\times 1 = n$)"
   ]
  },
  {
   "cell_type": "code",
   "execution_count": 1,
   "id": "8f78ebc3",
   "metadata": {},
   "outputs": [
    {
     "name": "stdout",
     "output_type": "stream",
     "text": [
      "M:\n",
      " [[0 2 1 3]\n",
      " [3 2 8 1]\n",
      " [1 0 0 3]\n",
      " [0 3 2 1]]\n",
      "Determinant: -38.0\n",
      "\n",
      "I:\n",
      " [[1. 0. 0. 0.]\n",
      " [0. 1. 0. 0.]\n",
      " [0. 0. 1. 0.]\n",
      " [0. 0. 0. 1.]]\n",
      "\n",
      "M*I:\n",
      " [[0. 2. 1. 3.]\n",
      " [3. 2. 8. 1.]\n",
      " [1. 0. 0. 3.]\n",
      " [0. 3. 2. 1.]]\n"
     ]
    }
   ],
   "source": [
    "# Find the determinant of M, and multiply M by np.eye(4) to demonstrate M x I = M\n",
    "\n",
    "import numpy as np\n",
    "from numpy.linalg import det\n",
    "\n",
    "M = np.array([[0, 2, 1, 3], [3, 2, 8, 1], [1, 0, 0, 3], [0, 3, 2, 1]])\n",
    "print(\"M:\\n\", M)\n",
    "\n",
    "print(f\"Determinant: {det(M):.1f}\")\n",
    "I = np.eye(4)\n",
    "print(\"\\nI:\\n\", I)\n",
    "print(\"\\nM*I:\\n\", np.dot(M, I))\n"
   ]
  },
  {
   "cell_type": "markdown",
   "id": "58a4708f",
   "metadata": {},
   "source": [
    "## 2. Matrix inverse\n",
    "\n",
    "For square matrices ($\\mathbb{R}^{n\\times n}$), $\\textbf{M}^{-1}$ is the inverse of $\\textbf{M}$ if $\\textbf{M} \\cdot \\textbf{M}^{-1} = I$ (like how $3 \\times \\frac{1}{3} = 1$)\n",
    "\n",
    "- A matrix $\\mathbf{M}$ is considered **invertible** if it has an inverse $\\mathbf{M}^{-1}$\n",
    "    - **All** non-square matrices are **not** invertible\n",
    "    - **Some** square matrices are also **not** invertible (i.e. singular matrices)\n",
    "- The inverse of a matrix is unique: An invertible matrix **only has one inverse**.\n",
    "- For a $2 \\times 2$ matrix, the inverse is:\n",
    "$$\n",
    "\\begin{split}\n",
    "\\textbf{M}^{-1} = \\begin{bmatrix}\n",
    "a & b \\\\\n",
    "c & d\\\\\n",
    "\\end{bmatrix}^{-1} = \\frac{1}{|\\textbf{M}|}\\begin{bmatrix}\n",
    "d & -b \\\\\n",
    "-c & a\\\\\n",
    "\\end{bmatrix}\\end{split}\n",
    "$$\n",
    "\n",
    "\n",
    "### 2.1. Is it invertible?\n",
    "\n",
    "- **Singular matrices** are those which have **no inverses** (like how 0 has no inverse)\n",
    "    - $det(\\textbf{M}) = 0$\n",
    "- **Nonsingular matrices** are those which **do have an inverse**\n",
    "    - $det(\\textbf{M}) \\ne 0$"
   ]
  },
  {
   "cell_type": "code",
   "execution_count": 2,
   "id": "30704487",
   "metadata": {},
   "outputs": [
    {
     "name": "stdout",
     "output_type": "stream",
     "text": [
      "Determinant: -38.0\n",
      "Inv M:\n",
      " [[-1.57894737 -0.07894737  1.23684211  1.10526316]\n",
      " [-0.63157895 -0.13157895  0.39473684  0.84210526]\n",
      " [ 0.68421053  0.18421053 -0.55263158 -0.57894737]\n",
      " [ 0.52631579  0.02631579 -0.07894737 -0.36842105]]\n",
      "det(p): 0.0\n"
     ]
    },
    {
     "ename": "LinAlgError",
     "evalue": "Singular matrix",
     "output_type": "error",
     "traceback": [
      "\u001b[0;31m---------------------------------------------------------------------------\u001b[0m",
      "\u001b[0;31mLinAlgError\u001b[0m                               Traceback (most recent call last)",
      "Cell \u001b[0;32mIn[2], line 10\u001b[0m\n\u001b[1;32m      8\u001b[0m P \u001b[38;5;241m=\u001b[39m np\u001b[38;5;241m.\u001b[39marray([[\u001b[38;5;241m0\u001b[39m, \u001b[38;5;241m1\u001b[39m, \u001b[38;5;241m0\u001b[39m], [\u001b[38;5;241m0\u001b[39m, \u001b[38;5;241m0\u001b[39m, \u001b[38;5;241m0\u001b[39m], [\u001b[38;5;241m1\u001b[39m, \u001b[38;5;241m0\u001b[39m, \u001b[38;5;241m1\u001b[39m]])\n\u001b[1;32m      9\u001b[0m \u001b[38;5;28mprint\u001b[39m(\u001b[38;5;124m\"\u001b[39m\u001b[38;5;124mdet(p):\u001b[39m\u001b[38;5;124m\"\u001b[39m, det(P))\n\u001b[0;32m---> 10\u001b[0m \u001b[38;5;28mprint\u001b[39m(\u001b[38;5;124m\"\u001b[39m\u001b[38;5;124mInv P:\u001b[39m\u001b[38;5;130;01m\\n\u001b[39;00m\u001b[38;5;124m\"\u001b[39m, \u001b[43minv\u001b[49m\u001b[43m(\u001b[49m\u001b[43mP\u001b[49m\u001b[43m)\u001b[49m)  \u001b[38;5;66;03m# <-- LinAlgError thrown because P is Singular (not invertible)\u001b[39;00m\n",
      "File \u001b[0;32m~/Code/sci-comp/.venv/lib/python3.13/site-packages/numpy/linalg/_linalg.py:609\u001b[0m, in \u001b[0;36minv\u001b[0;34m(a)\u001b[0m\n\u001b[1;32m    606\u001b[0m signature \u001b[38;5;241m=\u001b[39m \u001b[38;5;124m'\u001b[39m\u001b[38;5;124mD->D\u001b[39m\u001b[38;5;124m'\u001b[39m \u001b[38;5;28;01mif\u001b[39;00m isComplexType(t) \u001b[38;5;28;01melse\u001b[39;00m \u001b[38;5;124m'\u001b[39m\u001b[38;5;124md->d\u001b[39m\u001b[38;5;124m'\u001b[39m\n\u001b[1;32m    607\u001b[0m \u001b[38;5;28;01mwith\u001b[39;00m errstate(call\u001b[38;5;241m=\u001b[39m_raise_linalgerror_singular, invalid\u001b[38;5;241m=\u001b[39m\u001b[38;5;124m'\u001b[39m\u001b[38;5;124mcall\u001b[39m\u001b[38;5;124m'\u001b[39m,\n\u001b[1;32m    608\u001b[0m               over\u001b[38;5;241m=\u001b[39m\u001b[38;5;124m'\u001b[39m\u001b[38;5;124mignore\u001b[39m\u001b[38;5;124m'\u001b[39m, divide\u001b[38;5;241m=\u001b[39m\u001b[38;5;124m'\u001b[39m\u001b[38;5;124mignore\u001b[39m\u001b[38;5;124m'\u001b[39m, under\u001b[38;5;241m=\u001b[39m\u001b[38;5;124m'\u001b[39m\u001b[38;5;124mignore\u001b[39m\u001b[38;5;124m'\u001b[39m):\n\u001b[0;32m--> 609\u001b[0m     ainv \u001b[38;5;241m=\u001b[39m \u001b[43m_umath_linalg\u001b[49m\u001b[38;5;241;43m.\u001b[39;49m\u001b[43minv\u001b[49m\u001b[43m(\u001b[49m\u001b[43ma\u001b[49m\u001b[43m,\u001b[49m\u001b[43m \u001b[49m\u001b[43msignature\u001b[49m\u001b[38;5;241;43m=\u001b[39;49m\u001b[43msignature\u001b[49m\u001b[43m)\u001b[49m\n\u001b[1;32m    610\u001b[0m \u001b[38;5;28;01mreturn\u001b[39;00m wrap(ainv\u001b[38;5;241m.\u001b[39mastype(result_t, copy\u001b[38;5;241m=\u001b[39m\u001b[38;5;28;01mFalse\u001b[39;00m))\n",
      "File \u001b[0;32m~/Code/sci-comp/.venv/lib/python3.13/site-packages/numpy/linalg/_linalg.py:104\u001b[0m, in \u001b[0;36m_raise_linalgerror_singular\u001b[0;34m(err, flag)\u001b[0m\n\u001b[1;32m    103\u001b[0m \u001b[38;5;28;01mdef\u001b[39;00m \u001b[38;5;21m_raise_linalgerror_singular\u001b[39m(err, flag):\n\u001b[0;32m--> 104\u001b[0m     \u001b[38;5;28;01mraise\u001b[39;00m LinAlgError(\u001b[38;5;124m\"\u001b[39m\u001b[38;5;124mSingular matrix\u001b[39m\u001b[38;5;124m\"\u001b[39m)\n",
      "\u001b[0;31mLinAlgError\u001b[0m: Singular matrix"
     ]
    }
   ],
   "source": [
    "# Recall, M has non-zero determinant so is invertible; but det(P)=0 so it can't be inverted\n",
    "\n",
    "from numpy.linalg import inv\n",
    "\n",
    "print(f\"Determinant: {det(M):.1f}\")\n",
    "print(\"Inv M:\\n\", inv(M))\n",
    "\n",
    "P = np.array([[0, 1, 0], [0, 0, 0], [1, 0, 1]])\n",
    "print(\"det(p):\", det(P))\n",
    "print(\"Inv P:\\n\", inv(P))  # <-- LinAlgError thrown because P is Singular (not invertible)\n"
   ]
  },
  {
   "cell_type": "markdown",
   "id": "8fdcdcb1",
   "metadata": {},
   "source": [
    "### 2.2. Ill-Conditioned Matrices\n",
    "\n",
    "- An ill-conditioned matrix is one which is **close to being singular** \n",
    "    - Its determinant will be close to 0 (problematic in the same way dividing by a tiny number is)\n",
    "    - Computation errors (overflow, underflow, round-off errors) may occur\n",
    "- **Condition number**: ***Higher number*** means the matrix is ***more*** ill-conditioned (i.e. closer to being singular)\n"
   ]
  },
  {
   "cell_type": "code",
   "execution_count": 3,
   "id": "bad00617",
   "metadata": {},
   "outputs": [
    {
     "name": "stdout",
     "output_type": "stream",
     "text": [
      "\n",
      "Matrix A_1:\n",
      "Condition number(A_1): 14.933034373659225\n",
      "det(A_1): 1.0\n",
      "Inv A_1:\n",
      " [[ 3. -1.]\n",
      " [-2.  1.]]\n",
      "\n",
      "Matrix A_2:\n",
      "Condition number(A_2): 1622.9993838565622\n",
      "det(A_2): -0.0999999999999999\n",
      "Inv A_2:\n",
      " [[-66.  28.]\n",
      " [ 97. -41.]]\n",
      "\n",
      "Matrix A_3 -- This matrix is close to singular or badly scaled. It is ill-conditioned:\n",
      "Condition number(A_3): 1.1149221731402912e+16\n",
      "det(A_3): -4.461167435465537e-15\n",
      "Inv A_3:\n",
      " [[-1.53781451e+15  6.51616316e+14]\n",
      " [ 2.25179981e+15 -9.54152463e+14]]\n"
     ]
    }
   ],
   "source": [
    "# Compute the condition numbers, determinants, and matrix inverses for the following 3 matrices A_1, A_2, A_3\n",
    "\n",
    "from numpy.linalg import cond\n",
    "\n",
    "A_1 = np.array([[1, 1], [2, 3]])\n",
    "A_2 = np.array([[4.1, 2.8], [9.7, 6.6]])\n",
    "A_3 = np.array([[4.1, 2.8], [9.6760, 6.6080]])\n",
    "\n",
    "print(\"\\nMatrix A_1:\")\n",
    "print(\"Condition number(A_1):\", cond(A_1))\n",
    "print(\"det(A_1):\", det(A_1))\n",
    "print(\"Inv A_1:\\n\", inv(A_1))\n",
    "\n",
    "print(\"\\nMatrix A_2:\")\n",
    "print(\"Condition number(A_2):\", cond(A_2))\n",
    "print(\"det(A_2):\", det(A_2))\n",
    "print(\"Inv A_2:\\n\", inv(A_2))\n",
    "\n",
    "print(\"\\nMatrix A_3 -- This matrix is close to singular or badly scaled. It is ill-conditioned:\")\n",
    "print(\"Condition number(A_3):\", cond(A_3))  # Note that the condition number is very high\n",
    "print(\"det(A_3):\", det(A_3))  # Note that the determinant is very close to zero\n",
    "print(\"Inv A_3:\\n\", inv(A_3))  # Note that the inverse is very large\n"
   ]
  },
  {
   "cell_type": "markdown",
   "id": "7e8cc249",
   "metadata": {},
   "source": [
    "### 2.3. Trace \n",
    "\n",
    "- The **trace** of $\\textbf{A} : \\textbf{A} \\in \\mathbb{R}^{n\\times n}$ is the sum of elements on the main diagonal (from left to right):\n",
    "\n",
    "$$ \\text{tr}(\\textbf{A}) = \\sum_{i=1}^{n} a_{ii} $$\n"
   ]
  },
  {
   "cell_type": "code",
   "execution_count": 4,
   "id": "22d8e389",
   "metadata": {},
   "outputs": [
    {
     "name": "stdout",
     "output_type": "stream",
     "text": [
      "Trace(A) 10.7\n"
     ]
    }
   ],
   "source": [
    "# Compute the trace of the following matrix A\n",
    "\n",
    "from numpy import trace\n",
    "\n",
    "A = np.array([[4.1, 2.8], [9.7, 6.6]])\n",
    "print(\"Trace(A)\", trace(A))\n"
   ]
  },
  {
   "cell_type": "markdown",
   "id": "8b7c6436",
   "metadata": {},
   "source": [
    "## 3. Back to non-square matrices\n",
    "\n",
    "### 3.1. Rank\n",
    "\n",
    "- The **rank** of $\\textbf{A} : \\textbf{A} \\in \\mathbb{R}^{m\\times n}$ is the **number of linearly independent columns or rows** in $\\textbf{A}$\n",
    "    - NB: Num. of lin. indep. cols. in a matrix $\\equiv$ Num. of lin. indep. rows in that matrix\n",
    "\n",
    "#### 3.1.1. \"Full Rank\" Matrix\n",
    "\n",
    "- $\\textbf{A}$ is **full rank** if $\\text{rank}(\\textbf{A}) = \\min(m,n)$\n",
    "- $\\textbf{A}$ is also full rank if **all its columns are linearly independent**\n",
    "\n",
    "#### 3.1.2. Augmented Matrix\n",
    "\n",
    "- If vector $\\textbf{y}$ is concatenated to matrix $\\textbf{A}$, we say \"$\\textbf{A}$ augmented with $\\textbf{y}$\". Denoted as $(\\textbf{A}\\vert \\textbf{B})$.\n",
    "    - if $\\text{rank}((\\textbf{A}\\vert \\textbf{B})) = \\text{rank}(\\textbf{A})+1$, then vector $\\textbf{y}$ is **\"new\" information**\n",
    "    - otherwise, if $\\text{rank}((\\textbf{A}\\vert \\textbf{B})) = \\text{rank}(\\textbf{A})$,  it means $\\textbf{y}$ can be created as a linear combination of the columns in $\\textbf{A}$"
   ]
  },
  {
   "cell_type": "code",
   "execution_count": 5,
   "id": "db6c8cd5",
   "metadata": {},
   "outputs": [
    {
     "name": "stdout",
     "output_type": "stream",
     "text": [
      "A matrix's shape: (3, 3) \n",
      "y vector's shape (3, 1)\n",
      "\n",
      "Condition number(A): 4.048917339522305\n",
      "Rank(A): 3\n",
      "Trace(A): 3\n",
      "\n",
      "Original A matrix:\n",
      " [[1 1 0]\n",
      " [0 1 0]\n",
      " [1 0 1]] \n",
      "y vector:\n",
      " [[1]\n",
      " [2]\n",
      " [1]] \n",
      "\n",
      "Augmented (A|y) matrix:\n",
      " [[1 1 0 1]\n",
      " [0 1 0 2]\n",
      " [1 0 1 1]]\n",
      "Rank(A_y): 3\n",
      "\n",
      "Note that the rank of A and A_y are both 3, so y is a linear combination of the columns of A.\n",
      "Therefore, there is no new information in y that is not already in A.\n"
     ]
    }
   ],
   "source": [
    "# Compute the condition number and rank for matrix A = [[1,1,0],[0,1,0],[1,0,1]]\n",
    "# If y = [[1],[2],[1]], get the augmented matrix [A,y]\n",
    "\n",
    "from numpy import trace\n",
    "from numpy.linalg import cond, matrix_rank\n",
    "\n",
    "A = np.array([[1, 1, 0], [0, 1, 0], [1, 0, 1]])\n",
    "y = np.array([[1], [2], [1]])\n",
    "print(\"A matrix's shape:\", A.shape, \"\\ny vector's shape\", y.shape)\n",
    "\n",
    "print(\"\\nCondition number(A):\", cond(A))\n",
    "print(\"Rank(A):\", matrix_rank(A))\n",
    "print(\"Trace(A):\", trace(A))\n",
    "\n",
    "A_y = np.concatenate((A, y), axis=1)\n",
    "print(\"\\nOriginal A matrix:\\n\", A, \"\\ny vector:\\n\", y, \"\\n\\nAugmented (A|y) matrix:\\n\", A_y)\n",
    "print(\"Rank(A_y):\", matrix_rank(A_y))\n",
    "\n",
    "print(\"\\nNote that the rank of A and A_y are both 3, so y is a linear combination of the columns of A.\")\n",
    "print(\"Therefore, there is no new information in y that is not already in A.\")\n"
   ]
  },
  {
   "cell_type": "markdown",
   "id": "2c1c39f4-4521-40fd-bc32-5935bfe78287",
   "metadata": {},
   "source": [
    "# 4. 3Blue1Brown's aside\n",
    "## A few useful transformations\n",
    "\n",
    "### Vector Transformations\n",
    "\n",
    "### Matrix Transformations (TBC double check)\n",
    "\n",
    "$$ \\begin{align*} \n",
    "\\text{No change (Identity matrix)} &: \\begin{bmatrix} 1 & 0 \\\\ 0 & 1 \\end{bmatrix} &\\text{in 3D:} \\begin{bmatrix} 1 & 0 & 0 \\\\ 0 & 1 & 0 \\\\ 0 & 0 & 1 \\end{bmatrix}\\\\\\\\\n",
    "\\text{Translation} &: \\text{NA} &\\text{in 3D:} \\begin{bmatrix} 1 & 0 & X \\\\ 0 & 1 & Y \\\\ 0 & 0 & 1 \\end{bmatrix}\\\\\\\\\n",
    "\\text{Scaling (about origin)} &: \\begin{bmatrix} W & 0 \\\\ 0 & H \\end{bmatrix} &\\text{in 3D:} \\begin{bmatrix} W & 0 & 0 \\\\ 0 & H & 0 \\\\ 0 & 0 & 1 \\end{bmatrix}\\\\\\\\\n",
    "\\text{Rotation (about origin)} &: \\begin{bmatrix} \\cos\\theta & -\\sin\\theta \\\\ \\sin\\theta & \\cos\\theta \\end{bmatrix} &\\text{in 3D:} \\begin{bmatrix} \\cos\\theta & -\\sin\\theta & 0 \\\\ \\sin\\theta & \\cos\\theta & 0 \\\\ 0 & 0 & 1 \\end{bmatrix}\\\\\\\\\n",
    "\\text{Shear (in x-direction)} &: \\begin{bmatrix} 1 & \\tan\\phi \\\\ 0 & 1 \\end{bmatrix} &\\text{in 3D:} \\begin{bmatrix} 1 & \\tan\\phi & 0 \\\\ 0 & 1 & 0 \\\\ 0 & 0 & 1 \\end{bmatrix}\\\\\\\\\n",
    "\\text{Shear (in y-direction)} &: \\begin{bmatrix} 1 & 0 \\\\ \\tan\\psi & 1 \\end{bmatrix} &\\text{in 3D:}\\begin{bmatrix} 1 & 0 & 0 \\\\ \\tan\\psi & 1 & 0 \\\\ 0 & 0 & 1 \\end{bmatrix}\\\\\\\\\n",
    "\\text{Reflect (about origin)} &: \\begin{bmatrix} -1 & 0 \\\\ 0 & -1 \\end{bmatrix} &\\text{in 3D:} \\begin{bmatrix} -1 & 0 & 0 \\\\ 0 & -1 & 0 \\\\ 0 & 0 & 1 \\end{bmatrix}\\\\\\\\\n",
    "\\text{Reflect (about x-axis)} &: \\begin{bmatrix} 1 & 0 \\\\ 0 & -1 \\end{bmatrix} &\\text{in 3D:} \\begin{bmatrix} 1 & 0 & 0 \\\\ 0 & -1 & 0 \\\\ 0 & 0 & 1 \\end{bmatrix}\\\\\\\\\n",
    "\\text{Reflect (about y-axis)} &: \\begin{bmatrix} -1 & 0 \\\\ 0 & 1 \\end{bmatrix} &\\text{in 3D:} \\begin{bmatrix} -1 & 0 & 0 \\\\ 0 & 1 & 0 \\\\ 0 & 0 & 1 \\end{bmatrix}\\\\\\\\\n",
    "\\end{align*} $$"
   ]
  }
 ],
 "metadata": {
  "kernelspec": {
   "display_name": "Python 3 (ipykernel)",
   "language": "python",
   "name": "python3"
  },
  "language_info": {
   "codemirror_mode": {
    "name": "ipython",
    "version": 3
   },
   "file_extension": ".py",
   "mimetype": "text/x-python",
   "name": "python",
   "nbconvert_exporter": "python",
   "pygments_lexer": "ipython3",
   "version": "3.13.0"
  }
 },
 "nbformat": 4,
 "nbformat_minor": 5
}
