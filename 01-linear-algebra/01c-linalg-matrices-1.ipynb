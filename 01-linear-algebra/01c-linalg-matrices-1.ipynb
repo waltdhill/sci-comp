{
 "cells": [
  {
   "cell_type": "markdown",
   "id": "b5c9d0a4",
   "metadata": {},
   "source": [
    "# Linear Algebra - Matrices (Pt 1)\n"
   ]
  },
  {
   "cell_type": "markdown",
   "id": "b027391d",
   "metadata": {},
   "source": [
    "## 0. Key Takeaways:\n",
    "\n",
    "### 0.1. Syntax \n",
    "\n",
    "- To define vectors and matrices in NumPy, use `np.array([[]])` with double square brackets\n",
    "    - A row vector: `[[ csv row elements ]]`\n",
    "    - A column vector: `[[elem 1], [elem 2], elem 3]]`, and you can put each on a new line\n",
    "    - A matrix: ``[[ csv row 1], [ csv row 2], ...]``, and you can put each on a new line\n",
    "\n",
    "### 0.2. Concepts covered\n",
    "- Matrices\n",
    "    - <mark>A matrix is simply an object which transforms space linearly</mark>\n",
    "    - Definition and properties (transpose, length `norm`s)\n",
    "    - Addition and scalar multiplication\n",
    "    - Matrix multiplication (using `np.dot`) - inner dimensions must match\n",
    "        - *NB: A vector is just a matrix with 1 column (or row if it's a row vector)*"
   ]
  },
  {
   "cell_type": "markdown",
   "id": "e66c36c9",
   "metadata": {},
   "source": [
    "## 1. Matrices\n",
    "\n",
    "These are $\\mathbb{R}^{m\\times n}$ objects.\n",
    "\n",
    "### 1.1. <mark>Geometric intuition (from 3B1B)</mark>:\n",
    "- <mark>Think of matrices as **encoding** linear transformations of vector spaces</mark>\n",
    "    - I.e. A matrix $\\mathbf{A}$ moves **every input vector** (more precisely, the **point where every vector's tip is**) **linearly** to a new location.\n",
    "- The columns of the matrix can be thought of as **landing points** for the basis (unit) vectors $\\hat{i}$ and $\\hat{j}$ after the transformation is applied\n",
    "- A linear transformation means after applying the matrix $\\mathbf{A}$:\n",
    "    - **the origin remains fixed**, and \n",
    "    - **all grid lines in the space remain straight, parallel, and evenly spaced**\n",
    "\n",
    "### 1.2. Length: \n",
    "\n",
    "If you treat the $m \\times n$ elements of $\\mathbf{M}$ as an $mn$-dimensional (flattened 2D to 1D) **\"vector\"**, the $p$-norm of that \"vector\" is:\n",
    "\n",
    "$$\\Vert \\mathbf{M} \\Vert_{p} = \\sqrt[p]{(\\sum_i^m \\sum_j^n |m_{ij}|^p)}$$\n",
    "\n",
    "For a matrix we also commonly use the L2 norm (referred to as the ***Frobenius norm***) to calculate its magnitude vector. Substitute $p=2$ above\n"
   ]
  },
  {
   "cell_type": "markdown",
   "id": "b6c6b495",
   "metadata": {},
   "source": [
    "## 2. Matrix addition, $\\mathbf{A} + \\mathbf{B}$\n",
    "\n",
    "Same mechanics as for vectors (see above)\n",
    "* **Matrix addition**: $\\mathbf{M} = \\mathbf{A} + \\mathbf{B}$ is the matrix with elements $M_{ij} = A_{ij} + B_{ij}$\n"
   ]
  },
  {
   "cell_type": "code",
   "execution_count": 1,
   "id": "c6292f97",
   "metadata": {},
   "outputs": [
    {
     "name": "stdout",
     "output_type": "stream",
     "text": [
      "Matrix addition: \n",
      "A + B =\n",
      " [[ 4  8]\n",
      " [ 6 10]\n",
      " [14  5]]\n"
     ]
    }
   ],
   "source": [
    "import numpy as np\n",
    "\n",
    "# Sum matrices A and B:\n",
    "A = np.array([[1, 7], [2, 3], [5, 0]])\n",
    "B = np.array([[3, 1], [4, 7], [9, 5]])\n",
    "M = A + B\n",
    "\n",
    "print(\"Matrix addition: \\nA + B =\\n\", M)\n"
   ]
  },
  {
   "cell_type": "markdown",
   "id": "5af23659",
   "metadata": {},
   "source": [
    "## 3. Scalar-matrix multiplication, $\\alpha\\mathbf{A}$\n",
    "* **Scalar multiplication of a matrix**: $\\mathbf{M} = \\alpha \\mathbf{A}$ is the matrix with elements $M_{ij} = \\alpha A_{ij}$\n"
   ]
  },
  {
   "cell_type": "code",
   "execution_count": 2,
   "id": "941d3b3f",
   "metadata": {},
   "outputs": [
    {
     "name": "stdout",
     "output_type": "stream",
     "text": [
      "Scalar matrix multiplication: \n",
      "alpha * A =\n",
      " [[ 2 14]\n",
      " [ 4  6]\n",
      " [10  0]]\n"
     ]
    }
   ],
   "source": [
    "# Multiply matrix A by scalar value alpha = 2\n",
    "A = np.array([[1, 7], [2, 3], [5, 0]])\n",
    "alpha = 2\n",
    "M = alpha * A\n",
    "\n",
    "print(\"Scalar matrix multiplication: \\nalpha * A =\\n\", M)\n"
   ]
  },
  {
   "cell_type": "markdown",
   "id": "45386034",
   "metadata": {},
   "source": [
    "## 4. Matrix multiplication (4 approaches)\n",
    "### 4.1. Matrix times vector multiplication $\\mathbf{Av}$ (<mark>important</mark>)\n",
    "\n",
    "<mark>Geometric intuition (3B1B)</mark>:\n",
    "- A matrix $\\mathbf{A}$ represents a <mark>linear transformation of a vector space</mark> (where $\\mathbf{A} \\in \\mathbb{R}^{m \\times n}$).\n",
    "- Matrix-vector multiplication $\\mathbf{v_{new}=Av}$ <mark>applies this transformation</mark> (encoded in $\\mathbf{A}$) <mark>to a column vector</mark> $\\mathbf{v}$ (where $\\mathbf{v} \\in \\mathbb{R}^{n \\times 1}$).\n",
    "    - Note how inner dimensions match: $\\mathbf{A} \\in \\mathbb{R}^{m \\times n}$ and $\\mathbf{v} \\in \\mathbb{R}^{n \\times 1}$, therefore the result $\\mathbf{v_{new}}$ will also be a column vector, albeit in $\\mathbb{R}^{m \\times 1}$.\n",
    "- Elements of the resultant vector (let's call it $\\mathbf{y=v_{new}}$) are given by: $$ y_i = \\sum _{j=1}^{n}a_{ij}v_{j} $$\n",
    "- <mark>**3B1B intuition for square matrices**</mark>: \n",
    "    - The new vector $\\mathbf{v_{new}}$ will be a linear combination of the columns of $\\mathbf{A}$ (i.e. where the basis vectors $\\hat{i}$ and $\\hat{j}$ **end up** in the new space)\n",
    "    - with coefficients given by the elements of $\\mathbf{v}$.\n",
    "    - For non-square matrices see [this link](https://math.stackexchange.com/questions/1988948/geometric-interpretation-of-non-square-matrices)\n"
   ]
  },
  {
   "cell_type": "code",
   "execution_count": 3,
   "id": "0839d2e3",
   "metadata": {},
   "outputs": [
    {
     "name": "stdout",
     "output_type": "stream",
     "text": [
      "Matrix vector multiplication: \n",
      "Av =\n",
      " [[23]\n",
      " [13]\n",
      " [10]]\n"
     ]
    }
   ],
   "source": [
    "# Multiply matrix A by (column) vector v = [2, 3]\n",
    "A = np.array([[1, 7], [2, 3], [5, 0]])\n",
    "v = np.array([[2], [3]])  # column vector\n",
    "M = A @ v\n",
    "\n",
    "print(\"Matrix vector multiplication: \\nAv =\\n\", M)\n"
   ]
  },
  {
   "cell_type": "markdown",
   "id": "672e12ac",
   "metadata": {},
   "source": [
    "### 4.2. Vector times matrix multiplication, $\\mathbf{v}^\\mathrm{T}\\mathbf{A}$\n",
    "- To multiply a (column) vector by a matrix, first transpose the vector $\\mathbf{v}$ (i.e. make it a **row** vector $\\mathbf{v}^\\mathbf{T}$) to make the inner dimensions match.\n",
    "    - Note how in $\\mathbf{v_{new}=v}^\\mathrm{T}\\mathbf{A}$, inner dimensions match: $\\mathbf{v}^\\mathrm{T} \\in \\mathbb{R}^{1 \\times m}$, and $\\mathbf{A} \\in \\mathbb{R}^{m \\times n}$ therefore the result $\\mathbf{v_{new}}$ will also be a row vector in $\\mathbb{R}^{1 \\times n}$.\n",
    "- Elements of the resultant vector (let's call it $\\mathbf{y=v_{new}}$) are given by: $$y_{k}=\\sum _{j=1}^{n}v_{j}a_{jk}$$\n",
    "  "
   ]
  },
  {
   "cell_type": "code",
   "execution_count": 4,
   "id": "2f8dd15a",
   "metadata": {},
   "outputs": [
    {
     "name": "stdout",
     "output_type": "stream",
     "text": [
      "Vector matrix multiplication: \n",
      "v^T A = [13 23]\n"
     ]
    }
   ],
   "source": [
    "# Transpose the column vector v = [2, 3, 1], and multiply the resulting row vector v^T by matrix A\n",
    "v = np.array([[2], [3], [1]])  # column vector\n",
    "A = np.array([[1, 7], [2, 3], [5, 0]])\n",
    "M = v.T @ A  # v.T is a row vector\n",
    "\n",
    "print(\"Vector matrix multiplication: \\nv^T A =\", M[0])\n"
   ]
  },
  {
   "cell_type": "markdown",
   "id": "c1c996eb",
   "metadata": {},
   "source": [
    "### 4.3. Matrix times matrix Hadamard (element-wise) product, $A\\odot B$:\n",
    "\n",
    "- Definition (same as for vectors): Element-wise product on two matrices of same-dimension (i.e. $A, B\\in \\mathbb{R}^{m \\times n}$)\n",
    "- Elements of the resultant matrix are given by: $ (A\\odot B)_{ij} = (A)_{ij}(B)_{ij} $. Example:\n",
    "\n",
    "$$ \\begin{bmatrix}2&3&1\\\\0&8&-2\\end{bmatrix} \\odot {\\begin{bmatrix}3&1&4\\\\7&9&5\\end{bmatrix}}={\\begin{bmatrix}2\\times 3&3\\times 1&1\\times 4\\\\0\\times 7&8\\times 9&-2\\times 5\\end{bmatrix}}={\\begin{bmatrix}6&3&4\\\\0&72&-10\\end{bmatrix}} $$\n"
   ]
  },
  {
   "cell_type": "code",
   "execution_count": 5,
   "id": "f7d408dd",
   "metadata": {},
   "outputs": [
    {
     "name": "stdout",
     "output_type": "stream",
     "text": [
      "Matrix Hadamard product: \n",
      "A ⊙ B =\n",
      " [[  6   3   4]\n",
      " [  0  72 -10]]\n"
     ]
    }
   ],
   "source": [
    "# Compute the Hadamard product of matrices A and B:\n",
    "A = np.array([[2, 3, 1], [0, 8, -2]])\n",
    "B = np.array([[3, 1, 4], [7, 9, 5]])\n",
    "M = np.multiply(A, B)\n",
    "\n",
    "print(\"Matrix Hadamard product: \\nA ⊙ B =\\n\", M)\n"
   ]
  },
  {
   "cell_type": "markdown",
   "id": "36e37403",
   "metadata": {},
   "source": [
    "### 4.4. Matrix times matrix multiplication, $\\mathbf{AB}$ (use `np.dot(A,B)` to multiply)\n",
    "\n",
    "The inner matrix dimensions of the two matrices (e.g. $\\mathbf{A}$ and $\\mathbf{B}$) **must match**. \n",
    "- $\\mathbf{A}$ is of dimension $\\mathbb{R}^{m \\times p}$\n",
    "- $\\mathbf{B}$ is of dimension $\\mathbb{R}^{p \\times n}$ \n",
    "- Here, the dimension of size $p$ is the **inner matrix dimension**. \n",
    "    - If they match, it means # columns in $\\mathbf{A}$ equals # rows in $\\mathbf{B}$.\n",
    "- Dimensions $m$ and $n$ are the **outer matrix dimensions**. Thus each element of $\\mathbf{M=AB}$ can be computed as:\n",
    "\n",
    "$$M_{ij} = \\sum_{k=1}^p P_{ik}Q_{kj}$$\n",
    "\n",
    "- <mark>I.e. (important)</mark> the $i,j$'th element of $\\mathbf{M}$ is the dot product of the $i$'th row of $\\mathbf{A}$ with $j$'th column of $\\mathbf{Q}$"
   ]
  },
  {
   "cell_type": "code",
   "execution_count": 6,
   "id": "d3e5910a",
   "metadata": {},
   "outputs": [
    {
     "name": "stdout",
     "output_type": "stream",
     "text": [
      "A =\n",
      " [[1 7]\n",
      " [2 3]\n",
      " [5 0]]\n",
      "\n",
      "B =\n",
      " [[2 6 3 1]\n",
      " [1 2 3 4]]\n",
      "\n",
      "AB =\n",
      " [[ 9 20 24 29]\n",
      " [ 7 18 15 14]\n",
      " [10 30 15  5]]\n"
     ]
    }
   ],
   "source": [
    "# Multiply A=[[1,7],[2,3],[5,0]] and B=[[2,6,3,1],[1,2,3,4]] -> [3x2] * [2x4] = output [3x4]\n",
    "\n",
    "A = np.array([[1, 7], [2, 3], [5, 0]])\n",
    "B = np.array([[2, 6, 3, 1], [1, 2, 3, 4]])\n",
    "print(\"A =\\n\", A)\n",
    "print(\"\\nB =\\n\", B)\n",
    "print(\"\\nAB =\\n\", np.dot(A, B))  # <-- inner dimensions match (p=2). output is a [3x4] matrix\n"
   ]
  },
  {
   "cell_type": "code",
   "execution_count": 7,
   "id": "8e0ebefb",
   "metadata": {},
   "outputs": [
    {
     "ename": "ValueError",
     "evalue": "shapes (2,4) and (3,2) not aligned: 4 (dim 1) != 3 (dim 0)",
     "output_type": "error",
     "traceback": [
      "\u001b[0;31m---------------------------------------------------------------------------\u001b[0m",
      "\u001b[0;31mValueError\u001b[0m                                Traceback (most recent call last)",
      "Cell \u001b[0;32mIn[7], line 2\u001b[0m\n\u001b[1;32m      1\u001b[0m \u001b[38;5;66;03m# Multiplying B and A will raise a ValueError\u001b[39;00m\n\u001b[0;32m----> 2\u001b[0m \u001b[43mnp\u001b[49m\u001b[38;5;241;43m.\u001b[39;49m\u001b[43mdot\u001b[49m\u001b[43m(\u001b[49m\u001b[43mB\u001b[49m\u001b[43m,\u001b[49m\u001b[43m \u001b[49m\u001b[43mA\u001b[49m\u001b[43m)\u001b[49m  \u001b[38;5;66;03m# <-- inner dimensions don't match ...4] * [3...; Error\u001b[39;00m\n",
      "\u001b[0;31mValueError\u001b[0m: shapes (2,4) and (3,2) not aligned: 4 (dim 1) != 3 (dim 0)"
     ]
    }
   ],
   "source": [
    "# Multiplying B and A will raise a ValueError\n",
    "np.dot(B, A)  # <-- inner dimensions don't match ...4] * [3...; Error\n"
   ]
  }
 ],
 "metadata": {
  "kernelspec": {
   "display_name": "Python 3 (ipykernel)",
   "language": "python",
   "name": "python3"
  },
  "language_info": {
   "codemirror_mode": {
    "name": "ipython",
    "version": 3
   },
   "file_extension": ".py",
   "mimetype": "text/x-python",
   "name": "python",
   "nbconvert_exporter": "python",
   "pygments_lexer": "ipython3",
   "version": "3.13.0"
  }
 },
 "nbformat": 4,
 "nbformat_minor": 5
}
