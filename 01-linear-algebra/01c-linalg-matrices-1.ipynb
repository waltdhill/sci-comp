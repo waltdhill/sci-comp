{
 "cells": [
  {
   "cell_type": "markdown",
   "id": "b5c9d0a4",
   "metadata": {},
   "source": [
    "# Linear Algebra - Matrices (Pt 1)\n"
   ]
  },
  {
   "cell_type": "markdown",
   "id": "e66c36c9",
   "metadata": {},
   "source": [
    "## 1. Matrices\n",
    "\n",
    "These are $\\mathbb{R}^{m\\times n}$ objects.\n",
    "\n",
    "### 1.1. <mark>Geometric intuition (from 3B1B)</mark>:\n",
    "- <mark>Think of matrices as **encoding** linear transformations of vector spaces</mark>\n",
    "    - I.e. A matrix $\\textbf{A}$ moves **every input vector** (more precisely, the **point where every vector's tip is**) **linearly** to a new location.\n",
    "- The columns of the matrix can be thought of as **landing points** for the basis (unit) vectors $\\hat{i} = \\left[\\begin{smallmatrix} 1 \\\\ 0 \\end{smallmatrix}\\right]$ and $\\hat{j} = \\left[\\begin{smallmatrix} 0 \\\\ 1 \\end{smallmatrix}\\right]$ after the transformation is applied\n",
    "- A linear transformation means after applying the matrix $\\textbf{A}$:\n",
    "    - **the origin remains fixed**, and \n",
    "    - **all grid lines in the space remain straight, parallel, and evenly spaced**\n",
    "\n",
    "### 1.2. Length: \n",
    "\n",
    "If you treat the $m \\times n$ elements of $\\textbf{M}$ as an $mn$-dimensional (flattened 2D to 1D) **\"vector\"**, the $p$-norm of that \"vector\" is:\n",
    "\n",
    "$$\\Vert \\textbf{M} \\Vert_{p} = \\sqrt[p]{(\\sum_i^m \\sum_j^n |m_{ij}|^p)}$$\n",
    "\n",
    "For a matrix we also commonly use the L2 norm (referred to as the ***Frobenius norm***) to calculate its magnitude vector. Substitute $p=2$ above\n"
   ]
  },
  {
   "cell_type": "markdown",
   "id": "b6c6b495",
   "metadata": {},
   "source": [
    "## 2. Matrix addition, $\\textbf{A} + \\textbf{B}$\n",
    "\n",
    "Same mechanics as for vectors (see above)\n",
    "* **Matrix addition**: $\\textbf{M} = \\textbf{A} + \\textbf{B}$ is the matrix with elements $M_{ij} = A_{ij} + B_{ij}$\n"
   ]
  },
  {
   "cell_type": "code",
   "execution_count": 1,
   "id": "c6292f97",
   "metadata": {},
   "outputs": [
    {
     "name": "stdout",
     "output_type": "stream",
     "text": [
      "A =\n",
      " [[1 7]\n",
      " [2 3]\n",
      " [5 0]] \n",
      "B =\n",
      " [[3 1]\n",
      " [4 7]\n",
      " [9 5]]\n",
      "\n",
      "Matrix addition: \n",
      "A + B =\n",
      " [[ 4  8]\n",
      " [ 6 10]\n",
      " [14  5]]\n"
     ]
    }
   ],
   "source": [
    "import numpy as np\n",
    "\n",
    "# Sum matrices A and B:\n",
    "A = np.array([[1, 7], [2, 3], [5, 0]])\n",
    "B = np.array([[3, 1], [4, 7], [9, 5]])\n",
    "\n",
    "M = A + B\n",
    "\n",
    "print(\"A =\\n\", A, \"\\nB =\\n\", B)\n",
    "print(\"\\nMatrix addition: \\nA + B =\\n\", M)\n"
   ]
  },
  {
   "cell_type": "markdown",
   "id": "5af23659",
   "metadata": {},
   "source": [
    "## 3. Scalar-matrix multiplication, $\\alpha\\textbf{A}$\n",
    "* **Scalar multiplication of a matrix**: $\\textbf{M} = \\alpha \\textbf{A}$ is the matrix with elements $M_{ij} = \\alpha A_{ij}$\n"
   ]
  },
  {
   "cell_type": "code",
   "execution_count": 2,
   "id": "941d3b3f",
   "metadata": {},
   "outputs": [
    {
     "name": "stdout",
     "output_type": "stream",
     "text": [
      "alpha =\n",
      " 2 \n",
      "A =\n",
      " [[1 7]\n",
      " [2 3]\n",
      " [5 0]]\n",
      "\n",
      "Scalar matrix multiplication: \n",
      "alpha * A =\n",
      " [[ 2 14]\n",
      " [ 4  6]\n",
      " [10  0]]\n"
     ]
    }
   ],
   "source": [
    "# Multiply matrix A by scalar value alpha = 2\n",
    "A = np.array([[1, 7], [2, 3], [5, 0]])\n",
    "alpha = 2\n",
    "M = alpha * A\n",
    "\n",
    "print(\"alpha =\\n\", alpha, \"\\nA =\\n\", A)\n",
    "print(\"\\nScalar matrix multiplication: \\nalpha * A =\\n\", M)\n"
   ]
  },
  {
   "cell_type": "markdown",
   "id": "1d7554f2",
   "metadata": {},
   "source": [
    "#TODO The below section probably needs updating for square vs non-square matrices"
   ]
  },
  {
   "cell_type": "markdown",
   "id": "45386034",
   "metadata": {},
   "source": [
    "## 4. Matrix multiplication (4 approaches)\n",
    "### 4.1. Matrix times vector, $\\textbf{Av}$\n",
    "\n",
    "<mark>Geometric intuition for square matrices (3B1B)</mark>:\n",
    "- A square matrix $\\textbf{A}$ represents a <mark>linear transformation of a vector space</mark> (where $\\textbf{A} \\in \\mathbb{R}^{m \\times n}$).\n",
    "- Matrix-vector multiplication $\\textbf{v}_\\text{new}=\\textbf{Av}$ <mark>applies this transformation</mark> (encoded in $\\textbf{A}$) <mark>to a column vector</mark> $\\textbf{v}$ (where $\\textbf{v} \\in \\mathbb{R}^{n \\times 1}$).\n",
    "    - Note how inner dimensions match: $\\textbf{A} \\in \\mathbb{R}^{m \\times n}$ and $\\textbf{v} \\in \\mathbb{R}^{n \\times 1}$, therefore the result $\\textbf{v}_\\text{new}$ will also be a column vector, albeit in $\\mathbb{R}^{m \\times 1}$.\n",
    "- Elements of the resultant vector (let's call it $\\textbf{y}=\\textbf{v}_\\text{new}$) are given by: $$ y_i = \\sum _{j=1}^{n}a_{ij}v_{j} $$\n",
    "- <mark>**3B1B intuition for square matrices**</mark>: \n",
    "    - The new vector $\\textbf{v}_\\text{new}$ will be a linear combination of the columns of $\\textbf{A}$ (i.e. where the basis vectors $\\hat{i} = \\left[\\begin{smallmatrix} 1 \\\\ 0 \\end{smallmatrix}\\right]$ and $\\hat{j} = \\left[\\begin{smallmatrix} 0 \\\\ 1 \\end{smallmatrix}\\right]$ **end up** in the new space)\n",
    "    - with coefficients given by the elements of $\\textbf{v}$.\n",
    "    - For non-square matrices see [this link](https://math.stackexchange.com/questions/1988948/geometric-interpretation-of-non-square-matrices)\n"
   ]
  },
  {
   "cell_type": "code",
   "execution_count": 3,
   "id": "0839d2e3",
   "metadata": {},
   "outputs": [
    {
     "name": "stdout",
     "output_type": "stream",
     "text": [
      "A =\n",
      " [[1 7]\n",
      " [2 3]\n",
      " [5 0]] \n",
      "v =\n",
      " [[2]\n",
      " [3]]\n",
      "\n",
      "Matrix times vector: \n",
      "Av =\n",
      " [[23]\n",
      " [13]\n",
      " [10]]\n"
     ]
    }
   ],
   "source": [
    "# Multiply matrix A by (column) vector v = [2, 3]\n",
    "A = np.array([[1, 7], [2, 3], [5, 0]])\n",
    "v = np.array([[2], [3]])  # column vector\n",
    "M = A @ v\n",
    "\n",
    "print(\"A =\\n\", A, \"\\nv =\\n\", v)\n",
    "print(\"\\nMatrix times vector: \\nAv =\\n\", M)\n"
   ]
  },
  {
   "cell_type": "markdown",
   "id": "672e12ac",
   "metadata": {},
   "source": [
    "### 4.2. Vector times matrix (pre-multiply), $\\textbf{v}^\\mathrm{T}\\textbf{A}$\n",
    "- To multiply a (column) vector by a matrix, first transpose the vector $\\textbf{v}$ (i.e. make it a **row** vector $\\textbf{v}^\\textbf{T}$) to make the inner dimensions match.\n",
    "    - Note how in $\\textbf{v}_\\text{new}=\\textbf{v}^\\mathrm{T}\\textbf{A}$, inner dimensions match: $\\textbf{v}^\\mathrm{T} \\in \\mathbb{R}^{1 \\times m}$, and $\\textbf{A} \\in \\mathbb{R}^{m \\times n}$ therefore the result $\\textbf{v}_{new}$ will also be a row vector in $\\mathbb{R}^{1 \\times n}$.\n",
    "- Elements of the resultant vector (let's call it $\\textbf{y}=\\textbf{v}_\\text{new}$) are given by: $$y_{k}=\\sum _{j=1}^{n}v_{j}a_{jk}$$\n",
    "  "
   ]
  },
  {
   "cell_type": "code",
   "execution_count": 4,
   "id": "2f8dd15a",
   "metadata": {},
   "outputs": [
    {
     "name": "stdout",
     "output_type": "stream",
     "text": [
      "v.T =\n",
      " [[2 3 1]] \n",
      "A =\n",
      " [[1 7]\n",
      " [2 3]\n",
      " [5 0]]\n",
      "\n",
      "Vector times matrix: \n",
      "v^T A = [13 23]\n"
     ]
    }
   ],
   "source": [
    "# Transpose the column vector v = [2, 3, 1], and multiply the resulting row vector v^T by matrix A\n",
    "v = np.array([[2], [3], [1]])  # column vector\n",
    "A = np.array([[1, 7], [2, 3], [5, 0]])\n",
    "M = v.T @ A  # v.T is a row vector\n",
    "\n",
    "print(\"v.T =\\n\", v.T, \"\\nA =\\n\", A)\n",
    "print(\"\\nVector times matrix: \\nv^T A =\", M[0])\n"
   ]
  },
  {
   "cell_type": "markdown",
   "id": "c1c996eb",
   "metadata": {},
   "source": [
    "### 4.3. Matrix Hadamard (element-wise) product, $A\\odot B$:\n",
    "\n",
    "- Definition (same as for vectors): Element-wise product on two matrices of same-dimension (i.e. $A, B\\in \\mathbb{R}^{m \\times n}$)\n",
    "- Elements of the resultant matrix are given by: $ (A\\odot B)_{ij} = (A)_{ij}(B)_{ij} $. Example:\n",
    "\n",
    "$$ \\begin{bmatrix}2&3&1\\\\0&8&-2\\end{bmatrix} \\odot {\\begin{bmatrix}3&1&4\\\\7&9&5\\end{bmatrix}}={\\begin{bmatrix}2\\times 3&3\\times 1&1\\times 4\\\\0\\times 7&8\\times 9&-2\\times 5\\end{bmatrix}}={\\begin{bmatrix}6&3&4\\\\0&72&-10\\end{bmatrix}} $$\n"
   ]
  },
  {
   "cell_type": "code",
   "execution_count": 5,
   "id": "f7d408dd",
   "metadata": {},
   "outputs": [
    {
     "name": "stdout",
     "output_type": "stream",
     "text": [
      "A =\n",
      " [[ 2  3  1]\n",
      " [ 0  8 -2]] \n",
      "B =\n",
      " [[3 1 4]\n",
      " [7 9 5]]\n",
      "\n",
      "Matrix Hadamard product: \n",
      "A ⊙ B =\n",
      " [[  6   3   4]\n",
      " [  0  72 -10]]\n"
     ]
    }
   ],
   "source": [
    "# Compute the Hadamard product of matrices A and B:\n",
    "A = np.array([[2, 3, 1], [0, 8, -2]])\n",
    "B = np.array([[3, 1, 4], [7, 9, 5]])\n",
    "M = np.multiply(A, B)\n",
    "\n",
    "print(\"A =\\n\", A, \"\\nB =\\n\", B)\n",
    "print(\"\\nMatrix Hadamard product: \\nA ⊙ B =\\n\", M)\n"
   ]
  },
  {
   "cell_type": "markdown",
   "id": "36e37403",
   "metadata": {},
   "source": [
    "### 4.4. Matrix times matrix, $\\textbf{AB}$ (use `np.dot(A,B)` to multiply)\n",
    "\n",
    "The inner matrix dimensions of the two matrices (e.g. $\\textbf{A}$ and $\\textbf{B}$) **must match**. \n",
    "- $\\textbf{A}$ is of dimension $\\mathbb{R}^{m \\times p}$\n",
    "- $\\textbf{B}$ is of dimension $\\mathbb{R}^{p \\times n}$ \n",
    "- Here, the dimension of size $p$ is the **inner matrix dimension**. \n",
    "    - If they match, it means # columns in $\\textbf{A}$ equals # rows in $\\textbf{B}$.\n",
    "- Dimensions $m$ and $n$ are the **outer matrix dimensions**. Thus each element of $\\textbf{M=AB}$ can be computed as:\n",
    "\n",
    "$$M_{ij} = \\sum_{k=1}^p P_{ik}Q_{kj}$$\n",
    "\n",
    "- <mark>I.e. (important)</mark> the $i,j$'th element of $\\textbf{M}$ is the dot product of the $i$'th row of $\\textbf{A}$ with $j$'th column of $\\textbf{Q}$"
   ]
  },
  {
   "cell_type": "code",
   "execution_count": 6,
   "id": "d3e5910a",
   "metadata": {},
   "outputs": [
    {
     "name": "stdout",
     "output_type": "stream",
     "text": [
      "A =\n",
      " [[1 7]\n",
      " [2 3]\n",
      " [5 0]] \n",
      "B =\n",
      " [[2 6 3 1]\n",
      " [1 2 3 4]]\n",
      "\n",
      "Matrix times matrix: \n",
      "AB =\n",
      " [[ 9 20 24 29]\n",
      " [ 7 18 15 14]\n",
      " [10 30 15  5]]\n"
     ]
    }
   ],
   "source": [
    "# Multiply A=[[1,7],[2,3],[5,0]] and B=[[2,6,3,1],[1,2,3,4]] -> [3x2] * [2x4] = output [3x4]\n",
    "\n",
    "A = np.array([[1, 7], [2, 3], [5, 0]])\n",
    "B = np.array([[2, 6, 3, 1], [1, 2, 3, 4]])\n",
    "\n",
    "print(\"A =\\n\", A, \"\\nB =\\n\", B)\n",
    "print(\"\\nMatrix times matrix: \\nAB =\\n\", np.dot(A, B))  # <-- inner dimensions match (p=2). output is a [3x4] matrix\n"
   ]
  },
  {
   "cell_type": "code",
   "execution_count": 7,
   "id": "8e0ebefb",
   "metadata": {},
   "outputs": [
    {
     "ename": "ValueError",
     "evalue": "shapes (2,4) and (3,2) not aligned: 4 (dim 1) != 3 (dim 0)",
     "output_type": "error",
     "traceback": [
      "\u001b[0;31m---------------------------------------------------------------------------\u001b[0m",
      "\u001b[0;31mValueError\u001b[0m                                Traceback (most recent call last)",
      "Cell \u001b[0;32mIn[7], line 2\u001b[0m\n\u001b[1;32m      1\u001b[0m \u001b[38;5;66;03m# Multiplying B and A will raise a ValueError\u001b[39;00m\n\u001b[0;32m----> 2\u001b[0m \u001b[43mnp\u001b[49m\u001b[38;5;241;43m.\u001b[39;49m\u001b[43mdot\u001b[49m\u001b[43m(\u001b[49m\u001b[43mB\u001b[49m\u001b[43m,\u001b[49m\u001b[43m \u001b[49m\u001b[43mA\u001b[49m\u001b[43m)\u001b[49m  \u001b[38;5;66;03m# <-- inner dimensions don't match ...4] * [3...; Error\u001b[39;00m\n",
      "\u001b[0;31mValueError\u001b[0m: shapes (2,4) and (3,2) not aligned: 4 (dim 1) != 3 (dim 0)"
     ]
    }
   ],
   "source": [
    "# Multiplying B and A will raise a ValueError\n",
    "np.dot(B, A)  # <-- inner dimensions don't match ...4] * [3...; Error\n"
   ]
  },
  {
   "cell_type": "markdown",
   "id": "6f38e39e",
   "metadata": {},
   "source": [
    "## 5. Matrix multiplication as composition of linear transformations\n",
    "\n",
    "To perform multiple linear transformations (in order) on a vector $\\textbf{v}$, you can pre-multiply $\\textbf{v}$ by the matrices representing each transformation.\n",
    "\n",
    "### 5.1. Example:\n",
    "For example, say you wish to apply **two** transformations to $\\textbf{v}$. **First**, a rotation, **then** a shear (in that order). \n",
    "\n",
    "- Let's call $\\textbf{M}_1$ the $\\text{Rotation}$ matrix, and\n",
    "- $\\textbf{M}_2$ the $\\text{Shear}$ matrix\n",
    "\n",
    "We can apply both transformations as follows:\n",
    "\n",
    "$$\n",
    "\n",
    "\\begin{equation*}\n",
    "\\underbrace{\n",
    "\\begin{bmatrix}\n",
    "    1 & 1 \\\\\n",
    "    0 & 1\n",
    "\\end{bmatrix}\n",
    "}_{\\text{\\small 2. Shear}}\n",
    "\\left(\n",
    "\\smash{\\underbrace{\n",
    "\\begin{bmatrix}\n",
    "    0 & -1 \\\\\n",
    "    1 & 0\n",
    "\\end{bmatrix}\n",
    "}_{\\text{\\small 1. Rotation}}}\n",
    "\\begin{bmatrix}\n",
    "    x \\\\\n",
    "    y\n",
    "\\end{bmatrix}\n",
    "\\right)\n",
    "=\n",
    "\\underbrace{\n",
    "\\begin{bmatrix}\n",
    "    1 & -1 \\\\\n",
    "    1 & 0\n",
    "\\end{bmatrix}\n",
    "}_{\\text{\\small Composition}}\n",
    "\\begin{bmatrix}\n",
    "    x \\\\\n",
    "    y\n",
    "\\end{bmatrix}\n",
    "\\end{equation*}\n",
    "\n",
    "$$\n",
    "\n",
    "Note this reads from **right to left**: $\\textbf{M}_2(\\textbf{M}_1\\textbf{v})$ means first apply $\\textbf{M}_1$ to $\\textbf{v}$, then apply $\\textbf{M}_2$ to the result of that.\n",
    "\n",
    "Note that the **composition** matrix $\\textbf{M}_2\\textbf{M}_1$ is the matrix that represents the **combined** transformation of the two individual transformations:\n",
    "\n",
    "$$\n",
    "\n",
    "\\begin{equation*}\n",
    "\\underbrace{\n",
    "\\begin{bmatrix}\n",
    "    1 & 1 \\\\\n",
    "    0 & 1\n",
    "\\end{bmatrix}\n",
    "}_{\\text{\\small 2. Shear}}\n",
    "\\;\\;\n",
    "\\underbrace{\n",
    "\\begin{bmatrix}\n",
    "    0 & -1 \\\\\n",
    "    1 & 0\n",
    "\\end{bmatrix}\n",
    "}_{\\text{\\small 1. Rotation}}\n",
    "=\n",
    "\\underbrace{\n",
    "\\begin{bmatrix}\n",
    "    1 & -1 \\\\\n",
    "    1 & 0\n",
    "\\end{bmatrix}\n",
    "}_{\\text{\\small Composition}}\n",
    "\\end{equation*}\n",
    "\n",
    "$$\n"
   ]
  },
  {
   "cell_type": "markdown",
   "id": "83f97b0b",
   "metadata": {},
   "source": [
    "### 5.2. Geometric intuition\n",
    "\n",
    "#### 5.2.1. Rotation matrix $\\textbf{M}_1$:\n",
    "$\\textbf{M}_1$ ($\\text{Rotation}$ matrix) tells you where the basis vectors $\\hat{i} = \\left[\\begin{smallmatrix} 1 \\\\ 0 \\end{smallmatrix}\\right]$ and $\\hat{j} = \\left[\\begin{smallmatrix} 0 \\\\ 1 \\end{smallmatrix}\\right]$ end up after the **first** transformation (Rotation).\n",
    "\n",
    "$$\n",
    "\\begin{equation*}\n",
    "\\textbf{M}_1\n",
    "=\n",
    "\\begin{bmatrix}\n",
    "    0 & -1 \\\\\n",
    "    1 & 0\n",
    "\\end{bmatrix}\n",
    "\\end{equation*}\n",
    "$$\n",
    "\n",
    "Specifically:\n",
    "\n",
    "- Column 1 of $\\textbf{M}_1$ states that the first basis vector $\\hat{i}$ is rotated as follows: $\\left[\\begin{smallmatrix} 1 \\\\ 0 \\end{smallmatrix}\\right] \\rightarrow \\left[\\begin{smallmatrix} 0 \\\\ 1 \\end{smallmatrix}\\right]$\n",
    "- Column 2 of $\\textbf{M}_1$ states that the second basis vector $\\hat{j}$ is rotated as follows: $\\left[\\begin{smallmatrix} 0 \\\\ 1 \\end{smallmatrix}\\right] \\rightarrow \\left[\\begin{smallmatrix} -1 \\\\ 0 \\end{smallmatrix}\\right]$\n"
   ]
  },
  {
   "cell_type": "markdown",
   "id": "1c5b9a8e",
   "metadata": {},
   "source": [
    "#### 5.2.1. Shear matrix $\\textbf{M}_2$:\n",
    "\n",
    "Next, $\\textbf{M}_2$ ($\\text{Shear}$ matrix) states where these \"new\" (rotated) basis vectors end up after the **second** (shear) transformation.\n",
    "\n",
    "The rotated $\\hat{i}$ is \"sheared\":\n",
    "\n",
    "$$\n",
    "\n",
    "\\begin{equation*}\n",
    "\\begin{aligned}\n",
    "&\\underbrace{\n",
    "\\begin{bmatrix}\n",
    "    1 & 1 \\\\\n",
    "    0 & 1\n",
    "\\end{bmatrix}\n",
    "}_{\\textbf{M}_2}\n",
    "\\underbrace{\n",
    "\\begin{bmatrix}\n",
    "    0 \\\\\n",
    "    1\n",
    "\\end{bmatrix}\n",
    "}_{\\text{Rotated }\\hat{i}}\n",
    "= \n",
    "0 \n",
    "\\begin{bmatrix}\n",
    "    1 \\\\ 0\n",
    "\\end{bmatrix}\n",
    "+ 1\n",
    "\\begin{bmatrix}\n",
    "    1 \\\\ 1\n",
    "\\end{bmatrix}\n",
    "=\n",
    "\\underbrace{\n",
    "\\begin{bmatrix}\n",
    "    1 \\\\\n",
    "    1\n",
    "\\end{bmatrix}\n",
    "}_{\\substack{\\text{Rotated, then} \\\\ \\text{Sheared $\\hat{i}$}}}\n",
    "\\end{aligned}\n",
    "\\end{equation*}\n",
    "$$"
   ]
  },
  {
   "cell_type": "markdown",
   "id": "348eb4b5",
   "metadata": {},
   "source": [
    "Similarly, the rotated $\\hat{j}$ is \"sheared\" as follows:\n",
    "\n",
    "$$\n",
    "\n",
    "\\begin{equation*}\n",
    "\\begin{aligned}\n",
    "&\\underbrace{\n",
    "\\begin{bmatrix}\n",
    "    1 & 1 \\\\\n",
    "    0 & 1\n",
    "\\end{bmatrix}\n",
    "}_{\\textbf{M}_2}\n",
    "\\underbrace{\n",
    "\\begin{bmatrix}\n",
    "    -1 \\\\\n",
    "    0\n",
    "\\end{bmatrix}\n",
    "}_{\\text{Rotated }\\hat{i}}\n",
    "= \n",
    "-1\n",
    "\\begin{bmatrix}\n",
    "    1 \\\\ 0\n",
    "\\end{bmatrix}\n",
    "+ 0\n",
    "\\begin{bmatrix}\n",
    "    1 \\\\ 1\n",
    "\\end{bmatrix}\n",
    "=\n",
    "\\underbrace{\n",
    "\\begin{bmatrix}\n",
    "    -1 \\\\\n",
    "    0\n",
    "\\end{bmatrix}\n",
    "}_{\\substack{\\text{Rotated, then} \\\\ \\text{Sheared $\\hat{j}$}}}\n",
    "\\end{aligned}\n",
    "\\end{equation*}\n",
    "$$"
   ]
  },
  {
   "cell_type": "markdown",
   "id": "9249e5ca",
   "metadata": {},
   "source": [
    "$$\n",
    "\n",
    "\\begin{equation*}\n",
    "\\begin{bmatrix}\n",
    "    a & b \\\\\n",
    "    c & d\n",
    "\\end{bmatrix}\n",
    "\\begin{bmatrix}\n",
    "    e & f \\\\\n",
    "    g & h\n",
    "\\end{bmatrix}\n",
    "=\n",
    "\\begin{bmatrix}\n",
    "    ae+bg & af+bh \\\\\n",
    "    ce+dg & cf+dh\n",
    "\\end{bmatrix}\n",
    "\\end{equation*}\n",
    "\n",
    "$$"
   ]
  }
 ],
 "metadata": {
  "kernelspec": {
   "display_name": "Python 3 (ipykernel)",
   "language": "python",
   "name": "python3"
  },
  "language_info": {
   "codemirror_mode": {
    "name": "ipython",
    "version": 3
   },
   "file_extension": ".py",
   "mimetype": "text/x-python",
   "name": "python",
   "nbconvert_exporter": "python",
   "pygments_lexer": "ipython3",
   "version": "3.13.0"
  }
 },
 "nbformat": 4,
 "nbformat_minor": 5
}
