{
 "cells": [
  {
   "cell_type": "markdown",
   "id": "b5c9d0a4",
   "metadata": {},
   "source": [
    "# Linear Algebra - Set Notation\n",
    "\n",
    "Commonly encountered objects and calculations in Linear Algebra, implemented in Python.\n",
    "\n",
    "Sources:\n",
    "- [Python Numerical Methods: Basics of Linear Algebra](https://pythonnumericalmethods.berkeley.edu/notebooks/chapter14.01-Basics-of-Linear-Algebra.html)\n",
    "- https://en.wikipedia.org/wiki/Matrix_multiplication\n",
    "- https://en.wikipedia.org/wiki/Dot_product\n",
    "- https://en.wikipedia.org/wiki/Cross_product\n",
    "- https://en.wikipedia.org/wiki/Hadamard_product_(matrices)\n",
    "- https://en.wikipedia.org/wiki/Tensor_product"
   ]
  },
  {
   "cell_type": "markdown",
   "id": "fe396301",
   "metadata": {
    "jp-MarkdownHeadingCollapsed": true
   },
   "source": [
    "## 1. Set Notation\n",
    "\n",
    "- A collection of objects (objects are denoted in braces {})\n",
    "    - **Empty set** (denoted $\\{\\}$ or $\\emptyset$): the set containing no objects)\n",
    "- Common set operations:\n",
    "    - **Union**, $A \\cup B$: Set containing all elements of $A$ **or** $B$\n",
    "    - **Intersection**, $A \\cap B$: Set containing all elements that belong to **both** $A$ **and** $B$\n",
    "    - **Proper/strict subset**, $C \\subset A$: $C$ is a strict subset of (i.e. included in; **but is not equal** to) $A$\n",
    "        - **Subset**, $C\\subseteq A$: $C$ is a subset of (i.e. included in; **or is equal** to) $A$\n",
    "    - **Proper/strict superset**, $C \\supset A$: $C$ is a strict superset of (i.e. includes; **but is not equal** to) $A$\n",
    "        - **Superset**, $C\\supseteq A$: $C$ is a superset of (i.e. includes; **or is equal** to) $A$\n",
    "    - **Relative complement**: \n",
    "    - Colon ($:$) means \"**such that**\"\n",
    "    - $a\\in A$ means \"element $a$ is a member of set $A$\"\n",
    "    - Backslash ($\\backslash$) means \"\"**set minus**\" so if $a\\in A$, then  $A\\backslash a$ means \"$A$ minus the element $a$\"\n",
    "- Some standard sets related to numbers: \n",
    "    - Naturals: $\\mathbb{N} = \\{1, 2, 3, 4, \\cdots\\}$\n",
    "    - Wholes: $\\mathbb{W} = \\mathbb{N} \\cup \\{0\\}$\n",
    "    - Integers: $\\mathbb{Z} = \\mathbb{W} \\cup \\{-1, -2, -3, \\cdots\\}$\n",
    "    - Rationals: $\\mathbb{Q} =  \\{\\frac{p}{q} : p\\in {\\mathbb{Z}}, q\\in {\\mathbb{Z}} \\backslash \\{0\\}\\}$\n",
    "    - Irrationals: $\\mathbb{I}$ is the set of real numbers not expressible as a fraction of integers\n",
    "    - Reals: $\\mathbb{R} = \\mathbb{Q} \\cup \\mathbb{I}$\n",
    "    - Complex numbers: $\\mathbb{C} = \\{a + bi : a,b\\in {\\mathbb{R}}, i = \\sqrt{-1}\\}$\n",
    "- Example:\n",
    "    - Let $S$ be the set of all real $(x,y)$ pairs such that $x^2 + y^2 = 1$ Write $S$ using set notation:\n",
    "    - $S = \\{(x,y) : x,y \\in {\\mathbb{R}}, x^2 + y^2 = 1\\}$\n"
   ]
  },
  {
   "cell_type": "markdown",
   "id": "b027391d",
   "metadata": {},
   "source": [
    "## List of functions left to write\n",
    "\n",
    "- Masks (e.g. lower triangle, upper triangle and identity)\n",
    "- Basic identities (e.g. LU decomposition and the other commonly used ones, $Z^TZ$ etc, $A^TAI$)\n",
    "\n",
    "## Open questions:\n",
    "- What is the interpretation, and general point of determinant, trace and rank?\n",
    "- Why do we care about full-rank? Is it somehow better?\n",
    "- $\\text{det}(M_1 M_2) = \\text{det}(M_1) \\text{det}(M_2)$\n",
    "- Explain the geometric intuition behind a determinant"
   ]
  }
 ],
 "metadata": {
  "kernelspec": {
   "display_name": "Python 3 (ipykernel)",
   "language": "python",
   "name": "python3"
  },
  "language_info": {
   "codemirror_mode": {
    "name": "ipython",
    "version": 3
   },
   "file_extension": ".py",
   "mimetype": "text/x-python",
   "name": "python",
   "nbconvert_exporter": "python",
   "pygments_lexer": "ipython3",
   "version": "3.13.0"
  }
 },
 "nbformat": 4,
 "nbformat_minor": 5
}
