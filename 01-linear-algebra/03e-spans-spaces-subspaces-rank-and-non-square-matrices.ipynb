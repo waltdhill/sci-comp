{
 "cells": [
  {
   "cell_type": "markdown",
   "id": "b5c9d0a4",
   "metadata": {},
   "source": [
    "# Linear Algebra - Matrices (Pt 5) - \n",
    "# In progress - Rank and non-square matrix explanation\n"
   ]
  },
  {
   "cell_type": "markdown",
   "id": "20ca6dfe",
   "metadata": {},
   "source": [
    "## 1. Spans and spaces\n",
    "\n",
    "- **Span**: The span of a set of vectors is **all linear combinations of those vectors**\n",
    "- **Vector space** is denoted as $\\mathbb{R}^n$. \n",
    "    - Every element in a vector space can be written as a **linear combination** of the elements in the **basis** (unit) vectors\n",
    "        - **Basis (unit) vectors** (example): For a 2D vector space, the basis vectors are $\\hat{i} = \\left[\\begin{smallmatrix} 1 \\\\ 0 \\end{smallmatrix}\\right]$ and $\\hat{j} = \\left[\\begin{smallmatrix} 0 \\\\ 1 \\end{smallmatrix}\\right]$\n",
    "        - A matrix $\\textbf{A}$ applies a linear transformation to a vector space (i.e. all vectors in the space)\n",
    "        - <mark>The columns of</mark> $\\textbf{A}$ <mark>represent the **landing points** for the basis (unit) vectors **after the transformation**</mark>\n",
    "            - By extension, $\\textbf{A}$ moves **every input vector** (more precisely, the **point where every vector's tip is**) **linearly** to a new location.\n",
    "        - We only need to know how $\\textbf{A}$ transforms the bases $\\hat{i}$ and $\\hat{j}$, since\n",
    "            - any other vector $\\textbf{v}$ is <mark>just a **linear combination** of $\\hat{i}$ and $\\hat{j}$ **both before and after being transformed by $\\textbf{A}$**</mark>\n",
    "- **Subspace**: a subset of a larger vector space\n",
    "    - <mark>**Geometric intuition**: A subspace of a 3D vector space is a 2D plane that passes through the origin</mark>\n",
    "    - **Column space** (aka *range*, or *image*): Span (i.e. set of all possible linear combinations) of the column vectors of $\\textbf{A}$\n",
    "        - <mark>Geometrically:</mark> Essentially, the entire **output space**\n",
    "    - **Row space**: Span of the row vectors of $\\textbf{A}$\n",
    "    - **Null space** (or **kernel**): If $\\textbf{A} \\cdot \\textbf{x} = \\textbf{0}$, the span of all solutions $\\textbf{x}$ constitutes the **null space** of $\\textbf{A}$\n",
    "        - <mark>Geometrically:</mark> The space of all vectors that $\\textbf{A}$ maps onto the zero vector (i.e. they are squished by $\\textbf{A}$ onto the origin)\n",
    "    - **Left-Null space**: If $\\textbf{A}^\\textrm{T} \\cdot \\textbf{x} = \\textbf{0}$, the span of all solutions $\\textbf{x}$ constitutes the **left-null space** of $\\textbf{A}$\n",
    "    \n",
    "## 2. More properties\n",
    "\n",
    "- **Rank**: The number of **linearly independent** columns (or rows) in $\\textbf{A}$ is its rank\n",
    "- **Orthonormal vectors**: Two unit length vectors whose inner (i.e. dot) products are 0 (e.g. $\\hat{i}$ and $\\hat{j}$)\n",
    "- **Real value matrices**:\n",
    "    - **Orthogonal matrices**: If $\\textbf{A}$'s rows and cols are orthonormal vectors, $\\textbf{A}$ is an orthogonal matrix. It satisfies:\n",
    "        - $\\textbf{A}^\\textrm{T}\\textbf{A} = \\textbf{AA}^\\textrm{T} = \\textbf{I}$\n",
    "    - **Symmetric matrix**: where $\\textbf{A}^\\textrm{T} = \\textbf{A}$ (square matrices only) \n",
    "- **Complex value matrices**\n",
    "    - Hermitian matrix: Complex matrices' analog to orthogonal matrix\n",
    "    - Unitary matrix: Complex matrices' analog to symmetric matrix\n",
    "- **Determinant**: This can be computed for any square matrix $\\textbf{A}$\n",
    "    - Matrices are only invertible if $det(\\textbf{A}) \\ne 0$. Such matrices are **non-singular**; and satisfy $\\textbf{AA}^{-1}=\\textbf{I}$\n",
    "    - Matrices where $det(\\textbf{A}) = 0$ are not invertible. They are **singular** matrices\n",
    "  \n",
    "## 3. Examples of the above (where relevant):\n",
    "\n",
    "- The **span** of vectors $\\left[\\begin{smallmatrix} 1 \\\\ 0 \\end{smallmatrix}\\right]$ and $\\left[\\begin{smallmatrix} 0 \\\\ 1 \\end{smallmatrix}\\right]$ is the whole $x$-$y$ plane.\n",
    "- A vector, $\\textbf{v}$, with 3 elements is said to exist in **vector space** $\\mathbb{R}^3$\n",
    "- The $\\mathbb{R}^3$ vector, $\\textbf{v}$ is composed of (i.e. a linear combination of) the **basis vectors** $\\hat{i} = \\left[\\begin{smallmatrix} 1 \\\\ 0 \\\\ 0 \\end{smallmatrix}\\right]$, $\\hat{j} = \\left[\\begin{smallmatrix} 0 \\\\ 1 \\\\ 0 \\end{smallmatrix}\\right]$ and $\\hat{k} = \\left[\\begin{smallmatrix} 0 \\\\ 0 \\\\ 1 \\end{smallmatrix}\\right]$.\n",
    "- The subspace of a 3D vector (in $\\mathbb{R}^3$) is the span of vectors $\\left[\\begin{smallmatrix} 1 \\\\ 0 \\\\ 0 \\end{smallmatrix}\\right]$, $\\left[\\begin{smallmatrix} 0 \\\\ 1 \\\\ 0 \\end{smallmatrix}\\right]$.\n",
    "    - in this case the 2D $x$-$y$ plane is a subspace (subset) of the 3D $x, y, z$ vector space\n",
    "- Vectors $\\left[\\begin{smallmatrix} 1 \\\\ 2 \\\\ 3 \\end{smallmatrix}\\right]$ and $\\left[\\begin{smallmatrix} 10 \\\\ 20 \\\\ 30 \\end{smallmatrix}\\right]$ are linearly dependent since one is a multiple of the other.\n",
    "    - A matrix with those two vectors would be rank 1"
   ]
  },
  {
   "cell_type": "markdown",
   "id": "e7e986c4",
   "metadata": {},
   "source": [
    "# TODO: Kroenecker product, Tensors, Tensor products, \n",
    "\n",
    "https://en.wikipedia.org/wiki/Tensor\n",
    "https://en.wikipedia.org/wiki/Tensor_product\n",
    "https://en.wikipedia.org/wiki/Kronecker_product\n",
    "https://en.wikipedia.org/wiki/Block_matrix\n",
    "https://math.stackexchange.com/questions/973559/outer-product-of-two-matrices\n",
    "https://stackoverflow.com/questions/24839481/python-matrix-outer-product\n"
   ]
  },
  {
   "cell_type": "markdown",
   "id": "8b7c6436",
   "metadata": {},
   "source": [
    "## 4. Back to Non-Square matrices (A <mark>geometric perspective</mark>)\n",
    "\n",
    "A non-square matrix $\\textbf{A} : \\textbf{A} \\in \\mathbb{R}^{m\\times n}$ has $m$ rows and $n$ columns. Geometrically, $\\textbf{A}$ transforms a vector space $\\mathbb{R}^n$ into a vector space $\\mathbb{R}^m$. \n",
    "\n",
    "For example, the matrix $\\textbf{A}$ transforms a 2D vector space into a 3D vector space. \n",
    "- Specifically, the **two** basis vectors (i.e. from 2D space) transform to 3D coordinates as follows: \n",
    "\n",
    "$$\n",
    "\\begin{align*}\n",
    "\\textbf{A} &= \\begin{bmatrix} 3 & 1 \\\\ 4 & 1 \\\\ 5 & 9 \\end{bmatrix}\n",
    "\\quad\\quad\\quad\\quad\\text{transforms: }\n",
    "\\hat{i}: \\left[\\begin{smallmatrix} 1 \\\\ 0 \\end{smallmatrix}\\right] \\rightarrow \\left[\\begin{smallmatrix} 3 \\\\ 4 \\\\ 5 \\end{smallmatrix}\\right] \\quad\\text{and}\\quad \\hat{j}: \\left[\\begin{smallmatrix} 0 \\\\ 1 \\end{smallmatrix}\\right]\\rightarrow \\left[\\begin{smallmatrix} 1 \\\\ 1 \\\\ 9 \\end{smallmatrix}\\right]\n",
    "\\end{align*}\n",
    "$$\n",
    "\n",
    "Similarly, matrix $\\textbf{B}$ transforms a 3D vector space into a 2D vector space.\n",
    "- Specifically, the **three** basis vectors (i.e. from 3D space) transform to 2D coordinates as follows:\n",
    "$$\n",
    "\\begin{align*}\n",
    "\\textbf{B} &= \\begin{bmatrix} 1 & 2 & 3 \\\\ 4 & 5 & 6 \\end{bmatrix}\n",
    "\\quad\\quad\\quad\\quad\\text{transforms: }\n",
    "\\hat{i}: \\left[\\begin{smallmatrix} 1 \\\\ 0 \\\\ 0 \\end{smallmatrix}\\right] \\rightarrow \\left[\\begin{smallmatrix} 1 \\\\ 4 \\end{smallmatrix}\\right]\\text{,}\\quad\\quad\\hat{j}: \\left[\\begin{smallmatrix} 0 \\\\ 1 \\\\ 0 \\end{smallmatrix}\\right] \\rightarrow \\left[\\begin{smallmatrix} 2 \\\\ 5 \\end{smallmatrix}\\right]\\quad\\text{and}\\quad\\hat{k}: \\left[\\begin{smallmatrix} 0 \\\\ 0 \\\\ 1 \\end{smallmatrix}\\right] \\rightarrow \\left[\\begin{smallmatrix} 3 \\\\ 6 \\end{smallmatrix}\\right]\n",
    "\n",
    "\\end{align*}\n",
    "$$\n"
   ]
  },
  {
   "cell_type": "markdown",
   "id": "bc21d96f",
   "metadata": {},
   "source": [
    "### 4.1. Rank\n",
    "\n",
    "- Definition: The **rank** of $\\textbf{A} : \\textbf{A} \\in \\mathbb{R}^{m\\times n}$ is the **number of linearly independent columns or rows** in $\\textbf{A}$\n",
    "    - Rank is the **number of dimensions in the column-space** (aka. span of the column vectors of $\\textbf{A}$ in $\\mathbb{R}^m$ (or $\\mathbb{R}^n$)).\n",
    "    - Consequently, the number of linearly independent columns in a matrix $\\equiv$ the number of linearly independent rows in that matrix.\n",
    "\n",
    "#### 4.1.1. \"Full Rank\" Matrix\n",
    "\n",
    "- $\\textbf{A}$ is **full rank** if $\\text{rank}(\\textbf{A}) = \\min(m,n)$ (i.e. the rank is as high as it can be)\n",
    "- This is the same as:\n",
    "    - if **all columns of $\\textbf{A}$ are linearly independent**\n",
    "\n",
    "#### 4.1.2. <mark>Geometric intuition for Rank:</mark>: \n",
    "\n",
    "- If matrix $\\textbf{A}$ is a transformation, the <mark>rank is the **number of dimensions in the output space**</mark>. Examples: \n",
    "    - If some matrix $\\textbf{A}$ transformed some arbitrary vector space $\\mathbb{R}^n$ into a <mark>1D line</mark> in $\\mathbb{R}^1$, then $\\text{rank}(\\textbf{A}) = 1$\n",
    "    - If $\\textbf{A}$ transformed some vector space $\\mathbb{R}^n$ to a <mark>2D plane</mark> in $\\mathbb{R}^2$, then $\\text{rank}(\\textbf{A}) = 2$\n",
    "- In general, if $\\textbf{A}$ transforms some vector space $\\mathbb{R}^n$ to $\\mathbb{R}^m$, then $\\text{rank}(\\textbf{A}) = m$\n",
    "\n",
    "#### 4.1.3. <mark>Geometric intuition, examples</mark>:\n",
    "- A $2\\times 2$ matrix is full rank (i.e. rank 2) if the output is a 2D space ($\\mathbb{R}^2$; same as the input space). $\\text{det}(\\textbf{A}) \\neq 0$\n",
    "- A $3\\times 3$ matrix is full rank (i.e. rank 3) if the output is a 3D space ($\\mathbb{R}^3$; same as the input space). $\\text{det}(\\textbf{A}) \\neq 0$. However,\n",
    "    - If the $3\\times 3$ matrix collapsed the input space to a 2D plane, then it is only rank 2 (NB: **but it can collapse further**)\n",
    "    - If the $3\\times 3$ matrix collapsed the input space to a 1D line, then it is only rank 1\n",
    "- A $2\\times 3$ matrix is full rank (i.e. rank 2) if the output is a 2D plane in $\\mathbb{R}^3$ (same as the input space)"
   ]
  },
  {
   "cell_type": "markdown",
   "id": "9cb54c92",
   "metadata": {},
   "source": [
    "#### 2.1.4. Augmented Matrix\n",
    "\n",
    "- If vector $\\textbf{y}$ is concatenated to matrix $\\textbf{A}$, we say \"$\\textbf{A}$ augmented with $\\textbf{y}$\". Denoted as $(\\textbf{A}\\vert \\textbf{B})$.\n",
    "    - if $\\text{rank}((\\textbf{A}\\vert \\textbf{B})) = \\text{rank}(\\textbf{A})+1$, then vector $\\textbf{y}$ is **\"new\" information**\n",
    "    - otherwise, if $\\text{rank}((\\textbf{A}\\vert \\textbf{B})) = \\text{rank}(\\textbf{A})$,  it means $\\textbf{y}$ can be created as a linear combination of the columns in $\\textbf{A}$"
   ]
  },
  {
   "cell_type": "code",
   "execution_count": 5,
   "id": "db6c8cd5",
   "metadata": {},
   "outputs": [
    {
     "name": "stdout",
     "output_type": "stream",
     "text": [
      "A matrix's shape: (3, 3) \n",
      "y vector's shape (3, 1)\n",
      "\n",
      "Condition number(A): 4.048917339522305\n",
      "Rank(A): 3\n",
      "Trace(A): 3\n",
      "\n",
      "Original A matrix:\n",
      " [[1 1 0]\n",
      " [0 1 0]\n",
      " [1 0 1]] \n",
      "y vector:\n",
      " [[1]\n",
      " [2]\n",
      " [1]] \n",
      "\n",
      "Augmented (A|y) matrix:\n",
      " [[1 1 0 1]\n",
      " [0 1 0 2]\n",
      " [1 0 1 1]]\n",
      "Rank(A_y): 3\n",
      "\n",
      "Note that the rank of A and A_y are both 3, so y is a linear combination of the columns of A.\n",
      "Therefore, there is no new information in y that is not already in A.\n"
     ]
    }
   ],
   "source": [
    "# Compute the condition number and rank for matrix A = [[1,1,0],[0,1,0],[1,0,1]]\n",
    "# If y = [[1],[2],[1]], get the augmented matrix [A,y]\n",
    "\n",
    "from numpy import trace\n",
    "from numpy.linalg import cond, matrix_rank\n",
    "\n",
    "A = np.array([[1, 1, 0], [0, 1, 0], [1, 0, 1]])\n",
    "y = np.array([[1], [2], [1]])\n",
    "print(\"A matrix's shape:\", A.shape, \"\\ny vector's shape\", y.shape)\n",
    "\n",
    "print(\"\\nCondition number(A):\", cond(A))\n",
    "print(\"Rank(A):\", matrix_rank(A))\n",
    "print(\"Trace(A):\", trace(A))\n",
    "\n",
    "A_y = np.concatenate((A, y), axis=1)\n",
    "print(\"\\nOriginal A matrix:\\n\", A, \"\\ny vector:\\n\", y, \"\\n\\nAugmented (A|y) matrix:\\n\", A_y)\n",
    "print(\"Rank(A_y):\", matrix_rank(A_y))\n",
    "\n",
    "print(\"\\nNote that the rank of A and A_y are both 3, so y is a linear combination of the columns of A.\")\n",
    "print(\"Therefore, there is no new information in y that is not already in A.\")\n"
   ]
  }
 ],
 "metadata": {
  "kernelspec": {
   "display_name": "Python 3 (ipykernel)",
   "language": "python",
   "name": "python3"
  },
  "language_info": {
   "codemirror_mode": {
    "name": "ipython",
    "version": 3
   },
   "file_extension": ".py",
   "mimetype": "text/x-python",
   "name": "python",
   "nbconvert_exporter": "python",
   "pygments_lexer": "ipython3",
   "version": "3.13.0"
  }
 },
 "nbformat": 4,
 "nbformat_minor": 5
}
