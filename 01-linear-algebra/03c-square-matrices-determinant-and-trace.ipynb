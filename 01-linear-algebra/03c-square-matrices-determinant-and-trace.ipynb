{
 "cells": [
  {
   "cell_type": "markdown",
   "id": "b5c9d0a4",
   "metadata": {},
   "source": [
    "# Linear Algebra - Matrices (Pt 3)\n"
   ]
  },
  {
   "cell_type": "markdown",
   "id": "85cd7d98",
   "metadata": {},
   "source": [
    "## 1. Square matrices\n",
    "\n",
    "- A square matrix $\\textbf{M}$ has dimensions $n \\times n$. (Thus, $\\mathbf{M} \\in \\mathbb{R}^{n \\times n}$)\n",
    "- Square matrices linearly transform all vectors in an $\\mathbb{R}^n$ vector space to $\\mathbb{R}^n$ vector space (i.e. no dimensionality change).\n",
    "    - This means the vector space is transformed in a way that <mark>no dimensions are added or lost</mark>. \n",
    "    - Also, the origin remains fixed, and all grid lines remain parallel and evenly spaced.\n",
    "\n",
    "## 2. Determinant, $\\text{det}(\\textbf{M})$ or $|\\textbf{M}|$\n",
    "- The **Determinant**, $\\text{det}(\\textbf{M})$ or $|\\textbf{M}|$, is an important property of square matrices."
   ]
  },
  {
   "cell_type": "markdown",
   "id": "22e05386",
   "metadata": {},
   "source": [
    "### 2.1. <mark>Geometric intuition</mark> (From 3Blue1Brown):\n",
    "- Its absolute value, $\\vert{\\text{det}(\\textbf{M})}\\vert$, tells you the **factor by which any and all regions in the vector space increases/decreases** after the transformation by matrix $\\textbf{M}$\n",
    "- A \"region\" can be thought of as depending on the dimensionality of the vector space:\n",
    "    - For a 2D vector space, a \"region\" is an area (e.g. of the unit square)\n",
    "    - For a 3D vector space, a \"region\" is a volume (e.g. of the unit cube)\n",
    "    - And so on...\n",
    "- How to interpret the determinant in terms of **initial** region (area/volume/etc) in the vector space (before transformation):\n",
    "    - Absolute values:\n",
    "        - If $\\vert{\\text{det}(\\textbf{M})}\\vert > 1$: Any/all initial regions in the vector space are **scaled up** by that factor\n",
    "        - If $\\vert{\\text{det}(\\textbf{M})}\\vert = 1$: Any/all initial regions in the vector space **do not change in size**\n",
    "        - If $0 < \\vert{\\text{det}(\\textbf{M})}\\vert < 1$: Any/all initial regions in the vector space **shrink** by that factor\n",
    "    - If ${\\text{det}(\\textbf{M})} = 0$: it means space has <mark>dropped **into fewer dimensions**</mark> (i.e. information lost)\n",
    "        - i.e. **at least 1 dimension is LOST**, so all initial regions (area/volume/etc) of the vector space is now 0\n",
    "        - e.g. if a 2D matrix $\\textbf{M}$ transforms a 2D vector space into a 1D line (or a 0D point), all \"areas\" in the original 2D vector space no longer exist. They are squished to 0; hence $\\text{det}(\\textbf{M})=0$\n",
    "        - This also means that the columns of $\\textbf{M}$ are linearly dependent (i.e. they lie on the same line/plane/etc)\n",
    "    - If ${\\text{det}(\\textbf{M})} < 0$\n",
    "        - A **negative sign** tells you whether the vector space was \"flipped\" (i.e. if the basis vectors swapped sides).\n",
    "        - Here, $\\textbf{M}$ is said to \"invert the orientation\" of the vector space.\n",
    "    \n",
    "\n",
    "- To prove understanding, explain: $\\text{det}(\\textbf{M}_1 \\textbf{M}_2) = \\text{det}(\\textbf{M}_1) \\text{det}(\\textbf{M}_2)$"
   ]
  },
  {
   "cell_type": "markdown",
   "id": "7d88f0cf-f401-476c-a667-64515ed2ffa5",
   "metadata": {},
   "source": [
    "### 2.2. Formulae for calculating the determinant of a matrix $\\textbf{M}$:\n",
    "\n",
    "- For a $2 \\times 2$ matrix; $\\text{det}(\\textbf{M})$ is:\n",
    "\n",
    "$$\n",
    "\\begin{split}\n",
    "|\\textbf{M}| = \\begin{bmatrix}\n",
    "a & b \\\\\n",
    "c & d\\\\\n",
    "\\end{bmatrix} = ad - bc\\end{split}\n",
    "$$\n",
    "\n",
    "\n",
    "- For a $3 \\times 3$ matrix; $\\text{det}(\\textbf{M})$ is:\n",
    "\n",
    "$$\n",
    "\\begin{split}\n",
    "% \\begin{eqnarray*}\n",
    "\\begin{align*}\n",
    "|\\textbf{M}| = \\begin{bmatrix}\n",
    "a & b & c \\\\\n",
    "d & e & f \\\\\n",
    "g & h & i \\\\\n",
    "\\end{bmatrix} & = a\\begin{bmatrix}\n",
    "\\Box &\\Box  &\\Box  \\\\\n",
    "\\Box & e & f \\\\\n",
    "\\Box & h & i \\\\\n",
    "\\end{bmatrix} - b\\begin{bmatrix}\n",
    "\\Box &\\Box  &\\Box  \\\\\n",
    "d & \\Box & f \\\\\n",
    "g & \\Box & i \\\\\n",
    "\\end{bmatrix} + c\\begin{bmatrix}\n",
    "\\Box &\\Box  &\\Box  \\\\\n",
    "d & e & \\Box \\\\\n",
    "g & h & \\Box \\\\\n",
    "\\end{bmatrix} \\\\\n",
    "&&\\\\\n",
    "& = a\\begin{bmatrix}\n",
    "e & f \\\\\n",
    "h & i \\\\\n",
    "\\end{bmatrix} - b\\begin{bmatrix}\n",
    "d & f \\\\\n",
    "g & i \\\\\n",
    "\\end{bmatrix} + c\\begin{bmatrix}\n",
    "d & e \\\\\n",
    "g & h \\\\\n",
    "\\end{bmatrix} \\\\ \n",
    "&&\\\\\n",
    "& = aei + bfg + cdh - ceg - bdi - afh\n",
    "% \\end{eqnarray*}\n",
    "\\end{align*}\n",
    "\\end{split}\n",
    "$$\n",
    "\n",
    "- For higher dimension matrices, a similar approach can be used."
   ]
  },
  {
   "cell_type": "markdown",
   "id": "1dc3e39c",
   "metadata": {},
   "source": [
    "#### 2.2.1 Geometric derivation of the $2 \\times 2$ determinant formula:\n",
    "\n",
    "<p align=\"center\">\n",
    "    <img src=\"images/determinant.png\" alt=\"2D Determinant\" width=\"600\"/>\n",
    "</p>\n",
    "\n",
    "- This relies on how the square matrix $\\textbf{M}$ transforms the unit square in $\\mathbb{R}^2$ into a parallelogram in $\\mathbb{R}^2$.\n",
    "- See [A Few Useful Transformations](#a-few-useful-transformations) section for a recap of how each element of the matrix $\\textbf{M}$ affects the transformation of the unit square.\n"
   ]
  },
  {
   "cell_type": "markdown",
   "id": "b3ab918b-c509-45f1-b813-e8dd1f070548",
   "metadata": {},
   "source": [
    "### 2.3. Identity matrix\n",
    "\n",
    "- A square matrix, $\\textbf{I}$, with **ones on the diagonal** and **zeros everywhere else**\n",
    "- Multiplying a matrix with $\\textbf{I}$ (of compatible dimensionality) will produce the same matrix (like how $n \\times 1 = n$)"
   ]
  },
  {
   "cell_type": "code",
   "execution_count": 1,
   "id": "8f78ebc3",
   "metadata": {},
   "outputs": [
    {
     "name": "stdout",
     "output_type": "stream",
     "text": [
      "M:\n",
      " [[0 2 1 3]\n",
      " [3 2 8 1]\n",
      " [1 0 0 3]\n",
      " [0 3 2 1]]\n",
      "Determinant: -38.0\n",
      "\n",
      "I:\n",
      " [[1. 0. 0. 0.]\n",
      " [0. 1. 0. 0.]\n",
      " [0. 0. 1. 0.]\n",
      " [0. 0. 0. 1.]]\n",
      "\n",
      "M @ I:\n",
      " [[0. 2. 1. 3.]\n",
      " [3. 2. 8. 1.]\n",
      " [1. 0. 0. 3.]\n",
      " [0. 3. 2. 1.]]\n"
     ]
    }
   ],
   "source": [
    "# Find the determinant of M, and multiply M by np.eye(4) to demonstrate M x I = M\n",
    "\n",
    "import numpy as np\n",
    "from numpy.linalg import det\n",
    "\n",
    "M = np.array([[0, 2, 1, 3], [3, 2, 8, 1], [1, 0, 0, 3], [0, 3, 2, 1]])\n",
    "print(\"M:\\n\", M)\n",
    "\n",
    "print(f\"Determinant: {det(M):.1f}\")\n",
    "I = np.eye(4)\n",
    "print(\"\\nI:\\n\", I)\n",
    "print(\"\\nM @ I:\\n\", M @ I)\n"
   ]
  },
  {
   "cell_type": "markdown",
   "id": "a65d3e39",
   "metadata": {},
   "source": [
    "## 3. Trace \n",
    "\n",
    "- The **trace** of $\\textbf{A} : \\textbf{A} \\in \\mathbb{R}^{n\\times n}$ is the sum of elements on the main diagonal (from left to right):\n",
    "\n",
    "$$ \\text{tr}(\\textbf{A}) = \\sum_{i=1}^{n} a_{ii} $$\n"
   ]
  },
  {
   "cell_type": "code",
   "execution_count": 2,
   "id": "cfb9468e",
   "metadata": {},
   "outputs": [
    {
     "name": "stdout",
     "output_type": "stream",
     "text": [
      "Trace(A) 10.7\n"
     ]
    }
   ],
   "source": [
    "# Compute the trace of the following matrix A\n",
    "\n",
    "from numpy import trace\n",
    "\n",
    "A = np.array([[4.1, 2.8], [9.7, 6.6]])\n",
    "print(\"Trace(A)\", trace(A))\n"
   ]
  },
  {
   "cell_type": "markdown",
   "id": "2c1c39f4-4521-40fd-bc32-5935bfe78287",
   "metadata": {},
   "source": [
    "# 3. 3Blue1Brown's aside\n",
    "## A few useful transformations\n",
    "\n",
    "### Vector Transformations\n",
    "\n",
    "### Matrix Transformations (TBC double check)\n",
    "\n",
    "$$ \\begin{align*} \n",
    "\\text{No change (Identity matrix)} &: \\begin{bmatrix} 1 & 0 \\\\ 0 & 1 \\end{bmatrix} &\\text{in 3D:} \\begin{bmatrix} 1 & 0 & 0 \\\\ 0 & 1 & 0 \\\\ 0 & 0 & 1 \\end{bmatrix}\\\\\\\\\n",
    "\\text{Translation} &: \\text{NA} &\\text{in 3D:} \\begin{bmatrix} 1 & 0 & X \\\\ 0 & 1 & Y \\\\ 0 & 0 & 1 \\end{bmatrix}\\\\\\\\\n",
    "\\text{Scaling (about origin)} &: \\begin{bmatrix} W & 0 \\\\ 0 & H \\end{bmatrix} &\\text{in 3D:} \\begin{bmatrix} W & 0 & 0 \\\\ 0 & H & 0 \\\\ 0 & 0 & 1 \\end{bmatrix}\\\\\\\\\n",
    "\\text{Rotation (about origin)} &: \\begin{bmatrix} \\cos\\theta & -\\sin\\theta \\\\ \\sin\\theta & \\cos\\theta \\end{bmatrix} &\\text{in 3D:} \\begin{bmatrix} \\cos\\theta & -\\sin\\theta & 0 \\\\ \\sin\\theta & \\cos\\theta & 0 \\\\ 0 & 0 & 1 \\end{bmatrix}\\\\\\\\\n",
    "\\text{Shear (in x-direction)} &: \\begin{bmatrix} 1 & \\tan\\phi \\\\ 0 & 1 \\end{bmatrix} &\\text{in 3D:} \\begin{bmatrix} 1 & \\tan\\phi & 0 \\\\ 0 & 1 & 0 \\\\ 0 & 0 & 1 \\end{bmatrix}\\\\\\\\\n",
    "\\text{Shear (in y-direction)} &: \\begin{bmatrix} 1 & 0 \\\\ \\tan\\psi & 1 \\end{bmatrix} &\\text{in 3D:}\\begin{bmatrix} 1 & 0 & 0 \\\\ \\tan\\psi & 1 & 0 \\\\ 0 & 0 & 1 \\end{bmatrix}\\\\\\\\\n",
    "\\text{Reflect (about origin)} &: \\begin{bmatrix} -1 & 0 \\\\ 0 & -1 \\end{bmatrix} &\\text{in 3D:} \\begin{bmatrix} -1 & 0 & 0 \\\\ 0 & -1 & 0 \\\\ 0 & 0 & 1 \\end{bmatrix}\\\\\\\\\n",
    "\\text{Reflect (about x-axis)} &: \\begin{bmatrix} 1 & 0 \\\\ 0 & -1 \\end{bmatrix} &\\text{in 3D:} \\begin{bmatrix} 1 & 0 & 0 \\\\ 0 & -1 & 0 \\\\ 0 & 0 & 1 \\end{bmatrix}\\\\\\\\\n",
    "\\text{Reflect (about y-axis)} &: \\begin{bmatrix} -1 & 0 \\\\ 0 & 1 \\end{bmatrix} &\\text{in 3D:} \\begin{bmatrix} -1 & 0 & 0 \\\\ 0 & 1 & 0 \\\\ 0 & 0 & 1 \\end{bmatrix}\\\\\\\\\n",
    "\\end{align*} $$"
   ]
  }
 ],
 "metadata": {
  "kernelspec": {
   "display_name": "Python 3 (ipykernel)",
   "language": "python",
   "name": "python3"
  },
  "language_info": {
   "codemirror_mode": {
    "name": "ipython",
    "version": 3
   },
   "file_extension": ".py",
   "mimetype": "text/x-python",
   "name": "python",
   "nbconvert_exporter": "python",
   "pygments_lexer": "ipython3",
   "version": "3.13.0"
  }
 },
 "nbformat": 4,
 "nbformat_minor": 5
}
