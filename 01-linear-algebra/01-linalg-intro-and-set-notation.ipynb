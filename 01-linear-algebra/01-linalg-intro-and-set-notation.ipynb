{
 "cells": [
  {
   "cell_type": "markdown",
   "id": "b5c9d0a4",
   "metadata": {},
   "source": [
    "# Linear Algebra - Set Notation\n",
    "\n",
    "Commonly encountered objects and calculations in Linear Algebra, implemented in Python.\n",
    "\n",
    "Sources:\n",
    "- [Python Numerical Methods: Basics of Linear Algebra](https://pythonnumericalmethods.berkeley.edu/notebooks/chapter14.01-Basics-of-Linear-Algebra.html)\n",
    "- https://en.wikipedia.org/wiki/Matrix_multiplication\n",
    "- https://en.wikipedia.org/wiki/Dot_product\n",
    "- https://en.wikipedia.org/wiki/Cross_product\n",
    "- https://en.wikipedia.org/wiki/Hadamard_product_(matrices)\n",
    "- https://en.wikipedia.org/wiki/Outer_product **important**\n",
    "- https://en.wikipedia.org/wiki/Tensor_product **important**"
   ]
  },
  {
   "cell_type": "markdown",
   "id": "fe396301",
   "metadata": {
    "jp-MarkdownHeadingCollapsed": true
   },
   "source": [
    "## 1. Set Notation\n",
    "\n",
    "- A collection of objects (objects are denoted in braces {})\n",
    "    - **Empty set** (denoted $\\{\\}$ or $\\emptyset$): the set containing no objects)\n",
    "- Common set operations:\n",
    "    - **Union**, $A \\cup B$: Set containing all elements of $A$ **or** $B$\n",
    "    - **Intersection**, $A \\cap B$: Set containing all elements that belong to **both** $A$ **and** $B$\n",
    "    - **Proper/strict subset**, $C \\subset A$: $C$ is a strict subset of (i.e. included in; **but is not equal** to) $A$\n",
    "        - **Subset**, $C\\subseteq A$: $C$ is a subset of (i.e. included in; **or is equal** to) $A$\n",
    "    - **Proper/strict superset**, $C \\supset A$: $C$ is a strict superset of (i.e. includes; **but is not equal** to) $A$\n",
    "        - **Superset**, $C\\supseteq A$: $C$ is a superset of (i.e. includes; **or is equal** to) $A$\n",
    "    - **Relative complement**: \n",
    "    - Colon ($:$) means \"**such that**\"\n",
    "    - $a\\in A$ means \"element $a$ is a member of set $A$\"\n",
    "    - Backslash ($\\backslash$) means \"\"**set minus**\" so if $a\\in A$, then  $A\\backslash a$ means \"$A$ minus the element $a$\"\n",
    "- Some standard sets related to numbers: \n",
    "    - Naturals: $\\mathbb{N} = \\{1, 2, 3, 4, \\cdots\\}$\n",
    "    - Wholes: $\\mathbb{W} = \\mathbb{N} \\cup \\{0\\}$\n",
    "    - Integers: $\\mathbb{Z} = \\mathbb{W} \\cup \\{-1, -2, -3, \\cdots\\}$\n",
    "    - Rationals: $\\mathbb{Q} =  \\{\\frac{p}{q} : p\\in {\\mathbb{Z}}, q\\in {\\mathbb{Z}} \\backslash \\{0\\}\\}$\n",
    "    - Irrationals: $\\mathbb{I}$ is the set of real numbers not expressible as a fraction of integers\n",
    "    - Reals: $\\mathbb{R} = \\mathbb{Q} \\cup \\mathbb{I}$\n",
    "    - Complex numbers: $\\mathbb{C} = \\{a + bi : a,b\\in {\\mathbb{R}}, i = \\sqrt{-1}\\}$\n",
    "- Example:\n",
    "    - Let $S$ be the set of all real $(x,y)$ pairs such that $x^2 + y^2 = 1$ Write $S$ using set notation:\n",
    "    - $S = \\{(x,y) : x,y \\in {\\mathbb{R}}, x^2 + y^2 = 1\\}$\n",
    "- #TODO: Talk about [real coordinate spaces](https://en.wikipedia.org/wiki/Real_coordinate_space#Matrix_notation)"
   ]
  },
  {
   "cell_type": "markdown",
   "id": "9787eafe",
   "metadata": {
    "vscode": {
     "languageId": "plaintext"
    }
   },
   "source": [
    "---"
   ]
  },
  {
   "cell_type": "markdown",
   "id": "f7501194",
   "metadata": {},
   "source": [
    "## 2. A note on Python syntax \n",
    "\n",
    "- To define vectors and matrices in NumPy, use `np.array([[]])` with double square brackets\n",
    "    - A row vector: `[[ csv row elements ]]`\n",
    "    - A column vector: `[[elem 1], [elem 2], elem 3]]`, and you can put each on a new line\n",
    "    - A matrix: ``[[ csv row 1], [ csv row 2], ...]``, and you can put each on a new line\n",
    "- There are many ways to multiply matrices (with vectors or other matrices) in Python:\n",
    "    - `np.dot(A, B)`: matrix multiplication\n",
    "    - `np.matmul(A, B)`: matrix multiplication\n",
    "        - `@` operator: matrix multiplication (preferred in most cases)\n",
    "    - `np.inner(A, B)`: inner product    \n",
    "- Additional approaches for other specific operations:\n",
    "    - `np.cross(A, B)`: cross product (vectors)\n",
    "    - `np.multiply(A, B)`: element-wise multiplication (Hadamard)\n",
    "    - `np.outer(A, B)`: outer product\n",
    "    - `np.qr(A)`: QR decomposition\n",
    "    - `np.lu(A)`: LU decomposition\n",
    "    - `np.svd(A)`: SVD decomposition\n",
    "    - `np.frobenius(A, B)`: Frobenius inner product\n",
    "    - `np.vdot(A, B)`: dot product\n",
    "    - `np.einsum('ij,jk->ik', A, B)`: Einstein summation\n",
    "    - `np.tensordot(A, B)`: tensor product\n",
    "    - `np.kron(A, B)`: Kronecker product"
   ]
  },
  {
   "cell_type": "code",
   "execution_count": 1,
   "id": "37bb786c",
   "metadata": {},
   "outputs": [
    {
     "name": "stdout",
     "output_type": "stream",
     "text": [
      "----------------- 4 python methods to find the dot product of two vectors -----------------\n",
      "Vector dot product: v • w:\n",
      "py (preferred): np.dot(v, w.T) = 101\n",
      "py (method 2): np.inner(v, w) = 101\n",
      "py (method 3): np.matmul(v, w.T) = 101\n",
      "py (method 4): v @ w.T = 101\n"
     ]
    }
   ],
   "source": [
    "import numpy as np\n",
    "\n",
    "print(\"----------------- 4 python methods to find the dot product of two vectors -----------------\")\n",
    "# Dot product of two vectors\n",
    "v = np.array([[10, 9, 3]])\n",
    "w = np.array([[2, 5, 12]])\n",
    "\n",
    "# The following python functions all calculate the dot product of two vectors\n",
    "print(\"Vector dot product: v • w:\")\n",
    "print(\"py (preferred): np.dot(v, w.T) =\", np.dot(v, w.T)[0][0])\n",
    "print(\"py (method 2): np.inner(v, w) =\", np.inner(v, w)[0][0])\n",
    "print(\"py (method 3): np.matmul(v, w.T) =\", np.matmul(v, w.T)[0][0])\n",
    "print(\"py (method 4): v @ w.T =\", (v @ w.T)[0][0])\n"
   ]
  },
  {
   "cell_type": "code",
   "execution_count": 2,
   "id": "f8326cfb",
   "metadata": {},
   "outputs": [
    {
     "name": "stdout",
     "output_type": "stream",
     "text": [
      "\n",
      "----------------- 4 python methods to multiply matrix `A` by a vector `b` -----------------\n",
      "A =\n",
      " [[1 7]\n",
      " [2 3]\n",
      " [5 0]] \n",
      "b =\n",
      " [[2]\n",
      " [3]]\n",
      "\n",
      "Matrix times vector: Ab\n",
      "py (preferred method): A @ b =\n",
      " [[23]\n",
      " [13]\n",
      " [10]]\n",
      "\n",
      "py (method 2): np.matmul(A, b) =\n",
      " [[23]\n",
      " [13]\n",
      " [10]]\n",
      "\n",
      "py (method 3): np.dot(A, b) =\n",
      " [[23]\n",
      " [13]\n",
      " [10]]\n",
      "\n",
      "py (method 4) np.inner(A, b.T) =\n",
      " [[23]\n",
      " [13]\n",
      " [10]]\n"
     ]
    }
   ],
   "source": [
    "print(\"\\n----------------- 4 python methods to multiply matrix `A` by a vector `b` -----------------\")\n",
    "# Multiply matrix A by (column) vector b = [2, 3]\n",
    "A = np.array([[1, 7], [2, 3], [5, 0]])\n",
    "b = np.array([[2], [3]])  # column vector\n",
    "print(\"A =\\n\", A, \"\\nb =\\n\", b)\n",
    "\n",
    "# The following python functions all multiply matrix A by vector b\n",
    "print(\"\\nMatrix times vector: Ab\")\n",
    "print(\"py (preferred method): A @ b =\\n\", A @ b)\n",
    "print(\"\\npy (method 2): np.matmul(A, b) =\\n\", np.matmul(A, b))\n",
    "print(\"\\npy (method 3): np.dot(A, b) =\\n\", np.dot(A, b))\n",
    "print(\"\\npy (method 4) np.inner(A, b.T) =\\n\", np.inner(A, b.T))  # confusing that second arg needs transposing\n"
   ]
  },
  {
   "cell_type": "code",
   "execution_count": 3,
   "id": "8ccfadd0",
   "metadata": {},
   "outputs": [
    {
     "name": "stdout",
     "output_type": "stream",
     "text": [
      "\n",
      "----------------- 4 python methods to pre-multiply matrix `A` by a vector `c.T` -----------------\n",
      "c.T =\n",
      " [[2 3 1]] \n",
      "A =\n",
      " [[1 7]\n",
      " [2 3]\n",
      " [5 0]]\n",
      "\n",
      "Vector times matrix (pre-multiply): c^T A\n",
      "py (preferred method): c.T @ A = [13 23]\n",
      "py (method 2): np.matmul(c.T, A) = [13 23]\n",
      "py (method 3): np.dot(c.T, A) = [13 23]\n",
      "py (method 4): np.inner(c, A) = [13 23]\n"
     ]
    }
   ],
   "source": [
    "print(\"\\n----------------- 4 python methods to pre-multiply matrix `A` by a vector `c.T` -----------------\")\n",
    "# Transpose the column vector c = [2, 3, 1], and multiply the resulting row vector c^T by matrix A\n",
    "A = np.array([[1, 7], [2, 3], [5, 0]])\n",
    "c = np.array([[2], [3], [1]])  # column vector\n",
    "print(\"c.T =\\n\", c.T, \"\\nA =\\n\", A)\n",
    "\n",
    "# The following python functions all pre-multiply matrix A by row vector c^T\n",
    "print(\"\\nVector times matrix (pre-multiply): c^T A\")\n",
    "print(\"py (preferred method): c.T @ A =\", (c.T @ A)[0])\n",
    "print(\"py (method 2): np.matmul(c.T, A) =\", np.matmul(c.T, A)[0])\n",
    "print(\"py (method 3): np.dot(c.T, A) =\", np.dot(c.T, A)[0])\n",
    "print(\"py (method 4): np.inner(c, A) =\", np.inner(c.T, A.T)[0])  # confusing that second arg needs transposing\n"
   ]
  },
  {
   "cell_type": "code",
   "execution_count": 4,
   "id": "d5b64c26",
   "metadata": {},
   "outputs": [
    {
     "name": "stdout",
     "output_type": "stream",
     "text": [
      "\n",
      "----------------- 4 python methods to multiply matrix `A` by a matrix `B` -----------------\n",
      "A =\n",
      " [[1 7]\n",
      " [2 3]\n",
      " [5 0]] \n",
      "B =\n",
      " [[2 6 3 1]\n",
      " [1 2 3 4]]\n",
      "\n",
      "Matrix times matrix: AB\n",
      "py (preferred method): A @ B =\n",
      " [[ 9 20 24 29]\n",
      " [ 7 18 15 14]\n",
      " [10 30 15  5]]\n",
      "\n",
      "py (method 2): np.matmul(A, B) =\n",
      " [[ 9 20 24 29]\n",
      " [ 7 18 15 14]\n",
      " [10 30 15  5]]\n",
      "\n",
      "py (method 3): np.dot(A, B) =\n",
      " [[ 9 20 24 29]\n",
      " [ 7 18 15 14]\n",
      " [10 30 15  5]]\n",
      "\n",
      "py (method 4): np.inner(A, B.T) =\n",
      " [[ 9 20 24 29]\n",
      " [ 7 18 15 14]\n",
      " [10 30 15  5]]\n"
     ]
    }
   ],
   "source": [
    "print(\"\\n----------------- 4 python methods to multiply matrix `A` by a matrix `B` -----------------\")\n",
    "A = np.array([[1, 7], [2, 3], [5, 0]])\n",
    "B = np.array([[2, 6, 3, 1], [1, 2, 3, 4]])\n",
    "print(\"A =\\n\", A, \"\\nB =\\n\", B)\n",
    "\n",
    "# The following python functions all multiply matrix A by matrix B\n",
    "print(\"\\nMatrix times matrix: AB\")\n",
    "print(\"py (preferred method): A @ B =\\n\", A @ B)  # <-- inner dims match (p=2), so output is a [3x4] matrix\n",
    "print(\"\\npy (method 2): np.matmul(A, B) =\\n\", np.matmul(A, B))\n",
    "print(\"\\npy (method 3): np.dot(A, B) =\\n\", np.dot(A, B))\n",
    "print(\"\\npy (method 4): np.inner(A, B.T) =\\n\", np.inner(A, B.T))  # confusing that second arg needs transposing\n"
   ]
  },
  {
   "cell_type": "markdown",
   "id": "c3282268",
   "metadata": {
    "vscode": {
     "languageId": "plaintext"
    }
   },
   "source": [
    "## Key Takeaways from following chapters:\n",
    "\n",
    "### Chapter 2: `02-vectors`\n",
    "- Basics set notation (previous notebook)\n",
    "- Vectors \n",
    "    - Definition and properties (transpose, length `norm`s)\n",
    "    - Addition\n",
    "    - Multiplication (scalar, dot, and cross product)\n",
    "    - Angle between 2 vectors (via dot product)\n",
    "\n",
    "### Chapter 3a: `03a-matrix-operations`\n",
    "- Matrix multiplication\n",
    "    - <mark>A matrix is simply an object which transforms space linearly</mark>\n",
    "    - Definition and properties (transpose, length `norm`s)\n",
    "    - Addition and scalar multiplication\n",
    "    - Matrix multiplication (using `np.dot`) - inner dimensions must match\n",
    "        - *NB: A vector is just a matrix with 1 column (or row if it's a row vector)*\n",
    "\n",
    "### Chapter 3b: `03b-matrix-composition`\n",
    "\n",
    "### Chapter 3c: `03c-square-matrices-and-determinant`\n",
    "- Square matrices\n",
    "    - **Determinant**\n",
    "    - May be **invertible** (if $\\textbf{AA}^{-1}=I)$:\n",
    "        - **Singular** (non-invertible) matrix if $det(\\textbf{A}) = 0$\n",
    "            - Ill-conditioned if determinant is *close to 0* (**high** condition number = **more** singular)\n",
    "        - **Non-singular** (invertible) matrix if $det(\\textbf{A}) \\ne 0$\n",
    "    - **Rank**: the number of linearly independent columns in the matrix)\n",
    "    - **Trace**: the sum of on-diagonal elements\n",
    "    - Identity Matrix\n",
    "    - Augmented matrix (concatenating a vector $\\textbf{y}$ to a matrix $\\textbf{A}$ to give $[\\textbf{A},\\textbf{y}]$)\n",
    "\n",
    "### Chapter 3d: `03d-matrix-inverse-and-system-of-equations`\n",
    "\n",
    "### Chapter 4: `04-basic-matrix-decompositions`\n",
    "\n",
    "### Chapter 5: `05-eigendecomposition-and-diagonalisastion`"
   ]
  },
  {
   "cell_type": "markdown",
   "id": "34928b12",
   "metadata": {},
   "source": [
    "---"
   ]
  },
  {
   "cell_type": "markdown",
   "id": "b027391d",
   "metadata": {},
   "source": [
    "## List of functions left to write\n",
    "\n",
    "- Masks (e.g. lower triangle, upper triangle and identity)\n",
    "- Basic identities (e.g. LU decomposition and the other commonly used ones, $Z^TZ$ etc, $A^TAI$)\n",
    "- Additional approaches for other specific operations:\n",
    "    - `np.cross(A, B)`: cross product (vectors)\n",
    "    - `np.multiply(A, B)`: element-wise multiplication (Hadamard)\n",
    "    - `np.outer(A, B)`: outer product\n",
    "    - `np.qr(A)`: QR decomposition\n",
    "    - `np.lu(A)`: LU decomposition\n",
    "    - `np.svd(A)`: SVD decomposition\n",
    "    - `np.frobenius(A, B)`: Frobenius inner product\n",
    "    - `np.vdot(A, B)`: dot product\n",
    "    - `np.einsum('ij,jk->ik', A, B)`: Einstein summation\n",
    "    - `np.tensordot(A, B)`: tensor product\n",
    "    - `np.kron(A, B)`: Kronecker product\n",
    "\n",
    "## Open questions:\n",
    "- What is the interpretation, and general point of determinant, trace and rank?\n",
    "- Why do we care about full-rank? Is it somehow better?\n",
    "- $\\text{det}(M_1 M_2) = \\text{det}(M_1) \\text{det}(M_2)$\n",
    "- Explain the geometric intuition behind a determinant"
   ]
  }
 ],
 "metadata": {
  "kernelspec": {
   "display_name": "Python 3 (ipykernel)",
   "language": "python",
   "name": "python3"
  },
  "language_info": {
   "codemirror_mode": {
    "name": "ipython",
    "version": 3
   },
   "file_extension": ".py",
   "mimetype": "text/x-python",
   "name": "python",
   "nbconvert_exporter": "python",
   "pygments_lexer": "ipython3",
   "version": "3.13.0"
  }
 },
 "nbformat": 4,
 "nbformat_minor": 5
}
