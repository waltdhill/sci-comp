{
 "cells": [
  {
   "cell_type": "markdown",
   "id": "b5c9d0a4",
   "metadata": {},
   "source": [
    "# Linear Algebra - Vectors"
   ]
  },
  {
   "cell_type": "markdown",
   "id": "d6f0c401",
   "metadata": {},
   "source": [
    "## 1. Vectors\n",
    "\n",
    "### Notation:\n",
    "- A vector, $\\textbf{v}$, is a list of numbers (scalars) arranged in a particular order.\n",
    "- By convention, vectors are implicitly **column vectors**. So $\\textbf{v} \\in \\mathbb{R}^{n}$; or implicitly $\\textbf{v} \\in \\mathbb{R}^{n \\times 1}$.\n",
    "- To represent a column vector, $\\textbf{v}$, as a **row vector**, take its **transpose** $\\textbf{v}^\\mathrm{T}$. Hence, $\\textbf{v}^\\mathrm{T} \\in \\mathbb{R}^{1 \\times n}$.\n",
    "    - **Transpose** operation turns a column vector into a row vector vice versa. For matrices, it swaps rows and columns.\n",
    "- The $i$'th element of vector $\\textbf{v}$ is denoted $v_i$.\n",
    "\n",
    "### Properties and geometric interpretation of a vector:\n",
    "- The number of elements in a vector is called its **dimension**. This also tells us the vector space it belongs to.\n",
    "    - For example, $\\textbf{v} \\in \\mathbb{R}^{3}$ is an 3-dimensional vector.\n",
    "- A vector can be thought of as an arrow in n-dimensional space.\n",
    "- The **magnitude** of a vector is its **length** in n-dimensional space. (many distance formulas can be used to compute):\n",
    "    - $L_2$ norm (Euclidean length): $\\Vert\\textbf{v}\\Vert_2 = \\sqrt{\\Sigma_i w_{i}^{2}}\\quad$ (*physical length* of a vector in n-dim space)\n",
    "    - $L_1$ norm (Manhattan Distance): $\\Vert\\textbf{v}\\Vert_1 = \\Sigma_i |v_i|\\quad $\n",
    "    - More generally, \n",
    "        - The **p-norm** is $\\Vert v \\Vert_{p} = \\sqrt[p]{(\\sum_i v_i^p)}$\n",
    "        - And the $L_\\infty$ norm, $\\Vert\\textbf{v}\\Vert_\\infty$, is the $p$-norm where $p=\\infty$\n",
    "    - Generally the $L_2$ norm is implied when referring to vector length. \n",
    "      - Hence $\\Vert\\textbf{v}\\Vert_2$ can be written more simply as $\\Vert\\textbf{v}\\Vert$ or occasionally $|\\textbf{v}|$ (though the latter is ambiguous with the absolute value of a scalar)"
   ]
  },
  {
   "cell_type": "code",
   "execution_count": 1,
   "id": "e7bc245e",
   "metadata": {},
   "outputs": [
    {
     "name": "stdout",
     "output_type": "stream",
     "text": [
      "row_vec = [ 1 -5  3  2  4] \n",
      "row_vec shape: (1, 5)\n",
      "\n",
      "col_vec =\n",
      " [[1]\n",
      " [2]\n",
      " [3]\n",
      " [4]] \n",
      "col_vec shape: (4, 1)\n"
     ]
    }
   ],
   "source": [
    "import numpy as np\n",
    "\n",
    "# Create a row vector and a column vector, show their shapes\n",
    "row_vec = np.array([[1, -5, 3, 2, 4]])\n",
    "col_vec = np.array([[1], [2], [3], [4]])\n",
    "\n",
    "# Comments show output if you don't use list of lists\n",
    "print(\"row_vec =\", row_vec[0], \"\\nrow_vec shape:\", row_vec.shape)  # [ 1 -5  3  2  4] and (1, 5)\n",
    "print(\"\\ncol_vec =\\n\", col_vec, \"\\ncol_vec shape:\", col_vec.shape)  # [1 2 3 4] and (4, 1)\n"
   ]
  },
  {
   "cell_type": "code",
   "execution_count": 2,
   "id": "0b209b8d",
   "metadata": {},
   "outputs": [
    {
     "name": "stdout",
     "output_type": "stream",
     "text": [
      "row_vec = [ 1 -5  3  2  4] \n",
      "row_vec shape: (1, 5)\n",
      "\n",
      "transposed_row_vec = [[ 1]\n",
      " [-5]\n",
      " [ 3]\n",
      " [ 2]\n",
      " [ 4]] \n",
      "transposed_row_vec shape: (5, 1) \n",
      "\n",
      "Measures of magnitude:\n",
      "L_1 norm is: 15.0\n",
      "L_2 norm is: 7.4 (most common)\n",
      "L_inf norm is: 5.0 (absolute value of largest element)\n"
     ]
    }
   ],
   "source": [
    "# Transpose row_vec and calculate L1, L2, and L_inf norms\n",
    "from numpy.linalg import norm\n",
    "\n",
    "print(\"row_vec =\", row_vec[0], \"\\nrow_vec shape:\", row_vec.shape)\n",
    "\n",
    "transposed_row_vec = row_vec.T  # now a column vector\n",
    "print(\"\\ntransposed_row_vec =\", transposed_row_vec, \"\\ntransposed_row_vec shape:\", transposed_row_vec.shape, \"\\n\")\n",
    "\n",
    "norm_1 = norm(transposed_row_vec, 1)\n",
    "norm_2 = norm(transposed_row_vec, 2)  # <- L2 norm is default and most common\n",
    "norm_inf = norm(transposed_row_vec, np.inf)\n",
    "\n",
    "print(\"Measures of magnitude:\")\n",
    "print(f\"L_1 norm is: {norm_1:.1f}\")\n",
    "print(f\"L_2 norm is: {norm_2:.1f}\", \"(most common)\")\n",
    "print(f\"L_inf norm is: {norm_inf:.1f}\", \"(absolute value of largest element)\")  # NB: norm_inf = |largest element|\n"
   ]
  },
  {
   "cell_type": "markdown",
   "id": "43e9d66e",
   "metadata": {},
   "source": [
    "## 2. Vector addition, $\\textbf{v} + \\textbf{w}$\n",
    "\n",
    "Elementwise addition; if vectors are of of same length (i.e. if $\\textbf{v}$ and $\\textbf{w}$ are both in $\\mathbb{R}^n$) then:\n",
    "\n",
    "- **Addition of 2 vectors**: $\\textbf{u} = \\textbf{v} + \\textbf{w}$ is the vector with elements $u_i = v_i + w_i$\n"
   ]
  },
  {
   "cell_type": "code",
   "execution_count": 3,
   "id": "c43707e0",
   "metadata": {},
   "outputs": [
    {
     "name": "stdout",
     "output_type": "stream",
     "text": [
      "Vector addition: \n",
      "py: v + w = [12 14 15]\n"
     ]
    }
   ],
   "source": [
    "# Sum vectors v = [10, 9, 3] and w = [2, 5, 12]\n",
    "v = np.array([[10, 9, 3]])\n",
    "w = np.array([[2, 5, 12]])\n",
    "\n",
    "print(\"Vector addition: \\npy: v + w =\", (v + w)[0])\n"
   ]
  },
  {
   "cell_type": "markdown",
   "id": "be07b497",
   "metadata": {},
   "source": [
    "## 3. Scalar times vector, $\\alpha\\textbf{v}$\n",
    "\n",
    "To multiply a vector $\\textbf{v}$, by a scalar $\\alpha$ (a number in $\\mathbb{R}$), do it \"elementwise\" or \"pairwise\".\n",
    "\n",
    "- **Scalar multiplication of a vector**: $\\textbf{u} = \\alpha \\textbf{v}$ is the vector with elements $u_i = \\alpha v_i$"
   ]
  },
  {
   "cell_type": "code",
   "execution_count": 4,
   "id": "623eb32b",
   "metadata": {},
   "outputs": [
    {
     "name": "stdout",
     "output_type": "stream",
     "text": [
      "Scalar times vector: \n",
      "py: alpha * v = [40 36 12]\n"
     ]
    }
   ],
   "source": [
    "# Multiply vector v = [10, 9, 3] by scalar alpha = 4\n",
    "v = np.array([[10, 9, 3]])\n",
    "alpha = 4\n",
    "\n",
    "print(\"Scalar times vector: \\npy: alpha * v =\", (alpha * v)[0])\n"
   ]
  },
  {
   "cell_type": "markdown",
   "id": "1095e71b",
   "metadata": {},
   "source": [
    "### 3.1. Linear Combinations\n",
    "\n",
    "- A **linear combination** of set $S$ is defined as $\\Sigma \\alpha_i s_i$\n",
    "    - Here $\\alpha_i$ values are the **coefficients** of $s_i$ values\n",
    "    - Example: Grocery bill total cost is a linear combination of items purchased:\n",
    "        - $\\displaystyle{\\sum c_i n_i}$ ($c_i$ is item cost, $n_i$ is qty. purchased)\n",
    "    \n",
    "### 3.2. Linear Dependence and Independence\n",
    "    \n",
    "- A set is **linearly INdependent** if no object in the set can be written as a lin. combination of the other objects in the set.\n",
    "    - Example: $\\textbf{v} = [1, 1, 0], \\textbf{w} = [1, 0, 0]$ and $\\textbf{u} = [0, 0, 1]$ are <mark>linearly independent. Can you see why?</mark>\n",
    "\n",
    "#### 3.2.1. <mark>Geometric interpretation</mark>: \n",
    "\n",
    "- If two vectors are linearly dependent, they lie on the same line/plane/hyperplane in n-dimensional space.\n",
    "    - For a 2D vector space, if two vectors are linearly dependent, they lie on the same line (1D subspace).\n",
    "    - For a 3D vector space, if two vectors are linearly dependent, they lie on the same plane (2D subspace).\n",
    "    - And so on...\n",
    "\n",
    "#### 3.2.2. Example:\n",
    "Below is an example of a **linearly DEpendent** set. $\\textbf{x}$ is dependent on "
   ]
  },
  {
   "cell_type": "code",
   "execution_count": 5,
   "id": "20147719",
   "metadata": {},
   "outputs": [
    {
     "name": "stdout",
     "output_type": "stream",
     "text": [
      "x is a linear combination of v, w, and u. It is linearly dependent on them: \n",
      "x = [-8 -1  4]\n"
     ]
    }
   ],
   "source": [
    "# Writing the vector x = [-8, -1, 4] as a linear combination of 3 vectors, v, w, and u:\n",
    "v = np.array([[0, 3, 2]])\n",
    "w = np.array([[4, 1, 1]])\n",
    "u = np.array([[0, -2, 0]])\n",
    "\n",
    "x = 3 * v - 2 * w + 4 * u\n",
    "print(\"x is a linear combination of v, w, and u. It is linearly dependent on them: \\nx =\", x[0])\n"
   ]
  },
  {
   "cell_type": "markdown",
   "id": "7e2fa7eb",
   "metadata": {},
   "source": [
    "## 4. Vector multiplication (4 approaches)\n",
    "\n",
    "### 4.1. Vector dot (inner) product, $\\textbf{v} \\cdot \\textbf{w}$\n",
    "\n",
    "Geometric interpretation: <mark>A measure of how similarly directed two vectors are</mark> (think shadows, or projections)\n",
    "\n",
    "- Definition: $\\textbf{v} \\cdot \\textbf{w} = \\Sigma_{i=1}^n v_i w_i$\n",
    "    - It's the sum of elementwise products. For $\\textbf{v}, \\textbf{w} \\in \\mathbb{R}^n$, \n",
    "- Note also, since $\\textbf{v}, \\textbf{w} \\in \\mathbb{R}^n$, transpose to make inner dimensions match. Dot product can hence be rewritten as:\n",
    "    - $\\textbf{v} \\cdot \\textbf{w} = \\textbf{v}^\\mathrm{T}\\textbf{w}$\n",
    "\n",
    "#### Angle between vectors, $\\theta$\n",
    "\n",
    "- Think of dot product as \"**degree of alignment**\": $\\textbf{v} \\cdot \\textbf{w} = \\Vert\\textbf{v}\\Vert\\:\\Vert\\textbf{w}\\Vert \\cos \\theta$\n",
    "    - (1,1) and (2,2) are **parallel**; computing the angle gives $\\theta = 0$\n",
    "    - (1,1) and (-1,1) are **orthogonal** (perpendicular) bc $\\theta = \\pi/2$ and $\\textbf{v} \\cdot \\textbf{w} = 0$ (no alignment)\n",
    "\n",
    "* Extending on the dot product idea, $\\textbf{v} \\cdot \\textbf{w}$, the **angle between two vectors** is $\\theta$. It is as defined by the formula:\n",
    "$$ \\theta = \\arccos \\left({\\frac {\\textbf{v} \\cdot \\textbf{w}}{\\left\\|\\textbf{v}\\right\\|\\left\\|\\textbf{w} \\right\\|}}\\right) $$\n",
    "\n",
    "#### Recap: Many ways to express a dot product (it's commutative!):\n",
    "\n",
    "$$ \n",
    "\\begin{align*}\n",
    "\n",
    "\\textbf{v} \\cdot \\textbf{w} = \\Sigma_{i=1}^n v_i w_i &= \\textbf{v}^\\mathrm{T}\\textbf{w} = \\Vert\\textbf{v}\\Vert\\:\\Vert\\textbf{w}\\Vert \\cos \\theta \\\\\n",
    "& = \\textbf{w}^\\mathrm{T}\\textbf{v} = \\Vert\\textbf{w}\\Vert\\:\\Vert\\textbf{v} \\Vert \\cos \\theta = \\textbf{w} \\cdot \\textbf{v}\n",
    "\n",
    "\\end{align*}\n",
    "$$\n"
   ]
  },
  {
   "cell_type": "code",
   "execution_count": 6,
   "id": "f895c678",
   "metadata": {},
   "outputs": [
    {
     "name": "stdout",
     "output_type": "stream",
     "text": [
      "Vector dot product: v • w:\n",
      "py: np.dot(v, w.T) = 101\n",
      "\n",
      "Theta = 1.5707963267948966\n",
      "\n",
      "----------------- Below methods produce same dot prod -----------------\n",
      "\n",
      "py: np.inner(v, w) = 101\n",
      "py: np.matmul(v, w.T) = 101\n",
      "py: v @ w.T = 101\n"
     ]
    }
   ],
   "source": [
    "# Compute the dot (i.e. inner) product of vectors v = [10, 9, 3] and w = [2, 5, 12]\n",
    "v = np.array([[10, 9, 3]])\n",
    "w = np.array([[2, 5, 12]])\n",
    "\n",
    "print(\"Vector dot product: v • w:\")\n",
    "print(\n",
    "    \"py: np.dot(v, w.T) =\", np.dot(v, w.T)[0][0]\n",
    ")  # w.T to match inner dims, manually need to transpose w to column vector\n",
    "\n",
    "# Compute the angle between vectors v and w\n",
    "theta = np.arccos(u / (norm(v) * norm(w)))  # norm() default is L2\n",
    "print(\"\\nTheta =\", theta[0][0])\n",
    "\n",
    "# These methods produce the same result as np.dot(v, w)\n",
    "print(\"\\n----------------- Below methods produce same dot prod -----------------\\n\")\n",
    "print(\"py: np.inner(v, w) =\", np.inner(v, w)[0][0])  # same as dot, but more explicit. Can be used for higher dims.\n",
    "print(\"py: np.matmul(v, w.T) =\", np.matmul(v, w.T)[0][0])  # Assumes all inputs are row vectors\n",
    "print(\"py: v @ w.T =\", (v @ w.T)[0][0])  # @ operator is equivalent to np.matmul() for 2D arrays\n"
   ]
  },
  {
   "cell_type": "markdown",
   "id": "9821ccb0",
   "metadata": {},
   "source": [
    "### 4.2. Vector outer product, $\\textbf{v} \\otimes \\textbf{w}$\n",
    "\n",
    "- Definition: $\\textbf{v} \\otimes \\textbf{w}$ is the $m \\times n$ matrix $\\textbf{A}$ obtained by multiplying each element of $\\textbf{v}$ by each element of $\\textbf{w}$.\n",
    "    - Unlike with the dot product, here the vectors $\\textbf{v}$ and $\\textbf{w}$ may have different lengths: $\\textbf{v} \\in \\mathbb{R}^{m\\times 1}$, $ \\textbf{w} \\in \\mathbb{R}^{n\\times 1}$.\n",
    "    - Elements of the resultant matrix are given by: $ (\\textbf{v} \\otimes \\textbf{w} )_{ij}=v_{i}w_{j} $\n",
    "    - The entire matrix is represented as: $$ \\textbf {v} \\otimes \\textbf {w} =\\textbf {A} ={\\begin{bmatrix}v_{1}w_{1}&v_{1}w_{2}&\\dots &v_{1}w_{n}\\\\v_{2}w_{1}&v_{2}w_{2}&\\dots &v_{2}w_{n}\\\\\\vdots &\\vdots &\\ddots &\\vdots \\\\v_{m}w_{1}&v_{m}w_{2}&\\dots &v_{m}w_{n}\\end{bmatrix}} $$\n",
    "\n",
    "- Note also, since $\\textbf{v}$ and $\\textbf{w}$ are column vectors ($\\textbf{v} \\in \\mathbb{R}^{m\\times 1}$, $ \\textbf{w} \\in \\mathbb{R}^{n\\times 1}$), we can transpose $\\textbf{w}^\\textrm{T}$ (now a row vector, $ \\textbf{w}^\\mathrm{T} \\in \\mathbb{R}^{1\\times n}$). \n",
    "    - $\\textbf{v} \\otimes \\textbf{w}$ is hence equivalent to the matrix multiplication $\\textbf{v}\\textbf{w}^\\textrm{T}$ (since this ensures the inner dimensions ($1$) to match). Example: $$ \\textbf {v} \\otimes \\textbf {w} =\\textbf {v} \\textbf {w} ^{\\textsf {T}}={\\begin{bmatrix}v_{1}\\\\v_{2}\\\\v_{3}\\\\v_{4}\\end{bmatrix}}{\\begin{bmatrix}w_{1}&w_{2}&w_{3}\\end{bmatrix}}={\\begin{bmatrix}v_{1}w_{1}&v_{1}w_{2}&v_{1}w_{3}\\\\v_{2}w_{1}&v_{2}w_{2}&v_{2}w_{3}\\\\v_{3}w_{1}&v_{3}w_{2}&v_{3}w_{3}\\\\v_{4}w_{1}&v_{4}w_{2}&v_{4}w_{3}\\end{bmatrix}} $$"
   ]
  },
  {
   "cell_type": "code",
   "execution_count": 7,
   "id": "c87aedbd",
   "metadata": {},
   "outputs": [
    {
     "name": "stdout",
     "output_type": "stream",
     "text": [
      "Vectors:\n",
      "v = [10  9  3] \n",
      "w = [ 2  5 12]\n",
      "\n",
      "Vector inner product, v • w\n",
      "py: np.inner(v, w) = 101\n",
      "\n",
      "Vector outer product, v ⨂ w\n",
      "np.outer(v, w) =\n",
      " [[ 20  50 120]\n",
      " [ 18  45 108]\n",
      " [  6  15  36]]\n",
      "\n",
      "Vector outer product flipped, w ⨂ v\n",
      "np.outer(w, v) =\n",
      " [[ 20  18   6]\n",
      " [ 50  45  15]\n",
      " [120 108  36]]\n"
     ]
    }
   ],
   "source": [
    "# Compute the outer product of same vectors v = [10, 9, 3] and w = [2, 5, 12]\n",
    "v = np.array([[10, 9, 3]])\n",
    "w = np.array([[2, 5, 12]])\n",
    "# w = np.array([[2, 5, 12, 13]])  # <- uncomment to see outer product with different dimensions\n",
    "\n",
    "print(\"Vectors:\\nv =\", v[0], \"\\nw =\", w[0])\n",
    "print(\"\\nVector inner product, v • w\\npy: np.inner(v, w) =\", np.inner(v, w)[0][0])  # As previous code cell\n",
    "print(\"\\nVector outer product, v ⨂ w\\nnp.outer(v, w) =\\n\", np.outer(v, w))  # Assumes all inputs column vectors\n",
    "print(\"\\nVector outer product flipped, w ⨂ v\\nnp.outer(w, v) =\\n\", np.outer(w, v))  # Assumes all inputs column vectors\n"
   ]
  },
  {
   "cell_type": "markdown",
   "id": "16e4beca",
   "metadata": {},
   "source": [
    "### 4.3. Vector Hadamard (element-wise) product, $\\textbf{v}\\odot \\textbf{w}$:\n",
    "\n",
    "- Definition: Element-wise product, where the vectors **must be of the same dimension**\n",
    "    - This method also works for matrices of the same dimension.\n",
    "    - Output vector/matrix is of the same dimension as the operands.\n",
    "- Notation: $\\textbf{v}\\odot \\textbf{w}$ (sometimes $\\textbf{v}\\circ \\textbf{w}$)\n",
    "    - Elements of the resultant vector are given by: $ (\\textbf{v}\\odot \\textbf{w})_{i} = (\\textbf{v})_{i}(\\textbf{w})_{i} $\n",
    "- Example:\n",
    "\n",
    "$$ \\begin{bmatrix}2&3&1\\end{bmatrix} \\odot {\\begin{bmatrix}3&1&4\\end{bmatrix}}={\\begin{bmatrix}2\\times 3&3\\times 1&1\\times 4\\end{bmatrix}}={\\begin{bmatrix}6&3&4\\end{bmatrix}} $$"
   ]
  },
  {
   "cell_type": "code",
   "execution_count": 8,
   "id": "16b7313a",
   "metadata": {},
   "outputs": [
    {
     "name": "stdout",
     "output_type": "stream",
     "text": [
      "Vector Hadamard product: v ⊙ w:\n",
      "py: np.multiply(v, w) = [6 3 4]\n"
     ]
    }
   ],
   "source": [
    "# Compute the Hadamard product of vectors v = [2, 3, 1] and w = [3, 1, 4]\n",
    "v = np.array([[2, 3, 1]])\n",
    "w = np.array([[3, 1, 4]])\n",
    "\n",
    "print(\"Vector Hadamard product: v ⊙ w:\\npy: np.multiply(v, w) =\", np.multiply(v, w)[0])\n"
   ]
  },
  {
   "cell_type": "markdown",
   "id": "eeb6fca0",
   "metadata": {},
   "source": [
    "### 4.4. Vector cross product, $\\textbf{v}\\times \\textbf{w}$\n",
    "\n",
    "Geometric interpretation: The cross product $\\textbf{v} \\times \\textbf{w}$ is <mark>a vector perpendicular to both</mark> $\\textbf{v}$ <mark>and</mark> $\\textbf{w}$, <mark>whose length equals the area enclosed by the parallelogram created by the two vectors</mark>\n",
    "\n",
    "- Cross product definition: \n",
    "$$\\textbf{v} \\times \\textbf{w} = \\Vert \\textbf{v} \\Vert \\: \\Vert \\textbf{w} \\Vert\\sin{(\\theta)} \\, \\textbf{n}$$\n",
    "- Where: \n",
    "    - $\\theta$ can by computed via dot product\n",
    "    - $\\textbf{n}$ is a unit vector (i.e. length $1$) perpendicular to both $\\textbf{v}$ and $\\textbf{w}$."
   ]
  },
  {
   "cell_type": "code",
   "execution_count": 9,
   "id": "eab5b4be",
   "metadata": {},
   "outputs": [
    {
     "name": "stdout",
     "output_type": "stream",
     "text": [
      "Vector cross product: v ⨉ w\n",
      "np.cross(v, w) = [ 0  0 -6]\n"
     ]
    }
   ],
   "source": [
    "# Compute the cross product of v = [0,2,0] and w = [3,0,0]\n",
    "v = np.array([[0, 2, 0]])\n",
    "w = np.array([[3, 0, 0]])\n",
    "\n",
    "print(\"Vector cross product: v ⨉ w\\nnp.cross(v, w) =\", np.cross(v, w)[0])\n"
   ]
  }
 ],
 "metadata": {
  "kernelspec": {
   "display_name": "Python 3 (ipykernel)",
   "language": "python",
   "name": "python3"
  },
  "language_info": {
   "codemirror_mode": {
    "name": "ipython",
    "version": 3
   },
   "file_extension": ".py",
   "mimetype": "text/x-python",
   "name": "python",
   "nbconvert_exporter": "python",
   "pygments_lexer": "ipython3",
   "version": "3.13.0"
  }
 },
 "nbformat": 4,
 "nbformat_minor": 5
}
