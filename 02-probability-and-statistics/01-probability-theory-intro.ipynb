{
 "cells": [
  {
   "cell_type": "markdown",
   "id": "4ec3a54e-cf6e-4a7c-a15e-9e25704e2f0b",
   "metadata": {},
   "source": [
    "# Probability Theory with Poker\n",
    "\n",
    "## Topics\n",
    "\n",
    "\n",
    "\n",
    "### Probability vs likelihood?\n",
    "\n",
    "\n",
    "### Other topics\n",
    "- "
   ]
  },
  {
   "cell_type": "markdown",
   "id": "b6c90233-ad10-4d40-b49b-9acdd4d5ec87",
   "metadata": {},
   "source": [
    "### An overview Probability and Statistics:\n",
    "- Probability theory is mainly concerned with predicting the **likelihood of future events**,\n",
    "- Statistics analyzes the frequency of past events. \n",
    "\n",
    "### Approaches: Frequentist vs Bayesian \n",
    "\n",
    "There are two approaches (or interpretations) to probability:\n",
    "\n",
    "#### **Frequentist** (aka *objective* or *frequency* probabilities):\n",
    "- Associated with random physical systems where a given event type tends to occur at a **persistent rate, or relative frequency**, in a long run of trials\n",
    "- Physical systems include: coin flips, roulette wheel, dice rolls etc.\n",
    "- This <mark>tutorial</mark> (and poker) falls here.\n",
    "\n",
    "#### **Bayesian** (aka *evidential* probabilities):\n",
    "- Assignable to any statement (regardless of whether a random process is involved) as a way to represent its **subjective plausibility** (i.e. the degree to which the statement is supported by available evidence.)\n",
    "- Often, evidential probabilities are *degrees of belief*; defined in terms of *willingnesses to gamble at certain odds*\n"
   ]
  },
  {
   "cell_type": "markdown",
   "id": "f5db0f1a-aa92-49b1-8fbd-650f45bf09ef",
   "metadata": {},
   "source": [
    "### Key Terminology Tree (Examples in Appendix)\n",
    "\n",
    "- **The Experiment**: Imagine an experiment that can be **repeated** under **identical conditions**.\n",
    "    - **Independent trials**: Each repetition of the experiment is **independent** from the last.\n",
    "        - **Outcome**: Each independent trial may produce a *different outcome*\n",
    "            - **Sample space**: The set of all possible *outcomes* (results of an experiment)\n",
    "                - **Event**: A well-defined subset of the *sample space*\n",
    "\n",
    "### Symbols in probability\n",
    "- **And**, $A \\cap B$: Events $A$ and $B$ **both** occur\n",
    "- **Or**, $A \\cup B$: Either event $A$ **or** event $B$ occurs\n",
    "- **Given that**, $|$: is denoted as $B|A$"
   ]
  },
  {
   "cell_type": "markdown",
   "id": "0e10f32e-a044-415b-9987-1449b3d003a1",
   "metadata": {},
   "source": [
    "## Calculating probabilities\n",
    "\n",
    "### Single-event probabilities\n",
    "\n",
    "- $P(A) = \\frac{\\text{Number of outcomes corresponding to $A$}}{\\text{Sample space (total no. of outcomes)}}$\n",
    "- For a standard deck of cards, the probability of drawing an Ace is ~7.69%:\n",
    "    - Let $A = \\text{Probability of drawing an Ace}$. Then $P(A)=\\frac{4}{52}$"
   ]
  },
  {
   "cell_type": "code",
   "execution_count": 12,
   "id": "20b1bccf-caa8-4d08-abe9-3815066641e2",
   "metadata": {},
   "outputs": [
    {
     "name": "stdout",
     "output_type": "stream",
     "text": [
      "7.7%\n",
      "25.0%\n",
      "23.1%\n",
      "1.9%\n"
     ]
    }
   ],
   "source": [
    "# Create function that returns probability percent rounded to one decimal place\n",
    "def event_probability(event_outcomes, sample_space):\n",
    "    probability = (event_outcomes / sample_space) * 100\n",
    "    return round(probability, 1)\n",
    "\n",
    "# Sample space\n",
    "num_cards = 52\n",
    "\n",
    "# Determine the probability of drawing an Ace\n",
    "num_aces = 4 # number of outcomes where an \"Ace\" is drawn\n",
    "ace_probability = event_probability(num_aces, num_cards)\n",
    "\n",
    "# Determine the probability of drawing a heart\n",
    "num_hearts = 13 \n",
    "hearts_probability = event_probability(num_hearts, num_cards)\n",
    "\n",
    "# Determine the probability of drawing a face card\n",
    "num_face_cards = 12\n",
    "face_card_probability = event_probability(num_face_cards, num_cards)\n",
    "\n",
    "# Determine the probability of drawing the queen of hearts\n",
    "num_queen_of_hearts = 1\n",
    "queen_of_hearts_probability = event_probability(num_queen_of_hearts, num_cards)\n",
    "\n",
    "print(str(ace_probability) + '%')\n",
    "print(str(hearts_probability) + '%')\n",
    "print(str(face_card_probability) + '%')\n",
    "print(str(queen_of_hearts_probability) + '%')"
   ]
  },
  {
   "cell_type": "markdown",
   "id": "33409cfa-0f35-4c0f-bc00-a181c86b477c",
   "metadata": {},
   "source": [
    "### Probabilities with permutations and combinations (with and without replacement)\n",
    "\n",
    "#### Permutations (without replacement/repetition)\n",
    "\n",
    "- The number of ways a subset of a specified size can be arranged (ordered) from a given set, **without replacement/repetition**.\n",
    "    - I.e. **Order matters** (e.g. 1234 is different to 2134)\n",
    "    - and **no repeats** (e.g. 1123 is not possible)\n",
    "    - In simple terms: \"*How many **distinct ways to arrange** $k$ (**unique**) things into a sequence, out of $n$ (unique) things, without repeating any item?*\"\n",
    "        - Example: 4 digit PIN with no repeated digits: $10 \\times 9 \\times 8 \\times 7$\n",
    "- General formula: $$_nP_k = \\frac{n!}{(n - k)!}$$\n",
    "    - Where $n$ is the **number of things to choose from** (10 digits available)\n",
    "    - And $k$ is the **number of things you actually choose** (choosing 4 digits for the PIN)\n",
    "    - Terminology: The $k$-permutation of $n$; or $n$-perm-$k$"
   ]
  },
  {
   "cell_type": "markdown",
   "id": "616d3392-e95b-47bb-8c4d-17063fd595cc",
   "metadata": {},
   "source": [
    "#### Permutations (with replacement/repetition)\n",
    "\n",
    "- Same as above, but we **can replace/repeat** items now\n",
    "    - Once again, **order matters**\n",
    "    - But this time **repetition is allowed**\n",
    "    - In simple terms: \"*How many **distinct ways to arrange** $k$ things into a sequence, out of $n$ (unique) things?*\"\n",
    "        - Example: 4 digit PIN (can repeat digits): $ 10 \\times 10 \\times 10 \\times 10$\n",
    "- General formula: $$_nP_k = n!$$\n",
    "    - Where $n$ is the **number of things to choose from** (10 digits available)\n",
    "    - And $k$ is the **number of things you actually choose** (choosing 4 digits for the PIN)\n",
    "    - Terminology: The number of $k$-tuples over $S$ (set containing $n$ elements)"
   ]
  },
  {
   "cell_type": "markdown",
   "id": "d8fd80eb-69b2-49be-91a0-d069f3e7597a",
   "metadata": {},
   "source": [
    "#### Combinations (without replacement/repetition)\n",
    "- The number of ways a subset of a specified size can be drawn from a given set\n",
    "    - I.e. **Order doesn't matter** (so AKQ5 is no different to 5QAK)\n",
    "    - and **no repeats** (e.g. AK55 is not possible)\n",
    "    - In simple terms: \"How many ways to choose $k$ (*unique*) things from $n$ (unique) things ($k\\le n$)\"\n",
    "- General formula: $$\\binom{n}{k} = _nC_k = \\frac{_nP_k}{k!} = \\frac{n!}{k!(n-k)!}$$\n",
    "    - Where $n$ is the **number of things to choose from** (13 cards available in a suit)\n",
    "    - And $C$ is the **number of things you actually choose** (choosing 4 cards)\n",
    "    - Terminology: The $k$-combination of $n$, or or $n$-choose-$k$\n",
    "    - <mark>Note: Numerator is the permutations formula, while the **denominator is the factorial of the number of cards that you will actually choose**.</mark>\n",
    "\n"
   ]
  },
  {
   "cell_type": "markdown",
   "id": "6c271163-307c-41e4-8401-b6794f393bd6",
   "metadata": {},
   "source": [
    "#### Combinations (with replacement/repetition)\n",
    "- Same as above, but we **can replace/repeat** items now\n",
    "    - Once again, **order doesn't matter**\n",
    "    - But this time, **repetition is allowed**\n",
    "    - In simple terms: \"How many ways to choose $k$ things from $n$ (unique) things\"\n",
    "- General formula: $$\\binom{n+k-1}{k} = _{n+k-1}C_k = \\frac{_{n+k-1}P_k}{k!} = \\frac{(n+k-1)!}{k!((n+k-1)-k)!} = \\frac{(n+k-1)!}{k!(n-1)!}$$\n",
    "    - Where $n$ is the **number of things to choose from** (13 cards available in a suit)\n",
    "    - And $C$ is the **number of things you actually choose** (choosing 4 cards)\n",
    "    - Terminology: The $k$-combination of $n$, or $n$-multichoose-$k$"
   ]
  },
  {
   "cell_type": "code",
   "execution_count": 18,
   "id": "0fca13f6-e3c4-4ad4-9af2-f37122b864b4",
   "metadata": {},
   "outputs": [
    {
     "name": "stdout",
     "output_type": "stream",
     "text": [
      "12.0\n",
      "6.0\n"
     ]
    }
   ],
   "source": [
    "# How many combinations of Pocket Aces exist in the deck?\n",
    "import math\n",
    "n = 4 # no. of aces in deck\n",
    "k = 2 # no. of cards in a \"starting hand\" or \"pocket\"\n",
    "\n",
    "# Determine permutations and print result - I.e. number of ways to arrange 2 cards (given you have 4 cards); no replacements\n",
    "ace_permutations = math.factorial(n) / math.factorial(n-k) # [AB, AC, AD, BA, BC, BD, CA, CB, CD, DA, DB, DC]\n",
    "print(ace_permutations)\n",
    "\n",
    "# Determine number of combinations - I.e. number of ways to choose 2 cards out of 4 cards; no replacements\n",
    "ace_combinations = ace_permutations / math.factorial(k) # [AB, AC, AD, BC, BD, CD]\n",
    "print(ace_combinations)"
   ]
  },
  {
   "cell_type": "code",
   "execution_count": 19,
   "id": "86ffe0f8-0509-4d3f-8f1a-bdc4b8a9049e",
   "metadata": {},
   "outputs": [
    {
     "name": "stdout",
     "output_type": "stream",
     "text": [
      "1326.0\n"
     ]
    }
   ],
   "source": [
    "# How many pocket pairs (starting hands) can be dealt in Texas Hold'em?\n",
    "n = 52 # no. of cards in a deck\n",
    "k = 2 # no. of cards in a \"starting hand\" or \"pocket\"\n",
    "\n",
    "# Determine Combinations\n",
    "pocket_permutations = math.factorial(n) / math.factorial(n-k)\n",
    "pocket_combinations = pocket_permutations / math.factorial(k)\n",
    "print(pocket_combinations)"
   ]
  },
  {
   "cell_type": "markdown",
   "id": "00f62b71-d8e0-4221-8526-9593b4bec464",
   "metadata": {},
   "source": [
    "## Types of events\n",
    "\n",
    "### Independent vs Dependent events\n",
    "\n",
    "### Multiple events\n",
    "\n",
    "#### Mutually exclusive events\n",
    "\n",
    "#### Non-mutually exclusive events\n",
    "\n",
    "#### Independent event intersections\n",
    "\n",
    "#### Dependent event intersections`"
   ]
  },
  {
   "cell_type": "markdown",
   "id": "d2fbb8b2-a796-472b-a912-fec5d55cbd02",
   "metadata": {},
   "source": [
    "### Expected value"
   ]
  },
  {
   "cell_type": "markdown",
   "id": "2a729713-3d84-48f0-a37e-45156ea10f10",
   "metadata": {},
   "source": [
    "# Appendix\n",
    "\n",
    "## Examples for Terminology Tree (2 and 3 are vague)\n",
    "\n",
    "- A last example is the experiment where you toss a die. You can toss the die multiple times and all of these throws can have different outcomes: 6 to be exact, since your die has 6 numbers (1,2,3,4,5,6). An event \"The sum of the results of the two toss is equal to 10\" can consist of 10, while the event \"the number is even\" can consist of 2, 4, or 6.\n",
    "- A somewhat cliché example would be flipping a coin. In this case, the experiment is, in fact, the flipping of a coin. You can toss the coin multiple times, and all these trials might have different outcomes. As there are two possible outcomes -heads or tails- the sample space is 2. However, the event \"tossing a coin\" can, for example, consist of one outcome \"Heads\". Similarly, when you toss a coin twice, your event \"the first toss results in a Heads\" might have an outcome \"Heads-Heads\" or \"Heads-Tails\".\n",
    "- Another example that is maybe less straightforward is an experiment where you spin a globe and you stop it by putting your finger on it. You can spin the globe multiple times and all these times might have different outcomes - You can either land your finger on land or on water. That means that the sample space is 2. An event \"my finger is on land\" might have an outcome \"Land - Water\" or \"Land - Land\"."
   ]
  }
 ],
 "metadata": {
  "kernelspec": {
   "display_name": "Python 3 (ipykernel)",
   "language": "python",
   "name": "python3"
  },
  "language_info": {
   "codemirror_mode": {
    "name": "ipython",
    "version": 3
   },
   "file_extension": ".py",
   "mimetype": "text/x-python",
   "name": "python",
   "nbconvert_exporter": "python",
   "pygments_lexer": "ipython3",
   "version": "3.11.6"
  }
 },
 "nbformat": 4,
 "nbformat_minor": 5
}
