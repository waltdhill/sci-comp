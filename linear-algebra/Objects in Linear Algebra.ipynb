{
 "cells": [
  {
   "cell_type": "markdown",
   "id": "b5c9d0a4",
   "metadata": {},
   "source": [
    "# Objects in Linear Algebra\n",
    "\n",
    "Commonly encountered objects and calculations in Linear Algebra, implemented in Python.\n",
    "\n",
    "Sources:\n",
    "- [Python Numerical Methods: Basics of Linear Algebra](https://pythonnumericalmethods.berkeley.edu/notebooks/chapter14.01-Basics-of-Linear-Algebra.html)"
   ]
  },
  {
   "cell_type": "markdown",
   "id": "b027391d",
   "metadata": {},
   "source": [
    "## Key Takeaways:\n",
    "\n",
    "### Syntax \n",
    "\n",
    "- To define vectors and matrices in NumPy, use `np.array([[]])` with double square brackets\n",
    "    - A row vector: `[[ csv row elements ]]`\n",
    "    - A column vector: `[[elem 1], [elem 2], elem 3]]`, and you can put each on a new line\n",
    "    - A matrix: ``[[ csv row 1], [ csv row 2], ...]``, and you can put each on a new line\n",
    "\n",
    "### Concepts covered\n",
    "- Basics set notation\n",
    "- Vectors \n",
    "    - Definition and properties (transpose, length `norm`s)\n",
    "    - Addition\n",
    "    - Multiplication (scalar, dot, and cross product)\n",
    "    - Angle between 2 vectors (via dot product)\n",
    "- Matrices\n",
    "    - Definition and properties (transpose, length `norm`s)\n",
    "    - Addition and scalar multiplication\n",
    "    - Matrix multiplication (using `np.dot`) - inner dimensions must match\n",
    "        - *NB: A vector is just a matrix with 1 column (or row if it's a row vector)*\n",
    "    - Square matrices\n",
    "        - **Determinant**\n",
    "        - May be **invertible** (if $AA^{-1}=I)$:\n",
    "            - **Singular** (non-invertible) matrix if $det(A) = 0$\n",
    "                - Ill-conditioned if determinant is *close to 0* (**high** condition number = **more** singular)\n",
    "            - **Non-singular** (invertible) matrix if $det(A) \\ne 0$\n",
    "        - **Rank**: the number of linearly independent columns in the matrix)\n",
    "        - **Trace**: the sum of on-diagonal elements\n",
    "        - Identity Matrix\n",
    "        - Augmented matrix (concatenating a vector $y$ to a matrix $A$ to give $[A,y]$)\n",
    "\n",
    "\n",
    "## List of functions left to write\n",
    "\n",
    "- Masks (e.g. lower triangle, upper triangle and identity)\n",
    "- Basic identities (e.g. LU decomposition and the other commonly used ones, $Z^TZ$ etc, $A^TAI$)"
   ]
  },
  {
   "cell_type": "code",
   "execution_count": 1,
   "id": "3fcffab3",
   "metadata": {},
   "outputs": [],
   "source": [
    "import numpy as np # more basic functionality\n",
    "import scipy # advanced functionality, built on numpy\n",
    "import matplotlib as mpl\n",
    "import matplotlib.pyplot as plt"
   ]
  },
  {
   "cell_type": "markdown",
   "id": "fe396301",
   "metadata": {},
   "source": [
    "## Set Notation\n",
    "\n",
    "- A collection of objects (objects are denoted in braces {})\n",
    "    - **empty set** (denoted $\\{\\}$ or $\\emptyset$): the set containing no objects)\n",
    "- **Union**: Set containing all elements of $A$ and $B$ is denoted: $A \\cup B$\n",
    "- **Intersect**: Set containing alalements that belong to **both** $A$ *and* $B$ is denoted: $A \\cap B$\n",
    "- Colon ($:$) means \"**such that**\"\n",
    "- $a\\in A$ means \"element $a$ is a member of set $A$\"\n",
    "- Backslash ($\\backslash$) means \"\"**set minus**\" so if $a\\in A$, then  $A\\backslash a$ means \"$A$ minus the element $a$\"\n",
    "- Some standard sets related to numbers: \n",
    "    - Naturals: $\\mathbb{N} = \\{1, 2, 3, 4, \\cdots\\}$\n",
    "    - Wholes: $\\mathbb{W} = \\mathbb{N} \\cup \\{0\\}$\n",
    "    - Integers: $\\mathbb{Z} = \\mathbb{W} \\cup \\{-1, -2, -3, \\cdots\\}$\n",
    "    - Rationals: $\\mathbb{Q} =  \\{\\frac{p}{q} : p\\in {\\mathbb{Z}}, q\\in {\\mathbb{Z}} \\backslash \\{0\\}\\}$\n",
    "    - Irrationals: $\\mathbb{I}$ is the set of real numbers not expressible as a fraction of integers\n",
    "    - Reals: $\\mathbb{R} = \\mathbb{Q} \\cup \\mathbb{I}$\n",
    "    - Complex numbers: $\\mathbb{C} = \\{a + bi : a,b\\in {\\mathbb{R}}, i = \\sqrt{-1}\\}$\n",
    "- Example:\n",
    "    - Let $S$ be the set of all real $(x,y)$ pairs such that $x^2 + y^2 = 1$ Write $S$ using set notation:\n",
    "    - $S = \\{(x,y) : x,y \\in {\\mathbb{R}}, x^2 + y^2 = 1\\}$\n",
    "\n",
    "\n",
    "\n"
   ]
  },
  {
   "cell_type": "markdown",
   "id": "d6f0c401",
   "metadata": {},
   "source": [
    "## Vectors\n",
    "\n",
    "### Properties of a vector $v$:\n",
    "- $i$'th element: $v_i$\n",
    "- Transpose (turns columns into rows and vice versa): $v^T$ (for a matrix it swaps rows with columns)\n",
    "- Length (many definitions (distance formulas) we can use):\n",
    "    - $L_2$ norm (Euclidian length): $||v||_2 = \\sqrt{\\Sigma_i v_{i}^{2}}\\quad$ (*physical length* of a vector in n-dim space)\n",
    "    - $L_1$ norm (Manhattan Distance): $||v||_1 = \\Sigma_i |v_i|\\quad $\n",
    "    - More generally, \n",
    "        - The **p-norm** is $\\Vert v \\Vert_{p} = \\sqrt[p]{(\\sum_i v_i^p)}$\n",
    "        - And the $L_\\infty$ norm, $||v||_\\infty$, is the $p$-norm where $p=\\infty$"
   ]
  },
  {
   "cell_type": "code",
   "execution_count": 2,
   "id": "e7bc245e",
   "metadata": {},
   "outputs": [
    {
     "name": "stdout",
     "output_type": "stream",
     "text": [
      "[[ 1 -5  3  2  4]]\n",
      "[[1]\n",
      " [2]\n",
      " [3]\n",
      " [4]]\n",
      "(1, 5)\n",
      "(4, 1)\n"
     ]
    }
   ],
   "source": [
    "# Create a row vector and a column vector, show their shapes\n",
    "\n",
    "row_vec = np.array([[1, -5, 3, 2, 4]])\n",
    "col_vec = np.array([[1],\n",
    "                    [2],\n",
    "                    [3],\n",
    "                    [4]])\n",
    "\n",
    "# Comments show output if you don't use list of lists\n",
    "print(row_vec) # [ 1 -5  3  2  4]\n",
    "print(col_vec) # [1 2 3 4]\n",
    "print(row_vec.shape) # (5,)\n",
    "print(col_vec.shape) # (4,)"
   ]
  },
  {
   "cell_type": "code",
   "execution_count": 3,
   "id": "0b209b8d",
   "metadata": {},
   "outputs": [
    {
     "name": "stdout",
     "output_type": "stream",
     "text": [
      "[[ 1]\n",
      " [-5]\n",
      " [ 3]\n",
      " [ 2]\n",
      " [ 4]]\n",
      "L_1 is: 15.0\n",
      "L_2 is: 7.4\n",
      "L_inf is: 5.0\n"
     ]
    }
   ],
   "source": [
    "# Transpose row_vec and calculate L1, L2, and L_inf norms\n",
    "from numpy.linalg import norm\n",
    "\n",
    "transposed_row_vec = row_vec.T\n",
    "print(transposed_row_vec)\n",
    "\n",
    "norm_1 = norm(transposed_row_vec, 1)\n",
    "norm_2 = norm(transposed_row_vec, 2) # <- L2 norm is default and most common\n",
    "norm_inf = norm(transposed_row_vec, np.inf)\n",
    "\n",
    "print('L_1 is: %.1f' % norm_1)\n",
    "print('L_2 is: %.1f' % norm_2)\n",
    "print('L_inf is: %.1f' % norm_inf) # NB: norm_inf = |largest element|"
   ]
  },
  {
   "cell_type": "markdown",
   "id": "43e9d66e",
   "metadata": {},
   "source": [
    "## Vector addition\n",
    "\n",
    "Elementwise addition; if vectors are of of same length (i.e. if $v$ and $w$ are both in $\\mathbb{R}^n$) then:\n",
    "\n",
    "- By vector addition, $u = v + w$ is the vector with $u_i = v_i + w_i$\n"
   ]
  },
  {
   "cell_type": "code",
   "execution_count": 4,
   "id": "c43707e0",
   "metadata": {},
   "outputs": [
    {
     "name": "stdout",
     "output_type": "stream",
     "text": [
      "[[12 14 15]]\n"
     ]
    }
   ],
   "source": [
    "# Sum vectors v = [10, 9, 3] and w = [2, 5, 12]\n",
    "v = np.array([[10, 9, 3]])\n",
    "w = np.array([[2, 5, 12]])\n",
    "u = v + w\n",
    "print(u)"
   ]
  },
  {
   "cell_type": "markdown",
   "id": "7e2fa7eb",
   "metadata": {},
   "source": [
    "## Multiplying vectors\n",
    "\n",
    "### Scalar multiplication\n",
    "\n",
    "To multiply a vector $v$, by a scalar $\\alpha$ (a number in $\\mathbb{R}$), do it \"elementwise\" or \"pairwise\".\n",
    "\n",
    "- By scalar multiplication of a vector $u = \\alpha v$ is the vector with $u_i = \\alpha v_i$\n",
    "\n",
    "\n",
    "### Vector multiplication\n",
    "\n",
    "#### Vector dot product\n",
    "\n",
    "Geometric interpretation: <mark>A measure of how similarly directed two vectors are</mark>\n",
    "\n",
    "It's the sum of elementwise products. For $v, w \\in \\mathbb{R}^n$, \n",
    "\n",
    "- The dot product is: $d = v \\cdot w = \\Sigma_{i=1}^n v_i w_i$\n",
    "- Note also, since $v, w \\in \\mathbb{R}^n$, transpose to make inner dimensions match. Dot product can hence be rewritten as:\n",
    "    - $d = \\bar{v} \\cdot \\bar{w} = v^Tw$\n",
    "\n",
    "##### Angle between vectors\n",
    "\n",
    "Extending on the dot product idea, $v \\cdot w$, the **angle between two vectors** $\\theta$. It is as defined by the formula:\n",
    "\n",
    "- Think of dot product as \"**degree of alignment**\": $v \\cdot w = ||v||_2||w||_2 \\cos \\theta$\n",
    "    - (1,1) and (2,2) are **parallel**; computing the angle gives $\\theta = 0$\n",
    "    - (1,1) and (-1,1) are **orthogonal** (perpendicular) bc $\\theta = \\pi/2$ and $v \\cdot w = 0$ (no alignment)\n",
    "\n",
    "### Review: Many ways to express a dot product:\n",
    "\n",
    "$$ d = \\bar{v} \\cdot \\bar{w} = v^Tw = \\Sigma_{i=1}^n v_i w_i = ||\\bar{v}||_2||\\bar{w}||_2 \\cos \\theta$$"
   ]
  },
  {
   "cell_type": "code",
   "execution_count": 5,
   "id": "f895c678",
   "metadata": {},
   "outputs": [
    {
     "name": "stdout",
     "output_type": "stream",
     "text": [
      "[[0.97992471]]\n"
     ]
    }
   ],
   "source": [
    "# Compute the angle between vectors v = [10, 9, 3] and w = [2, 5, 12]\n",
    "from numpy import arccos, dot\n",
    "\n",
    "v = np.array([[10, 9, 3]])\n",
    "w = np.array([[2, 5, 12]])\n",
    "theta = \\\n",
    "    arccos(dot(v, w.T)/(norm(v)*norm(w))) # w.T to match inner dims, norm() default is L2\n",
    "print(theta)"
   ]
  },
  {
   "cell_type": "markdown",
   "id": "16e4beca",
   "metadata": {},
   "source": [
    "### Vector cross product\n",
    "\n",
    "Geometric interpretation: <mark>A vector perpendicular to both $v$ and $w$, whose length equals the area enclosed by the parallelogram created by the two vectors</mark>\n",
    "\n",
    "- Cross product definition: $v \\times w = \\Vert v \\Vert_{2}\\Vert w \\Vert_{2}\\sin{(\\theta)} n \\quad$, where:\n",
    "    - $\\theta$ can by computed via dot product\n",
    "    - $n$ is a vector perpendicular to both $v$ and $w$ of unit ($1$) length"
   ]
  },
  {
   "cell_type": "code",
   "execution_count": 6,
   "id": "eab5b4be",
   "metadata": {},
   "outputs": [
    {
     "name": "stdout",
     "output_type": "stream",
     "text": [
      "[[ 0  0 -6]]\n"
     ]
    }
   ],
   "source": [
    "# Compute the cross product of v = [0,2,0] and w = [3,0,0]\n",
    "v = np.array([[0, 2, 0]])\n",
    "w = np.array([[3, 0, 0]])\n",
    "print(np.cross(v,w))"
   ]
  },
  {
   "cell_type": "markdown",
   "id": "5e4ad8d5",
   "metadata": {},
   "source": [
    "### Linear Combinations\n",
    "\n",
    "- A **linear combination** of set $S$ is defined as $\\Sigma \\alpha_i s_i$\n",
    "    - Here $\\alpha_i$ values are the **coefficients** of $s_i$ values\n",
    "    - Example: Grocery bill total cost is a linear combination of items purchased:\n",
    "        - $\\displaystyle{\\sum c_i n_i}$ ($c_i$ is item cost, $n_i$ is qty. purchased)\n",
    "    \n",
    "### Linear Dependence and Independence\n",
    "    \n",
    "- A set is **linearly INdependent** if no object in the set can be written as a lin. combination of the other objects in the set.\n",
    "    - Example: $v = [1, 1, 0], w = [1, 0, 0]$ and $u = [0, 0, 1]$ are <mark>linearly independent. Can you see why?</mark>\n",
    "- Below is an example of a **linearly DEpendent** set. $x$ is dependent on "
   ]
  },
  {
   "cell_type": "code",
   "execution_count": 7,
   "id": "99c1f203",
   "metadata": {},
   "outputs": [
    {
     "name": "stdout",
     "output_type": "stream",
     "text": [
      "[[-8 -1  4]]\n"
     ]
    }
   ],
   "source": [
    "# Writing the vector x = [8, -1, 4] as a linear combination of 3 vectors, v, w, and u:\n",
    "v = np.array([[0, 3, 2]])\n",
    "w = np.array([[4, 1, 1]])\n",
    "u = np.array([[0, -2, 0]])\n",
    "\n",
    "x = 3*v-2*w+4*u\n",
    "print(x)"
   ]
  },
  {
   "cell_type": "markdown",
   "id": "e66c36c9",
   "metadata": {},
   "source": [
    "## Matrices\n",
    "\n",
    "These are $\\mathbb{R}^{m\\times n}$ objects.\n",
    "\n",
    "### Length: \n",
    "\n",
    "If you treat the $m \\times n$ elements of $M$ as an $mn$-dimensional vector, the $p$-norm of that vector is:\n",
    "\n",
    "$\\Vert M \\Vert_{p} = \\sqrt[p]{(\\sum_i^m \\sum_j^n |a_{ij}|^p)}$\n",
    "\n",
    "### Addition and scalar multiplication\n",
    "\n",
    "Same mechanics as for vectors\n",
    "\n",
    "### Matrix multiplication (use `np.dot(P,Q)` to multiply)\n",
    "\n",
    "The inner matrix dimensions of the two matrices (e.g. $P$ and $Q$) must match. \n",
    "- $P$ is of dimension $\\mathbb{R}^{m \\times p}$\n",
    "- $Q$ is of dimension $\\mathbb{R}^{p \\times n}$ \n",
    "- Here, the dimension of size $p$ is the **inner matrix dimension**. \n",
    "    - If they match, it means # columns in $P$ equals # rows in $Q$.\n",
    "- Dimensions $m$ and $n$ are the **outer matrix dimensions**. Thus each element of $M$ can be computed as:\n",
    "\n",
    "$$M_{ij} = \\sum_{k=1}^p P_{ik}Q_{kj}$$"
   ]
  },
  {
   "cell_type": "code",
   "execution_count": 8,
   "id": "d3e5910a",
   "metadata": {},
   "outputs": [
    {
     "name": "stdout",
     "output_type": "stream",
     "text": [
      "[[1 7]\n",
      " [2 3]\n",
      " [5 0]]\n",
      "[[2 6 3 1]\n",
      " [1 2 3 4]]\n",
      "[[ 9 20 24 29]\n",
      " [ 7 18 15 14]\n",
      " [10 30 15  5]]\n"
     ]
    },
    {
     "ename": "ValueError",
     "evalue": "shapes (2,4) and (3,2) not aligned: 4 (dim 1) != 3 (dim 0)",
     "output_type": "error",
     "traceback": [
      "\u001b[0;31m---------------------------------------------------------------------------\u001b[0m",
      "\u001b[0;31mValueError\u001b[0m                                Traceback (most recent call last)",
      "Cell \u001b[0;32mIn[8], line 8\u001b[0m\n\u001b[1;32m      6\u001b[0m \u001b[38;5;28mprint\u001b[39m(Q)\n\u001b[1;32m      7\u001b[0m \u001b[38;5;28mprint\u001b[39m(np\u001b[38;5;241m.\u001b[39mdot(P, Q)) \u001b[38;5;66;03m# <-- inner dimensions match (p=2). output is a [3x4] matrix\u001b[39;00m\n\u001b[0;32m----> 8\u001b[0m np\u001b[38;5;241m.\u001b[39mdot(Q, P)\n",
      "File \u001b[0;32m<__array_function__ internals>:200\u001b[0m, in \u001b[0;36mdot\u001b[0;34m(*args, **kwargs)\u001b[0m\n",
      "\u001b[0;31mValueError\u001b[0m: shapes (2,4) and (3,2) not aligned: 4 (dim 1) != 3 (dim 0)"
     ]
    }
   ],
   "source": [
    "# Multiply P=[[1,7],[2,3],[5,0]] and Q=[[2,6,3,1],[1,2,3,4]] -> [3x2] * [2x4] = output [3x4]\n",
    "\n",
    "P = np.array([[1, 7], [2, 3], [5, 0]])\n",
    "Q = np.array([[2, 6, 3, 1], [1, 2, 3, 4]])\n",
    "print(P)\n",
    "print(Q)\n",
    "print(np.dot(P, Q)) # <-- inner dimensions match (p=2). output is a [3x4] matrix\n",
    "np.dot(Q, P) # <-- inner dimensions don't match ...4] * [3...; Error"
   ]
  },
  {
   "cell_type": "markdown",
   "id": "85cd7d98",
   "metadata": {},
   "source": [
    "## Square matrices\n",
    "\n",
    "- Dimension $n \\times n$\n",
    "- The **Determinant**, $det(M)$, is an important property of square matrices.\n",
    "- For a $2 \\times 2$ matrix; $det(M)$ is:\n",
    "$$\n",
    "\\begin{split}\n",
    "|M| = \\begin{bmatrix}\n",
    "a & b \\\\\n",
    "c & d\\\\\n",
    "\\end{bmatrix} = ad - bc\\end{split}\n",
    "$$\n",
    "\n",
    "\n",
    "- For a $3 \\times 3$ matrix; $det(M)$ is:\n",
    "\n",
    "$$\n",
    "\\begin{split}\n",
    "\\begin{eqnarray*}\n",
    "|M| = \\begin{bmatrix}\n",
    "a & b & c \\\\\n",
    "d & e & f \\\\\n",
    "g & h & i \\\\\n",
    "\\end{bmatrix} & = & a\\begin{bmatrix}\n",
    "\\Box &\\Box  &\\Box  \\\\\n",
    "\\Box & e & f \\\\\n",
    "\\Box & h & i \\\\\n",
    "\\end{bmatrix} - b\\begin{bmatrix}\n",
    "\\Box &\\Box  &\\Box  \\\\\n",
    "d & \\Box & f \\\\\n",
    "g & \\Box & i \\\\\n",
    "\\end{bmatrix}+c\\begin{bmatrix}\n",
    "\\Box &\\Box  &\\Box  \\\\\n",
    "d & e & \\Box \\\\\n",
    "g & h & \\Box \\\\\n",
    "\\end{bmatrix} \\\\\n",
    "&&\\\\\n",
    "& = & a\\begin{bmatrix}\n",
    "e & f \\\\\n",
    "h & i \\\\\n",
    "\\end{bmatrix} - b\\begin{bmatrix}\n",
    "d & f \\\\\n",
    "g & i \\\\\n",
    "\\end{bmatrix}+c\\begin{bmatrix}\n",
    "d & e \\\\\n",
    "g & h \\\\\n",
    "\\end{bmatrix} \\\\ \n",
    "&&\\\\\n",
    "& = & aei + bfg + cdh - ceg - bdi - afh\n",
    "\\end{eqnarray*}\\end{split}\n",
    "$$\n",
    "\n",
    "- For higher dimension matrices, a similar approach can be used.\n",
    "\n",
    "### Identity matrix\n",
    "\n",
    "- A square matrix, $I$, with **ones on the diagonal** and **zeros everywhere else**\n",
    "- Multiplying a matrix with $I$ (of compatible dimensionality) will produce the same matrix (like how $n \\times 1 = n$)"
   ]
  },
  {
   "cell_type": "code",
   "execution_count": 9,
   "id": "8f78ebc3",
   "metadata": {},
   "outputs": [
    {
     "name": "stdout",
     "output_type": "stream",
     "text": [
      "M:\n",
      " [[0 2 1 3]\n",
      " [3 2 8 1]\n",
      " [1 0 0 3]\n",
      " [0 3 2 1]]\n",
      "Determinant: -38.0\n",
      "I:\n",
      " [[1. 0. 0. 0.]\n",
      " [0. 1. 0. 0.]\n",
      " [0. 0. 1. 0.]\n",
      " [0. 0. 0. 1.]]\n",
      "M*I:\n",
      " [[0. 2. 1. 3.]\n",
      " [3. 2. 8. 1.]\n",
      " [1. 0. 0. 3.]\n",
      " [0. 3. 2. 1.]]\n"
     ]
    }
   ],
   "source": [
    "# Find the determinant of M, and multiply M by np.eye(4) to show M x I = M\n",
    "\n",
    "from numpy.linalg import det\n",
    "\n",
    "M = np.array([[0,2,1,3], \n",
    "             [3,2,8,1], \n",
    "             [1,0,0,3],\n",
    "             [0,3,2,1]])\n",
    "print('M:\\n', M)\n",
    "\n",
    "print('Determinant: %.1f'%det(M))\n",
    "I = np.eye(4)\n",
    "print('I:\\n', I)\n",
    "print('M*I:\\n', np.dot(M, I))"
   ]
  },
  {
   "cell_type": "markdown",
   "id": "58a4708f",
   "metadata": {},
   "source": [
    "## Matrix inverse\n",
    "\n",
    "For square matrices ($\\mathbb{R}^{n\\times n}$), $M^{-1}$ is the inverse of $M$ if $M \\cdot M^{-1} = I$ (like how $3 \\times \\frac{1}{3} = 1$)\n",
    "\n",
    "- A matrix is **invertible** if it has an inverse\n",
    "- The inverse of a matrix is unique: An invertible matrix **only has one inverse**.\n",
    "- For a $2 \\times 2$ matrix, the inverse is:\n",
    "$$\n",
    "\\begin{split}\n",
    "M^{-1} = \\begin{bmatrix}\n",
    "a & b \\\\\n",
    "c & d\\\\\n",
    "\\end{bmatrix}^{-1} = \\frac{1}{|M|}\\begin{bmatrix}\n",
    "d & -b \\\\\n",
    "-c & a\\\\\n",
    "\\end{bmatrix}\\end{split}\n",
    "$$\n",
    "\n",
    "\n",
    "### Is it invertible?\n",
    "\n",
    "- **Singular matrices** are those which have **no inverses** (like how 0 has no inverse)\n",
    "    - $det(M) = 0$\n",
    "- **Nonsingular matrices** are those which **do have an inverse**\n",
    "    - $det(M) \\ne 0$"
   ]
  },
  {
   "cell_type": "code",
   "execution_count": 10,
   "id": "30704487",
   "metadata": {},
   "outputs": [
    {
     "name": "stdout",
     "output_type": "stream",
     "text": [
      "Determinant: -38.0\n",
      "Inv M:\n",
      " [[-1.57894737 -0.07894737  1.23684211  1.10526316]\n",
      " [-0.63157895 -0.13157895  0.39473684  0.84210526]\n",
      " [ 0.68421053  0.18421053 -0.55263158 -0.57894737]\n",
      " [ 0.52631579  0.02631579 -0.07894737 -0.36842105]]\n",
      "det(p):\n",
      " 0.0\n"
     ]
    },
    {
     "ename": "LinAlgError",
     "evalue": "Singular matrix",
     "output_type": "error",
     "traceback": [
      "\u001b[0;31m---------------------------------------------------------------------------\u001b[0m",
      "\u001b[0;31mLinAlgError\u001b[0m                               Traceback (most recent call last)",
      "Cell \u001b[0;32mIn[10], line 13\u001b[0m\n\u001b[1;32m      9\u001b[0m P \u001b[38;5;241m=\u001b[39m np\u001b[38;5;241m.\u001b[39marray([[\u001b[38;5;241m0\u001b[39m,\u001b[38;5;241m1\u001b[39m,\u001b[38;5;241m0\u001b[39m],\n\u001b[1;32m     10\u001b[0m               [\u001b[38;5;241m0\u001b[39m,\u001b[38;5;241m0\u001b[39m,\u001b[38;5;241m0\u001b[39m],\n\u001b[1;32m     11\u001b[0m               [\u001b[38;5;241m1\u001b[39m,\u001b[38;5;241m0\u001b[39m,\u001b[38;5;241m1\u001b[39m]])\n\u001b[1;32m     12\u001b[0m \u001b[38;5;28mprint\u001b[39m(\u001b[38;5;124m'\u001b[39m\u001b[38;5;124mdet(p):\u001b[39m\u001b[38;5;130;01m\\n\u001b[39;00m\u001b[38;5;124m'\u001b[39m, det(P))\n\u001b[0;32m---> 13\u001b[0m \u001b[38;5;28mprint\u001b[39m(\u001b[38;5;124m'\u001b[39m\u001b[38;5;124mInv P:\u001b[39m\u001b[38;5;130;01m\\n\u001b[39;00m\u001b[38;5;124m'\u001b[39m, inv(P))\n",
      "File \u001b[0;32m<__array_function__ internals>:200\u001b[0m, in \u001b[0;36minv\u001b[0;34m(*args, **kwargs)\u001b[0m\n",
      "File \u001b[0;32m~/anaconda3/lib/python3.11/site-packages/numpy/linalg/linalg.py:538\u001b[0m, in \u001b[0;36minv\u001b[0;34m(a)\u001b[0m\n\u001b[1;32m    536\u001b[0m signature \u001b[38;5;241m=\u001b[39m \u001b[38;5;124m'\u001b[39m\u001b[38;5;124mD->D\u001b[39m\u001b[38;5;124m'\u001b[39m \u001b[38;5;28;01mif\u001b[39;00m isComplexType(t) \u001b[38;5;28;01melse\u001b[39;00m \u001b[38;5;124m'\u001b[39m\u001b[38;5;124md->d\u001b[39m\u001b[38;5;124m'\u001b[39m\n\u001b[1;32m    537\u001b[0m extobj \u001b[38;5;241m=\u001b[39m get_linalg_error_extobj(_raise_linalgerror_singular)\n\u001b[0;32m--> 538\u001b[0m ainv \u001b[38;5;241m=\u001b[39m _umath_linalg\u001b[38;5;241m.\u001b[39minv(a, signature\u001b[38;5;241m=\u001b[39msignature, extobj\u001b[38;5;241m=\u001b[39mextobj)\n\u001b[1;32m    539\u001b[0m \u001b[38;5;28;01mreturn\u001b[39;00m wrap(ainv\u001b[38;5;241m.\u001b[39mastype(result_t, copy\u001b[38;5;241m=\u001b[39m\u001b[38;5;28;01mFalse\u001b[39;00m))\n",
      "File \u001b[0;32m~/anaconda3/lib/python3.11/site-packages/numpy/linalg/linalg.py:89\u001b[0m, in \u001b[0;36m_raise_linalgerror_singular\u001b[0;34m(err, flag)\u001b[0m\n\u001b[1;32m     88\u001b[0m \u001b[38;5;28;01mdef\u001b[39;00m \u001b[38;5;21m_raise_linalgerror_singular\u001b[39m(err, flag):\n\u001b[0;32m---> 89\u001b[0m     \u001b[38;5;28;01mraise\u001b[39;00m LinAlgError(\u001b[38;5;124m\"\u001b[39m\u001b[38;5;124mSingular matrix\u001b[39m\u001b[38;5;124m\"\u001b[39m)\n",
      "\u001b[0;31mLinAlgError\u001b[0m: Singular matrix"
     ]
    }
   ],
   "source": [
    "# Recall, M has non-zero determinant so is invertible; but det(P)=0 so it can't be inverted\n",
    "\n",
    "from numpy.linalg import inv\n",
    "\n",
    "\n",
    "print('Determinant: %.1f'%det(M))\n",
    "print('Inv M:\\n', inv(M))\n",
    "\n",
    "P = np.array([[0,1,0],\n",
    "              [0,0,0],\n",
    "              [1,0,1]])\n",
    "print('det(p):\\n', det(P))\n",
    "print('Inv P:\\n', inv(P)) # <-- Error thrown because P is Singular (non-invertible)"
   ]
  },
  {
   "cell_type": "markdown",
   "id": "8fdcdcb1",
   "metadata": {},
   "source": [
    "### Ill-Conditioned Matrices\n",
    "\n",
    "- An ill-conditioned matrix is one which is **close to being singular** \n",
    "    - Its determinant will be close to 0 (problematic in the same way dividing by a tiny number is)\n",
    "    - Computation errors (overflow, underflow, round-off errors) may occur\n",
    "- **Condition number**: ***Higher number*** means the matrix is ***more*** ill-conditioned (i.e. closer to being singular)\n",
    "\n",
    "### Trace \n",
    "\n",
    "- The **trace** of $A : A \\in \\mathbb{R}^{n\\times n}$ is the sum of elements on the main diagonal (from left to right):\n",
    "\n",
    "$$ \\text{tr}(A) = \\sum_{i=1}^{n} a_{ii} $$\n",
    "\n",
    "\n",
    "## Back to non-square matrices\n",
    "\n",
    "### Rank\n",
    "\n",
    "- The **rank** of $A : A \\in \\mathbb{R}^{m\\times n}$ is the **number of linearly independent columns or rows** in $A$\n",
    "    - NB: Num. of lin. indep. cols. in a matrix $\\equiv$ Num. of lin. indep. rows in that matrix\n",
    "\n",
    "#### \"Full Rank\" Matrix\n",
    "\n",
    "- $A$ is **full rank** if $\\text{rank}(A) = \\min(m,n)$\n",
    "- $A$ is also full rank if **all its columns are linearly independent**\n",
    "\n",
    "#### Augmented Matrix\n",
    "\n",
    "- If vector $y$ is concatenated to matrix $A$, we say \"$A$ augmented with $y$\".\n",
    "    - if $\\text{rank}([A,y]) = \\text{rank}(A)+1$, then vector $y$ is **\"new\" information**\n",
    "    - otherwise it means $y$ can be created as a linear combination of the columns in $A$\n",
    "\n"
   ]
  },
  {
   "cell_type": "code",
   "execution_count": 11,
   "id": "db6c8cd5",
   "metadata": {},
   "outputs": [
    {
     "name": "stdout",
     "output_type": "stream",
     "text": [
      "Condition number:  4.048917339522305\n",
      "Rank:  3\n",
      "Trace:  3\n",
      "(3, 3) (3, 1)\n",
      "Augmented matrix:\n",
      " [[1 1 0 1]\n",
      " [0 1 0 2]\n",
      " [1 0 1 1]]\n"
     ]
    }
   ],
   "source": [
    "# Compute the condition number and rank for matrix A = [[1,1,0],[0,1,0],[1,0,1]]\n",
    "# If y = [[1],[2],[1]], get the augmented matrix [A,y]\n",
    "\n",
    "from numpy.linalg import cond, matrix_rank\n",
    "from numpy import trace\n",
    "\n",
    "A = np.array([[1,1,0],\n",
    "              [0,1,0],\n",
    "              [1,0,1]])\n",
    "\n",
    "print('Condition number: ', cond(A))\n",
    "print('Rank: ', matrix_rank(A))\n",
    "print('Trace: ', trace(A))\n",
    "y = np.array([[1], [2], [1]])\n",
    "print(A.shape, y.shape)\n",
    "A_y = np.concatenate((A,y), axis=1)\n",
    "print('Augmented matrix:\\n', A_y)"
   ]
  }
 ],
 "metadata": {
  "kernelspec": {
   "display_name": "Python 3 (ipykernel)",
   "language": "python",
   "name": "python3"
  },
  "language_info": {
   "codemirror_mode": {
    "name": "ipython",
    "version": 3
   },
   "file_extension": ".py",
   "mimetype": "text/x-python",
   "name": "python",
   "nbconvert_exporter": "python",
   "pygments_lexer": "ipython3",
   "version": "3.11.4"
  }
 },
 "nbformat": 4,
 "nbformat_minor": 5
}
